{
 "cells": [
  {
   "cell_type": "markdown",
   "metadata": {},
   "source": [
    "# TRABALHO 3\n",
    "\n",
    "Modelação e implementação em SMT de um autómato híbrido que descreva o sistema de travagem ABS e verifique as suas propriedades dinâmicas.\n",
    "O sistema usa 2 variáveis contínuas para descrever a  `velocidade do veículo` em relação ao solo e a `velocidade linear dos pneus` também em relação ao solo. O sistema de travagem exerce uma força de atrito  nos travões proporcional à diferença das duas velocidades. \n",
    "Como primeira abordagem a componente discreta do sistema contém os seguintes modos:\n",
    "`Start`, `Free`, `Stopping`, `Blocked`, e `Stopped`.\n",
    "\n",
    "\n",
    "\n",
    "## Autómatos híbridos\n",
    "\n",
    "\n",
    "*Autómatos híbridos* são modelos de sistemas ciber-físicos. Essencialmente um autómato híbrido é uma *máquina de estados finita*, onde cada estado (designado por *modo de funcionamento*) descreve o comportamento contínuo de um sistema dinâmico modelado por *relações diferenciais ordinárias* (nas variáveis contínuas e nas suas derivadas em relação ao tempo) codificadas num predicado designado por *flow*. Estas variáveis contínuas evoluem num modo de funcionamento enquanto o seu *flow* for válido.\n",
    "Cada transição discreta entre estados é representada por um arco anotado com um predicado (designado *switch* ou *jump*). Uma transição realiza-se quando o seu *switch* é válido. Ao ocorrer uma transição as variáveis internas dos modos conservam o seu valor, a não ser que lhes seja explicitamente atribuído um novo valor.\n",
    "\n",
    "Um autómato híbrido pode ser descrito por um FOTS (sobre o qual podemos verificar propriedades lógicas com as metodologias que já estudamos). Nesse processo o FOTS vai *discretizar* as relações diferenciais ordinárias e vai mapea-las num espaço de estados também discreto."
   ]
  },
  {
   "cell_type": "markdown",
   "metadata": {},
   "source": [
    "### 1.  Defina um autómato híbrido que descreva a dinâmica do sistema de travagem ABS.\n",
    "\n",
    "INSERIR IMAGEM E CONDIÇOES"
   ]
  },
  {
   "cell_type": "markdown",
   "metadata": {},
   "source": [
    "### 2. Modele em lógica temporal LT  propriedades que, na sua opinião, caracterizam o comportamento desejável do sistema. Nomeadamente (mas não só”) a propriedade   ”o veículo para em menos de $t$ segundos” e “a velocidade $V$ diminui sempre com o tempo”.\n",
    "\n",
    "INSERIR IMAGEM E CONDIÇOES"
   ]
  },
  {
   "cell_type": "markdown",
   "metadata": {},
   "source": [
    "### 3. Codifique em SMT’s o modelo que definiu em 1."
   ]
  },
  {
   "cell_type": "code",
   "execution_count": 1,
   "metadata": {
    "ExecuteTime": {
     "end_time": "2019-12-19T17:53:41.975843Z",
     "start_time": "2019-12-19T17:53:41.827861Z"
    }
   },
   "outputs": [],
   "source": [
    "from z3 import *"
   ]
  },
  {
   "cell_type": "markdown",
   "metadata": {},
   "source": [
    "Comecemos por declarar os modos.\n",
    "Na codificação em Z3 é conveniente usar um tipo enumerado para implementar os modos:"
   ]
  },
  {
   "cell_type": "code",
   "execution_count": 2,
   "metadata": {
    "ExecuteTime": {
     "end_time": "2019-12-19T17:53:41.981609Z",
     "start_time": "2019-12-19T17:53:41.977805Z"
    }
   },
   "outputs": [],
   "source": [
    "Mode,(Start, Free, Stopping, Blocked, Stopped) = EnumSort('Mode',('Start', 'Free', 'Stopping', 'Blocked', 'Stopped'))"
   ]
  },
  {
   "cell_type": "markdown",
   "metadata": {},
   "source": [
    "Podemos agora declarar as variáveis do FOTS correspondente ao sistema ABS da seguinte forma:"
   ]
  },
  {
   "cell_type": "code",
   "execution_count": 3,
   "metadata": {
    "ExecuteTime": {
     "end_time": "2019-12-19T17:53:42.012715Z",
     "start_time": "2019-12-19T17:53:41.983510Z"
    }
   },
   "outputs": [],
   "source": [
    "def declare(i):\n",
    "    s ={}\n",
    "    s['M'] = Const('M'+str(i), Mode)    # constante do tipo mode\n",
    "    s['V'] = Real('V'+str(i))           # Velocidade do veículo\n",
    "    s['v'] = Real('v'+str(i))           # velocidade da roda\n",
    "    s['F'] = Real('F'+str(i))           # Força F\n",
    "    s['f'] = Real('f'+str(i))           # força f\n",
    "    s['P'] = Int('P'+str(i))            # peso\n",
    "    s['a'] = Real('a'+str(i))           # força de atrito\n",
    "    s['c'] = Real('c'+str(i))           # valor c\n",
    "    s['T'] = Real('T'+str(i))           # varíavel contínua que denota o tempo\n",
    "    return s"
   ]
  },
  {
   "cell_type": "markdown",
   "metadata": {},
   "source": [
    "De seguida iremos codificar os predicados Z3 `init`, `trans` e `inv`, que caracterizam, respectivamente, os estados iniciais, as transições e o invariante de modo do FOTS correspondente ao sistema ABS."
   ]
  },
  {
   "cell_type": "code",
   "execution_count": 4,
   "metadata": {
    "ExecuteTime": {
     "end_time": "2019-12-19T17:53:42.028252Z",
     "start_time": "2019-12-19T17:53:42.016940Z"
    }
   },
   "outputs": [],
   "source": [
    "def init(s):\n",
    "    return And(s['M'] == Start, s['V'] == 200, s['v'] == 150, s['F'] == s['c'] * (s['V'] - s['v']), \\\n",
    "               s['a'] == 0.4, s['P'] == 100, s['f'] == s['a'] * s['P'], s['c'] == 2, s['T'] == 0)\n",
    "\n",
    "def inv(s):\n",
    "    return And(s['V'] - s['v'] >= 0, s['V'] >= 0, s['v'] >= 0)"
   ]
  },
  {
   "cell_type": "code",
   "execution_count": 5,
   "metadata": {
    "ExecuteTime": {
     "end_time": "2019-12-19T17:53:42.054458Z",
     "start_time": "2019-12-19T17:53:42.031913Z"
    }
   },
   "outputs": [],
   "source": [
    "def trans_timed(s, p):\n",
    "    # proposições lógicas comuns entre os vários predicados\n",
    "    equacao_F = And(s['F'] >= 0,p['F'] == s['c'] * (s['V'] - s['v']))\n",
    "    equacao_f = And(s['f'] >= 0, p['f'] == s['a'] * s['P'])\n",
    "    constante_P = And(s['P'] == 100, p['P'] == s['P'])\n",
    "    constante_a = And(s['a'] == 0.4, p['a'] == s['a'])\n",
    "    # Equações com tempo (ao adicionar o tempo, deixam de ser comuns e apenas ocorrem nos loops):\n",
    "    equacao_V = And(p['V'] - s['V'] == (-s['c'] * (s['V'] - s['v'])) * (p['T'] - s['T']))\n",
    "    equacao_v = And(p['v'] - s['v'] == (-s['a'] * s['P'] + s['c'] * (s['V'] - s['v'])) * (p['T'] - s['T']))\n",
    "    \n",
    "    # proposições comuns\n",
    "    props_comuns = And(equacao_F, equacao_f, constante_P, constante_a)\n",
    "    erro = 1\n",
    "    \n",
    "    # timed\n",
    "    infree = And(s['M'] == Free, \\\n",
    "                 p['M'] == s['M'], \\\n",
    "                 props_comuns, equacao_V, equacao_v, \\\n",
    "                 p['T'] > s['T'])\n",
    "    instopping = And(s['M'] == Stopping, \\\n",
    "                     p['M'] == s['M'], \\\n",
    "                     props_comuns, equacao_V, equacao_v, \\\n",
    "                     p['T'] > s['T'])\n",
    "    inblocked = And(s['M'] == Blocked, \\\n",
    "                    p['M'] == s['M'], \\\n",
    "                    props_comuns, equacao_V, equacao_v, \\\n",
    "                    p['T'] > s['T'])\n",
    "    \n",
    "    # untimed\n",
    "    startTofree = And(s['M'] == Start, \\\n",
    "                      p['M'] == Free, \\\n",
    "                      props_comuns, \\\n",
    "                      p['T'] == s['T'])\n",
    "    freeTostopping = And(s['M'] == Free, s['c'] > 0, s['v'] > 0, s['V'] > 0, \\\n",
    "                         p['M'] == Stopping, p['c'] == s['c'], p['v'] == s['v'], p['V'] == s['V'], \\\n",
    "                         props_comuns, p['T'] == s['T'])\n",
    "    stoppingToblocked = And(s['M'] == Stopping, \\\n",
    "                            s['c'] == 10, p['M'] == Blocked, \\\n",
    "                            p['c'] == 2, props_comuns, p['T'] == s['T'], p['v'] == s['v'], p['V'] == s['V'])\n",
    "    stoppingTostopped = And(s['M'] == Stopping, s['c'] == 10, \\\n",
    "                            p['M'] == Stopped, p['v'] == s['v'], p['V'] == s['V'], p['c'] == 0, \\\n",
    "                            props_comuns, p['T'] == s['T'])\n",
    "    blockedTofree = And(s['M'] == Blocked, s['v'] >= 0, s['V'] - s['v'] > erro, s['c'] > 0, \\\n",
    "                        p['v'] == s['v'], p['V'] == s['V'], p['M'] == Free, p['c'] == s['c'], \\\n",
    "                        props_comuns, p['T'] == s['T'])\n",
    "    \n",
    "    return Or(infree, instopping, inblocked, startTofree, freeTostopping, stoppingToblocked, blockedTofree, \\\n",
    "              stoppingTostopped)"
   ]
  },
  {
   "cell_type": "code",
   "execution_count": 6,
   "metadata": {
    "ExecuteTime": {
     "end_time": "2019-12-19T17:53:42.096646Z",
     "start_time": "2019-12-19T17:53:42.055776Z"
    }
   },
   "outputs": [],
   "source": [
    "def trans_timed(s, p):\n",
    "    # proposições lógicas comuns entre os vários predicados\n",
    "    equacao_F = And(s['F'] >= 0,p['F'] == s['c'] * (s['V'] - s['v']))\n",
    "    equacao_f = And(s['f'] >= 0, p['f'] == s['a'] * s['P'])\n",
    "    constante_P = And(s['P'] == 100, p['P'] == s['P'])\n",
    "    constante_a = And(s['a'] == 0.4, p['a'] == s['a'])\n",
    "    # Equações com tempo (ao adicionar o tempo, deixam de ser comuns e apenas ocorrem nos loops):\n",
    "    equacao_V = And(p['V'] - s['V'] == (-s['c'] * (s['V'] - s['v'])) * (p['T'] - s['T']))\n",
    "    equacao_v = And(p['v'] - s['v'] == (-s['a'] * s['P'] + s['c'] * (s['V'] - s['v'])) * (p['T'] - s['T']))\n",
    "    \n",
    "    # proposições comuns\n",
    "    props_comuns = And(equacao_F, equacao_f, constante_P, constante_a)\n",
    "    erro = 1\n",
    "    \n",
    "    # timed\n",
    "    infree = And(s['M'] == Free, s['V'] >= 0, s['v'] >= 0, s['c'] == 2, \\\n",
    "                 p['M'] == s['M'], p['c'] == s['c'], \\\n",
    "                 props_comuns, equacao_V, equacao_v, \\\n",
    "                 p['T'] == s['T'] + 1)\n",
    "    \n",
    "    instopping = And(s['M'] == Stopping, s['V'] >= 0, s['v'] >= 0, s['c'] == 20, \\\n",
    "                     p['M'] == s['M'], p['c'] == s['c'], \\\n",
    "                     props_comuns, equacao_V, equacao_v, \\\n",
    "                     p['T'] == s['T'] + 1)\n",
    "    \n",
    "    inblocked = And(s['M'] == Blocked, \\\n",
    "                    p['M'] == s['M'], s['V'] == s['v'], s['c'] == 2, \\\n",
    "                    props_comuns, equacao_V, equacao_v, p['c'] == s['c'], \\\n",
    "                    p['T'] == s['T'] + 1)\n",
    "    \n",
    "    # untimed\n",
    "    startTofree = And(s['M'] == Start, s['V'] >= 0, s['v'] >= 0, s['c'] == 2, \\\n",
    "                      p['M'] == Free, p['V'] == s['V'], p['v'] >= s['v'], p['c'] == s['c'], \\\n",
    "                      props_comuns, p['T'] == s['T'])\n",
    "    freeTostopping = And(s['M'] == Free, s['v'] > 0, s['V'] > 1.5 * s['v'], s['c'] == 2, \\\n",
    "                         p['M'] == Stopping, p['V'] == s['V'], p['v'] == s['v'], p['c'] == 20, \\\n",
    "                         props_comuns, \\\n",
    "                         p['T'] == s['T'])\n",
    "    stoppingToblocked = And(s['M'] == Stopping, s['c'] == 20, \\\n",
    "                            p['M'] == Blocked, p['V'] == s['V'], p['v'] == s['v'], p['c'] == 2,\\\n",
    "                            props_comuns, \\\n",
    "                            p['T'] == s['T'])\n",
    "    stoppingTostopped = And(s['M'] == Stopping, s['c'] == 20, s['v'] <= 1, \\\n",
    "                            p['M'] == Stopped, p['V'] == s['V'], p['v'] == s['v'], p['c'] == 2, \\\n",
    "                            props_comuns, \\\n",
    "                            p['T'] == s['T'])\n",
    "    blockedTofree = And(s['M'] == Blocked, s['c'] == 2, \\\n",
    "                        p['M'] == Free, p['V'] == s['V'], p['v'] == s['v'],  p['c'] == s['c'],\\\n",
    "                        props_comuns, \\\n",
    "                        p['T'] == s['T'])\n",
    "    \n",
    "    return Or(infree, instopping, inblocked, startTofree, freeTostopping, stoppingToblocked, blockedTofree, \\\n",
    "              stoppingTostopped)"
   ]
  },
  {
   "cell_type": "code",
   "execution_count": 7,
   "metadata": {
    "ExecuteTime": {
     "end_time": "2019-12-19T17:53:42.118896Z",
     "start_time": "2019-12-19T17:53:42.098493Z"
    }
   },
   "outputs": [],
   "source": [
    "##############################################################################################################\n",
    "##############################################################################################################\n",
    "##############################################################################################################\n",
    "##############################################################################################################\n",
    "##############################################################################################################\n",
    "##############################################################################################################\n",
    "##############################################################################################################\n",
    "##############################################################################################################"
   ]
  },
  {
   "cell_type": "code",
   "execution_count": 8,
   "metadata": {
    "ExecuteTime": {
     "end_time": "2019-12-19T17:53:42.142287Z",
     "start_time": "2019-12-19T17:53:42.124225Z"
    }
   },
   "outputs": [],
   "source": [
    "##############################################################################################################\n",
    "##############################################################################################################\n",
    "##############################################################################################################\n",
    "##############################################################################################################\n",
    "##############################################################################################################\n",
    "##############################################################################################################\n",
    "##############################################################################################################\n",
    "##############################################################################################################"
   ]
  },
  {
   "cell_type": "code",
   "execution_count": 9,
   "metadata": {
    "ExecuteTime": {
     "end_time": "2019-12-19T17:53:42.156898Z",
     "start_time": "2019-12-19T17:53:42.144154Z"
    }
   },
   "outputs": [],
   "source": [
    "##############################################################################################################\n",
    "##############################################################################################################\n",
    "##############################################################################################################\n",
    "##############################################################################################################\n",
    "##############################################################################################################\n",
    "##############################################################################################################\n",
    "##############################################################################################################\n",
    "##############################################################################################################"
   ]
  },
  {
   "cell_type": "code",
   "execution_count": 12,
   "metadata": {
    "ExecuteTime": {
     "end_time": "2019-12-19T17:54:04.977378Z",
     "start_time": "2019-12-19T17:54:04.959700Z"
    }
   },
   "outputs": [],
   "source": [
    "def trans(s, p):\n",
    "    # proposições lógicas comuns entre os vários predicados\n",
    "    equacao_F = And(s['F'] >= 0, p['F'] == s['c'] * (s['V'] - s['v']))\n",
    "    equacao_f = And(s['f'] >= 0, p['f'] == s['a'] * s['P'])\n",
    "    constante_P = And(s['P'] == 100, p['P'] == s['P'])\n",
    "    constante_a = And(s['a'] == 0.4, p['a'] == s['a'])\n",
    "    \n",
    "    # proposições comuns\n",
    "    props_comuns = And(equacao_F, equacao_f, constante_P, constante_a)\n",
    "    erro = .654\n",
    "    \n",
    "    # self-loops\n",
    "    infree = And(s['M'] == Free, s['V'] > 0, s['v'] > 0, s['c'] == 2, \\\n",
    "                 p['M'] == s['M'], p['V'] < s['V'], p['v'] < s['v'], p['c'] > 0, \\\n",
    "                 props_comuns)\n",
    "    instopping = And(s['M'] == Stopping, s['V'] > s['v'], s['v'] > 0, s['c'] == 10, \\\n",
    "                     p['M'] == s['M'], p['V'] < s['V'], p['v'] == s['v'], p['c'] == s['c'], \\\n",
    "                     props_comuns)\n",
    "    inblocked = And(s['M'] == Blocked, s['V'] > 0, s['v'] == s['V'], s['c'] > 0, s['c'] < 2, \\\n",
    "                    p['M'] == s['M'], p['V'] < s['V'], p['v'] < s['v'], p['V'] > 0, p['c'] == s['c'], \\\n",
    "                    props_comuns)\n",
    "    \n",
    "    # transições entre estados\n",
    "    startTofree = And(s['M'] == Start, s['c'] > 0, \\\n",
    "                      p['M'] == Free, p['V'] == s['V'], p['v'] == s['v'], p['c'] == s['c'], props_comuns)\n",
    "    freeTostopping = And(s['M'] == Free, s['V'] > s['v'] * 2, s['v'] > 0, s['c'] > 0, \\\n",
    "                         p['M'] == Stopping, p['V'] == s['V'], p['v'] == s['v'], p['c'] == s['c'], \\\n",
    "                         props_comuns)\n",
    "    stoppingToblocked = And(s['M'] == Stopping, s['v'] > 0, s['V'] - s['v'] <= erro, s['V'] > 80, \n",
    "                            s['c'] == 10, p['M'] == Blocked, p['V'] == s['V'], p['v'] == s['v'],\\\n",
    "                            p['c'] == 2, props_comuns)\n",
    "    stoppingTostopped = And(s['M'] == Stopping, s['v'] > 0, s['v'] <= 1, s['V'] == s['v'], s['c'] == 10, \\\n",
    "                            p['M'] == Stopped, p['V'] == s['V'], p['v'] == s['v'], p['c'] == 0, \\\n",
    "                            props_comuns)\n",
    "    blockedTofree = And(s['M'] == Blocked, s['v'] >= 0, s['V'] - s['v'] > erro, s['c'] > 0, \\\n",
    "                        p['M'] == Free, p['V'] == s['V'], p['v'] == s['v'], p['c'] == s['c'], \\\n",
    "                        props_comuns)\n",
    "    \n",
    "    return Or(infree, instopping, inblocked, startTofree, freeTostopping, stoppingToblocked, blockedTofree, \\\n",
    "              stoppingTostopped)"
   ]
  },
  {
   "cell_type": "code",
   "execution_count": 13,
   "metadata": {
    "ExecuteTime": {
     "end_time": "2019-12-19T17:54:07.607767Z",
     "start_time": "2019-12-19T17:54:06.598917Z"
    },
    "scrolled": false
   },
   "outputs": [
    {
     "name": "stdout",
     "output_type": "stream",
     "text": [
      "sat\n",
      "0\n",
      "M = Start\n",
      "V = 200.0\n",
      "v = 150.0\n",
      "F = 100.0\n",
      "f = 40.0\n",
      "P = 100\n",
      "a = 0.4\n",
      "c = 2.0\n",
      "T = 0.0\n",
      "1\n",
      "M = Free\n",
      "V = 200.0\n",
      "v = 189.97147558968732\n",
      "F = 100.0\n",
      "f = 40.0\n",
      "P = 100\n",
      "a = 0.4\n",
      "c = 2.0\n",
      "T = 0.0\n",
      "2\n",
      "M = Free\n",
      "V = 179.94295117937466\n",
      "v = 170.02852441031268\n",
      "F = 20.057048820625344\n",
      "f = 40.0\n",
      "P = 100\n",
      "a = 0.4\n",
      "c = 2.0\n",
      "T = 1.0\n",
      "3\n",
      "M = Free\n",
      "V = 160.11409764125068\n",
      "v = 149.85737794843664\n",
      "F = 19.828853538123973\n",
      "f = 40.0\n",
      "P = 100\n",
      "a = 0.4\n",
      "c = 2.0\n",
      "T = 2.0\n",
      "4\n",
      "M = Free\n",
      "V = 139.6006582556226\n",
      "v = 130.37081733406472\n",
      "F = 20.513439385628086\n",
      "f = 40.0\n",
      "P = 100\n",
      "a = 0.4\n",
      "c = 2.0\n",
      "T = 3.0\n",
      "5\n",
      "M = Free\n",
      "V = 121.14097641250686\n",
      "v = 108.83049917718047\n",
      "F = 18.459681843115742\n",
      "f = 40.0\n",
      "P = 100\n",
      "a = 0.4\n",
      "c = 2.0\n",
      "T = 4.0\n",
      "6\n",
      "M = Free\n",
      "V = 96.52002194185408\n",
      "v = 93.45145364783325\n",
      "F = 24.62095447065277\n",
      "f = 40.0\n",
      "P = 100\n",
      "a = 0.4\n",
      "c = 2.0\n",
      "T = 5.0\n",
      "7\n",
      "M = Free\n",
      "V = 90.3828853538124\n",
      "v = 59.58859023587493\n",
      "F = 6.13713658804169\n",
      "f = 40.0\n",
      "P = 100\n",
      "a = 0.4\n",
      "c = 2.0\n",
      "T = 6.0\n",
      "8\n",
      "M = Stopping\n",
      "V = 90.3828853538124\n",
      "v = 59.58859023587493\n",
      "F = 61.58859023587493\n",
      "f = 40.0\n",
      "P = 100\n",
      "a = 0.4\n",
      "c = 20.0\n",
      "T = 6.0\n",
      "9\n",
      "M = Blocked\n",
      "V = 90.3828853538124\n",
      "v = 59.58859023587493\n",
      "F = 615.8859023587493\n",
      "f = 40.0\n",
      "P = 100\n",
      "a = 0.4\n",
      "c = 2.0\n",
      "T = 6.0\n",
      "10\n",
      "M = Free\n",
      "V = 90.3828853538124\n",
      "v = 59.58859023587493\n",
      "F = 61.58859023587493\n",
      "f = 40.0\n",
      "P = 100\n",
      "a = 0.4\n",
      "c = 2.0\n",
      "T = 6.0\n",
      "11\n",
      "M = Stopping\n",
      "V = 90.3828853538124\n",
      "v = 59.58859023587493\n",
      "F = 61.58859023587493\n",
      "f = 40.0\n",
      "P = 100\n",
      "a = 0.4\n",
      "c = 20.0\n",
      "T = 6.0\n",
      "12\n",
      "M = Blocked\n",
      "V = 90.3828853538124\n",
      "v = 59.58859023587493\n",
      "F = 615.8859023587493\n",
      "f = 40.0\n",
      "P = 100\n",
      "a = 0.4\n",
      "c = 2.0\n",
      "T = 6.0\n",
      "13\n",
      "M = Free\n",
      "V = 90.3828853538124\n",
      "v = 59.58859023587493\n",
      "F = 61.58859023587493\n",
      "f = 40.0\n",
      "P = 100\n",
      "a = 0.4\n",
      "c = 2.0\n",
      "T = 6.0\n",
      "14\n",
      "M = Stopping\n",
      "V = 90.3828853538124\n",
      "v = 59.58859023587493\n",
      "F = 61.58859023587493\n",
      "f = 40.0\n",
      "P = 100\n",
      "a = 0.4\n",
      "c = 20.0\n",
      "T = 6.0\n",
      "15\n",
      "M = Blocked\n",
      "V = 90.3828853538124\n",
      "v = 59.58859023587493\n",
      "F = 615.8859023587493\n",
      "f = 40.0\n",
      "P = 100\n",
      "a = 0.4\n",
      "c = 2.0\n",
      "T = 6.0\n",
      "16\n",
      "M = Free\n",
      "V = 90.3828853538124\n",
      "v = 59.58859023587493\n",
      "F = 61.58859023587493\n",
      "f = 40.0\n",
      "P = 100\n",
      "a = 0.4\n",
      "c = 2.0\n",
      "T = 6.0\n",
      "17\n",
      "M = Stopping\n",
      "V = 90.3828853538124\n",
      "v = 59.58859023587493\n",
      "F = 61.58859023587493\n",
      "f = 40.0\n",
      "P = 100\n",
      "a = 0.4\n",
      "c = 20.0\n",
      "T = 6.0\n",
      "18\n",
      "M = Blocked\n",
      "V = 90.3828853538124\n",
      "v = 59.58859023587493\n",
      "F = 615.8859023587493\n",
      "f = 40.0\n",
      "P = 100\n",
      "a = 0.4\n",
      "c = 2.0\n",
      "T = 6.0\n",
      "19\n",
      "M = Free\n",
      "V = 90.3828853538124\n",
      "v = 59.58859023587493\n",
      "F = 61.58859023587493\n",
      "f = 40.0\n",
      "P = 100\n",
      "a = 0.4\n",
      "c = 2.0\n",
      "T = 6.0\n"
     ]
    }
   ],
   "source": [
    "def gera_traco(declare,init,trans,inv,k):\n",
    "    s = Solver()\n",
    "    \n",
    "    #criar k cópias do estado, guardar na lista do traço\n",
    "    trace = []\n",
    "    for i in range(k):\n",
    "        trace.append(declare(i))\n",
    "        \n",
    "    #restriçoes init e trans    \n",
    "    s.add(init(trace[0]))\n",
    "    \n",
    "    for i in range(k):\n",
    "        s.add(inv(trace[i]))\n",
    "    \n",
    "    for i in range(k - 1):\n",
    "        s.add(trans(trace[i], trace[i + 1]))\n",
    "\n",
    "    print(s.check())\n",
    "    \n",
    "    if s.check() == sat:\n",
    "        m = s.model()\n",
    "        for i in range(k):\n",
    "            print(i)\n",
    "            for v in trace[i]:\n",
    "                if trace[i][v].sort() != RealSort():\n",
    "                    print(v, '=', m[trace[i][v]])\n",
    "                else:\n",
    "                    r = m[trace[i][v]]\n",
    "                    f = float(r.numerator_as_long())/float(r.denominator_as_long())\n",
    "                    print(v, '=', f)\n",
    "                \n",
    "#gera_traco(declare, init, trans, inv, 50)\n",
    "\n",
    "gera_traco(declare, init, trans_timed, inv, 20)"
   ]
  }
 ],
 "metadata": {
  "kernelspec": {
   "display_name": "Python 3",
   "language": "python",
   "name": "python3"
  },
  "language_info": {
   "codemirror_mode": {
    "name": "ipython",
    "version": 3
   },
   "file_extension": ".py",
   "mimetype": "text/x-python",
   "name": "python",
   "nbconvert_exporter": "python",
   "pygments_lexer": "ipython3",
   "version": "3.7.3"
  }
 },
 "nbformat": 4,
 "nbformat_minor": 2
}
