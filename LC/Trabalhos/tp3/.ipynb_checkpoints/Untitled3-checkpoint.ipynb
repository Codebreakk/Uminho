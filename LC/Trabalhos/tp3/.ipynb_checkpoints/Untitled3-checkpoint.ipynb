{
 "cells": [
  {
   "cell_type": "markdown",
   "metadata": {},
   "source": [
    "# TRABALHO 3\n",
    "\n",
    "Modelação e implementação em SMT de um autómato híbrido que descreva o sistema de travagem ABS e verifique as suas propriedades dinâmicas.\n",
    "O sistema usa 2 variáveis contínuas para descrever a  `velocidade do veículo` em relação ao solo e a `velocidade linear dos pneus` também em relação ao solo. O sistema de travagem exerce uma força de atrito  nos travões proporcional à diferença das duas velocidades. \n",
    "Como primeira abordagem a componente discreta do sistema contém os seguintes modos:\n",
    "`Start`, `Free`, `Stopping`, `Blocked`, e `Stopped`.\n",
    "\n",
    "\n",
    "\n",
    "## Autómatos híbridos\n",
    "\n",
    "\n",
    "*Autómatos híbridos* são modelos de sistemas ciber-físicos. Essencialmente um autómato híbrido é uma *máquina de estados finita*, onde cada estado (designado por *modo de funcionamento*) descreve o comportamento contínuo de um sistema dinâmico modelado por *relações diferenciais ordinárias* (nas variáveis contínuas e nas suas derivadas em relação ao tempo) codificadas num predicado designado por *flow*. Estas variáveis contínuas evoluem num modo de funcionamento enquanto o seu *flow* for válido.\n",
    "Cada transição discreta entre estados é representada por um arco anotado com um predicado (designado *switch* ou *jump*). Uma transição realiza-se quando o seu *switch* é válido. Ao ocorrer uma transição as variáveis internas dos modos conservam o seu valor, a não ser que lhes seja explicitamente atribuído um novo valor.\n",
    "\n",
    "Um autómato híbrido pode ser descrito por um FOTS (sobre o qual podemos verificar propriedades lógicas com as metodologias que já estudamos). Nesse processo o FOTS vai *discretizar* as relações diferenciais ordinárias e vai mapea-las num espaço de estados também discreto."
   ]
  },
  {
   "cell_type": "markdown",
   "metadata": {},
   "source": [
    "### 1.  Defina um autómato híbrido que descreva a dinâmica do sistema de travagem ABS.\n",
    "\n",
    "INSERIR IMAGEM E CONDIÇOES"
   ]
  },
  {
   "cell_type": "markdown",
   "metadata": {},
   "source": [
    "### 2. Modele em lógica temporal LT  propriedades que, na sua opinião, caracterizam o comportamento desejável do sistema. Nomeadamente (mas não só”) a propriedade   ”o veículo para em menos de $t$ segundos” e “a velocidade $V$ diminui sempre com o tempo”.\n",
    "\n",
    "INSERIR IMAGEM E CONDIÇOES"
   ]
  },
  {
   "cell_type": "markdown",
   "metadata": {},
   "source": [
    "### 3. Codifique em SMT’s o modelo que definiu em 1."
   ]
  },
  {
   "cell_type": "code",
   "execution_count": 1,
   "metadata": {
    "ExecuteTime": {
     "end_time": "2019-12-12T14:04:30.890122Z",
     "start_time": "2019-12-12T14:04:30.409710Z"
    }
   },
   "outputs": [],
   "source": [
    "from z3 import *"
   ]
  },
  {
   "cell_type": "markdown",
   "metadata": {},
   "source": [
    "Comecemos por declarar os modos.\n",
    "Na codificação em Z3 é conveniente usar um tipo enumerado para implementar os modos:"
   ]
  },
  {
   "cell_type": "code",
   "execution_count": 2,
   "metadata": {
    "ExecuteTime": {
     "end_time": "2019-12-12T14:04:33.017553Z",
     "start_time": "2019-12-12T14:04:32.066453Z"
    }
   },
   "outputs": [],
   "source": [
    "Mode,(Start, Free, Stopping, Blocked, Stopped) = EnumSort('Mode',('Start', 'Free', 'Stopping', 'Blocked', 'Stopped'))"
   ]
  },
  {
   "cell_type": "markdown",
   "metadata": {},
   "source": [
    "Podemos agora declarar as variáveis do FOTS correspondente ao sistema ABS da seguinte forma:"
   ]
  },
  {
   "cell_type": "code",
   "execution_count": 166,
   "metadata": {
    "ExecuteTime": {
     "end_time": "2019-12-12T16:17:35.359028Z",
     "start_time": "2019-12-12T16:17:35.354297Z"
    }
   },
   "outputs": [],
   "source": [
    "def declare(i):\n",
    "    s ={}\n",
    "    s['M'] = Const('M'+str(i),Mode) # constante do tipo mode\n",
    "    s['V'] = Real('V'+str(i))       # Velocidade do veículo\n",
    "    s['v'] = Real('v'+str(i))       # velocidade da roda\n",
    "    s['F'] = Real('F'+str(i))       # Força F\n",
    "    s['f'] = Real('f'+str(i))       # força f\n",
    "    s['P'] = Int('P'+str(i))        # peso\n",
    "    s['a'] = Real('a'+str(i))       # força de atrito\n",
    "    s['c'] = Real('c'+str(i))       # valor c\n",
    "    #s['T'] = Real('T'+str(i))       # varíavel contínua que denota o tempo\n",
    "    return s"
   ]
  },
  {
   "cell_type": "markdown",
   "metadata": {},
   "source": [
    "De seguida iremos codificar os predicados Z3 `init`, `trans` e `inv`, que caracterizam, respectivamente, os estados iniciais, as transições e o invariante de modo do FOTS correspondente ao sistema ABS."
   ]
  },
  {
   "cell_type": "code",
   "execution_count": 167,
   "metadata": {
    "ExecuteTime": {
     "end_time": "2019-12-12T16:17:36.743132Z",
     "start_time": "2019-12-12T16:17:36.733480Z"
    }
   },
   "outputs": [],
   "source": [
    "def init(s):\n",
    "    return And(s['V'] == 20, s['v'] == 15, s['M'] == Start, s['F'] == s['c'] * (s['V'] - s['v']), s['a'] == 0.4, \\\n",
    "               s['P'] == 100, s['f'] == s['a'] * s['P'], s['c'] >= 0)\n",
    "\n",
    "    \n",
    "def inv(s):\n",
    "    return s['V'] - s['v'] >= 0"
   ]
  },
  {
   "cell_type": "code",
   "execution_count": 206,
   "metadata": {
    "ExecuteTime": {
     "end_time": "2019-12-12T16:28:57.564700Z",
     "start_time": "2019-12-12T16:28:57.545118Z"
    }
   },
   "outputs": [],
   "source": [
    "def trans(s, p):\n",
    "    # proposições lógicas comuns entre os vários predicados\n",
    "    equacao_F = And(s['F'] >= 0, p['F'] == s['c'] * (s['V'] - s['v']))\n",
    "    equacao_f = And(s['f'] >= 0, p['f'] == s['a'] * s['P'])\n",
    "    constante_P = And(s['P'] == 100, p['P'] == s['P'])\n",
    "    constante_a = And(s['a'] == 0.4, p['a'] == s['a'])\n",
    "    \n",
    "    # Equações sem tempo:\n",
    "    equacao_V = p['V'] == s['c'] * (s['V'] - s['v'])\n",
    "    equacao_v = p['v'] == -s['a'] * s['P'] + s['c'] * (s['V'] - s['v'])\n",
    "    \n",
    "    # Equações com tempo (ao adicionar o tempo deixam de ser comuns e apenas ocorrem nos loops):\n",
    "    #equacao_V = And(p['V'] - s['V'] == (s['c'] * (s['V'] - s['v'])) * (p['T'] - s['T']), p['T'] > s['T'])\n",
    "    #equacao_v = And(p['v'] - s['v'] == (-s['a'] * s['P'] + s['c'] * (s['V'] - s['v'])) * (p['T'] - s['T']), \\\n",
    "    #                p['T'] > s['T'])\n",
    "    \n",
    "    # self-loops\n",
    "    instart = And(s['M'] == Start, s['V'] == 20, s['v'] == 15, s['V'] - s['v'] > 0, s['c'] == 0, \\\n",
    "                  p['M'] == Start, p['V'] == s['V'], p['v'] == s['v'], p['c'] == s['c'])\n",
    "    infree = And(s['M'] == Free, s['V'] - s['v'] > 0, s['c'] == 0, \\\n",
    "                 p['M'] == Free, p['V'] == s['V'], p['v'] == s['v'], p['c'] == s['c'])\n",
    "    instopping = And(s['M'] == Stopping, s['V'] - s['v'] > 0, s['c'] == 4, \\\n",
    "                     p['M'] == Stopping, p['V'] == s['V'], p['v'] == s['v'], p['c'] == s['c'])\n",
    "    inblocked = And(s['M'] == Blocked, s['V'] > 0, s['v'] > 0, s['V'] - s['v'] == 0, s['c'] == 2, \\\n",
    "                    p['M'] == Blocked, p['v'] == s['v'], p['V'] == s['V'], p['c'] == s['c'])\n",
    "    instopped = And(s['M'] == Stopped, s['V'] == 0, s['v'] == 0, s['c'] == 0, \\\n",
    "                    p['M'] == Stopped, p['V'] == s['V'], p['v'] == s['v'])\n",
    "    \n",
    "    # transições entre estados\n",
    "    startTofree = And(s['M'] == Start, s['V'] >= 20, s['v'] >= 15, s['c'] == 0, \\\n",
    "                      p['M'] == Free, p['V'] == s['V'], p['v'] == s['v'], p['c'] == s['c'])\n",
    "    freeTostopping = And(s['M'] == Free, s['V'] == 3 * s['v'], s['c'] == 0, \\\n",
    "                         p['M'] == Stopping, p['v'] == s['v'], p['c'] == 4)\n",
    "    stoppingToblocked = And(s['M'] == Stopping, s['v'] == s['V'], s['c'] == 4, \\\n",
    "                            p['M'] == Blocked, p['V'] == s['V'], p['v'] == s['v'], p['c'] == 2)\n",
    "    blockedTofree = And(s['M'] == Blocked, s['V'] > s['v'], s['c'] == 2, \\\n",
    "                        p['M'] == Free, p['V'] < s['V'], p['v'] < s['v'], p['c'] == 0)\n",
    "    stoppingTostopped = And(s['M'] == Stopping, s['V'] == s['v'], s['c'] == 2, \\\n",
    "                            p['M'] == Stopped, p['V'] == 0, p['v'] == 0, p['c'] == 0)\n",
    "    \n",
    "    return And(Or(instart, infree, instopping, inblocked, instopped, startTofree, freeTostopping, \\\n",
    "                  stoppingToblocked, blockedTofree, stoppingTostopped), \\\n",
    "               And(equacao_F, equacao_f, equacao_V, equacao_v, constante_P, constante_a))"
   ]
  },
  {
   "cell_type": "markdown",
   "metadata": {},
   "source": [
    " - A transição \"freeTostopping\" nunca ocorre, uma vez que é preciso que V seja 3 vezes o valor de v mas nenhuma transição aumenta qualquer velocidade."
   ]
  },
  {
   "cell_type": "code",
   "execution_count": 181,
   "metadata": {
    "ExecuteTime": {
     "end_time": "2019-12-12T16:25:28.672019Z",
     "start_time": "2019-12-12T16:25:28.655270Z"
    }
   },
   "outputs": [],
   "source": [
    "def trans_original(s, p):\n",
    "    # proposições lógicas comuns entre os vários predicados\n",
    "    equacao_F = And(s['F'] >= 0, p['F'] == s['c'] * (s['V'] * s['v']))\n",
    "    equacao_f = And(s['f'] >= 0, p['f'] == s['a'] * s['P'])\n",
    "    \n",
    "    # self-loops\n",
    "    instart = And(s['M'] == Start ,p['M'] == Start, s['V'] == 20, s['v'] == 15, p['v'] == s['v'], \\\n",
    "                  p['V'] == s['V'], s['V'] - s['v'] > 0, s['c'] == 0, p['c'] == s['c'], )\n",
    "    infree = And(s['M'] == Free, p['M'] == Free, s['V'] - s['v'] > 0, p['v'] == s['v'], p['V'] == s['V'], \\\n",
    "                 s['c'] == 0, p['c'] == s['c'])\n",
    "    instopping = And(s['M'] == Stopping, p['M'] == Stopping, p['v'] == s['v'], p['V'] == s['V'], s['c'] == 4, \\\n",
    "                     p['c'] == s['c'], s['V'] - s['v'] > 0 )\n",
    "    inblocked = And(s['M'] == Blocked, p['M'] == Blocked, s['V'] - s['v'] == 0, s['v'] > 0, s['V'] > 0, \\\n",
    "                    p['v'] == s['v'], p['V'] == s['V'], s['c'] == 2, p['c'] == s['c'])\n",
    "    instopped = And( s['M'] == Stopped, p['M'] == Stopped, p['v'] == s['v'], p['V'] == s['V'], s['v'] == 0, \\\n",
    "                    s['V'] == 0, s['c'] == 0)\n",
    "    \n",
    "    # transições entre estados\n",
    "    startTofree = And(s['M'] == Start, p['M'] == Free, s['V'] >= 20, p['V'] == s['V'], s['v'] >= 15, \\\n",
    "                      p['v'] == s['v'], s['c'] == 0 , p['c'] == s['c'])\n",
    "    freeTostopping = And(s['M'] == Free, p['M'] == Stopping, s['V'] == 3 * s['v'], p['v'] == s['v'], s['c'] == 0, \\\n",
    "                         p['c'] == 4)\n",
    "    stoppingToblocked = And(s['M'] == Stopping, p['M'] == Blocked, s['v'] == s['V'], s['c'] == 4, p['c'] == 2, \\\n",
    "                            s['v'] == p['v'], s['V'] == p['V'])\n",
    "    blockedTofree = And(s['M'] == Blocked, p['M'] == Free, s['V'] > s['v'], s['c'] == 2, p['c'] == 0)\n",
    "    stoppingTostopped = And(s['M'] == Stopping, p['M'] == Stopped, s['V'] == s['v'], p['V'] == 0, p['v'] == 0, \\\n",
    "                            s['c'] == 2, p['c'] == 0)\n",
    "    \n",
    "    return And(Or(instart, infree, instopping, inblocked, instopped, startTofree, freeTostopping, \\\n",
    "                  stoppingToblocked, blockedTofree, stoppingTostopped), \\\n",
    "               And(equacao_F, equacao_f, p['V'] == s['c'] * (s['V'] - s['v']), \\\n",
    "                   p['v'] == - s['a'] * s['P'] + s['c'] * (s['V'] - s['v']), p['P'] == s['P'], p['a'] == s['a']))\n",
    "    \n",
    "    #return Or(And(And(And(And(And(And(instart, infree, instopping, inblocked, instopped, startTofree, \\\n",
    "    #                                  freeTostopping, stoppingToblocked, blockedTofree, stoppingTostopped, \\\n",
    "    #                                  p['V'] == s['c'] * (s['V'] - s['v'])), \\\n",
    "    #                              p['v'] == - s['a'] * s['P'] + s['c'] * (s['V'] - s['v'])), \\\n",
    "    #                          p['P'] == s['P'])), \\\n",
    "    #                  p['a'] == s['a']), \\\n",
    "    #              equacao_F), \\\n",
    "    #          equacao_f)\n",
    "    "
   ]
  },
  {
   "cell_type": "code",
   "execution_count": 205,
   "metadata": {
    "ExecuteTime": {
     "end_time": "2019-12-12T16:25:35.849924Z",
     "start_time": "2019-12-12T16:25:35.772031Z"
    }
   },
   "outputs": [
    {
     "name": "stdout",
     "output_type": "stream",
     "text": [
      "unsat\n"
     ]
    }
   ],
   "source": [
    "def gera_traco(declare,init,trans,inv,k):\n",
    "    s = Solver()\n",
    "    \n",
    "    #criar k cópias do estado, guardar na lista do traço\n",
    "    trace = []\n",
    "    for i in range(k):\n",
    "        trace.append(declare(i))\n",
    "        \n",
    "    #restriçoes init e trans    \n",
    "    s.add(init(trace[0]))\n",
    "    \n",
    "    for i in range(k):\n",
    "        s.add(inv(trace[i]))\n",
    "    \n",
    "    for i in range(k - 1):\n",
    "        s.add(trans(trace[i], trace[i + 1]))\n",
    "\n",
    "    print(s.check())\n",
    "    \n",
    "    if s.check() == sat:\n",
    "        m = s.model()\n",
    "        for i in range(k):\n",
    "            print(i)\n",
    "            for v in trace[i]:\n",
    "                if trace[i][v].sort() != RealSort():\n",
    "                    print(v, '=', m[trace[i][v]])\n",
    "                else:\n",
    "                    r = m[trace[i][v]]\n",
    "                    f = float(r.numerator_as_long())/float(r.denominator_as_long())\n",
    "                    print(v, '=', f)\n",
    "                \n",
    "gera_traco(declare, init, trans, inv, 5)"
   ]
  },
  {
   "cell_type": "code",
   "execution_count": null,
   "metadata": {},
   "outputs": [],
   "source": []
  }
 ],
 "metadata": {
  "kernelspec": {
   "display_name": "Python 3",
   "language": "python",
   "name": "python3"
  },
  "language_info": {
   "codemirror_mode": {
    "name": "ipython",
    "version": 3
   },
   "file_extension": ".py",
   "mimetype": "text/x-python",
   "name": "python",
   "nbconvert_exporter": "python",
   "pygments_lexer": "ipython3",
   "version": "3.7.3"
  }
 },
 "nbformat": 4,
 "nbformat_minor": 2
}
