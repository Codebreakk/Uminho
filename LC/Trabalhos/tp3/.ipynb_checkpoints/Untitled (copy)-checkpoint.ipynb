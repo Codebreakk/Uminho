{
 "cells": [
  {
   "cell_type": "markdown",
   "metadata": {},
   "source": [
    "# TRABALHO 3\n",
    "\n",
    "Modelação e implementação em SMT de um autómato híbrido que descreva o sistema de travagem ABS e verifique as suas propriedades dinâmicas.\n",
    "O sistema usa 2 variáveis contínuas para descrever a  `velocidade do veículo` em relação ao solo e a `velocidade linear dos pneus` também em relação ao solo. O sistema de travagem exerce uma força de atrito  nos travões proporcional à diferença das duas velocidades. \n",
    "Como primeira abordagem a componente discreta do sistema contém os seguintes modos:\n",
    "`Start`, `Free`, `Stopping`, `Blocked`, e `Stopped`.\n",
    "\n",
    "\n",
    "\n",
    "## Autómatos híbridos\n",
    "\n",
    "\n",
    "*Autómatos híbridos* são modelos de sistemas ciber-físicos. Essencialmente um autómato híbrido é uma *máquina de estados finita*, onde cada estado (designado por *modo de funcionamento*) descreve o comportamento contínuo de um sistema dinâmico modelado por *relações diferenciais ordinárias* (nas variáveis contínuas e nas suas derivadas em relação ao tempo) codificadas num predicado designado por *flow*. Estas variáveis contínuas evoluem num modo de funcionamento enquanto o seu *flow* for válido.\n",
    "Cada transição discreta entre estados é representada por um arco anotado com um predicado (designado *switch* ou *jump*). Uma transição realiza-se quando o seu *switch* é válido. Ao ocorrer uma transição as variáveis internas dos modos conservam o seu valor, a não ser que lhes seja explicitamente atribuído um novo valor.\n",
    "\n",
    "Um autómato híbrido pode ser descrito por um FOTS (sobre o qual podemos verificar propriedades lógicas com as metodologias que já estudamos). Nesse processo o FOTS vai *discretizar* as relações diferenciais ordinárias e vai mapea-las num espaço de estados também discreto."
   ]
  },
  {
   "cell_type": "markdown",
   "metadata": {},
   "source": [
    "### 1.  Defina um autómato híbrido que descreva a dinâmica do sistema de travagem ABS.\n",
    "\n",
    "INSERIR IMAGEM E CONDIÇOES"
   ]
  },
  {
   "cell_type": "markdown",
   "metadata": {},
   "source": [
    "### 2. Modele em lógica temporal LT  propriedades que, na sua opinião, caracterizam o comportamento desejável do sistema. Nomeadamente (mas não só”) a propriedade   ”o veículo para em menos de $t$ segundos” e “a velocidade $V$ diminui sempre com o tempo”.\n",
    "\n",
    "INSERIR IMAGEM E CONDIÇOES"
   ]
  },
  {
   "cell_type": "markdown",
   "metadata": {},
   "source": [
    "### 3. Codifique em SMT’s o modelo que definiu em 1."
   ]
  },
  {
   "cell_type": "code",
   "execution_count": 1,
   "metadata": {
    "ExecuteTime": {
     "end_time": "2019-12-19T15:03:11.142213Z",
     "start_time": "2019-12-19T15:03:10.990904Z"
    }
   },
   "outputs": [],
   "source": [
    "from z3 import *"
   ]
  },
  {
   "cell_type": "markdown",
   "metadata": {},
   "source": [
    "Comecemos por declarar os modos.\n",
    "Na codificação em Z3 é conveniente usar um tipo enumerado para implementar os modos:"
   ]
  },
  {
   "cell_type": "code",
   "execution_count": 2,
   "metadata": {
    "ExecuteTime": {
     "end_time": "2019-12-19T15:03:11.149718Z",
     "start_time": "2019-12-19T15:03:11.144164Z"
    }
   },
   "outputs": [],
   "source": [
    "Mode,(Start, Free, Stopping, Blocked, Stopped) = EnumSort('Mode',('Start', 'Free', 'Stopping', 'Blocked', 'Stopped'))"
   ]
  },
  {
   "cell_type": "markdown",
   "metadata": {},
   "source": [
    "Podemos agora declarar as variáveis do FOTS correspondente ao sistema ABS da seguinte forma:"
   ]
  },
  {
   "cell_type": "code",
   "execution_count": 3,
   "metadata": {
    "ExecuteTime": {
     "end_time": "2019-12-19T15:03:11.181678Z",
     "start_time": "2019-12-19T15:03:11.151796Z"
    }
   },
   "outputs": [],
   "source": [
    "def declare(i):\n",
    "    s ={}\n",
    "    s['M'] = Const('M'+str(i), Mode)    # constante do tipo mode\n",
    "    s['V'] = Real('V'+str(i))           # Velocidade do veículo\n",
    "    s['v'] = Real('v'+str(i))           # velocidade da roda\n",
    "    s['F'] = Real('F'+str(i))           # Força F\n",
    "    s['f'] = Real('f'+str(i))           # força f\n",
    "    s['P'] = Int('P'+str(i))            # peso\n",
    "    s['a'] = Real('a'+str(i))           # força de atrito\n",
    "    s['c'] = Real('c'+str(i))           # valor c\n",
    "    s['T'] = Real('T'+str(i))           # varíavel contínua que denota o tempo\n",
    "    return s"
   ]
  },
  {
   "cell_type": "markdown",
   "metadata": {},
   "source": [
    "De seguida iremos codificar os predicados Z3 `init`, `trans` e `inv`, que caracterizam, respectivamente, os estados iniciais, as transições e o invariante de modo do FOTS correspondente ao sistema ABS."
   ]
  },
  {
   "cell_type": "code",
   "execution_count": 4,
   "metadata": {
    "ExecuteTime": {
     "end_time": "2019-12-19T15:03:11.197218Z",
     "start_time": "2019-12-19T15:03:11.183111Z"
    }
   },
   "outputs": [],
   "source": [
    "def init(s):\n",
    "    return And(s['M'] == Start, s['V'] == 200, s['v'] == 150, s['F'] == s['c'] * (s['V'] - s['v']), \\\n",
    "               s['a'] == 0.4, s['P'] == 100, s['f'] == s['a'] * s['P'], s['c'] == 2, s['T'] == 0)\n",
    "\n",
    "def inv(s):\n",
    "    return And(s['V'] - s['v'] >= 0, s['V'] >= 0, s['v'] >= 0)"
   ]
  },
  {
   "cell_type": "code",
   "execution_count": 5,
   "metadata": {
    "ExecuteTime": {
     "end_time": "2019-12-19T15:03:11.214874Z",
     "start_time": "2019-12-19T15:03:11.199048Z"
    }
   },
   "outputs": [],
   "source": [
    "def trans_timed(s, p):\n",
    "    # proposições lógicas comuns entre os vários predicados\n",
    "    equacao_F = And(s['F'] >= 0,p['F'] == s['c'] * (s['V'] - s['v']))\n",
    "    equacao_f = And(s['f'] >= 0, p['f'] == s['a'] * s['P'])\n",
    "    constante_P = And(s['P'] == 100, p['P'] == s['P'])\n",
    "    constante_a = And(s['a'] == 0.4, p['a'] == s['a'])\n",
    "    # Equações com tempo (ao adicionar o tempo, deixam de ser comuns e apenas ocorrem nos loops):\n",
    "    equacao_V = And(p['V'] - s['V'] == (-s['c'] * (s['V'] - s['v'])) * (p['T'] - s['T']))\n",
    "    equacao_v = And(p['v'] - s['v'] == (-s['a'] * s['P'] + s['c'] * (s['V'] - s['v'])) * (p['T'] - s['T']))\n",
    "    \n",
    "    # proposições comuns\n",
    "    props_comuns = And(equacao_F, equacao_f, constante_P, constante_a)\n",
    "    erro = 1\n",
    "    \n",
    "    # timed\n",
    "    infree = And(s['M'] == Free, \\\n",
    "                 p['M'] == s['M'], \\\n",
    "                 props_comuns, equacao_V, equacao_v, \\\n",
    "                 p['T'] > s['T'])\n",
    "    instopping = And(s['M'] == Stopping, \\\n",
    "                     p['M'] == s['M'], \\\n",
    "                     props_comuns, equacao_V, equacao_v, \\\n",
    "                     p['T'] > s['T'])\n",
    "    inblocked = And(s['M'] == Blocked, \\\n",
    "                    p['M'] == s['M'], \\\n",
    "                    props_comuns, equacao_V, equacao_v, \\\n",
    "                    p['T'] > s['T'])\n",
    "    \n",
    "    # untimed\n",
    "    startTofree = And(s['M'] == Start, \\\n",
    "                      p['M'] == Free, \\\n",
    "                      props_comuns, \\\n",
    "                      p['T'] == s['T'])\n",
    "    freeTostopping = And(s['M'] == Free, s['c'] > 0, s['v'] > 0, s['V'] > 0, \\\n",
    "                         p['M'] == Stopping, p['c'] == s['c'], p['v'] == s['v'], p['V'] == s['V'], \\\n",
    "                         props_comuns, p['T'] == s['T'])\n",
    "    stoppingToblocked = And(s['M'] == Stopping, \\\n",
    "                            s['c'] == 10, p['M'] == Blocked, \\\n",
    "                            p['c'] == 2, props_comuns, p['T'] == s['T'], p['v'] == s['v'], p['V'] == s['V'])\n",
    "    stoppingTostopped = And(s['M'] == Stopping, s['c'] == 10, \\\n",
    "                            p['M'] == Stopped, p['v'] == s['v'], p['V'] == s['V'], p['c'] == 0, \\\n",
    "                            props_comuns, p['T'] == s['T'])\n",
    "    blockedTofree = And(s['M'] == Blocked, s['v'] >= 0, s['V'] - s['v'] > erro, s['c'] > 0, \\\n",
    "                        p['v'] == s['v'], p['V'] == s['V'], p['M'] == Free, p['c'] == s['c'], \\\n",
    "                        props_comuns, p['T'] == s['T'])\n",
    "    \n",
    "    return Or(infree, instopping, inblocked, startTofree, freeTostopping, stoppingToblocked, blockedTofree, \\\n",
    "              stoppingTostopped)"
   ]
  },
  {
   "cell_type": "code",
   "execution_count": 6,
   "metadata": {
    "ExecuteTime": {
     "end_time": "2019-12-19T15:03:11.233384Z",
     "start_time": "2019-12-19T15:03:11.216305Z"
    }
   },
   "outputs": [],
   "source": [
    "def trans_timed(s, p):\n",
    "    # proposições lógicas comuns entre os vários predicados\n",
    "    equacao_F = And(s['F'] >= 0,p['F'] == s['c'] * (s['V'] - s['v']))\n",
    "    equacao_f = And(s['f'] >= 0, p['f'] == s['a'] * s['P'])\n",
    "    constante_P = And(s['P'] == 100, p['P'] == s['P'])\n",
    "    constante_a = And(s['a'] == 0.4, p['a'] == s['a'])\n",
    "    # Equações com tempo (ao adicionar o tempo, deixam de ser comuns e apenas ocorrem nos loops):\n",
    "    equacao_V = And(p['V'] - s['V'] == (-s['c'] * (s['V'] - s['v'])) * (p['T'] - s['T']))\n",
    "    equacao_v = And(p['v'] - s['v'] == (-s['a'] * s['P'] + s['c'] * (s['V'] - s['v'])) * (p['T'] - s['T']))\n",
    "    \n",
    "    # proposições comuns\n",
    "    props_comuns = And(equacao_F, equacao_f, constante_P, constante_a)\n",
    "    erro = 1\n",
    "    \n",
    "    # timed\n",
    "    infree = And(s['M'] == Free, s['V'] >= 0, s['v'] >= 0, s['c'] == 2, \\\n",
    "                 p['M'] == s['M'], p['c'] == s['c'], \\\n",
    "                 props_comuns, equacao_V, equacao_v, \\\n",
    "                 p['T'] == s['T'] + 1)\n",
    "    \n",
    "    instopping = And(s['M'] == Stopping, s['V'] >= 0, s['v'] >= 0, s['c'] == 20, \\\n",
    "                     p['M'] == s['M'], p['c'] == s['c'], \\\n",
    "                     props_comuns, equacao_V, equacao_v, \\\n",
    "                     p['T'] == s['T'] + 1)\n",
    "    \n",
    "    inblocked = And(s['M'] == Blocked, \\\n",
    "                    p['M'] == s['M'], s['V'] == s['v'], s['c'] == 2, \\\n",
    "                    props_comuns, equacao_V, equacao_v, p['c'] == s['c'], \\\n",
    "                    p['T'] == s['T'] + 1)\n",
    "    \n",
    "    # untimed\n",
    "    startTofree = And(s['M'] == Start, s['V'] >= 0, s['v'] >= 0, s['c'] == 2, \\\n",
    "                      p['M'] == Free, p['V'] == s['V'], p['v'] >= s['v'], p['c'] == s['c'], \\\n",
    "                      props_comuns, p['T'] == s['T'])\n",
    "    freeTostopping = And(s['M'] == Free, s['v'] > 0, s['V'] > 1.5 * s['v'], s['c'] == 2, \\\n",
    "                         p['M'] == Stopping, p['V'] == s['V'], p['v'] == s['v'], p['c'] == 20, \\\n",
    "                         props_comuns, \\\n",
    "                         p['T'] == s['T'])\n",
    "    stoppingToblocked = And(s['M'] == Stopping, s['c'] == 20, \\\n",
    "                            p['M'] == Blocked, p['V'] == s['V'], p['v'] == s['v'], p['c'] == 2,\\\n",
    "                            props_comuns, \\\n",
    "                            p['T'] == s['T'])\n",
    "    stoppingTostopped = And(s['M'] == Stopping, s['c'] == 20, s['v'] <= 1, \\\n",
    "                            p['M'] == Stopped, p['V'] == s['V'], p['v'] == s['v'], p['c'] == 2, \\\n",
    "                            props_comuns, \\\n",
    "                            p['T'] == s['T'])\n",
    "    blockedTofree = And(s['M'] == Blocked, s['c'] == 2, \\\n",
    "                        p['M'] == Free, p['V'] == s['V'], p['v'] == s['v'],  p['c'] == s['c'],\\\n",
    "                        props_comuns, \\\n",
    "                        p['T'] == s['T'])\n",
    "    \n",
    "    return Or(infree, instopping, inblocked, startTofree, freeTostopping, stoppingToblocked, blockedTofree, \\\n",
    "              stoppingTostopped)"
   ]
  },
  {
   "cell_type": "code",
   "execution_count": 7,
   "metadata": {
    "ExecuteTime": {
     "end_time": "2019-12-19T15:03:11.258274Z",
     "start_time": "2019-12-19T15:03:11.234943Z"
    }
   },
   "outputs": [],
   "source": [
    "##############################################################################################################\n",
    "##############################################################################################################\n",
    "##############################################################################################################\n",
    "##############################################################################################################\n",
    "##############################################################################################################\n",
    "##############################################################################################################\n",
    "##############################################################################################################\n",
    "##############################################################################################################"
   ]
  },
  {
   "cell_type": "code",
   "execution_count": 8,
   "metadata": {
    "ExecuteTime": {
     "end_time": "2019-12-19T15:03:11.921086Z",
     "start_time": "2019-12-19T15:03:11.260185Z"
    }
   },
   "outputs": [],
   "source": [
    "##############################################################################################################\n",
    "##############################################################################################################\n",
    "##############################################################################################################\n",
    "##############################################################################################################\n",
    "##############################################################################################################\n",
    "##############################################################################################################\n",
    "##############################################################################################################\n",
    "##############################################################################################################"
   ]
  },
  {
   "cell_type": "code",
   "execution_count": 9,
   "metadata": {
    "ExecuteTime": {
     "end_time": "2019-12-19T15:03:12.858587Z",
     "start_time": "2019-12-19T15:03:11.924693Z"
    }
   },
   "outputs": [],
   "source": [
    "##############################################################################################################\n",
    "##############################################################################################################\n",
    "##############################################################################################################\n",
    "##############################################################################################################\n",
    "##############################################################################################################\n",
    "##############################################################################################################\n",
    "##############################################################################################################\n",
    "##############################################################################################################"
   ]
  },
  {
   "cell_type": "code",
   "execution_count": 10,
   "metadata": {
    "ExecuteTime": {
     "end_time": "2019-12-19T15:03:13.455586Z",
     "start_time": "2019-12-19T15:03:12.862058Z"
    }
   },
   "outputs": [],
   "source": [
    "def trans(s, p):\n",
    "    # proposições lógicas comuns entre os vários predicados\n",
    "    equacao_F = And(s['F'] >= 0, p['F'] == s['c'] * (s['V'] - s['v']))\n",
    "    equacao_f = And(s['f'] >= 0, p['f'] == s['a'] * s['P'])\n",
    "    constante_P = And(s['P'] == 100, p['P'] == s['P'])\n",
    "    constante_a = And(s['a'] == 0.4, p['a'] == s['a'])\n",
    "    \n",
    "    # proposições comuns\n",
    "    props_comuns = And(equacao_F, equacao_f, constante_P, constante_a)\n",
    "    erro = .654\n",
    "    \n",
    "    # self-loops\n",
    "    infree = And(s['M'] == Free, s['V'] > 0, s['v'] > 0, s['c'] == 2, \\\n",
    "                 p['M'] == s['M'], p['V'] < s['V'], p['v'] < s['v'], p['c'] > 0, \\\n",
    "                 props_comuns)\n",
    "    instopping = And(s['M'] == Stopping, s['V'] > s['v'], s['v'] > 0, s['c'] == 10, \\\n",
    "                     p['M'] == s['M'], p['V'] < s['V'], p['v'] == s['v'], p['c'] == s['c'], \\\n",
    "                     props_comuns)\n",
    "    inblocked = And(s['M'] == Blocked, s['V'] > 0, s['v'] == s['V'], s['c'] > 0, s['c'] < 2, \\\n",
    "                    p['M'] == s['M'], p['V'] < s['V'], p['v'] < s['v'], p['V'] > 0, p['c'] == s['c'], \\\n",
    "                    props_comuns)\n",
    "    \n",
    "    # transições entre estados\n",
    "    startTofree = And(s['M'] == Start, s['V'] > s['v'], s['v'] > 0, s['c'] > 0, \\\n",
    "                      p['M'] == Free, p['V'] == s['V'], p['v'] == s['v'], p['c'] == s['c'], props_comuns)\n",
    "    freeTostopping = And(s['M'] == Free, s['V'] > s['v'] * 2, s['v'] > 0, s['c'] > 0, \\\n",
    "                         p['M'] == Stopping, p['V'] == s['V'], p['v'] == s['v'], p['c'] == s['c'], \\\n",
    "                         props_comuns)\n",
    "    stoppingToblocked = And(s['M'] == Stopping, s['v'] > 0, s['v'] < 1, s['V'] - s['v'] <= erro, s['V'] > 80, \n",
    "                            s['c'] == 10, p['M'] == Blocked, p['V'] == s['V'], p['v'] == s['v'],\\\n",
    "                            p['c'] == 2, props_comuns)\n",
    "    stoppingTostopped = And(s['M'] == Stopping, s['v'] > 0, s['v'] < 1, s['V'] == s['v'], s['c'] == 10, \\\n",
    "                            p['M'] == Stopped, p['V'] == s['V'], p['v'] == s['v'], p['c'] == 0, \\\n",
    "                            props_comuns)\n",
    "    blockedTofree = And(s['M'] == Blocked, s['v'] >= 0, s['V'] - s['v'] > erro, s['c'] > 0, \\\n",
    "                        p['M'] == Free, p['V'] == s['V'], p['v'] == s['v'], p['c'] == s['c'], \\\n",
    "                        props_comuns)\n",
    "    \n",
    "    return Or(infree, instopping, inblocked, startTofree, freeTostopping, stoppingToblocked, blockedTofree, \\\n",
    "              stoppingTostopped)"
   ]
  },
  {
   "cell_type": "code",
   "execution_count": 11,
   "metadata": {
    "ExecuteTime": {
     "end_time": "2019-12-19T15:03:15.030914Z",
     "start_time": "2019-12-19T15:03:13.458966Z"
    },
    "scrolled": false
   },
   "outputs": [
    {
     "name": "stdout",
     "output_type": "stream",
     "text": [
      "sat\n",
      "0\n",
      "M = Start\n",
      "V = 200.0\n",
      "v = 150.0\n",
      "F = 100.0\n",
      "f = 40.0\n",
      "P = 100\n",
      "a = 0.4\n",
      "c = 2.0\n",
      "T = 0.0\n",
      "1\n",
      "M = Free\n",
      "V = 200.0\n",
      "v = 190.00091454120516\n",
      "F = 100.0\n",
      "f = 40.0\n",
      "P = 100\n",
      "a = 0.4\n",
      "c = 2.0\n",
      "T = 0.0\n",
      "2\n",
      "M = Free\n",
      "V = 180.00182908241032\n",
      "v = 169.99908545879484\n",
      "F = 19.998170917589675\n",
      "f = 40.0\n",
      "P = 100\n",
      "a = 0.4\n",
      "c = 2.0\n",
      "T = 1.0\n",
      "3\n",
      "M = Free\n",
      "V = 159.99634183517935\n",
      "v = 150.0045727060258\n",
      "F = 20.005487247230974\n",
      "f = 40.0\n",
      "P = 100\n",
      "a = 0.4\n",
      "c = 2.0\n",
      "T = 2.0\n",
      "4\n",
      "M = Free\n",
      "V = 140.01280357687227\n",
      "v = 129.9881109643329\n",
      "F = 19.98353825830708\n",
      "f = 40.0\n",
      "P = 100\n",
      "a = 0.4\n",
      "c = 2.0\n",
      "T = 3.0\n",
      "5\n",
      "M = Free\n",
      "V = 119.96341835179352\n",
      "v = 110.03749618941164\n",
      "F = 20.04938522507875\n",
      "f = 40.0\n",
      "P = 100\n",
      "a = 0.4\n",
      "c = 2.0\n",
      "T = 4.0\n",
      "6\n",
      "M = Free\n",
      "V = 100.11157402702977\n",
      "v = 89.88934051417539\n",
      "F = 19.851844324763743\n",
      "f = 40.0\n",
      "P = 100\n",
      "a = 0.4\n",
      "c = 2.0\n",
      "T = 5.0\n",
      "7\n",
      "M = Free\n",
      "V = 79.667107001321\n",
      "v = 70.33380753988416\n",
      "F = 20.444467025708768\n",
      "f = 40.0\n",
      "P = 100\n",
      "a = 0.4\n",
      "c = 2.0\n",
      "T = 6.0\n",
      "8\n",
      "M = Free\n",
      "V = 61.00050807844731\n",
      "v = 49.00040646275785\n",
      "F = 18.666598922873693\n",
      "f = 40.0\n",
      "P = 100\n",
      "a = 0.4\n",
      "c = 2.0\n",
      "T = 7.0\n",
      "9\n",
      "M = Free\n",
      "V = 37.000304847068385\n",
      "v = 33.00060969413678\n",
      "F = 24.000203231378926\n",
      "f = 40.0\n",
      "P = 100\n",
      "a = 0.4\n",
      "c = 2.0\n",
      "T = 8.0\n",
      "10\n",
      "M = Free\n",
      "V = 29.000914541205162\n",
      "v = 1.0\n",
      "F = 7.999390305863225\n",
      "f = 40.0\n",
      "P = 100\n",
      "a = 0.4\n",
      "c = 2.0\n",
      "T = 9.0\n",
      "11\n",
      "M = Stopping\n",
      "V = 29.000914541205162\n",
      "v = 1.0\n",
      "F = 56.001829082410325\n",
      "f = 40.0\n",
      "P = 100\n",
      "a = 0.4\n",
      "c = 20.0\n",
      "T = 9.0\n",
      "12\n",
      "M = Blocked\n",
      "V = 29.000914541205162\n",
      "v = 1.0\n",
      "F = 560.0182908241032\n",
      "f = 40.0\n",
      "P = 100\n",
      "a = 0.4\n",
      "c = 2.0\n",
      "T = 9.0\n",
      "13\n",
      "M = Free\n",
      "V = 29.000914541205162\n",
      "v = 1.0\n",
      "F = 56.001829082410325\n",
      "f = 40.0\n",
      "P = 100\n",
      "a = 0.4\n",
      "c = 2.0\n",
      "T = 9.0\n",
      "14\n",
      "M = Stopping\n",
      "V = 29.000914541205162\n",
      "v = 1.0\n",
      "F = 56.001829082410325\n",
      "f = 40.0\n",
      "P = 100\n",
      "a = 0.4\n",
      "c = 20.0\n",
      "T = 9.0\n",
      "15\n",
      "M = Blocked\n",
      "V = 29.000914541205162\n",
      "v = 1.0\n",
      "F = 560.0182908241032\n",
      "f = 40.0\n",
      "P = 100\n",
      "a = 0.4\n",
      "c = 2.0\n",
      "T = 9.0\n",
      "16\n",
      "M = Free\n",
      "V = 29.000914541205162\n",
      "v = 1.0\n",
      "F = 56.001829082410325\n",
      "f = 40.0\n",
      "P = 100\n",
      "a = 0.4\n",
      "c = 2.0\n",
      "T = 9.0\n",
      "17\n",
      "M = Stopping\n",
      "V = 29.000914541205162\n",
      "v = 1.0\n",
      "F = 56.001829082410325\n",
      "f = 40.0\n",
      "P = 100\n",
      "a = 0.4\n",
      "c = 20.0\n",
      "T = 9.0\n",
      "18\n",
      "M = Blocked\n",
      "V = 29.000914541205162\n",
      "v = 1.0\n",
      "F = 560.0182908241032\n",
      "f = 40.0\n",
      "P = 100\n",
      "a = 0.4\n",
      "c = 2.0\n",
      "T = 9.0\n",
      "19\n",
      "M = Free\n",
      "V = 29.000914541205162\n",
      "v = 1.0\n",
      "F = 56.001829082410325\n",
      "f = 40.0\n",
      "P = 100\n",
      "a = 0.4\n",
      "c = 2.0\n",
      "T = 9.0\n"
     ]
    }
   ],
   "source": [
    "def gera_traco(declare,init,trans,inv,k):\n",
    "    s = Solver()\n",
    "    \n",
    "    #criar k cópias do estado, guardar na lista do traço\n",
    "    trace = []\n",
    "    for i in range(k):\n",
    "        trace.append(declare(i))\n",
    "        \n",
    "    #restriçoes init e trans    \n",
    "    s.add(init(trace[0]))\n",
    "    \n",
    "    for i in range(k):\n",
    "        s.add(inv(trace[i]))\n",
    "    \n",
    "    for i in range(k - 1):\n",
    "        s.add(trans(trace[i], trace[i + 1]))\n",
    "\n",
    "    print(s.check())\n",
    "    \n",
    "    if s.check() == sat:\n",
    "        m = s.model()\n",
    "        for i in range(k):\n",
    "            print(i)\n",
    "            for v in trace[i]:\n",
    "                if trace[i][v].sort() != RealSort():\n",
    "                    print(v, '=', m[trace[i][v]])\n",
    "                else:\n",
    "                    r = m[trace[i][v]]\n",
    "                    f = float(r.numerator_as_long())/float(r.denominator_as_long())\n",
    "                    print(v, '=', f)\n",
    "                \n",
    "#gera_traco(declare, init, trans, inv, 50)\n",
    "\n",
    "gera_traco(declare, init, trans_timed, inv, 20)"
   ]
  }
 ],
 "metadata": {
  "kernelspec": {
   "display_name": "Python 3",
   "language": "python",
   "name": "python3"
  },
  "language_info": {
   "codemirror_mode": {
    "name": "ipython",
    "version": 3
   },
   "file_extension": ".py",
   "mimetype": "text/x-python",
   "name": "python",
   "nbconvert_exporter": "python",
   "pygments_lexer": "ipython3",
   "version": "3.7.3"
  }
 },
 "nbformat": 4,
 "nbformat_minor": 2
}
