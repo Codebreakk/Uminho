{
 "cells": [
  {
   "cell_type": "markdown",
   "metadata": {},
   "source": [
    "# TRABALHO 3\n",
    "\n",
    "Modelação e implementação em SMT de um autómato híbrido que descreva o sistema de travagem ABS e verifique as suas propriedades dinâmicas.\n",
    "O sistema usa 2 variáveis contínuas para descrever a  `velocidade do veículo` em relação ao solo e a `velocidade linear dos pneus` também em relação ao solo. O sistema de travagem exerce uma força de atrito  nos travões proporcional à diferença das duas velocidades. \n",
    "Como primeira abordagem a componente discreta do sistema contém os seguintes modos:\n",
    "`Start`, `Free`, `Stopping`, `Blocked`, e `Stopped`.\n",
    "\n",
    "\n",
    "\n",
    "## Autómatos híbridos\n",
    "\n",
    "\n",
    "*Autómatos híbridos* são modelos de sistemas ciber-físicos. Essencialmente um autómato híbrido é uma *máquina de estados finita*, onde cada estado (designado por *modo de funcionamento*) descreve o comportamento contínuo de um sistema dinâmico modelado por *relações diferenciais ordinárias* (nas variáveis contínuas e nas suas derivadas em relação ao tempo) codificadas num predicado designado por *flow*. Estas variáveis contínuas evoluem num modo de funcionamento enquanto o seu *flow* for válido.\n",
    "Cada transição discreta entre estados é representada por um arco anotado com um predicado (designado *switch* ou *jump*). Uma transição realiza-se quando o seu *switch* é válido. Ao ocorrer uma transição as variáveis internas dos modos conservam o seu valor, a não ser que lhes seja explicitamente atribuído um novo valor.\n",
    "\n",
    "Um autómato híbrido pode ser descrito por um FOTS (sobre o qual podemos verificar propriedades lógicas com as metodologias que já estudamos). Nesse processo o FOTS vai *discretizar* as relações diferenciais ordinárias e vai mapea-las num espaço de estados também discreto."
   ]
  },
  {
   "cell_type": "markdown",
   "metadata": {},
   "source": [
    "### 1.  Defina um autómato híbrido que descreva a dinâmica do sistema de travagem ABS.\n",
    "\n",
    "INSERIR IMAGEM E CONDIÇOES"
   ]
  },
  {
   "cell_type": "markdown",
   "metadata": {},
   "source": [
    "### 2. Modele em lógica temporal LT  propriedades que, na sua opinião, caracterizam o comportamento desejável do sistema. Nomeadamente (mas não só”) a propriedade   ”o veículo para em menos de $t$ segundos” e “a velocidade $V$ diminui sempre com o tempo”.\n",
    "\n",
    "INSERIR IMAGEM E CONDIÇOES"
   ]
  },
  {
   "cell_type": "markdown",
   "metadata": {},
   "source": [
    "### 3. Codifique em SMT’s o modelo que definiu em 1."
   ]
  },
  {
   "cell_type": "code",
   "execution_count": 2,
   "metadata": {
    "ExecuteTime": {
     "end_time": "2019-12-20T13:55:57.921093Z",
     "start_time": "2019-12-20T13:55:57.742588Z"
    }
   },
   "outputs": [],
   "source": [
    "from z3 import *"
   ]
  },
  {
   "cell_type": "markdown",
   "metadata": {},
   "source": [
    "Comecemos por declarar os modos.\n",
    "Na codificação em Z3 é conveniente usar um tipo enumerado para implementar os modos:"
   ]
  },
  {
   "cell_type": "code",
   "execution_count": 3,
   "metadata": {
    "ExecuteTime": {
     "end_time": "2019-12-20T13:55:59.482095Z",
     "start_time": "2019-12-20T13:55:59.444602Z"
    }
   },
   "outputs": [],
   "source": [
    "Mode,(Start, Free, Stopping, Blocked, Stopped) = EnumSort('Mode',('Start', 'Free', 'Stopping', 'Blocked', 'Stopped'))"
   ]
  },
  {
   "cell_type": "markdown",
   "metadata": {},
   "source": [
    "Podemos agora declarar as variáveis do FOTS correspondente ao sistema ABS da seguinte forma:"
   ]
  },
  {
   "cell_type": "code",
   "execution_count": 4,
   "metadata": {
    "ExecuteTime": {
     "end_time": "2019-12-20T13:56:00.571930Z",
     "start_time": "2019-12-20T13:56:00.567009Z"
    }
   },
   "outputs": [],
   "source": [
    "def declare(i):\n",
    "    s ={}\n",
    "    s['M'] = Const('M'+str(i), Mode)    # constante do tipo mode\n",
    "    s['V'] = Real('V'+str(i))           # Velocidade do veículo\n",
    "    s['v'] = Real('v'+str(i))           # velocidade da roda\n",
    "    s['F'] = Real('F'+str(i))           # Força F\n",
    "    s['f'] = Real('f'+str(i))           # força f\n",
    "    s['P'] = Int('P'+str(i))            # peso\n",
    "    s['a'] = Real('a'+str(i))           # força de atrito\n",
    "    s['c'] = Real('c'+str(i))           # valor c\n",
    "    s['T'] = Real('T'+str(i))           # varíavel contínua que denota o tempo\n",
    "    return s"
   ]
  },
  {
   "cell_type": "markdown",
   "metadata": {},
   "source": [
    "De seguida iremos codificar os predicados Z3 `init`, `trans` e `inv`, que caracterizam, respectivamente, os estados iniciais, as transições e o invariante de modo do FOTS correspondente ao sistema ABS."
   ]
  },
  {
   "cell_type": "markdown",
   "metadata": {},
   "source": [
    " - Proposição do estado inicial:\n",
    "$$\n",
    "T = 0 \\wedge M = \\mathit{Start} \\wedge v = 15 \\wedge V = 30 \\wedge c = 4 \\wedge P = 100 \\wedge f = a * P  \\wedge a = 0.4 \\wedge F = c * (V - v)\n",
    "$$\n",
    "\n",
    "\n",
    " - Proposição do invariante:\n",
    "$$\n",
    "V - v \\ge 0 \\wedge V \\ge 0 \\wedge v \\ge 0\n",
    "$$ "
   ]
  },
  {
   "cell_type": "code",
   "execution_count": 5,
   "metadata": {
    "ExecuteTime": {
     "end_time": "2019-12-20T13:56:02.730693Z",
     "start_time": "2019-12-20T13:56:02.716904Z"
    }
   },
   "outputs": [],
   "source": [
    "def init(s): ## 40 20, \n",
    "    return And(s['M'] == Start, s['v'] == 15, s['V'] == 30, s['F'] == s['c'] * (s['V'] - s['v']), \\\n",
    "               s['a'] == 0.4, s['P'] == 100, s['f'] == s['a'] * s['P'], s['c'] == 4, s['T'] == 0)\n",
    "\n",
    "def inv(s):\n",
    "    return And(s['V'] - s['v'] >= 0, s['V'] >= 0, s['v'] >= 0)"
   ]
  },
  {
   "cell_type": "markdown",
   "metadata": {},
   "source": [
    " - Proposições comuns:\n",
    " \n",
    "$$\n",
    "\\begin{array}{c}\n",
    "equacao_F = F \\ge 0 \\wedge F' = c' * (V' - v') \\\\\n",
    "equacao_f = f \\ge 0 \\wedge f = a * P \\\\\n",
    "constante_P = P = 100 \\wedge P' = P \\\\\n",
    "constante_a = a = 0.4 \\wedge a' = a \\\\\n",
    "equacao_V = V' - V = (-c * (V - v)) * (T' - T) \\\\\n",
    "equacao_v = v' - v = (-a * P + c * (V - v)) * (T' - T) \\\\\n",
    "propsComuns = equacao_F \\wedge equacao_f \\wedge constante_P \\wedge constante_a \\\\\n",
    "erro = 1 \\\\\n",
    "\\Delta t = 0.1\n",
    "\\end{array}\n",
    "$$ \n",
    " \n",
    " \n",
    " \n",
    " - Proposição das transições timed:\n",
    " \n",
    "$$\n",
    "\\begin{array}{c}\n",
    "M = \\mathit{Free} \\wedge M' = M \\wedge V \\ge 0 \\wedge v \\ge 0 \\wedge c = 4 \\wedge T' = T + \\Delta t \\wedge c' = c \\wedge propsComuns \\wedge equacao_v \\wedge equacao_V \\\\\n",
    "\\vee\\\\\n",
    "M = \\mathit{Stopping} \\wedge M' = M \\wedge V \\ge 0 \\wedge v \\ge 0 \\wedge c = 10 \\wedge T' = T + \\Delta t \\wedge c' = c \\wedge propsComuns \\wedge equacao_V \\wedge equacao_v \\\\\n",
    "\\vee\\\\\n",
    "M = \\mathit{Blocked} \\wedge M' = M \\wedge V = v \\wedge c = 4 \\wedge T' = T + \\Delta t \\wedge c' = c \\wedge propsComuns \\wedge equacao_v \\wedge equacao_V\n",
    "\\end{array}\n",
    "$$\n",
    "\n",
    "\n",
    "\n",
    " - Proposição das transições untimed:\n",
    " \n",
    " $$\n",
    "\\begin{array}{c}\n",
    "M = \\mathit{Start} \\wedge M' = \\mathit{Free} \\wedge V \\ge 0 \\wedge v \\ge 0 \\wedge c = 4 \\wedge V' = V \\wedge v' = v \\wedge c' = c \\wedge propsComuns \\wedge T' = T \\\\\n",
    "\\vee\\\\\n",
    "M = \\mathit{Free} \\wedge M' = \\mathit{Stopping} \\wedge v > 0 \\wedge V > 1.5 * v \\wedge c = 4 \\wedge V' = V \\wedge v' = v \\wedge c' = 10 \\wedge propsComuns \\wedge T' = T \\\\\n",
    "\\vee\\\\\n",
    "M = \\mathit{Stopping} \\wedge M' = \\mathit{Blocked} \\wedge c = 10 \\wedge V' = V \\wedge v' = v \\wedge c' = 4 \\wedge propsComuns \\wedge T' = T \\\\\n",
    "\\vee\\\\\n",
    "M = \\mathit{Stopping} \\wedge M' = \\mathit{Stopped} \\wedge c = 10 \\wedge V' = V \\wedge v' = v \\wedge c' = 0 \\wedge propsComuns \\wedge T' = T \\\\\n",
    "\\vee\\\\\n",
    "M = \\mathit{Blocked} \\wedge M' = \\mathit{Free} \\wedge c = 4 \\wedge V' = V \\wedge v' = v \\wedge c' = c \\wedge propsComuns \\wedge T' = T\n",
    "\\end{array}\n",
    "$$"
   ]
  },
  {
   "cell_type": "code",
   "execution_count": 6,
   "metadata": {
    "ExecuteTime": {
     "end_time": "2019-12-20T13:56:07.527551Z",
     "start_time": "2019-12-20T13:56:07.508370Z"
    }
   },
   "outputs": [],
   "source": [
    "def trans(s, p):\n",
    "    # proposições lógicas comuns entre os vários predicados\n",
    "    equacao_F = And(s['F'] >= 0, p['F'] == p['c'] * (p['V'] - p['v']))\n",
    "    equacao_f = And(s['f'] >= 0, p['f'] == s['a'] * s['P'])\n",
    "    constante_P = And(s['P'] == 100, p['P'] == s['P'])\n",
    "    constante_a = And(s['a'] == 0.4, p['a'] == s['a'])\n",
    "    # Equações com tempo (ao adicionar o tempo, deixam de ser comuns e apenas ocorrem nos loops):\n",
    "    equacao_V = p['V'] - s['V'] == (-s['c'] * (s['V'] - s['v'])) * (p['T'] - s['T'])\n",
    "    equacao_v = p['v'] - s['v'] == (-s['a'] * s['P'] + s['c'] * (s['V'] - s['v'])) * (p['T'] - s['T'])\n",
    "    \n",
    "    # proposições comuns\n",
    "    props_comuns = And(equacao_F, equacao_f, constante_P, constante_a)\n",
    "    erro = 1\n",
    "    fracao_tempo = 0.1\n",
    "    \n",
    "    # timed\n",
    "    infree = And(s['M'] == Free, s['V'] >= 0, s['v'] >= 0, s['c'] == 4, \\\n",
    "                 p['M'] == s['M'], p['c'] == s['c'], \\\n",
    "                 props_comuns, equacao_V, equacao_v, \\\n",
    "                 p['T'] == s['T'] + fracao_tempo)\n",
    "    \n",
    "    instopping = And(s['M'] == Stopping, s['V'] >= 0, s['v'] >= 0, s['c'] == 10, \\\n",
    "                     p['M'] == s['M'], p['c'] == s['c'], \\\n",
    "                     props_comuns, equacao_V, equacao_v, \\\n",
    "                     p['T'] == s['T'] + fracao_tempo)\n",
    "    \n",
    "    inblocked = And(s['M'] == Blocked, \\\n",
    "                    p['M'] == s['M'], s['V'] == s['v'], s['c'] == 4, \\\n",
    "                    props_comuns, equacao_V, equacao_v, p['c'] == s['c'], \\\n",
    "                    p['T'] == s['T'] + fracao_tempo)\n",
    "    \n",
    "    # untimed\n",
    "    startTofree = And(s['M'] == Start, s['V'] >= 0, s['v'] >= 0, s['c'] == 4, \\\n",
    "                      p['M'] == Free, p['V'] == s['V'], p['v'] >= s['v'], p['c'] == s['c'], \\\n",
    "                      props_comuns, p['T'] == s['T'])\n",
    "    freeTostopping = And(s['M'] == Free, s['v'] > 0, s['V'] > 1.5 * s['v'], s['c'] == 4, \\\n",
    "                         p['M'] == Stopping, p['V'] == s['V'], p['v'] == s['v'], p['c'] == 10, \\\n",
    "                         props_comuns, \\\n",
    "                         p['T'] == s['T'])\n",
    "    stoppingToblocked = And(s['M'] == Stopping, s['c'] == 10, \\\n",
    "                            p['M'] == Blocked, p['V'] == s['V'], p['v'] == s['v'], p['c'] == 4, \\\n",
    "                            props_comuns, \\\n",
    "                            p['T'] == s['T'])\n",
    "    stoppingTostopped = And(s['M'] == Stopping, s['c'] == 10, s['v'] <= 1, \\\n",
    "                            p['M'] == Stopped, p['V'] == s['V'], p['v'] == s['v'], p['c'] == 0, \\\n",
    "                            props_comuns, \\\n",
    "                            p['T'] == s['T'])\n",
    "    blockedTofree = And(s['M'] == Blocked, s['c'] == 4, \\\n",
    "                        p['M'] == Free, p['V'] == s['V'], p['v'] == s['v'], p['c'] == s['c'], \\\n",
    "                        props_comuns, \\\n",
    "                        p['T'] == s['T'])\n",
    "    \n",
    "    return Or(infree, instopping, inblocked, startTofree, freeTostopping, stoppingToblocked, blockedTofree, \\\n",
    "              stoppingTostopped)"
   ]
  },
  {
   "cell_type": "code",
   "execution_count": 42,
   "metadata": {
    "ExecuteTime": {
     "end_time": "2019-12-19T18:23:11.870337Z",
     "start_time": "2019-12-19T18:15:57.399218Z"
    },
    "scrolled": true
   },
   "outputs": [
    {
     "name": "stdout",
     "output_type": "stream",
     "text": [
      "sat\n",
      "0\n",
      "M = Start\n",
      "V = 30.0\n",
      "v = 15.0\n",
      "F = 60.0\n",
      "f = 40.0\n",
      "P = 100\n",
      "a = 0.4\n",
      "c = 4.0\n",
      "T = 0.0\n",
      "1\n",
      "M = Free\n",
      "V = 30.0\n",
      "v = 19.16666676622222\n",
      "F = 43.333332935111116\n",
      "f = 40.0\n",
      "P = 100\n",
      "a = 0.4\n",
      "c = 4.0\n",
      "T = 0.0\n",
      "2\n",
      "M = Stopping\n",
      "V = 30.0\n",
      "v = 19.16666676622222\n",
      "F = 108.33333233777779\n",
      "f = 40.0\n",
      "P = 100\n",
      "a = 0.4\n",
      "c = 10.0\n",
      "T = 0.0\n",
      "3\n",
      "M = Blocked\n",
      "V = 30.0\n",
      "v = 19.16666676622222\n",
      "F = 43.333332935111116\n",
      "f = 40.0\n",
      "P = 100\n",
      "a = 0.4\n",
      "c = 4.0\n",
      "T = 0.0\n",
      "4\n",
      "M = Free\n",
      "V = 30.0\n",
      "v = 19.16666676622222\n",
      "F = 43.333332935111116\n",
      "f = 40.0\n",
      "P = 100\n",
      "a = 0.4\n",
      "c = 4.0\n",
      "T = 0.0\n",
      "5\n",
      "M = Stopping\n",
      "V = 30.0\n",
      "v = 19.16666676622222\n",
      "F = 108.33333233777779\n",
      "f = 40.0\n",
      "P = 100\n",
      "a = 0.4\n",
      "c = 10.0\n",
      "T = 0.0\n",
      "6\n",
      "M = Blocked\n",
      "V = 30.0\n",
      "v = 19.16666676622222\n",
      "F = 43.333332935111116\n",
      "f = 40.0\n",
      "P = 100\n",
      "a = 0.4\n",
      "c = 4.0\n",
      "T = 0.0\n",
      "7\n",
      "M = Free\n",
      "V = 30.0\n",
      "v = 19.16666676622222\n",
      "F = 43.333332935111116\n",
      "f = 40.0\n",
      "P = 100\n",
      "a = 0.4\n",
      "c = 4.0\n",
      "T = 0.0\n",
      "8\n",
      "M = Free\n",
      "V = 25.66666670648889\n",
      "v = 19.50000005973333\n",
      "F = 24.666666587022224\n",
      "f = 40.0\n",
      "P = 100\n",
      "a = 0.4\n",
      "c = 4.0\n",
      "T = 0.1\n",
      "9\n",
      "M = Free\n",
      "V = 23.200000047786666\n",
      "v = 17.966666718435555\n",
      "F = 20.933333317404443\n",
      "f = 40.0\n",
      "P = 100\n",
      "a = 0.4\n",
      "c = 4.0\n",
      "T = 0.2\n",
      "10\n",
      "M = Free\n",
      "V = 21.10666671604622\n",
      "v = 16.060000050176\n",
      "F = 20.18666666348089\n",
      "f = 40.0\n",
      "P = 100\n",
      "a = 0.4\n",
      "c = 4.0\n",
      "T = 0.3\n",
      "11\n",
      "M = Free\n",
      "V = 19.08800004969813\n",
      "v = 14.078666716524088\n",
      "F = 20.03733333269618\n",
      "f = 40.0\n",
      "P = 100\n",
      "a = 0.4\n",
      "c = 4.0\n",
      "T = 0.4\n",
      "12\n",
      "M = Free\n",
      "V = 17.084266716428516\n",
      "v = 12.082400049793705\n",
      "F = 20.007466666539237\n",
      "f = 40.0\n",
      "P = 100\n",
      "a = 0.4\n",
      "c = 4.0\n",
      "T = 0.5\n",
      "13\n",
      "M = Free\n",
      "V = 15.083520049774592\n",
      "v = 10.08314671644763\n",
      "F = 20.00149333330785\n",
      "f = 40.0\n",
      "P = 100\n",
      "a = 0.4\n",
      "c = 4.0\n",
      "T = 0.6\n",
      "14\n",
      "M = Free\n",
      "V = 13.083370716443806\n",
      "v = 8.083296049778413\n",
      "F = 20.00029866666157\n",
      "f = 40.0\n",
      "P = 100\n",
      "a = 0.4\n",
      "c = 4.0\n",
      "T = 0.7\n",
      "15\n",
      "M = Free\n",
      "V = 11.083340849777649\n",
      "v = 6.083325916444571\n",
      "F = 20.000059733332314\n",
      "f = 40.0\n",
      "P = 100\n",
      "a = 0.4\n",
      "c = 4.0\n",
      "T = 0.8\n",
      "16\n",
      "M = Free\n",
      "V = 9.083334876444418\n",
      "v = 4.083331889777803\n",
      "F = 20.00001194666646\n",
      "f = 40.0\n",
      "P = 100\n",
      "a = 0.4\n",
      "c = 4.0\n",
      "T = 0.9\n",
      "17\n",
      "M = Free\n",
      "V = 7.083333681777772\n",
      "v = 2.083333084444449\n",
      "F = 20.000002389333293\n",
      "f = 40.0\n",
      "P = 100\n",
      "a = 0.4\n",
      "c = 4.0\n",
      "T = 1.0\n",
      "18\n",
      "M = Stopping\n",
      "V = 7.083333681777772\n",
      "v = 2.083333084444449\n",
      "F = 50.00000597333323\n",
      "f = 40.0\n",
      "P = 100\n",
      "a = 0.4\n",
      "c = 10.0\n",
      "T = 1.0\n",
      "19\n",
      "M = Blocked\n",
      "V = 7.083333681777772\n",
      "v = 2.083333084444449\n",
      "F = 20.000002389333293\n",
      "f = 40.0\n",
      "P = 100\n",
      "a = 0.4\n",
      "c = 4.0\n",
      "T = 1.0\n",
      "20\n",
      "M = Free\n",
      "V = 7.083333681777772\n",
      "v = 2.083333084444449\n",
      "F = 20.000002389333293\n",
      "f = 40.0\n",
      "P = 100\n",
      "a = 0.4\n",
      "c = 4.0\n",
      "T = 1.0\n",
      "21\n",
      "M = Stopping\n",
      "V = 7.083333681777772\n",
      "v = 2.083333084444449\n",
      "F = 50.00000597333323\n",
      "f = 40.0\n",
      "P = 100\n",
      "a = 0.4\n",
      "c = 10.0\n",
      "T = 1.0\n",
      "22\n",
      "M = Blocked\n",
      "V = 7.083333681777772\n",
      "v = 2.083333084444449\n",
      "F = 20.000002389333293\n",
      "f = 40.0\n",
      "P = 100\n",
      "a = 0.4\n",
      "c = 4.0\n",
      "T = 1.0\n",
      "23\n",
      "M = Free\n",
      "V = 7.083333681777772\n",
      "v = 2.083333084444449\n",
      "F = 20.000002389333293\n",
      "f = 40.0\n",
      "P = 100\n",
      "a = 0.4\n",
      "c = 4.0\n",
      "T = 1.0\n",
      "24\n",
      "M = Stopping\n",
      "V = 7.083333681777772\n",
      "v = 2.083333084444449\n",
      "F = 50.00000597333323\n",
      "f = 40.0\n",
      "P = 100\n",
      "a = 0.4\n",
      "c = 10.0\n",
      "T = 1.0\n",
      "25\n",
      "M = Blocked\n",
      "V = 7.083333681777772\n",
      "v = 2.083333084444449\n",
      "F = 20.000002389333293\n",
      "f = 40.0\n",
      "P = 100\n",
      "a = 0.4\n",
      "c = 4.0\n",
      "T = 1.0\n",
      "26\n",
      "M = Free\n",
      "V = 7.083333681777772\n",
      "v = 2.083333084444449\n",
      "F = 20.000002389333293\n",
      "f = 40.0\n",
      "P = 100\n",
      "a = 0.4\n",
      "c = 4.0\n",
      "T = 1.0\n",
      "27\n",
      "M = Free\n",
      "V = 5.0833334428444426\n",
      "v = 0.08333332337777795\n",
      "F = 20.00000047786666\n",
      "f = 40.0\n",
      "P = 100\n",
      "a = 0.4\n",
      "c = 4.0\n",
      "T = 1.1\n",
      "28\n",
      "M = Stopping\n",
      "V = 5.0833334428444426\n",
      "v = 0.08333332337777795\n",
      "F = 50.000001194666645\n",
      "f = 40.0\n",
      "P = 100\n",
      "a = 0.4\n",
      "c = 10.0\n",
      "T = 1.1\n",
      "29\n",
      "M = Blocked\n",
      "V = 5.0833334428444426\n",
      "v = 0.08333332337777795\n",
      "F = 20.00000047786666\n",
      "f = 40.0\n",
      "P = 100\n",
      "a = 0.4\n",
      "c = 4.0\n",
      "T = 1.1\n",
      "30\n",
      "M = Free\n",
      "V = 5.0833334428444426\n",
      "v = 0.08333332337777795\n",
      "F = 20.00000047786666\n",
      "f = 40.0\n",
      "P = 100\n",
      "a = 0.4\n",
      "c = 4.0\n",
      "T = 1.1\n",
      "31\n",
      "M = Stopping\n",
      "V = 5.0833334428444426\n",
      "v = 0.08333332337777795\n",
      "F = 50.000001194666645\n",
      "f = 40.0\n",
      "P = 100\n",
      "a = 0.4\n",
      "c = 10.0\n",
      "T = 1.1\n",
      "32\n",
      "M = Blocked\n",
      "V = 5.0833334428444426\n",
      "v = 0.08333332337777795\n",
      "F = 20.00000047786666\n",
      "f = 40.0\n",
      "P = 100\n",
      "a = 0.4\n",
      "c = 4.0\n",
      "T = 1.1\n",
      "33\n",
      "M = Free\n",
      "V = 5.0833334428444426\n",
      "v = 0.08333332337777795\n",
      "F = 20.00000047786666\n",
      "f = 40.0\n",
      "P = 100\n",
      "a = 0.4\n",
      "c = 4.0\n",
      "T = 1.1\n",
      "34\n",
      "M = Stopping\n",
      "V = 5.0833334428444426\n",
      "v = 0.08333332337777795\n",
      "F = 50.000001194666645\n",
      "f = 40.0\n",
      "P = 100\n",
      "a = 0.4\n",
      "c = 10.0\n",
      "T = 1.1\n",
      "35\n",
      "M = Blocked\n",
      "V = 5.0833334428444426\n",
      "v = 0.08333332337777795\n",
      "F = 20.00000047786666\n",
      "f = 40.0\n",
      "P = 100\n",
      "a = 0.4\n",
      "c = 4.0\n",
      "T = 1.1\n",
      "36\n",
      "M = Free\n",
      "V = 5.0833334428444426\n",
      "v = 0.08333332337777795\n",
      "F = 20.00000047786666\n",
      "f = 40.0\n",
      "P = 100\n",
      "a = 0.4\n",
      "c = 4.0\n",
      "T = 1.1\n",
      "37\n",
      "M = Stopping\n",
      "V = 5.0833334428444426\n",
      "v = 0.08333332337777795\n",
      "F = 50.000001194666645\n",
      "f = 40.0\n",
      "P = 100\n",
      "a = 0.4\n",
      "c = 10.0\n",
      "T = 1.1\n",
      "38\n",
      "M = Blocked\n",
      "V = 5.0833334428444426\n",
      "v = 0.08333332337777795\n",
      "F = 20.00000047786666\n",
      "f = 40.0\n",
      "P = 100\n",
      "a = 0.4\n",
      "c = 4.0\n",
      "T = 1.1\n",
      "39\n",
      "M = Free\n",
      "V = 5.0833334428444426\n",
      "v = 0.08333332337777795\n",
      "F = 20.00000047786666\n",
      "f = 40.0\n",
      "P = 100\n",
      "a = 0.4\n",
      "c = 4.0\n",
      "T = 1.1\n",
      "40\n",
      "M = Stopping\n",
      "V = 5.0833334428444426\n",
      "v = 0.08333332337777795\n",
      "F = 50.000001194666645\n",
      "f = 40.0\n",
      "P = 100\n",
      "a = 0.4\n",
      "c = 10.0\n",
      "T = 1.1\n",
      "41\n",
      "M = Blocked\n",
      "V = 5.0833334428444426\n",
      "v = 0.08333332337777795\n",
      "F = 20.00000047786666\n",
      "f = 40.0\n",
      "P = 100\n",
      "a = 0.4\n",
      "c = 4.0\n",
      "T = 1.1\n",
      "42\n",
      "M = Free\n",
      "V = 5.0833334428444426\n",
      "v = 0.08333332337777795\n",
      "F = 20.00000047786666\n",
      "f = 40.0\n",
      "P = 100\n",
      "a = 0.4\n",
      "c = 4.0\n",
      "T = 1.1\n",
      "43\n",
      "M = Stopping\n",
      "V = 5.0833334428444426\n",
      "v = 0.08333332337777795\n",
      "F = 50.000001194666645\n",
      "f = 40.0\n",
      "P = 100\n",
      "a = 0.4\n",
      "c = 10.0\n",
      "T = 1.1\n",
      "44\n",
      "M = Blocked\n",
      "V = 5.0833334428444426\n",
      "v = 0.08333332337777795\n",
      "F = 20.00000047786666\n",
      "f = 40.0\n",
      "P = 100\n",
      "a = 0.4\n",
      "c = 4.0\n",
      "T = 1.1\n",
      "45\n",
      "M = Free\n",
      "V = 5.0833334428444426\n",
      "v = 0.08333332337777795\n",
      "F = 20.00000047786666\n",
      "f = 40.0\n",
      "P = 100\n",
      "a = 0.4\n",
      "c = 4.0\n",
      "T = 1.1\n",
      "46\n",
      "M = Stopping\n",
      "V = 5.0833334428444426\n",
      "v = 0.08333332337777795\n",
      "F = 50.000001194666645\n",
      "f = 40.0\n",
      "P = 100\n",
      "a = 0.4\n",
      "c = 10.0\n",
      "T = 1.1\n",
      "47\n",
      "M = Blocked\n",
      "V = 5.0833334428444426\n",
      "v = 0.08333332337777795\n",
      "F = 20.00000047786666\n",
      "f = 40.0\n",
      "P = 100\n",
      "a = 0.4\n",
      "c = 4.0\n",
      "T = 1.1\n",
      "48\n",
      "M = Free\n",
      "V = 5.0833334428444426\n",
      "v = 0.08333332337777795\n",
      "F = 20.00000047786666\n",
      "f = 40.0\n",
      "P = 100\n",
      "a = 0.4\n",
      "c = 4.0\n",
      "T = 1.1\n",
      "49\n",
      "M = Stopping\n",
      "V = 5.0833334428444426\n",
      "v = 0.08333332337777795\n",
      "F = 50.000001194666645\n",
      "f = 40.0\n",
      "P = 100\n",
      "a = 0.4\n",
      "c = 10.0\n",
      "T = 1.1\n"
     ]
    }
   ],
   "source": [
    "def gera_traco(declare,init,trans,inv,k):\n",
    "    s = Solver()\n",
    "    \n",
    "    #criar k cópias do estado, guardar na lista do traço\n",
    "    trace = []\n",
    "    for i in range(k):\n",
    "        trace.append(declare(i))\n",
    "        \n",
    "    #restriçoes init e trans    \n",
    "    s.add(init(trace[0]))\n",
    "    \n",
    "    for i in range(k):\n",
    "        s.add(inv(trace[i]))\n",
    "    \n",
    "    for i in range(k - 1):\n",
    "        s.add(trans(trace[i], trace[i + 1]))\n",
    "\n",
    "    print(s.check())\n",
    "    \n",
    "    if s.check() == sat:\n",
    "        m = s.model()\n",
    "        for i in range(k):\n",
    "            print(i)\n",
    "            for v in trace[i]:\n",
    "                if trace[i][v].sort() != RealSort():\n",
    "                    print(v, '=', m[trace[i][v]])\n",
    "                else:\n",
    "                    r = m[trace[i][v]]\n",
    "                    f = float(r.numerator_as_long())/float(r.denominator_as_long())\n",
    "                    print(v, '=', f)\n",
    "                \n",
    "gera_traco(declare, init, trans, inv, 50)"
   ]
  },
  {
   "cell_type": "markdown",
   "metadata": {},
   "source": [
    "### 2 \n",
    "Modele em lógica temporal LT  propriedades que, na sua opinião, caracterizam o comportamento desejável do sistema. Nomeadamente (mas não só) a propriedade ”o veículo para em menos de $t$ segundos” e “a velocidade $V$ diminui sempre com o tempo”."
   ]
  },
  {
   "cell_type": "markdown",
   "metadata": {},
   "source": [
    " - Primeira propriedade:  o veículo para em menos de t segundos."
   ]
  },
  {
   "cell_type": "markdown",
   "metadata": {},
   "source": [
    "$$\n",
    "M = Stopped \\rightarrow T < t\n",
    "$$ "
   ]
  },
  {
   "cell_type": "code",
   "execution_count": 12,
   "metadata": {
    "ExecuteTime": {
     "end_time": "2019-12-20T13:57:44.254929Z",
     "start_time": "2019-12-20T13:57:44.252318Z"
    }
   },
   "outputs": [],
   "source": [
    "def stopIn3Seconds(s):\n",
    "    return Implies(s['M'] == Stopped, s['T'] < 3)"
   ]
  },
  {
   "cell_type": "markdown",
   "metadata": {},
   "source": [
    " - Segunda propriedade: A velocidade V diminui sempre com o tempo."
   ]
  },
  {
   "cell_type": "markdown",
   "metadata": {},
   "source": [
    "$$\n",
    "V \\le 30\n",
    "$$ "
   ]
  },
  {
   "cell_type": "code",
   "execution_count": 8,
   "metadata": {
    "ExecuteTime": {
     "end_time": "2019-12-20T13:56:14.052457Z",
     "start_time": "2019-12-20T13:56:14.050012Z"
    }
   },
   "outputs": [],
   "source": [
    "def velocidadeDiminui(s):\n",
    "    return s['V'] <= 30"
   ]
  },
  {
   "cell_type": "markdown",
   "metadata": {
    "ExecuteTime": {
     "end_time": "2019-12-19T18:49:23.336711Z",
     "start_time": "2019-12-19T18:49:23.332489Z"
    }
   },
   "source": [
    " - Terceira propriedade: o Veículo chega eventualmente ao estado Stopped."
   ]
  },
  {
   "cell_type": "markdown",
   "metadata": {},
   "source": [
    "$$\n",
    "(v \\le 1 \\wedge c = 0) \\rightarrow M = Stopped\n",
    "$$ "
   ]
  },
  {
   "cell_type": "code",
   "execution_count": 89,
   "metadata": {
    "ExecuteTime": {
     "end_time": "2019-12-19T18:45:36.283150Z",
     "start_time": "2019-12-19T18:45:36.278325Z"
    }
   },
   "outputs": [],
   "source": [
    "def veiculoPara(s):\n",
    "    return Implies(And(s['v'] <= 1, s['c'] == 0), s['M'] == Stopped)"
   ]
  },
  {
   "cell_type": "markdown",
   "metadata": {},
   "source": [
    " ### 4\n",
    " Codifique a verificação das propriedades temporais que definiu em 2."
   ]
  },
  {
   "cell_type": "code",
   "execution_count": 10,
   "metadata": {
    "ExecuteTime": {
     "end_time": "2019-12-20T13:56:26.361740Z",
     "start_time": "2019-12-20T13:56:26.344075Z"
    }
   },
   "outputs": [],
   "source": [
    "def bmc_always(declare,init,trans,inv,prop,K):\n",
    "    s = Solver()\n",
    "    \n",
    "    # criar k cópias de estado, guardar na lista do traço\n",
    "    trace = []\n",
    "    for i in range(K):\n",
    "        trace.append(declare(i))\n",
    "        \n",
    "    s.add(init(trace[0]))\n",
    "    \n",
    "    for i in range(K):\n",
    "        s.add(inv(trace[i]))\n",
    "    \n",
    "    for i in range(K - 1):\n",
    "        s.add(trans(trace[i], trace[i + 1]))\n",
    "        \n",
    "    s.add(Not(prop(trace[K - 1])))\n",
    "    \n",
    "    if s.check() == sat:\n",
    "        m = s.model()\n",
    "        for i in range(K):\n",
    "            print(i)\n",
    "            for v in trace[i]:\n",
    "                if trace[i][v].sort() != RealSort():\n",
    "                    print(v, '=', m[trace[i][v]])\n",
    "                else:\n",
    "                    r = m[trace[i][v]]\n",
    "                    f = float(r.numerator_as_long())/float(r.denominator_as_long())\n",
    "                    print(v, '=', f)\n",
    "        return\n",
    "    \n",
    "    print (\"A propriedade é válida de em traços de tamanho até \" + str(K))\n"
   ]
  },
  {
   "cell_type": "markdown",
   "metadata": {},
   "source": [
    " - Primeira propriedade:  o veículo para em menos de t segundos."
   ]
  },
  {
   "cell_type": "code",
   "execution_count": 11,
   "metadata": {
    "ExecuteTime": {
     "end_time": "2019-12-20T13:56:29.171215Z",
     "start_time": "2019-12-20T13:56:28.868544Z"
    }
   },
   "outputs": [
    {
     "name": "stdout",
     "output_type": "stream",
     "text": [
      "A propriedade é válida de em traços de tamanho até 20\n"
     ]
    }
   ],
   "source": [
    "bmc_always(declare, init, trans, inv, stopIn3Seconds, 20)"
   ]
  },
  {
   "cell_type": "markdown",
   "metadata": {},
   "source": [
    " - Segunda propriedade: A velocidade V diminui sempre com o tempo."
   ]
  },
  {
   "cell_type": "code",
   "execution_count": 88,
   "metadata": {
    "ExecuteTime": {
     "end_time": "2019-12-19T18:45:31.156795Z",
     "start_time": "2019-12-19T18:44:43.899177Z"
    }
   },
   "outputs": [
    {
     "name": "stdout",
     "output_type": "stream",
     "text": [
      "A propriedade é válida de em traços de tamanho até 20\n"
     ]
    }
   ],
   "source": [
    "bmc_always(declare, init, trans, inv, velocidadeDiminui, 20)"
   ]
  },
  {
   "cell_type": "markdown",
   "metadata": {
    "ExecuteTime": {
     "end_time": "2019-12-19T18:49:23.336711Z",
     "start_time": "2019-12-19T18:49:23.332489Z"
    }
   },
   "source": [
    " - Terceira propriedade: o Veículo chega eventualmente ao estado Stopped."
   ]
  },
  {
   "cell_type": "code",
   "execution_count": 90,
   "metadata": {
    "ExecuteTime": {
     "end_time": "2019-12-19T18:45:39.024460Z",
     "start_time": "2019-12-19T18:45:38.585957Z"
    }
   },
   "outputs": [
    {
     "name": "stdout",
     "output_type": "stream",
     "text": [
      "A propriedade é válida de em traços de tamanho até 50\n"
     ]
    }
   ],
   "source": [
    "bmc_always(declare, init, trans, inv, veiculoPara, 50)"
   ]
  }
 ],
 "metadata": {
  "kernelspec": {
   "display_name": "Python 3",
   "language": "python",
   "name": "python3"
  },
  "language_info": {
   "codemirror_mode": {
    "name": "ipython",
    "version": 3
   },
   "file_extension": ".py",
   "mimetype": "text/x-python",
   "name": "python",
   "nbconvert_exporter": "python",
   "pygments_lexer": "ipython3",
   "version": "3.7.3"
  }
 },
 "nbformat": 4,
 "nbformat_minor": 2
}
