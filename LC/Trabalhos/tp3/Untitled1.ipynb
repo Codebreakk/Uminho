{
 "cells": [
  {
   "cell_type": "markdown",
   "metadata": {},
   "source": [
    " - Proposição do estado inicial:\n",
    "$$\n",
    "T = 0 \\wedge M = \\mathit{Start} \\wedge v = 15 \\wedge V = 30 \\wedge c = 4 \\wedge P = 100 \\wedge f = a * P  \\wedge a = 0.4 \\wedge F = c * (V - v)\n",
    "$$\n",
    "\n",
    " - Proposição do invariante:\n",
    "$$\n",
    "V - v \\ge 0 \\wedge V \\ge 0 \\wedge v \\ge 0\n",
    "$$ "
   ]
  },
  {
   "cell_type": "markdown",
   "metadata": {},
   "source": [
    " - Proposições comuns:\n",
    "$$\n",
    "\\begin{array}{c}\n",
    "equacao_F = F \\ge 0 \\wedge F' = c' * (V' - v') \\\\\n",
    "equacao_f = f \\ge 0 \\wedge f = a * P \\\\\n",
    "constante_P = P = 100 \\wedge P' = P \\\\\n",
    "constante_a = a = 0.4 \\wedge a' = a \\\\\n",
    "equacao_V = V' - V = (-c * (V - v)) * (T' - T) \\\\\n",
    "equacao_v = v' - v = (-a * P + c * (V - v)) * (T' - T) \\\\\n",
    "propsComuns = equacao_F \\wedge equacao_f \\wedge constante_P \\wedge constante_a \\\\\n",
    "erro = 1 \\\\\n",
    "\\Delta t = 0.1\n",
    "\\end{array}\n",
    "$$ \n",
    " \n",
    " \n",
    " - Proposição das transições timed:\n",
    " \n",
    "$$\n",
    "\\begin{array}{c}\n",
    "M = \\mathit{Free} \\wedge M' = M \\wedge V \\ge 0 \\wedge v \\ge 0 \\wedge c = 4 \\wedge T' = T + \\Delta t \\wedge c' = c \\\\ \n",
    "\\wedge propsComuns \\wedge equacao_v \\wedge equacao_V \\\\\n",
    "\\vee\\\\\n",
    "M = \\mathit{Stopping} \\wedge M' = M \\wedge V \\ge 0 \\wedge v \\ge 0 \\wedge c = 10 \\wedge T' = T + \\Delta t \\wedge c' = c \\\\\n",
    "\\wedge propsComuns \\wedge equacao_V \\wedge equacao_v \\\\\n",
    "\\vee\\\\\n",
    "M = \\mathit{Blocked} \\wedge M' = M \\wedge V = v \\wedge c = 4 \\wedge T' = T + \\Delta t \\wedge c' = c \\\\\n",
    "\\wedge propsComuns \\wedge equacao_v \\wedge equacao_V\n",
    "\\end{array}\n",
    "$$\n",
    "\n",
    "\n",
    " - Proposição das transições untimed:\n",
    " \n",
    " $$\n",
    "\\begin{array}{c}\n",
    "M = \\mathit{Start} \\wedge M' = \\mathit{Free} \\wedge V \\ge 0 \\wedge v \\ge 0 \\wedge c = 4 \\wedge V' = V \\wedge v' = v \\wedge c' = c \\\\ \n",
    "\\wedge propsComuns \\wedge T' = T \\\\\n",
    "\\vee\\\\\n",
    "M = \\mathit{Free} \\wedge M' = \\mathit{Stopping} \\wedge v > 0 \\wedge V > 1.5 * v \\wedge c = 4 \\wedge V' = V \\wedge v' = v \\wedge c' = 10 \\\\\n",
    "\\wedge propsComuns \\wedge T' = T \\\\\n",
    "\\vee\\\\\n",
    "M = \\mathit{Stopping} \\wedge M' = \\mathit{Blocked} \\wedge c = 10 \\wedge V' = V \\wedge v' = v \\\\ \n",
    "\\wedge c' = 4 \\wedge propsComuns \\wedge T' = T \\\\\n",
    "\\vee\\\\\n",
    "M = \\mathit{Stopping} \\wedge M' = \\mathit{Stopped} \\wedge c = 10 \\wedge V' = V \\wedge v' = v \\wedge c' = 0 \\\\\n",
    "\\wedge propsComuns \\wedge T' = T \\\\\n",
    "\\vee\\\\\n",
    "M = \\mathit{Blocked} \\wedge M' = \\mathit{Free} \\wedge c = 4 \\wedge V' = V \\wedge v' = v \\wedge c' = c \\wedge \\\\\n",
    "propsComuns \\wedge T' = T\n",
    "\\end{array}\n",
    "$$"
   ]
  }
 ],
 "metadata": {
  "kernelspec": {
   "display_name": "Python 3",
   "language": "python",
   "name": "python3"
  },
  "language_info": {
   "codemirror_mode": {
    "name": "ipython",
    "version": 3
   },
   "file_extension": ".py",
   "mimetype": "text/x-python",
   "name": "python",
   "nbconvert_exporter": "python",
   "pygments_lexer": "ipython3",
   "version": "3.7.3"
  }
 },
 "nbformat": 4,
 "nbformat_minor": 2
}
