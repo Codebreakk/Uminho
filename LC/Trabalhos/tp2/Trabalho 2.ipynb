{
 "cells": [
  {
   "cell_type": "markdown",
   "metadata": {},
   "source": [
    "\n",
    "## Grupo 2: \n",
    " - João Cerqueira - A65432\n",
    " - Ilda Durães - A78195"
   ]
  },
  {
   "cell_type": "markdown",
   "metadata": {},
   "source": [
    "### Exercício 1\n",
    "\n",
    "Modificar os 'templates' leccionados nas aulas TP para verificação __usando BMC__ propriedades temporais de um FOTS, por forma a tirar partido das técnicas de solving incremental do Z3 (push/pop)."
   ]
  },
  {
   "cell_type": "code",
   "execution_count": 5,
   "metadata": {
    "ExecuteTime": {
     "end_time": "2019-11-27T13:34:25.389577Z",
     "start_time": "2019-11-27T13:34:24.657533Z"
    },
    "scrolled": false
   },
   "outputs": [
    {
     "name": "stdout",
     "output_type": "stream",
     "text": [
      "O invariante é sempre valido nos primeiros 20 estados\n"
     ]
    }
   ],
   "source": [
    "from z3 import *\n",
    "\n",
    "def declare(i):\n",
    "    state = {}\n",
    "    state['pc'] = Int('pc' + str(i))\n",
    "    state['x'] = Int('x' + str(i))\n",
    "    return state\n",
    "\n",
    "def init(s): # pré-condição\n",
    "    return And(s['pc'] == 0, s['x'] >= 3)\n",
    "\n",
    "def trans(s,p):\n",
    "    t01 = And(s['pc'] == 0, s['x'] > 0, p['pc'] == 1, p['x'] == s['x'])\n",
    "    t02 = And(s['pc'] == 0, s['x'] <= 0, p['pc'] == 2, p['x'] == s['x'])\n",
    "    t10 = And(s['pc'] == 1, p['pc'] == 0, p['x'] == s['x'] - 1)\n",
    "    t22 = And(s['pc'] == 2, p['pc'] == 2, p['x'] == s['x'])\n",
    "    return Or(t01, t02, t10, t22)\n",
    "\n",
    "def bmc_always(declare, init, trans, inv, K):\n",
    "    \n",
    "    for k in range(1, K + 1):\n",
    "        s = Solver()\n",
    "        state = []\n",
    "        \n",
    "        for i in range(k):\n",
    "            state.append(declare(i))\n",
    "        \n",
    "        s.add(init(state[0]))\n",
    "        \n",
    "        for i in range(k - 1):\n",
    "            s.push()\n",
    "            s.add(trans(state[i], state[i + 1]))\n",
    "            s.check()\n",
    "            s.pop()\n",
    "        \n",
    "        s.add(Not(inv(state[k - 1])))\n",
    "        \n",
    "        if s.check() == sat:\n",
    "            m = s.model()\n",
    "    \n",
    "    print (\"O invariante é sempre valido nos primeiros\", k, \"estados\")\n",
    "    \n",
    "def positive(state):\n",
    "    return (state['x'] >= 0)\n",
    "\n",
    "bmc_always(declare, init, trans, positive, 20)"
   ]
  },
  {
   "cell_type": "markdown",
   "metadata": {},
   "source": [
    "### Exercício 2\n",
    "Considere o seguinte programa, em Python anotado, para multiplicação de dois inteiros de precisão limitada a 16 bits.  Assume-se que os inteiros são representáveis na teoria de bit vetors do Z3 com tamanho 16 bits. Usando  os procedimentos da questão anterior:\n",
    "    - Verifique a correção parcial do programa\n",
    "    - Verifique a terminação do programa.\n",
    "    - Avalie os ganhos de eficiência conseguidos com as optimizações introduzidas na questão anterior.\n",
    "\n",
    "\n",
    "```python\n",
    "        1: assume m >= 0 and n >= 0 and r == 0 and x == m and y == n \n",
    "        2: while y > 0:\n",
    "        3:    if y & 1 == 1:\n",
    "        4:        y = y-1\n",
    "        5:        r = r+x\n",
    "        6:    x = x<<1\n",
    "        7:    y = y>>1\n",
    "        8: assert r == m * n\n",
    "```"
   ]
  },
  {
   "cell_type": "code",
   "execution_count": 6,
   "metadata": {
    "ExecuteTime": {
     "end_time": "2019-11-27T13:34:26.759485Z",
     "start_time": "2019-11-27T13:34:26.755273Z"
    }
   },
   "outputs": [],
   "source": [
    "# declaração de todos os estados possíveis\n",
    "def declare2(i):\n",
    "    state = {}\n",
    "    state['pc'] = Int('pc' + str(i))\n",
    "    state['y'] = Int('y' + str(i))\n",
    "    state['m'] = Int('m' + str(i))\n",
    "    state['n'] = Int('n' + str(i))\n",
    "    state['r'] = Int('r' + str(i))\n",
    "    state['x'] = Int('x' + str(i))\n",
    "    return state"
   ]
  },
  {
   "cell_type": "markdown",
   "metadata": {},
   "source": [
    "Para este programa, o estado inicial é caracterizado pelo seguinte predicado:\n",
    "$$\n",
    "\\mathit{pc} = 2 \\wedge m \\ge 0 \\wedge n \\ge 0 \\wedge r = 0 \\wedge x = m \\wedge y = n\n",
    "$$"
   ]
  },
  {
   "cell_type": "code",
   "execution_count": 7,
   "metadata": {
    "ExecuteTime": {
     "end_time": "2019-11-27T13:34:28.947939Z",
     "start_time": "2019-11-27T13:34:28.942494Z"
    }
   },
   "outputs": [],
   "source": [
    "# pré-condição\n",
    "def init2(s):\n",
    "    return And(s['pc'] == 2, s['m'] >= 0, s['n'] >= 0, s['r'] == 0, s['x'] == s['m'], s['y'] == s['n'])\n"
   ]
  },
  {
   "cell_type": "markdown",
   "metadata": {},
   "source": [
    "As transições possíveis são caracterizadas pelo seguinte predicado:\n",
    "$$\n",
    "\\begin{array}{c}\n",
    "(\\mathit{pc} = 2 \\wedge y > 0 \\wedge \\mathit{pc}' = 3 \\wedge y' = y)\\\\\n",
    "\\vee\\\\\n",
    "(\\mathit{pc} = 2 \\wedge y \\le 0 \\wedge \\mathit{pc}' = 8 \\wedge y' = y) \\\\\n",
    "\\vee\\\\\n",
    "(\\mathit{pc} = 3 \\wedge y > 0 \\wedge \\exists_{k \\in N},\\ y = 2k + 1 \\wedge \\mathit{pc}' = 4 \\wedge y' = y) \\\\\n",
    "\\vee\\\\\n",
    "(\\mathit{pc} = 4 \\wedge y > 0 \\wedge \\exists_{k \\in N},\\ y = 2k + 1 \\wedge \\mathit{pc}' = 5 \\wedge y' = y - 1) \\\\\n",
    "\\vee\\\\\n",
    "(\\mathit{pc} = 5 \\wedge r \\ge 0 \\wedge x = m \\wedge m \\ge 0 \\wedge \\mathit{pc}' = 6 \\wedge r' = r + x) \\\\\n",
    "\\vee\\\\\n",
    "(\\mathit{pc} = 6 \\wedge x = m \\wedge m \\ge 0 \\wedge \\mathit{pc}' = 7 \\wedge x' = x * 2) \\\\\n",
    "\\vee\\\\\n",
    "(\\mathit{pc} = 7 \\wedge y \\ge 0 \\wedge \\mathit{pc}' = 3 \\wedge y' = y\\div2) \\\\\n",
    "\\vee\\\\\n",
    "(\\mathit{pc} = 3 \\wedge y \\ge 0 \\wedge \\exists_{k \\in N},\\ y = 2k \\wedge \\mathit{pc}' = 6 \\wedge y' = y) \\\\\n",
    "\\vee\\\\\n",
    "(\\mathit{pc} = 8 \\wedge \\mathit{pc}' = 8 \\wedge y' = y)\n",
    "\\end{array}\n",
    "$$"
   ]
  },
  {
   "cell_type": "code",
   "execution_count": 114,
   "metadata": {
    "ExecuteTime": {
     "end_time": "2019-11-27T14:12:15.436388Z",
     "start_time": "2019-11-27T14:12:15.416773Z"
    }
   },
   "outputs": [],
   "source": [
    "# definição de todas as transições possíveis\n",
    "def trans2(s, p):\n",
    "    t23 = And(s['pc'] == 2, s['y'] > 0, s['x'] >= 0, s['m'] >= 0, s['n'] >= 0, s['r'] >= 0,\\\n",
    "              p['pc'] == 3, p['y'] == s['y'], p['n'] == s['n'], p['m'] == s['m'],\\\n",
    "              p['x'] == s['x'], p['r'] == s['r'])\n",
    "    \n",
    "    t28 = And(s['pc'] == 2, s['y'] <= 0, s['x'] >= 0, s['m'] >= 0, s['n'] >= 0, s['r'] >= 0, p['pc'] == 8,\\\n",
    "              p['y'] == s['y'], p['n'] == s['n'], p['m'] == s['m'], p['x'] == s['x'], p['r'] == s['r'])\n",
    "    \n",
    "    t34 = And(s['pc'] == 3, s['y'] > 0, s['y'] % 2 != 0, s['x'] >= 0, s['m'] >= 0, s['n'] >= 0,\\\n",
    "              p['pc'] == 4, p['y'] == s['y'], p['n'] == s['n'],\\\n",
    "              p['m'] == s['m'], p['x'] == s['x'], p['r'] == s['r'])\n",
    "    \n",
    "    t45 = And(s['pc'] == 4, s['y'] > 0, s['y'] % 2 != 0, s['x'] >= 0, s['m'] >= 0, s['n'] >= 0,\\\n",
    "              p['pc'] == 5, p['y'] == s['y'] - 1,\\\n",
    "              p['n'] == s['n'], p['m'] == s['m'], p['x'] == s['x'], p['r'] == s['r'])\n",
    "    \n",
    "    t56 = And(s['pc'] == 5, s['r'] >= 0, s['x'] >= 0, s['m'] >= 0, s['y'] >= 0, s['n'] >= 0,\\\n",
    "              p['pc'] == 6, p['r'] == s['r'] + s['x'],\\\n",
    "              p['y'] == s['y'], p['n'] == s['n'], p['m'] == s['m'], p['x'] == s['x'])\n",
    "    \n",
    "    t67 = And(s['pc'] == 6, s['x'] >= 0, s['m'] >= 0, s['y'] >= 0, s['r'] >= 0, s['n'] >= 0,\\\n",
    "              p['pc'] == 7, p['x'] == s['x'] * 2, p['y'] == s['y'],\\\n",
    "              p['n'] == s['n'], p['m'] == s['m'], p['r'] == s['r'])\n",
    "    \n",
    "    t72 = And(s['pc'] == 7, s['x'] >= 0, s['m'] >= 0, s['y'] >= 0, s['r'] >= 0, s['n'] >= 0,\\\n",
    "              p['pc'] == 2, p['y'] == s['y'] / 2, p['n'] == s['n'],\\\n",
    "              p['m'] == s['m'], p['r'] == s['r'], p['x'] == s['x'])\n",
    "    \n",
    "    t36 = And(s['pc'] == 3, s['x'] >= 0, s['m'] >= 0, s['y'] >= 0, s['r'] >= 0, s['n'] >= 0, s['y'] % 2 == 0,\\\n",
    "              p['pc'] == 6, p['y'] == s['y'], p['m'] == s['m'],\\\n",
    "              p['r'] == s['r'], p['x'] == s['x'], p['n'] == s['n'])\n",
    "    \n",
    "    t88 = And(s['pc'] == 8, s['x'] >= 0, s['m'] >= 0, s['y'] >= 0, s['r'] >= 0, s['n'] >= 0,\\\n",
    "              p['pc'] == 8, p['y'] == s['y'], p['n'] == s['n'], p['m'] == s['m'],\\\n",
    "              p['x'] == s['x'], p['r'] == s['r'])\n",
    "    \n",
    "    return Or(t23, t28, t34, t45, t56, t67, t72, t36, t88)"
   ]
  },
  {
   "cell_type": "markdown",
   "metadata": {},
   "source": [
    "A pós-condição é caracterizada pela seguinte condição:\n",
    "$$\n",
    "\\mathit{pc} = 8 \\wedge r = m * n\n",
    "$$"
   ]
  },
  {
   "cell_type": "code",
   "execution_count": 115,
   "metadata": {
    "ExecuteTime": {
     "end_time": "2019-11-27T14:12:17.758753Z",
     "start_time": "2019-11-27T14:12:17.755934Z"
    }
   },
   "outputs": [],
   "source": [
    "# condição de terminação/pós-condição\n",
    "def terminates(state):\n",
    "    return And(state['pc'] == 8, state['r'] == state['m'] * state['n'])"
   ]
  },
  {
   "cell_type": "markdown",
   "metadata": {},
   "source": [
    "Execução do programa e condição de verificação do ciclo while."
   ]
  },
  {
   "cell_type": "code",
   "execution_count": 116,
   "metadata": {
    "ExecuteTime": {
     "end_time": "2019-11-27T14:12:25.095317Z",
     "start_time": "2019-11-27T14:12:19.280290Z"
    }
   },
   "outputs": [
    {
     "name": "stdout",
     "output_type": "stream",
     "text": [
      "O invariante é sempre valido nos primeiros 20 estados\n",
      "O invariante é sempre valido nos primeiros 20 estados\n",
      "O invariante é sempre valido nos primeiros 20 estados\n"
     ]
    }
   ],
   "source": [
    "# ciclo while é executado enquanto y >= 0\n",
    "def positive2(state):\n",
    "    #return (state['y'] >= 0)\n",
    "    return And(state['y'] >= 0, state['n'] >= 0, state['m'] >= 0, state['x'] >= 0,\\\n",
    "               state['r'] <= state['m'] * state['n'], state['pc'] >= 0,\\\n",
    "               state['m'] * state['n'] == state['x'] * state['y'] + state['r'])\n",
    "\n",
    "def positive_stronger(state):\n",
    "    return If(state['pc'] == 2,\\\n",
    "              And(state['y'] > 0, state['n'] >= 0, state['m'] >= 0, state['x'] >= 0,\\\n",
    "               state['r'] == 0),\\\n",
    "              And(state['y'] >= 0, state['n'] >= 0, state['m'] >= 0, state['x'] >= 0,\\\n",
    "               state['r'] <= state['m'] * state['n'], state['pc'] >= 2))\n",
    "\n",
    "def positive_and_terminates(state):\n",
    "    return And(positive2(state), terminates(state))\n",
    "\n",
    "# verificação do ciclo while\n",
    "bmc_always(declare2, init2, trans2, positive2, 20)\n",
    "\n",
    "# correcção total\n",
    "bmc_always(declare2, init2, trans2, terminates, 20)\n",
    "\n",
    "#ambas as condições\n",
    "bmc_always(declare2, init2, trans2, positive_and_terminates, 20)"
   ]
  },
  {
   "cell_type": "code",
   "execution_count": 117,
   "metadata": {
    "ExecuteTime": {
     "end_time": "2019-11-27T14:12:27.806371Z",
     "start_time": "2019-11-27T14:12:26.711255Z"
    }
   },
   "outputs": [
    {
     "name": "stdout",
     "output_type": "stream",
     "text": [
      "O invariante é sempre valido nos primeiros 10 estados\n",
      "O algoritmo optimizado corre em 0.4773987959999886 segundos.\n",
      "O invariante e sempre valido nos primeiros 10 estados\n",
      "O algoritmo original corre em 0.6539388359999947 segundos.\n"
     ]
    }
   ],
   "source": [
    "import time\n",
    "\n",
    "def bmc_always_original(declare, init, trans, inv, K):\n",
    "    for k in range(1, K + 1):\n",
    "        s = Solver()\n",
    "        state = []\n",
    "        \n",
    "        for i in range(k):\n",
    "            state.append(declare(i))\n",
    "        s.add(init(state[0]))\n",
    "        \n",
    "        for i in range(k - 1):\n",
    "            s.add(trans(state[i], state[i + 1]))\n",
    "        s.add(Not(inv(state[k - 1])))\n",
    "        \n",
    "        if s.check() == sat:\n",
    "            m = s.model()\n",
    "    print (\"O invariante e sempre valido nos primeiros\", k, \"estados\")\n",
    "\n",
    "start_time = time.process_time()\n",
    "bmc_always(declare2, init2, trans2, positive_and_terminates, 10)\n",
    "print(\"O algoritmo optimizado corre em\", (time.process_time() - start_time), \"segundos.\")\n",
    "\n",
    "start_time = time.process_time()\n",
    "bmc_always_original(declare2, init2, trans2, positive_and_terminates, 10)\n",
    "print(\"O algoritmo original corre em\", (time.process_time() - start_time), \"segundos.\")"
   ]
  },
  {
   "cell_type": "markdown",
   "metadata": {},
   "source": [
    "### Exercício 3\n",
    "Mostrar como, usando $k$-indução, se pode verificar também ambas as propriedades referidas na questão 2."
   ]
  },
  {
   "cell_type": "code",
   "execution_count": 155,
   "metadata": {
    "ExecuteTime": {
     "end_time": "2019-11-27T14:23:43.100052Z",
     "start_time": "2019-11-27T14:23:42.828188Z"
    },
    "scrolled": false
   },
   "outputs": [
    {
     "name": "stdout",
     "output_type": "stream",
     "text": [
      "A propriedade falha nos seguintes casos base: \n",
      "pc:  2\n",
      "y:  6\n",
      "x:  1\n",
      "m:  1\n",
      "n:  6\n",
      "r:  0 \n",
      "\n"
     ]
    }
   ],
   "source": [
    "def kinduction(declare,init,trans,inv,k):\n",
    "    \n",
    "    #1. Declarar k+1 variáveis de estado\n",
    "    trace = []\n",
    "    for i in range(k+1):\n",
    "        trace.append(declare(i))\n",
    "        \n",
    "    #2. Testar invariante para os k caso base\n",
    "    s = Solver()\n",
    "    s.add(init(trace[0]))\n",
    "    for i in range(k - 1):\n",
    "        s.add(trans(trace[i], trace[i + 1]))\n",
    "        \n",
    "    s.add(Or([Not(inv(trace[i])) for i in range(k)]))\n",
    "    #s.add([Or(Not(inv(trace[i]))) for i in range(k)]) #duvida neste for\n",
    "    \n",
    "    if s.check() == sat:\n",
    "        m = s.model()\n",
    "        print(\"A propriedade falha nos seguintes casos base: \")\n",
    "        #for i in range(k):\n",
    "        if m.eval(inv(trace[0])):\n",
    "            print('pc: ', m[trace[0]['pc']])\n",
    "            print('y: ', m[trace[0]['y']])\n",
    "            print('x: ', m[trace[0]['x']])\n",
    "            print('m: ', m[trace[0]['m']])\n",
    "            print('n: ', m[trace[0]['n']])\n",
    "            print('r: ', m[trace[0]['r']], '\\n')\n",
    "        return\n",
    "    \n",
    "    # declarar k+1 variáveis de estado\n",
    "    trace = []\n",
    "    for i in range(k + 1):\n",
    "        trace.append(declare(i))\n",
    "    \n",
    "    #3. Testar o passo indutivo\n",
    "    s = Solver()\n",
    "    for i in range(k):\n",
    "        s.add(inv(trace[i]))\n",
    "    for i in range(k - 1):\n",
    "        s.add(trans(trace[i], trace[i + 1]))\n",
    "        \n",
    "    s.add(Not(inv(trace[k])))\n",
    "    \n",
    "    if s.check() == sat:\n",
    "        m=s.model()\n",
    "        print(\"A propriedade falha nos seguintes casos do passo indutivo:\")\n",
    "        for i in range (k):\n",
    "            if m.eval(inv(trace[i])):\n",
    "                print('pc: ', m[trace[i]['pc']])\n",
    "                print('y: ', m[trace[i]['y']])\n",
    "                print('x: ', m[trace[i]['x']])\n",
    "                print('m: ', m[trace[i]['m']])\n",
    "                print('n: ', m[trace[i]['n']])\n",
    "                print('r: ', m[trace[i]['r']], '\\n')\n",
    "        return\n",
    "    \n",
    "    if s.check() == unsat:\n",
    "        print(\"A propriedade é valida.\")\n",
    "        \n",
    "        \n",
    "kinduction(declare2, init2, trans2, positive2, 10)"
   ]
  },
  {
   "cell_type": "code",
   "execution_count": 44,
   "metadata": {
    "ExecuteTime": {
     "end_time": "2019-11-27T12:45:32.883370Z",
     "start_time": "2019-11-27T12:45:32.852855Z"
    }
   },
   "outputs": [
    {
     "name": "stdout",
     "output_type": "stream",
     "text": [
      "A propriedade falha nos seguintes casos base: \n",
      "pc:  2\n",
      "y:  1\n",
      "x:  0\n",
      "m:  0\n",
      "n:  1\n",
      "r:  0 \n",
      "\n"
     ]
    }
   ],
   "source": [
    "# variante\n",
    "def variante(state):\n",
    "    return If(state['pc'] == 8, 0, state['y'])\n",
    "\n",
    "# verificar que variante é positivo\n",
    "def positivo(state):\n",
    "    #return variante(state) >= 0\n",
    "    return And(variante(state) >= 0, state['x'] >= 0, state['m'] >= 0, state['n'] >= 0, state['r'] >= 0)\n",
    "\n",
    "\n",
    "kinduction(declare2,init2,trans2,positivo,2)\n",
    "\n",
    "def decrescente(state0):\n",
    "    state1 = declare(-1)\n",
    "    state2 = declare(-2)\n",
    "    state3 = declare(-3)\n",
    "    state4 = declare(-4)\n",
    "    return ForAll( list(state1.values()) + list(state2.values()) + list(state3.values()) + list(state4.values()),\\\n",
    "                                             Implies(And(trans(state0, state1), trans(state1, state2), trans(state2, state3), trans(state3, state4)),\\\n",
    "                                                    Or(variante(state4) < variante(state0), variante(state4) == 0)) )\n",
    "\n",
    "#kinduction(declare2,init2,trans2,decrescente,2)"
   ]
  },
  {
   "cell_type": "markdown",
   "metadata": {},
   "source": [
    "Nota: Provavelmente vai ser necessário um _lookahead_ de pelos menos 3 para a terminação e um $k\\ge 2$ para a o problema da correção."
   ]
  }
 ],
 "metadata": {
  "kernelspec": {
   "display_name": "Python 3",
   "language": "python",
   "name": "python3"
  },
  "language_info": {
   "codemirror_mode": {
    "name": "ipython",
    "version": 3
   },
   "file_extension": ".py",
   "mimetype": "text/x-python",
   "name": "python",
   "nbconvert_exporter": "python",
   "pygments_lexer": "ipython3",
   "version": "3.7.3"
  }
 },
 "nbformat": 4,
 "nbformat_minor": 2
}
