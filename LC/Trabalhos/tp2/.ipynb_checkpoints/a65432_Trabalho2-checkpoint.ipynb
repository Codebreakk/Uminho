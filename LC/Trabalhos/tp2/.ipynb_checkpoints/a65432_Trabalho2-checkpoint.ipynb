{
 "cells": [
  {
   "cell_type": "markdown",
   "metadata": {},
   "source": [
    "# Trabalho 2"
   ]
  },
  {
   "cell_type": "markdown",
   "metadata": {},
   "source": [
    "### Exercício 1\n",
    "\n",
    "Modificar os 'templates' leccionados nas aulas TP para verificação __usando BMC__ propriedades temporais de um FOTS, por forma a tirar partido das técnicas de solving incremental do Z3 (push/pop)."
   ]
  },
  {
   "cell_type": "code",
   "execution_count": 3,
   "metadata": {
    "ExecuteTime": {
     "end_time": "2019-11-15T17:09:22.159507Z",
     "start_time": "2019-11-15T17:09:21.744226Z"
    },
    "scrolled": false
   },
   "outputs": [
    {
     "name": "stdout",
     "output_type": "stream",
     "text": [
      "O invariante é sempre valido nos primeiros 20 estados\n"
     ]
    }
   ],
   "source": [
    "from z3 import *\n",
    "\n",
    "def declare(i):\n",
    "    state = {}\n",
    "    state['pc'] = Int('pc' + str(i))\n",
    "    state['x'] = Int('x' + str(i))\n",
    "    return state\n",
    "\n",
    "def init(s): # pré-condição\n",
    "    return And(s['pc'] == 0, s['x'] >= 3)\n",
    "\n",
    "def trans(s,p):\n",
    "    t01 = And(s['pc'] == 0, s['x'] > 0, p['pc'] == 1, p['x'] == s['x'])\n",
    "    t02 = And(s['pc'] == 0, s['x'] <= 0, p['pc'] == 2, p['x'] == s['x'])\n",
    "    t10 = And(s['pc'] == 1, p['pc'] == 0, p['x'] == s['x'] - 1)\n",
    "    t22 = And(s['pc'] == 2, p['pc'] == 2, p['x'] == s['x'])\n",
    "    return Or(t01, t02, t10, t22)\n",
    "\n",
    "def bmc_always(declare, init, trans, inv, K):\n",
    "    for k in range(1, K + 1):\n",
    "        #print(\"k = \", k)\n",
    "        s = Solver()\n",
    "        state = []\n",
    "        for i in range(k):\n",
    "            state.append(declare(i))\n",
    "        s.add(init(state[0]))\n",
    "        for i in range(k - 1):\n",
    "            s.push()\n",
    "            s.add(trans(state[i], state[i + 1]))\n",
    "            s.check()\n",
    "            s.pop()\n",
    "        s.add(Not(inv(state[k - 1])))\n",
    "        if s.check() == sat:\n",
    "            m = s.model()\n",
    "            #for i in range(k):\n",
    "                #print(i)\n",
    "                #for v in state[i]:\n",
    "                    #print(v, m[state[i][v]])\n",
    "    print (\"O invariante é sempre valido nos primeiros\", k, \"estados\")\n",
    "    \n",
    "def positive(state):\n",
    "    return (state['x'] >= 0)\n",
    "\n",
    "bmc_always(declare, init, trans, positive, 20)"
   ]
  },
  {
   "cell_type": "markdown",
   "metadata": {},
   "source": [
    "### Exercício 2\n",
    "Considere o seguinte programa, em Python anotado, para multiplicação de dois inteiros de precisão limitada a 16 bits.  Assume-se que os inteiros são representáveis na teoria de bit vetors do Z3 com tamanho 16 bits. Usando  os procedimentos da questão anterior:\n",
    "    - Verifique a correção parcial do programa\n",
    "    - Verifique a terminação do programa.\n",
    "    - Avalie os ganhos de eficiência conseguidos com as optimizações introduzidas na questão anterior.\n",
    "\n",
    "\n",
    "```python\n",
    "        1: assume m >= 0 and n >= 0 and r == 0 and x == m and y == n \n",
    "        2: while y > 0:\n",
    "        3:    if y & 1 == 1:\n",
    "        4:        y = y-1\n",
    "        5:        r = r+x\n",
    "        6:    x = x<<1\n",
    "        7:    y = y>>1\n",
    "        8: assert r == m * n\n",
    "```"
   ]
  },
  {
   "cell_type": "code",
   "execution_count": 4,
   "metadata": {
    "ExecuteTime": {
     "end_time": "2019-11-15T17:09:23.409026Z",
     "start_time": "2019-11-15T17:09:23.402402Z"
    }
   },
   "outputs": [],
   "source": [
    "# declaração de todos os estados possíveis\n",
    "def declare2(i):\n",
    "    state = {}\n",
    "    state['pc'] = Int('pc' + str(i))\n",
    "    state['y'] = Int('y' + str(i))\n",
    "    state['m'] = Int('m' + str(i))\n",
    "    state['n'] = Int('n' + str(i))\n",
    "    state['r'] = Int('r' + str(i))\n",
    "    state['x'] = Int('x' + str(i))\n",
    "    return state"
   ]
  },
  {
   "cell_type": "markdown",
   "metadata": {},
   "source": [
    "Para este programa, o estado inicial é caracterizado pelo seguinte predicado:\n",
    "$$\n",
    "\\mathit{pc} = 2 \\wedge m \\ge 0 \\wedge n \\ge 0 \\wedge r = 0 \\wedge x = m \\wedge y = n\n",
    "$$"
   ]
  },
  {
   "cell_type": "code",
   "execution_count": 5,
   "metadata": {
    "ExecuteTime": {
     "end_time": "2019-11-15T17:09:24.808588Z",
     "start_time": "2019-11-15T17:09:24.803676Z"
    }
   },
   "outputs": [],
   "source": [
    "# pré-condição\n",
    "def init2(s):\n",
    "    return And(s['pc'] == 2, s['m'] >= 0, s['n'] >= 0, s['r'] == 0, s['x'] == s['m'], s['y'] == s['n'])"
   ]
  },
  {
   "cell_type": "markdown",
   "metadata": {},
   "source": [
    "As transições possíveis são caracterizadas pelo seguinte predicado:\n",
    "$$\n",
    "\\begin{array}{c}\n",
    "(\\mathit{pc} = 2 \\wedge y > 0 \\wedge \\mathit{pc}' = 3 \\wedge y' = y)\\\\\n",
    "\\vee\\\\\n",
    "(\\mathit{pc} = 2 \\wedge y \\le 0 \\wedge \\mathit{pc}' = 8 \\wedge y' = y) \\\\\n",
    "\\vee\\\\\n",
    "(\\mathit{pc} = 3 \\wedge y \\ge 0 \\wedge \\exists_{k \\in N},\\ y = 2k + 1 \\wedge \\mathit{pc}' = 4 \\wedge y' = y) \\\\\n",
    "\\vee\\\\\n",
    "(\\mathit{pc} = 4 \\wedge y \\ge 0 \\wedge \\exists_{k \\in N},\\ y = 2k + 1 \\wedge \\mathit{pc}' = 5 \\wedge y' = y - 1) \\\\\n",
    "\\vee\\\\\n",
    "(\\mathit{pc} = 5 \\wedge r = 0 \\wedge x = m \\wedge m \\ge 0 \\wedge \\mathit{pc}' = 6 \\wedge r' = r + x) \\\\\n",
    "\\vee\\\\\n",
    "(\\mathit{pc} = 6 \\wedge x = m \\wedge m \\ge 0 \\wedge \\mathit{pc}' = 7 \\wedge x' = x * 2) \\\\\n",
    "\\vee\\\\\n",
    "(\\mathit{pc} = 7 \\wedge y > 0 \\wedge \\mathit{pc}' = 3 \\wedge y' = y\\div2) \\\\\n",
    "\\vee\\\\\n",
    "(\\mathit{pc} = 3 \\wedge y > 0 \\wedge \\exists_{k \\in N},\\ y = 2k \\wedge \\mathit{pc}' = 6 \\wedge y' = y) \\\\\n",
    "\\vee\\\\\n",
    "(\\mathit{pc} = 8 \\wedge \\mathit{pc}' = 8 \\wedge y' = y)\n",
    "\\end{array}\n",
    "$$"
   ]
  },
  {
   "cell_type": "code",
   "execution_count": 6,
   "metadata": {
    "ExecuteTime": {
     "end_time": "2019-11-15T17:09:26.098300Z",
     "start_time": "2019-11-15T17:09:26.085566Z"
    }
   },
   "outputs": [],
   "source": [
    "# definição de todas as transições possíveis\n",
    "def trans2(s, p):\n",
    "    t23 = And(s['pc'] == 2, s['y'] > 0, p['pc'] == 3, p['y'] == s['y'])\n",
    "    t28 = And(s['pc'] == 2, s['y'] <= 0, p['pc'] == 8, p['y'] == s['y'])\n",
    "    t34 = And(s['pc'] == 3, s['y'] >= 0, s['y'] % 2 != 0, p['pc'] == 4, p['y'] == s['y'])\n",
    "    t45 = And(s['pc'] == 4, s['y'] >= 0, s['y'] % 2 != 0, p['pc'] == 5, p['y'] == s['y'] - 1)\n",
    "    t56 = And(s['pc'] == 5, s['r'] == 0, s['x'] == s['m'], s['m'] >= 0, p['pc'] == 6, p['r'] == s['r'] + s['x'])\n",
    "    t67 = And(s['pc'] == 6, s['x'] == s['m'], s['m'] >= 0, p['pc'] == 7, p['x'] == s['x'] * 2)\n",
    "    t73 = And(s['pc'] == 7, s['y'] > 0, p['pc'] == 3, p['y'] == s['y'] / 2)\n",
    "    t36 = And(s['pc'] == 3, s['y'] > 0, s['y'] % 2 == 0, p['pc'] == 6, p['y'] == s['y'])\n",
    "    t88 = And(s['pc'] == 8, p['pc'] == 8, p['y'] == s['y'])\n",
    "    \n",
    "    return Or(t23, t28, t34, t45, t56, t67, t73, t36, t88)"
   ]
  },
  {
   "cell_type": "markdown",
   "metadata": {},
   "source": [
    "A pós-condição é caracterizada pela seguinte condição:\n",
    "$$\n",
    "\\mathit{pc} = 8 \\wedge r = m * n\n",
    "$$"
   ]
  },
  {
   "cell_type": "code",
   "execution_count": 7,
   "metadata": {
    "ExecuteTime": {
     "end_time": "2019-11-15T17:09:27.512792Z",
     "start_time": "2019-11-15T17:09:27.510222Z"
    }
   },
   "outputs": [],
   "source": [
    "# condição de terminação/pós-condição\n",
    "def terminates(state):\n",
    "    return And(state['pc'] == 8, state['r'] == state['m'] * state['n'])"
   ]
  },
  {
   "cell_type": "markdown",
   "metadata": {},
   "source": [
    "Execução do programa e condição de verificação do ciclo while."
   ]
  },
  {
   "cell_type": "code",
   "execution_count": 8,
   "metadata": {
    "ExecuteTime": {
     "end_time": "2019-11-15T17:09:30.231098Z",
     "start_time": "2019-11-15T17:09:28.486035Z"
    }
   },
   "outputs": [
    {
     "name": "stdout",
     "output_type": "stream",
     "text": [
      "O invariante é sempre valido nos primeiros 20 estados\n",
      "O invariante é sempre valido nos primeiros 20 estados\n"
     ]
    }
   ],
   "source": [
    "# ciclo while é executado enquanto y >= 0\n",
    "def positive2(state):\n",
    "    return (state['y'] >= 0)\n",
    "\n",
    "# verificação do ciclo while\n",
    "bmc_always(declare2, init2, trans2, positive2, 20)\n",
    "\n",
    "# correcção total\n",
    "bmc_always(declare2, init2, trans2, terminates, 20)"
   ]
  },
  {
   "cell_type": "markdown",
   "metadata": {},
   "source": [
    "### Exercício 3\n",
    "Mostrar como, usando $k$-indução, se pode verificar também ambas as propriedades referidas na questão 2."
   ]
  },
  {
   "cell_type": "code",
   "execution_count": null,
   "metadata": {},
   "outputs": [],
   "source": []
  },
  {
   "cell_type": "markdown",
   "metadata": {},
   "source": [
    "Nota: Provavelmente vai ser necessário um _lookahead_ de pelos menos 3 para a terminação e um $k\\ge 2$ para a o problema da correção."
   ]
  }
 ],
 "metadata": {
  "kernelspec": {
   "display_name": "Python 3",
   "language": "python",
   "name": "python3"
  },
  "language_info": {
   "codemirror_mode": {
    "name": "ipython",
    "version": 3
   },
   "file_extension": ".py",
   "mimetype": "text/x-python",
   "name": "python",
   "nbconvert_exporter": "python",
   "pygments_lexer": "ipython3",
   "version": "3.7.3"
  }
 },
 "nbformat": 4,
 "nbformat_minor": 2
}
