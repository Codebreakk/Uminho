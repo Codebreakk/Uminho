{
 "cells": [
  {
   "cell_type": "markdown",
   "metadata": {},
   "source": [
    "# Trabalho 1"
   ]
  },
  {
   "cell_type": "markdown",
   "metadata": {},
   "source": [
    "## Problema 2"
   ]
  },
  {
   "cell_type": "code",
   "execution_count": 53,
   "metadata": {},
   "outputs": [],
   "source": [
    "import random\n",
    "import math\n",
    "import networkx as nx\n",
    "import networkx.algorithms.approximation as ap\n",
    "import numpy as np\n",
    "import matplotlib.pyplot as plt\n",
    "from pyscipopt import Model, quicksum"
   ]
  },
  {
   "cell_type": "markdown",
   "metadata": {},
   "source": [
    "### A) Criar grafo"
   ]
  },
  {
   "cell_type": "code",
   "execution_count": 54,
   "metadata": {},
   "outputs": [],
   "source": [
    "    N = 5\n",
    "    MAXEDGES = N * (N-1)\n",
    "    MINEDGES = N\n",
    "    "
   ]
  },
  {
   "cell_type": "code",
   "execution_count": 55,
   "metadata": {},
   "outputs": [],
   "source": [
    "def criaGrafo(N):\n",
    "    \n",
    "    \n",
    "    #criar um grafo vazio\n",
    "    grafo = nx.DiGraph()\n",
    "    \n",
    "    \n",
    "    #criar nodos\n",
    "    grafo.add_nodes_from(range(1,N+1))\n",
    "    \n",
    "    \n",
    "    \n",
    "    \n",
    "    for i in grafo.nodes:\n",
    "\n",
    "        #1) Adicionar uma arestas\n",
    "        t=np.random.choice(grafo.nodes)\n",
    "        opt=random.choice([1,2])\n",
    "        if(opt>1):\n",
    "            grafo.add_edge(i,t)\n",
    "            grafo.add_edge(t,i)\n",
    "        else:\n",
    "            grafo.add_edge(i,t)\n",
    "\n",
    "\n",
    "        #2) Adicionar mais arestas    \n",
    "        for j in range(1, N-1):\n",
    "            #prob2=(math.pow(2,-j))/2\n",
    "            prob=(math.pow(2,-j))\n",
    "            opt=random.choice([1,2])\n",
    "            e=np.random.choice(grafo.nodes)\n",
    "\n",
    "            if (random.random() < prob):\n",
    "\n",
    "                if (opt<2):\n",
    "                    grafo.add_edge(i,e)\n",
    "                else:\n",
    "                    grafo.add_edge(i,e)\n",
    "                    grafo.add_edge(e,i)\n",
    "    \n",
    "\n",
    "    return(grafo)\n"
   ]
  },
  {
   "cell_type": "code",
   "execution_count": 56,
   "metadata": {},
   "outputs": [
    {
     "data": {
      "image/png": "[encoded data removed]",
      "text/plain": [
       "<Figure size 432x288 with 1 Axes>"
      ]
     },
     "metadata": {},
     "output_type": "display_data"
    }
   ],
   "source": [
    "p= criaGrafo(N)\n",
    "nx.draw_networkx(p)"
   ]
  },
  {
   "cell_type": "code",
   "execution_count": 57,
   "metadata": {},
   "outputs": [],
   "source": [
    " \n",
    "    \n",
    "def verificaLigado(graph):    \n",
    "    flag = 1\n",
    "\n",
    "\n",
    "    #print(nx.is_connected(graph))\n",
    "\n",
    "\n",
    "    while(flag==1):\n",
    "\n",
    "\n",
    "        if nx.is_strongly_connected(graph):\n",
    "\n",
    "            flag=0\n",
    "            \n",
    "\n",
    "        else:\n",
    "            graph=criaGrafo(N)\n",
    "            \n",
    "    return  graph"
   ]
  },
  {
   "cell_type": "code",
   "execution_count": 58,
   "metadata": {},
   "outputs": [
    {
     "data": {
      "image/png": "[encoded data removed]",
      "text/plain": [
       "<Figure size 432x288 with 1 Axes>"
      ]
     },
     "metadata": {},
     "output_type": "display_data"
    }
   ],
   "source": [
    "graph=criaGrafo(N)\n",
    "grafo=verificaLigado(graph)\n",
    "nx.draw_networkx(grafo)"
   ]
  },
  {
   "cell_type": "markdown",
   "metadata": {},
   "source": [
    "### B) CORTE MAXIMO"
   ]
  },
  {
   "cell_type": "markdown",
   "metadata": {},
   "source": [
    "Primeiramente, criamos um array caminhos que guarda todos os caminhos presentes no grafo entre dois vértices i e j tais que i!=j."
   ]
  },
  {
   "cell_type": "code",
   "execution_count": 59,
   "metadata": {},
   "outputs": [],
   "source": [
    "caminhos = []\n",
    "for i in range(1,N+1):\n",
    "    for j in range(i+1,N+1):\n",
    "        for w in nx.all_simple_paths(grafo, i, j):\n",
    "            caminhos.append(w)\n",
    "        for w in nx.all_simple_paths(grafo, j, i):\n",
    "            caminhos.append(w)\n",
    "            \n",
    "            \n",
    "#print(caminhos)"
   ]
  },
  {
   "cell_type": "markdown",
   "metadata": {},
   "source": [
    "Gera-se então o modelo cidade com as variáveis:\n",
    "\n",
    "=> arr de dimensão igual ao número de caminhos\n",
    "presentes no grafo, onde P [i] = 1, significa que o i-ésimo caminho está presente na solução.\n",
    "\n",
    "\n",
    "=> mat uma matriz de dimensão L × C, sendo L o número de nodos no grafo e C o número de caminhos\n",
    "presentes no grafo, onde M [i][j] = 1 significa que o vértice i está presente no j-ésimo caminho."
   ]
  },
  {
   "cell_type": "markdown",
   "metadata": {},
   "source": [
    "Preenchemos a matriz M com os devidos valores."
   ]
  },
  {
   "cell_type": "code",
   "execution_count": 63,
   "metadata": {
    "scrolled": false
   },
   "outputs": [
    {
     "name": "stdout",
     "output_type": "stream",
     "text": [
      "  0  1  2  3  4  5  6  7  8  9  10 11 12 13 14 15 16 17 18 19 20 21 22 23\n",
      "[[0. 0. 1. 1. 1. 0. 1. 0. 0. 1. 1. 1. 0. 1. 1. 1. 1. 1. 1. 1. 1. 1. 1. 0.\n",
      "  0. 0. 0. 1. 1. 0. 1. 0. 0. 0. 1. 1. 1. 1. 1. 1. 1. 1. 1. 1. 1. 0. 0. 1.\n",
      "  0. 0.]\n",
      " [1. 1. 0. 0. 0. 0. 0. 0. 1. 1. 1. 0. 0. 1. 0. 1. 1. 0. 0. 0. 1. 1. 0. 0.\n",
      "  0. 1. 1. 1. 0. 0. 0. 0. 1. 1. 0. 1. 1. 1. 0. 0. 1. 0. 1. 1. 1. 1. 0. 0.\n",
      "  0. 1.]\n",
      " [0. 0. 0. 0. 0. 1. 0. 0. 0. 0. 0. 0. 0. 0. 0. 0. 0. 1. 1. 1. 0. 0. 0. 0.\n",
      "  0. 0. 0. 0. 0. 0. 0. 0. 0. 0. 0. 0. 1. 1. 1. 0. 1. 1. 1. 1. 0. 0. 0. 0.\n",
      "  0. 0.]\n",
      " [1. 0. 0. 1. 1. 0. 0. 1. 1. 0. 0. 0. 0. 1. 1. 0. 1. 0. 1. 1. 1. 0. 1. 1.\n",
      "  1. 0. 0. 0. 0. 1. 1. 0. 1. 0. 1. 1. 0. 0. 0. 0. 1. 1. 0. 1. 0. 0. 0. 0.\n",
      "  1. 1.]\n",
      " [1. 1. 0. 0. 1. 0. 0. 1. 1. 0. 1. 0. 1. 0. 0. 0. 0. 0. 0. 1. 1. 1. 1. 0.\n",
      "  1. 0. 1. 1. 1. 1. 1. 1. 0. 0. 1. 1. 0. 1. 0. 1. 0. 0. 0. 0. 1. 1. 1. 1.\n",
      "  0. 0.]]\n",
      "[0, 1, 2, 3, 4]\n",
      "[2, 5, 12, 23, 25]\n"
     ]
    }
   ],
   "source": [
    "# gerar matriz de incidência\n",
    "# a matriz é composta por: (nodos) x (caminhos)\n",
    "matIncidencia = np.zeros((N, len(caminhos)))\n",
    "\n",
    "for nodo in range(1, N + 1): # para cada nodo do grafo\n",
    "    # percorrer cada indice e caminho\n",
    "    for indice, caminho in enumerate(caminhos):\n",
    "        # print(\"nodo: \", nodo, \" indice: \", indice , \" caminho:\", caminho)\n",
    "        if nodo in caminho[1:]:\n",
    "            # se o nodo estiver no caminho\n",
    "            matIncidencia[nodo - 1][indice] = 1\n",
    "        #elif nodo in caminho[:1]:\n",
    "            #matIncidencia[nodo - 1][indice] = -1\n",
    "        else: # caso contrário\n",
    "            # este else não é necessário uma vez que a matriz é inicializada com zeros\n",
    "            matIncidencia[nodo - 1][indice] = 0\n",
    "print (\"  0  1  2  3  4  5  6  7  8  9  10 11 12 13 14 15 16 17 18 19 20 21 22 23\")\n",
    "print(matIncidencia)\n",
    "\n",
    "# definição de set_cover da aula 6\n",
    "def set_cover(A):\n",
    "    x = {}\n",
    "    cover = Model()\n",
    "    \n",
    "    S = len(A)    # j - número de nodos\n",
    "    U = len(A[0]) # i - número de caminhos\n",
    "    \n",
    "    for j in range(S):\n",
    "        x[j] = cover.addVar('', vtype = 'B')\n",
    "\n",
    "    for i in range(U):\n",
    "        #print(A[j][i])\n",
    "        cover.addCons(quicksum((x[j] * A[j][i]) for j in range(S)) >= 1)\n",
    "    \n",
    "    cover.setObjective(quicksum(x.values()), sense = 'minimize')\n",
    "    cover.optimize()\n",
    "            \n",
    "    if cover.getStatus() == 'optimal':\n",
    "        return[(j) for j in range(S) if cover.getVal(x[j]) == 1]\n",
    "\n",
    "lista_caminhos = set_cover(matIncidencia)\n",
    "print(lista_caminhos)\n",
    "\n",
    "from pyscipopt import Model,quicksum\n",
    "\n",
    "def point_cover(A):\n",
    "    x = {}\n",
    "    cover = Model()\n",
    "    \n",
    "    S = len(A)    # j\n",
    "    U = len(A[0]) # i\n",
    "    \n",
    "    for i in range(U):\n",
    "        x[i] = cover.addVar('', vtype = 'B')\n",
    "    \n",
    "    for j in range(S):\n",
    "        #cover.addCons(quicksum((x[i] * A[j][i]) for i in range(U)) >= 1)\n",
    "        cover.addCons(quicksum((x[i] * A[j][i]) for i in range(U)) <= 1)\n",
    "        \n",
    "    #cover.setObjective(quicksum(x.values()), sense = 'minimize')\n",
    "    cover.setObjective(quicksum(x.values()), sense = 'maximize')\n",
    "    cover.optimize()\n",
    "    \n",
    "    if cover.getStatus() == 'optimal':\n",
    "        return[j for j in range(U) if cover.getVal(x[j]) == 1]\n",
    "\n",
    "lista_caminhos = point_cover(matIncidencia)\n",
    "print(point_cover(matIncidencia))"
   ]
  },
  {
   "cell_type": "code",
   "execution_count": 66,
   "metadata": {},
   "outputs": [
    {
     "name": "stdout",
     "output_type": "stream",
     "text": [
      "Número de caminhos removidos:  6\n"
     ]
    },
    {
     "data": {
      "image/png": "[encoded data removed]",
      "text/plain": [
       "<Figure size 432x288 with 1 Axes>"
      ]
     },
     "metadata": {},
     "output_type": "display_data"
    }
   ],
   "source": [
    "# desenhar o grafo optimizado\n",
    "\n",
    "# criar um grafo vazio\n",
    "grafo_optimizado = nx.DiGraph()\n",
    "        \n",
    "# criar os nodos\n",
    "grafo_optimizado.add_nodes_from(range(1, N+1))\n",
    "    \n",
    "# adicionar as arestas\n",
    "for caminho in lista_caminhos:\n",
    "    grafo_optimizado.add_path(caminhos[caminho])\n",
    "\n",
    "total_caminhos = len(caminhos)\n",
    "caminhos_removidos = len(list(grafo.edges)) - len(list(grafo_optimizado.edges))\n",
    "print(\"Número de caminhos removidos: \", caminhos_removidos)\n",
    "\n",
    "nx.draw_networkx(grafo_optimizado)"
   ]
  },
  {
   "cell_type": "code",
   "execution_count": 62,
   "metadata": {},
   "outputs": [
    {
     "name": "stdout",
     "output_type": "stream",
     "text": [
      "[(1, 3), (1, 5), (2, 1), (2, 4), (4, 2)]\n"
     ]
    }
   ],
   "source": [
    "print(grafo_optimizado.edges)"
   ]
  },
  {
   "cell_type": "markdown",
   "metadata": {},
   "source": [
    "##### 2. Criar as restrições"
   ]
  },
  {
   "cell_type": "code",
   "execution_count": null,
   "metadata": {},
   "outputs": [],
   "source": []
  },
  {
   "cell_type": "code",
   "execution_count": null,
   "metadata": {},
   "outputs": [],
   "source": []
  }
 ],
 "metadata": {
  "kernelspec": {
   "display_name": "Python 3",
   "language": "python",
   "name": "python3"
  },
  "language_info": {
   "codemirror_mode": {
    "name": "ipython",
    "version": 3
   },
   "file_extension": ".py",
   "mimetype": "text/x-python",
   "name": "python",
   "nbconvert_exporter": "python",
   "pygments_lexer": "ipython3",
   "version": "3.7.3"
  }
 },
 "nbformat": 4,
 "nbformat_minor": 2
}
