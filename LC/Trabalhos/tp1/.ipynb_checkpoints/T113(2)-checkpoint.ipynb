{
 "cells": [
  {
   "cell_type": "markdown",
   "metadata": {},
   "source": [
    "# Trabalho 1"
   ]
  },
  {
   "cell_type": "markdown",
   "metadata": {},
   "source": [
    "## Problema 2"
   ]
  },
  {
   "cell_type": "code",
   "execution_count": 1,
   "metadata": {},
   "outputs": [],
   "source": [
    "import random\n",
    "import math\n",
    "import networkx as nx\n",
    "import numpy as np\n",
    "import matplotlib.pyplot as plt\n",
    "from pyscipopt import Model, quicksum"
   ]
  },
  {
   "cell_type": "markdown",
   "metadata": {},
   "source": [
    "### A) Criar grafo"
   ]
  },
  {
   "cell_type": "code",
   "execution_count": 2,
   "metadata": {},
   "outputs": [],
   "source": [
    "N = 20\n",
    "\n",
    "def criaGrafo(N):\n",
    "    \n",
    "    \n",
    "    #criar um grafo vazio\n",
    "    grafo = nx.DiGraph()\n",
    "    \n",
    "    \n",
    "    #criar nodos\n",
    "    grafo.add_nodes_from(range(1,N+1))\n",
    "    \n",
    "    \n",
    "    \n",
    "    \n",
    "    for i in grafo.nodes:\n",
    "\n",
    "        #1) Adicionar uma arestas\n",
    "        t=np.random.choice(grafo.nodes)\n",
    "        opt=random.choice([1,2])\n",
    "        if(opt>1):\n",
    "            grafo.add_edge(i,t)\n",
    "            grafo.add_edge(t,i)\n",
    "        else:\n",
    "            grafo.add_edge(i,t)\n",
    "\n",
    "\n",
    "        #2) Adicionar mais arestas    \n",
    "        for j in range(1, N-1):\n",
    "            #prob2=(math.pow(2,-j))/2\n",
    "            prob=(math.pow(2,-j))\n",
    "            opt=random.choice([1,2])\n",
    "            e=np.random.choice(grafo.nodes)\n",
    "\n",
    "            if (random.random() < prob):\n",
    "\n",
    "                if (opt<2):\n",
    "                    grafo.add_edge(i,e)\n",
    "                else:\n",
    "                    grafo.add_edge(i,e)\n",
    "                    grafo.add_edge(e,i)\n",
    "    \n",
    "\n",
    "    return(grafo)\n"
   ]
  },
  {
   "cell_type": "code",
   "execution_count": 3,
   "metadata": {},
   "outputs": [],
   "source": [
    " \n",
    "    \n",
    "def verificaLigado(graph):    \n",
    "    flag = 1\n",
    "\n",
    "\n",
    "    #print(nx.is_connected(graph))\n",
    "\n",
    "\n",
    "    while(flag==1):\n",
    "\n",
    "\n",
    "        if nx.is_strongly_connected(graph):\n",
    "\n",
    "            flag=0\n",
    "            \n",
    "\n",
    "        else:\n",
    "            graph=criaGrafo(N)\n",
    "            \n",
    "    return  graph"
   ]
  },
  {
   "cell_type": "code",
   "execution_count": 4,
   "metadata": {},
   "outputs": [
    {
     "name": "stderr",
     "output_type": "stream",
     "text": [
      "/home/jc/anaconda3/lib/python3.7/site-packages/networkx/drawing/nx_pylab.py:579: MatplotlibDeprecationWarning: \n",
      "The iterable function was deprecated in Matplotlib 3.1 and will be removed in 3.3. Use np.iterable instead.\n",
      "  if not cb.iterable(width):\n",
      "/home/jc/anaconda3/lib/python3.7/site-packages/networkx/drawing/nx_pylab.py:676: MatplotlibDeprecationWarning: \n",
      "The iterable function was deprecated in Matplotlib 3.1 and will be removed in 3.3. Use np.iterable instead.\n",
      "  if cb.iterable(node_size):  # many node sizes\n"
     ]
    },
    {
     "data": {
      "image/png": "[encoded data removed]",
      "text/plain": [
       "<Figure size 432x288 with 1 Axes>"
      ]
     },
     "metadata": {},
     "output_type": "display_data"
    }
   ],
   "source": [
    "graph=criaGrafo(N)\n",
    "grafo=verificaLigado(graph)\n",
    "nx.draw_networkx(grafo)"
   ]
  },
  {
   "cell_type": "markdown",
   "metadata": {},
   "source": [
    "### B) CORTE MAXIMO"
   ]
  },
  {
   "cell_type": "markdown",
   "metadata": {},
   "source": [
    "O objetivo é representarmos s e w como uma matriz de incidência Aij=1 ss i pertence a Sj"
   ]
  },
  {
   "cell_type": "code",
   "execution_count": 9,
   "metadata": {},
   "outputs": [
    {
     "name": "stdout",
     "output_type": "stream",
     "text": [
      "  1 2 3 4 5 6 7 8 9 10\n",
      "[[1 0 1 0 1 0 0 0 0 0 0 0 0 0 0 0 0 0 0 0]\n",
      " [0 0 0 0 0 0 0 0 0 0 0 1 0 0 0 0 0 0 1 0]\n",
      " [1 0 0 0 0 0 0 0 0 0 0 0 0 0 0 1 0 0 0 0]\n",
      " [0 0 0 0 0 0 0 1 0 0 1 0 0 0 0 0 0 0 0 0]\n",
      " [1 0 0 0 0 0 0 0 0 0 1 0 0 0 0 0 0 0 0 0]\n",
      " [0 0 0 0 0 0 0 0 1 0 0 0 0 0 1 0 1 0 0 1]\n",
      " [0 0 0 0 0 0 0 0 0 0 0 1 0 1 0 0 0 0 0 0]\n",
      " [0 1 0 1 0 0 0 0 0 1 0 0 1 0 1 0 0 0 0 0]\n",
      " [0 0 0 1 0 1 0 0 0 0 0 0 0 0 0 0 0 0 0 0]\n",
      " [0 0 1 0 0 0 0 0 0 0 1 0 0 1 0 0 0 0 0 0]\n",
      " [0 0 0 1 1 0 0 0 0 1 0 0 0 0 0 0 0 1 0 0]\n",
      " [0 0 0 0 0 0 1 0 0 0 0 0 0 0 0 0 0 0 0 0]\n",
      " [0 0 0 0 0 1 0 1 0 0 1 0 0 0 0 0 0 0 0 0]\n",
      " [0 0 0 0 0 0 0 0 1 1 0 0 0 0 0 1 0 0 0 0]\n",
      " [0 0 0 0 0 0 0 1 0 0 0 0 0 0 0 0 0 0 0 0]\n",
      " [0 0 1 0 0 0 0 0 0 0 0 0 0 1 0 0 0 0 1 0]\n",
      " [0 0 0 0 0 1 0 0 0 0 0 0 0 0 0 0 0 0 0 0]\n",
      " [0 0 0 0 0 0 0 0 0 0 1 0 0 0 0 0 0 0 0 0]\n",
      " [0 1 0 0 0 0 0 0 0 0 0 0 0 0 0 1 0 0 0 0]\n",
      " [0 0 0 0 0 1 1 0 0 0 0 0 0 0 0 0 0 0 0 0]]\n",
      "48\n"
     ]
    }
   ],
   "source": [
    "matrizI = (nx.adjacency_matrix(grafo)).toarray()\n",
    "print (\"  1 2 3 4 5 6 7 8 9 10\" )\n",
    "print((nx.adjacency_matrix(grafo)).toarray())\n",
    "print(len(list(grafo.edges)))"
   ]
  },
  {
   "cell_type": "code",
   "execution_count": 6,
   "metadata": {},
   "outputs": [],
   "source": [
    "def determinaCaminhos(grafo, N):\n",
    "\n",
    "    caminhos = []\n",
    "    for i in range(1,N+1):\n",
    "        for j in range(i+1,N+1):\n",
    "            for w in nx.all_simple_paths(grafo, i, j):\n",
    "                caminhos.append(w)\n",
    "            for w in nx.all_simple_paths(grafo, j, i):\n",
    "                caminhos.append(w)\n",
    "    \n",
    "    return caminhos\n",
    "            \n",
    "caminhos = determinaCaminhos(grafo,N)\n"
   ]
  },
  {
   "cell_type": "markdown",
   "metadata": {},
   "source": [
    "A seguinte função ira receber uma matriz de incidencia"
   ]
  },
  {
   "cell_type": "code",
   "execution_count": 7,
   "metadata": {},
   "outputs": [
    {
     "name": "stdout",
     "output_type": "stream",
     "text": [
      "[0, 1, 2, 3, 4, 5, 6, 7, 8, 9, 10, 11, 12, 13, 14, 15, 16, 17, 18, 19]\n"
     ]
    }
   ],
   "source": [
    "def CorteMaxCaminhos(A): \n",
    "    x={}\n",
    "    cover = Model()\n",
    "    \n",
    "    linhas = len(A)\n",
    "    colunas = len(A[0])\n",
    "    \n",
    "    for i in range(linhas):\n",
    "        x[i] = cover.addVar(str(i), vtype = 'B')\n",
    "    \n",
    "    \n",
    "    for j in range(colunas):\n",
    "        cover.addCons(quicksum([(x[i] * A[j][i]) \\\n",
    "                               for i in range(linhas)]) >= 1)\n",
    "     \n",
    "    cover.setObjective(quicksum(x.values()), sense = 'maximize')\n",
    "    cover.optimize()\n",
    "                      \n",
    "    if cover.getStatus() == 'optimal':\n",
    "        return[(i) for i in range(colunas) if cover.getVal(x[i]) == 1]\n",
    "\n",
    "print( CorteMaxCaminhos(matrizI))\n",
    "lista_caminhos = CorteMaxCaminhos(matrizI)"
   ]
  },
  {
   "cell_type": "code",
   "execution_count": 8,
   "metadata": {},
   "outputs": [
    {
     "name": "stdout",
     "output_type": "stream",
     "text": [
      "48\n",
      "47\n",
      "1\n",
      "Número de caminhos removidos:  1\n"
     ]
    },
    {
     "data": {
      "image/png": "[encoded data removed]",
      "text/plain": [
       "<Figure size 432x288 with 1 Axes>"
      ]
     },
     "metadata": {},
     "output_type": "display_data"
    }
   ],
   "source": [
    "# desenhar o grafo optimizado\n",
    "\n",
    "#criar um grafo vazio\n",
    "grafo_optimizado = nx.DiGraph()\n",
    "        \n",
    "#criar nodo\n",
    "grafo_optimizado.add_nodes_from(range(1, N+1))\n",
    "\n",
    "# adicionar todos os caminhos\n",
    "for caminho in lista_caminhos:\n",
    "    for i in range(N):\n",
    "        if matrizI[caminho][i] == 1 and caminho != i:\n",
    "            grafo_optimizado.add_path([caminho + 1, i + 1])\n",
    "\n",
    "caminhos_removidos = grafo.number_of_edges() - grafo_optimizado.number_of_edges()\n",
    "print(grafo.number_of_edges())\n",
    "print(grafo_optimizado.number_of_edges())\n",
    "print(caminhos_removidos)\n",
    "print(\"Número de caminhos removidos: \", caminhos_removidos)\n",
    "nx.draw_networkx(grafo_optimizado)"
   ]
  },
  {
   "cell_type": "markdown",
   "metadata": {},
   "source": [
    "##### 2. Criar as restrições"
   ]
  },
  {
   "cell_type": "code",
   "execution_count": null,
   "metadata": {},
   "outputs": [],
   "source": []
  },
  {
   "cell_type": "code",
   "execution_count": null,
   "metadata": {},
   "outputs": [],
   "source": []
  }
 ],
 "metadata": {
  "kernelspec": {
   "display_name": "Python 3",
   "language": "python",
   "name": "python3"
  },
  "language_info": {
   "codemirror_mode": {
    "name": "ipython",
    "version": 3
   },
   "file_extension": ".py",
   "mimetype": "text/x-python",
   "name": "python",
   "nbconvert_exporter": "python",
   "pygments_lexer": "ipython3",
   "version": "3.7.3"
  }
 },
 "nbformat": 4,
 "nbformat_minor": 2
}
