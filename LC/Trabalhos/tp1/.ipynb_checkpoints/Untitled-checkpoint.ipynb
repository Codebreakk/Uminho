{
 "cells": [
  {
   "cell_type": "markdown",
   "metadata": {},
   "source": [
    "\n",
    "# Trabalho 1\n",
    "\n",
    "Utilização do solver  SCIP  com suporte PySCIPOpt\n",
    "\n",
    "\n",
    "1. Da definição do jogo “Sudoku” generalizado para a dimensão $N$; o problema tradicional corresponde ao caso $N=3$\n",
    "> The goal of Sudoku is to fill in a $N^2\\times N^2$ grid with digits so that each column, row, and  $N\\times N$ section contain the numbers from  1 to $N^2$. At the beginning of the game, the grid will have some of the squares filled in. \n",
    "\n",
    "Construir uma solução do problema para $N = 3, 4, 5, 6$ .\n"
   ]
  },
  {
   "cell_type": "code",
   "execution_count": 5,
   "metadata": {},
   "outputs": [],
   "source": [
    "from pyscipopt import Model, quicksum\n",
    "\n",
    "def sudokuSolver(sudoku, n):\n",
    "    \n",
    "    # criar as variáveis\n",
    "    m = Model()\n",
    "    x = {}\n",
    "    \n",
    "    for i in range(n): # indice da linha do sudoku\n",
    "        x[i] = {}\n",
    "        for j in range(n): # indice da coluna do sudoku\n",
    "            for b in range(n): # valor de 1 a N que pode ser inserido na célula\n",
    "                x[i][j][b] = m.addVar(str(i) + str(j) + str(b), vtype = 'B')\n",
    "                \n",
    "    \n",
    "    # cada célula terá exactamente 1 valor de 1 a N.\n",
    "    for i in sudoku:\n",
    "        for j in sudoku[i]:\n",
    "            m.addCons(quicksum([x[i][j][k] for k in range(n)]) == 1)\n",
    "    \n",
    "    \n",
    "    # cada linha terá N espaços com os valores de 1 a N (sem repetidos).\n",
    "    for i in range(n):\n",
    "        for k in range(n):\n",
    "            m.addCons(quicksum([x[i][j][k] for k in range(n)]) == 1)\n",
    "    \n",
    "    \n",
    "    # cada coluna terá N espaços com os valores de 1 a N (sem repetidos).\n",
    "    \n",
    "    \n",
    "    \n",
    "    # cada secção N x N terá os valores de 1 a N (sem repetidos).\n",
    "    \n",
    "    \n",
    "    "
   ]
  },
  {
   "cell_type": "markdown",
   "metadata": {},
   "source": [
    "2. Um sistema de tráfego  é representado por um grafo orientado e ligado em que os arcos denotam vias de comunicação  (que podem ter um ou dois sentidos de comunicação), e nodos denotam pontos de acesso.  Use o NetworkX para representar  este sistema.\n",
    "    >  O grafo tem de ser ligado o que significa que entre cada par de nodos $\\langle n_1,n_2 \\rangle$ tem de existir um caminho $n_1 \\leadsto n_2$ e um caminho $n_2\\leadsto n_1$.\n",
    "    1. Gerar aleatoriamente o grafo, considerando que existe igual probabilidade de cada via ter um só sentido ou os dois sentidos. Assuma $N=256$ para o número de nodos. Como o grafo é ligado, para cada nodo, tem de existir pelos menos um ramo descendente; assuma  uma probabilidade $p=2^{-k}$ para a existência de $k$ descendentes adicionais. \n",
    "    2. Pretende-se fazer  manutenção interrompendo  determinadas vias. Determinar o maior número de vias que é possível remover mantendo mantendo o grafo ligado."
   ]
  },
  {
   "cell_type": "code",
   "execution_count": null,
   "metadata": {},
   "outputs": [],
   "source": []
  }
 ],
 "metadata": {
  "kernelspec": {
   "display_name": "Python 3",
   "language": "python",
   "name": "python3"
  },
  "language_info": {
   "codemirror_mode": {
    "name": "ipython",
    "version": 3
   },
   "file_extension": ".py",
   "mimetype": "text/x-python",
   "name": "python",
   "nbconvert_exporter": "python",
   "pygments_lexer": "ipython3",
   "version": "3.7.3"
  }
 },
 "nbformat": 4,
 "nbformat_minor": 2
}
