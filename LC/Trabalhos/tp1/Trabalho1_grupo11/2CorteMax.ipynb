{
 "cells": [
  {
   "cell_type": "markdown",
   "metadata": {},
   "source": [
    "# Trabalho 1"
   ]
  },
  {
   "cell_type": "markdown",
   "metadata": {},
   "source": [
    "## Problema 2"
   ]
  },
  {
   "cell_type": "markdown",
   "metadata": {},
   "source": [
    "\n",
    "Um sistema de tráfego  é representado por um grafo orientado e ligado em que os arcos denotam vias de comunicação  (que podem ter um ou dois sentidos de comunicação), e nodos denotam pontos de acesso.  Use o NetworkX para representar  este sistema.\n",
    "    >  O grafo tem de ser ligado o que significa que entre cada par de nodos $\\langle n_1,n_2 \\rangle$ tem de existir um caminho $n_1 \\leadsto n_2$ e um caminho $n_2\\leadsto n_1$.\n",
    "      1. Gerar aleatoriamente o grafo, considerando que existe igual probabilidade de cada via ter um só sentido ou os dois sentidos. Assuma N=256 para o número de nodos. Como o grafo é ligado, para cada nodo, tem de existir pelos menos um ramo descendente; assuma  uma probabilidade $p=2^{-k}$ para a existência de $k$ descendentes adicionais. \n",
    "       2. Pretende-se fazer  manutenção interrompendo  determinadas vias. Determinar o maior número de vias que é possível remover mantendo mantendo o grafo ligado."
   ]
  },
  {
   "cell_type": "markdown",
   "metadata": {},
   "source": [
    "##### Objetivo"
   ]
  },
  {
   "cell_type": "markdown",
   "metadata": {},
   "source": [
    " $$ maximize \\quad\\big(\\sum_{i} x_{i}\\big) $$"
   ]
  },
  {
   "cell_type": "markdown",
   "metadata": {},
   "source": [
    "#### Restrições"
   ]
  },
  {
   "cell_type": "markdown",
   "metadata": {},
   "source": [
    "$$\\forall_{j \\in N}.\\quad \\big(\\sum_{i< linhas-1} x_{i} * A_{i,j}\\big) < 1$$"
   ]
  },
  {
   "cell_type": "markdown",
   "metadata": {},
   "source": [
    " - __N__ é o número de nodos do grafo\n",
    " - $x_{i}$ é uma variável binária \n",
    " - __A__ é a matriz de incidência\n"
   ]
  },
  {
   "cell_type": "code",
   "execution_count": 124,
   "metadata": {},
   "outputs": [],
   "source": [
    "import random\n",
    "import math\n",
    "import networkx as nx\n",
    "import numpy as np\n",
    "import matplotlib.pyplot as plt\n",
    "from pyscipopt import Model, quicksum"
   ]
  },
  {
   "cell_type": "markdown",
   "metadata": {},
   "source": [
    "### A) Gerar grafo"
   ]
  },
  {
   "cell_type": "code",
   "execution_count": 125,
   "metadata": {},
   "outputs": [],
   "source": [
    "N = 32\n",
    "\n",
    "def criaGrafo(N):\n",
    "    \n",
    "    \n",
    "    #criar um grafo vazio\n",
    "    grafo = nx.DiGraph()\n",
    "    \n",
    "    \n",
    "    #criar nodos\n",
    "    grafo.add_nodes_from(range(1,N+1))\n",
    "    \n",
    "    \n",
    "    \n",
    "    \n",
    "    for i in grafo.nodes:\n",
    "\n",
    "        #1) Adicionar uma arestas\n",
    "        t=np.random.choice(grafo.nodes)\n",
    "        opt=random.choice([1,2])\n",
    "        if(opt>1):\n",
    "            grafo.add_edge(i,t)\n",
    "            grafo.add_edge(t,i)\n",
    "        else:\n",
    "            grafo.add_edge(i,t)\n",
    "\n",
    "\n",
    "        #2) Adicionar mais arestas    \n",
    "        for j in range(1, N-1):\n",
    "            #prob2=(math.pow(2,-j))/2\n",
    "            prob=(math.pow(2,-j))\n",
    "            opt=random.choice([1,2])\n",
    "            e=np.random.choice(grafo.nodes)\n",
    "\n",
    "            if (random.random() < prob):\n",
    "\n",
    "                if (opt<2):\n",
    "                    grafo.add_edge(i,e)\n",
    "                else:\n",
    "                    grafo.add_edge(i,e)\n",
    "                    grafo.add_edge(e,i)\n",
    "    \n",
    "\n",
    "    return(grafo)\n"
   ]
  },
  {
   "cell_type": "code",
   "execution_count": 126,
   "metadata": {},
   "outputs": [],
   "source": [
    "\n",
    "    \n",
    "def verificaLigado(graph):    \n",
    "    flag = 1\n",
    "\n",
    "\n",
    "    #print(nx.is_connected(graph))\n",
    "\n",
    "\n",
    "    while(flag==1):\n",
    "\n",
    "\n",
    "        if nx.is_strongly_connected(graph):\n",
    "\n",
    "            flag = 0\n",
    "            \n",
    "\n",
    "        else:\n",
    "            graph = criaGrafo(N)\n",
    "            \n",
    "    return  graph"
   ]
  },
  {
   "cell_type": "code",
   "execution_count": 127,
   "metadata": {},
   "outputs": [
    {
     "data": {
      "image/png": "[encoded data removed]",
      "text/plain": [
       "<Figure size 432x288 with 1 Axes>"
      ]
     },
     "metadata": {},
     "output_type": "display_data"
    }
   ],
   "source": [
    "graph=criaGrafo(N)\n",
    "grafo=verificaLigado(graph)\n",
    "nx.draw_networkx(grafo)"
   ]
  },
  {
   "cell_type": "markdown",
   "metadata": {},
   "source": [
    "### B) Determinar Corte Máximo"
   ]
  },
  {
   "cell_type": "code",
   "execution_count": 128,
   "metadata": {},
   "outputs": [],
   "source": [
    "def determinaCaminhos(grafo, N):\n",
    "\n",
    "    caminhos = []\n",
    "    for i in range(1,N+1):\n",
    "        for j in range(i+1,N+1):\n",
    "                caminhos.append(nx.all_simple_paths(grafo, i, j))\n",
    "                caminhos.append(nx.all_simple_paths(grafo, j, i))\n",
    "    \n",
    "    return caminhos\n",
    "            \n",
    "caminhos = determinaCaminhos(grafo,N)\n",
    "\n"
   ]
  },
  {
   "cell_type": "code",
   "execution_count": 129,
   "metadata": {},
   "outputs": [],
   "source": [
    "matrizI = (nx.adjacency_matrix(grafo)).toarray()\n",
    "#print(matrizI)"
   ]
  },
  {
   "cell_type": "code",
   "execution_count": 131,
   "metadata": {},
   "outputs": [
    {
     "name": "stdout",
     "output_type": "stream",
     "text": [
      "É possível interromper 32 vias de comunicação.\n",
      "[0, 1, 2, 3, 4, 5, 6, 7, 8, 9, 10, 11, 12, 13, 14, 15, 16, 17, 18, 19, 20, 21, 22, 23, 24, 25, 26, 27, 28, 29, 30, 31]\n",
      "0 95\n"
     ]
    },
    {
     "data": {
      "image/png": "[encoded data removed]",
      "text/plain": [
       "<Figure size 432x288 with 1 Axes>"
      ]
     },
     "metadata": {},
     "output_type": "display_data"
    }
   ],
   "source": [
    "lista_caminhos = CorteMaxCaminhos(matrizI)\n",
    "grafo_optimizado = nx.DiGraph()\n",
    "\n",
    "def CorteMaxCaminhos(A): \n",
    "    x={}\n",
    "    cover = Model()\n",
    "    \n",
    "    \n",
    "    linhas = len(A)\n",
    "    colunas = len(A[0])\n",
    "\n",
    "    for i in range(linhas):\n",
    "        x[i] = cover.addVar(str(i), vtype = 'B')\n",
    "    \n",
    "    \n",
    "    for j in range(colunas):\n",
    "        cover.addCons(quicksum([(x[i] * A[j][i]) \\\n",
    "                               for i in range(linhas)]) >= 0)\n",
    "     \n",
    "    cover.setObjective(quicksum(x.values()), sense = 'maximize')\n",
    "    cover.optimize()\n",
    "                      \n",
    "    if cover.getStatus() == 'optimal':\n",
    "        return[(i) for i in range(colunas) if cover.getVal(x[i]) == 1]\n",
    "\n",
    "for caminho in lista_caminhos:\n",
    "    for i in range(N):\n",
    "        if matrizI[caminho][i] == 1 and caminho != i:\n",
    "            grafo_optimizado.add_path([caminho + 1, i + 1])\n",
    "            #grafo_optimizado.add_path([i + 1, caminho + 1])\n",
    "            #n_caminhos_optimizado += 1\n",
    "    \n",
    "print(\"É possível interromper\", len(CorteMaxCaminhos(matrizI)), \"vias de comunicação.\")\n",
    "\n",
    "print(CorteMaxCaminhos(matrizI))\n",
    "\n",
    "nx.draw(grafo_optimizado)\n",
    "print(len(grafo_optimizado.edges), len(grafo.edges))"
   ]
  }
 ],
 "metadata": {
  "kernelspec": {
   "display_name": "Python 3",
   "language": "python",
   "name": "python3"
  },
  "language_info": {
   "codemirror_mode": {
    "name": "ipython",
    "version": 3
   },
   "file_extension": ".py",
   "mimetype": "text/x-python",
   "name": "python",
   "nbconvert_exporter": "python",
   "pygments_lexer": "ipython3",
   "version": "3.7.3"
  }
 },
 "nbformat": 4,
 "nbformat_minor": 2
}
