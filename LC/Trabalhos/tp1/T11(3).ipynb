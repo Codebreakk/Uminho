{
 "cells": [
  {
   "cell_type": "markdown",
   "metadata": {},
   "source": [
    "# Trabalho 1"
   ]
  },
  {
   "cell_type": "markdown",
   "metadata": {},
   "source": [
    "## Problema 2"
   ]
  },
  {
   "cell_type": "code",
   "execution_count": 58,
   "metadata": {},
   "outputs": [],
   "source": [
    "import random\n",
    "import math\n",
    "import networkx as nx\n",
    "import numpy as np\n",
    "import matplotlib.pyplot as plt\n",
    "from pyscipopt import Model, quicksum"
   ]
  },
  {
   "cell_type": "markdown",
   "metadata": {},
   "source": [
    "### A) Criar grafo"
   ]
  },
  {
   "cell_type": "code",
   "execution_count": 59,
   "metadata": {},
   "outputs": [],
   "source": [
    "N = 10\n",
    "\n",
    "def criaGrafo(N):\n",
    "    \n",
    "    \n",
    "    #criar um grafo vazio\n",
    "    grafo = nx.DiGraph()\n",
    "    \n",
    "    \n",
    "    #criar nodos\n",
    "    grafo.add_nodes_from(range(1,N+1))\n",
    "    \n",
    "    \n",
    "    \n",
    "    \n",
    "    for i in grafo.nodes:\n",
    "\n",
    "        #1) Adicionar uma arestas\n",
    "        t=np.random.choice(grafo.nodes)\n",
    "        opt=random.choice([1,2])\n",
    "        if(opt>1):\n",
    "            grafo.add_edge(i,t)\n",
    "            grafo.add_edge(t,i)\n",
    "        else:\n",
    "            grafo.add_edge(i,t)\n",
    "\n",
    "\n",
    "        #2) Adicionar mais arestas    \n",
    "        for j in range(1, N-1):\n",
    "            #prob2=(math.pow(2,-j))/2\n",
    "            prob=(math.pow(2,-j))\n",
    "            opt=random.choice([1,2])\n",
    "            e=np.random.choice(grafo.nodes)\n",
    "\n",
    "            if (random.random() < prob):\n",
    "\n",
    "                if (opt<2):\n",
    "                    grafo.add_edge(i,e)\n",
    "                else:\n",
    "                    grafo.add_edge(i,e)\n",
    "                    grafo.add_edge(e,i)\n",
    "    \n",
    "\n",
    "    return(grafo)\n"
   ]
  },
  {
   "cell_type": "code",
   "execution_count": 60,
   "metadata": {},
   "outputs": [],
   "source": [
    " \n",
    "    \n",
    "def verificaLigado(graph):    \n",
    "    flag = 1\n",
    "\n",
    "\n",
    "    #print(nx.is_connected(graph))\n",
    "\n",
    "\n",
    "    while(flag==1):\n",
    "\n",
    "\n",
    "        if nx.is_strongly_connected(graph):\n",
    "\n",
    "            flag = 0\n",
    "            \n",
    "\n",
    "        else:\n",
    "            graph = criaGrafo(N)\n",
    "            \n",
    "    return  graph"
   ]
  },
  {
   "cell_type": "code",
   "execution_count": 61,
   "metadata": {},
   "outputs": [
    {
     "data": {
      "image/png": "[encoded data removed]",
      "text/plain": [
       "<Figure size 432x288 with 1 Axes>"
      ]
     },
     "metadata": {},
     "output_type": "display_data"
    }
   ],
   "source": [
    "graph=criaGrafo(N)\n",
    "grafo=verificaLigado(graph)\n",
    "nx.draw_networkx(grafo)"
   ]
  },
  {
   "cell_type": "markdown",
   "metadata": {},
   "source": [
    "### B) CORTE MAXIMO"
   ]
  },
  {
   "cell_type": "markdown",
   "metadata": {},
   "source": [
    "O objetivo é representarmos s e w como uma matriz de incidência Aij=1 ss i pertence a Sj"
   ]
  },
  {
   "cell_type": "code",
   "execution_count": 63,
   "metadata": {},
   "outputs": [
    {
     "name": "stdout",
     "output_type": "stream",
     "text": [
      "  1 2 3 4 5 6 7 8 9 10\n",
      "[[0 1 0 0 0 0 0 1 0 1]\n",
      " [0 1 1 0 0 0 0 0 0 0]\n",
      " [0 1 1 0 0 0 0 0 0 1]\n",
      " [0 0 0 0 0 1 0 0 1 0]\n",
      " [1 0 1 0 0 0 0 1 0 0]\n",
      " [0 0 0 1 0 0 1 0 0 0]\n",
      " [0 0 0 0 0 1 0 0 0 1]\n",
      " [0 0 0 0 1 0 1 0 0 0]\n",
      " [1 1 0 1 0 0 0 0 0 0]\n",
      " [1 0 1 0 1 1 1 0 0 0]]\n"
     ]
    }
   ],
   "source": [
    "matrizI = (nx.adjacency_matrix(grafo)).toarray()\n",
    "print (\"  1 2 3 4 5 6 7 8 9 10\" )\n",
    "print((nx.adjacency_matrix(grafo)).toarray())"
   ]
  },
  {
   "cell_type": "markdown",
   "metadata": {},
   "source": [
    "Criamos um array caminhos que guarda todos os caminhos presentes no grafo entre dois vértices i e j tais que i!=j."
   ]
  },
  {
   "cell_type": "code",
   "execution_count": 55,
   "metadata": {},
   "outputs": [],
   "source": [
    "caminhos = []\n",
    "for i in range(1,N+1):\n",
    "    for j in range(i+1,N+1):\n",
    "        for w in nx.all_simple_paths(grafo, i, j):\n",
    "            caminhos.append(w)\n",
    "        for w in nx.all_simple_paths(grafo, j, i):\n",
    "            caminhos.append(w)\n",
    "        \n",
    "#print(caminhos)"
   ]
  },
  {
   "cell_type": "markdown",
   "metadata": {},
   "source": [
    "Gera-se então o modelo cidade com as variáveis:\n",
    "\n",
    "=> arr de dimensão igual ao número de caminhos\n",
    "presentes no grafo, onde P [i] = 1, significa que o i-ésimo caminho está presente na solução.\n",
    "\n",
    "\n",
    "=> mat uma matriz de dimensão L × C, sendo L o número de nodos no grafo e C o número de caminhos\n",
    "presentes no grafo, onde M [i][j] = 1 significa que o vértice i está presente no j-ésimo caminho."
   ]
  },
  {
   "cell_type": "markdown",
   "metadata": {},
   "source": [
    "A restrição para este problema é a seguinte:\n",
    "\n",
    "$$\\forall_{j \\in N}.\\quad \\big(\\sum_{i< linhas-1} x_{i} * A_{i,j}\\big) < 1$$\n",
    "\n",
    "Em que:\n",
    " - __N__ é o número de nodos do grafo\n",
    " - __colunas__ é o número de colunas da matriz de incidência\n",
    " - $x_{i}$ é uma variável binária que determina se o conjunto pertence à cobertura mínima\n",
    " - __A__ é a matriz de incidência\n",
    "\n",
    "\n",
    "O objectivo é minimizar $\\sum_j x_i$ obedecendo à seguinte restrição:\n",
    "- Cada elemento de $N$ tem que pertencer a pelo menos um conjunto da cobertura mínima."
   ]
  },
  {
   "cell_type": "markdown",
   "metadata": {},
   "source": [
    "A seguinte função irá receber uma matriz de incidência"
   ]
  },
  {
   "cell_type": "code",
   "execution_count": 67,
   "metadata": {},
   "outputs": [
    {
     "name": "stdout",
     "output_type": "stream",
     "text": [
      "[0, 1, 2, 3, 4, 5, 6, 7, 8, 9]\n"
     ]
    }
   ],
   "source": [
    "def CorteMaxCaminhos(A): \n",
    "    x={}\n",
    "    cover = Model()\n",
    "    \n",
    "    linhas = len(A)     # S\n",
    "    colunas = len(A[0]) # U\n",
    "    \n",
    "    for j in range(colunas):\n",
    "        x[j] = cover.addVar(str(j), vtype = 'B')\n",
    "    \n",
    "    for i in range(linhas):\n",
    "        cover.addCons(quicksum([(x[i] * A[j][i]) \\\n",
    "                               for i in range(colunas)]) >= 1)\n",
    "    \n",
    "    cover.setObjective(quicksum(x.values()), sense = 'minimize')\n",
    "    cover.optimize()\n",
    "    \n",
    "    if cover.getStatus() == 'optimal':\n",
    "        return[(i) for i in range(linhas) if cover.getVal(x[i]) == 1]\n",
    "    \n",
    "print(CorteMaxCaminhos(matrizI))\n",
    "lista_caminhos = CorteMaxCaminhos(matrizI)"
   ]
  },
  {
   "cell_type": "code",
   "execution_count": null,
   "metadata": {},
   "outputs": [],
   "source": []
  },
  {
   "cell_type": "markdown",
   "metadata": {},
   "source": [
    "Preenchemos a matriz M com os devidos valores."
   ]
  },
  {
   "cell_type": "code",
   "execution_count": 57,
   "metadata": {},
   "outputs": [
    {
     "name": "stdout",
     "output_type": "stream",
     "text": [
      "Número de caminhos removidos:  0\n",
      "[(1, 5), (1, 6), (1, 7), (2, 4), (2, 7), (3, 5), (3, 8), (4, 2), (4, 8), (4, 9), (4, 10), (5, 3), (5, 6), (5, 9), (6, 4), (6, 5), (7, 1), (7, 9), (8, 3), (8, 4), (8, 6), (8, 10), (9, 4), (9, 5), (9, 7), (9, 10), (10, 6), (10, 8), (10, 9)]\n",
      "[(1, 5), (1, 6), (1, 7), (2, 7), (2, 4), (3, 8), (3, 5), (4, 2), (4, 8), (4, 10), (4, 9), (5, 3), (5, 6), (5, 9), (6, 4), (6, 5), (7, 1), (7, 9), (8, 3), (8, 4), (8, 6), (8, 10), (9, 5), (9, 4), (9, 7), (9, 10), (10, 8), (10, 6), (10, 9)]\n"
     ]
    },
    {
     "data": {
      "image/png": "[encoded data removed]",
      "text/plain": [
       "<Figure size 432x288 with 1 Axes>"
      ]
     },
     "metadata": {},
     "output_type": "display_data"
    }
   ],
   "source": [
    "# desenhar o grafo optimizado\n",
    "\n",
    "#criar um grafo vazio\n",
    "grafo_optimizado = nx.DiGraph()\n",
    "        \n",
    "#criar nodo\n",
    "grafo_optimizado.add_nodes_from(range(1, N + 1))\n",
    "\n",
    "n_caminhos_optimizado = 0\n",
    "# adicionar todos os caminhos\n",
    "for caminho in lista_caminhos:\n",
    "    for i in range(N):\n",
    "        if matrizI[caminho][i] == 1 and caminho != i:\n",
    "            grafo_optimizado.add_path([caminho + 1, i + 1])\n",
    "\n",
    "caminhos_removidos = len(list(grafo.edges)) - len(list(grafo_optimizado.edges))\n",
    "print(\"Número de caminhos removidos: \", caminhos_removidos)\n",
    "nx.draw_networkx(grafo_optimizado)\n",
    "print(grafo_optimizado.edges)\n",
    "print(grafo.edges)"
   ]
  },
  {
   "cell_type": "markdown",
   "metadata": {},
   "source": [
    "##### 2. Criar as restrições"
   ]
  },
  {
   "cell_type": "code",
   "execution_count": null,
   "metadata": {},
   "outputs": [],
   "source": []
  },
  {
   "cell_type": "code",
   "execution_count": null,
   "metadata": {},
   "outputs": [],
   "source": []
  }
 ],
 "metadata": {
  "kernelspec": {
   "display_name": "Python 3",
   "language": "python",
   "name": "python3"
  },
  "language_info": {
   "codemirror_mode": {
    "name": "ipython",
    "version": 3
   },
   "file_extension": ".py",
   "mimetype": "text/x-python",
   "name": "python",
   "nbconvert_exporter": "python",
   "pygments_lexer": "ipython3",
   "version": "3.7.3"
  }
 },
 "nbformat": 4,
 "nbformat_minor": 2
}
