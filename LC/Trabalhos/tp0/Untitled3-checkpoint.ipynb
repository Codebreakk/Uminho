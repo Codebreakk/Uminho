{
 "cells": [
  {
   "cell_type": "markdown",
   "metadata": {},
   "source": [
    "# Trabalho 0\n",
    "\n",
    "\n",
    "__2. Criar um “hello world” para IPython + Numpy com os seguintes passos:__\n",
    "\n",
    "    a. Criar uma matriz de inteiros {0,1}, aleatória, A de dimensão 1024 x 1024 armazenada de forma compacta; usar Numpy.\n",
    "    \n"
   ]
  },
  {
   "cell_type": "markdown",
   "metadata": {},
   "source": [
    "Para gerar a matriz de inteiros de dimensão 1024 x 1024 através do numpy, usei a função randint com os seguintes argumentos:\n",
    " - o primeiro argumento é o valor inteiro máximo (exclusivé) a partir do qual randomizar. Neste caso defini o valor 2, logo os valores gerados serão sempre os valores 0 ou 1.\n",
    "   \n",
    "   \n",
    " - o segundo argumento é a dimensão da matriz. Uma vez que pretendemos gerar uma matriz de 1024 x 1024, os valores do segundo argumento são \"size = (1024, 1024)\"."
   ]
  },
  {
   "cell_type": "code",
   "execution_count": 79,
   "metadata": {},
   "outputs": [],
   "source": [
    "import numpy as np"
   ]
  },
  {
   "cell_type": "code",
   "execution_count": 86,
   "metadata": {
    "scrolled": true
   },
   "outputs": [
    {
     "name": "stdout",
     "output_type": "stream",
     "text": [
      "Array:\n",
      "[[0 1 0 ... 1 1 1]\n",
      " [1 0 0 ... 1 1 1]\n",
      " [0 1 0 ... 0 0 1]\n",
      " ...\n",
      " [1 0 0 ... 0 1 0]\n",
      " [1 0 0 ... 0 1 1]\n",
      " [0 0 0 ... 0 0 1]]\n",
      "\n",
      "\n"
     ]
    }
   ],
   "source": [
    "# gerar matriz com dimensao 1024 * 1024 e com valores aleatorios 0 e 1\n",
    "my_array = np.random.randint(2, size = (1024, 1024))\n",
    "print (\"Array:\\n\" + str(my_array))\n",
    "print ('\\n')\n"
   ]
  },
  {
   "cell_type": "markdown",
   "metadata": {},
   "source": [
    "    b. Explorar serializar/deserializar A; usar pickle e JSON."
   ]
  },
  {
   "cell_type": "markdown",
   "metadata": {},
   "source": [
    "Para serializar com o Pickle, usei as funções \"dumps\" e \"loads\" para primeiro gerar a matriz serializada e depois carregar o ficheiro para memória para poder ver a matriz."
   ]
  },
  {
   "cell_type": "code",
   "execution_count": 87,
   "metadata": {},
   "outputs": [
    {
     "name": "stdout",
     "output_type": "stream",
     "text": [
      "Array with Pickle:\n",
      "[[0 1 0 ... 0 1 1]\n",
      " [0 0 0 ... 0 0 1]\n",
      " [1 0 1 ... 1 1 0]\n",
      " ...\n",
      " [1 0 0 ... 0 0 1]\n",
      " [0 0 1 ... 0 0 1]\n",
      " [1 0 0 ... 1 0 0]]\n"
     ]
    }
   ],
   "source": [
    "# serializacao com o pickle\n",
    "dump_array = pickle.dumps(my_array) # gerar o array com o pickle\n",
    "load_array = pickle.loads(dump_array) # carregar o array para memoria\n",
    "\n",
    "print(\"Array with Pickle:\\n\" + str(loadArray))"
   ]
  },
  {
   "cell_type": "markdown",
   "metadata": {},
   "source": [
    "__3. Criar um “hello world” para o solver Z3 para resolver um problema de SAT aleatório gerado segundo as seguintes regras:__\n",
    "\n",
    "    a. O problema tem N = 256 variáveis e M = 2 * N cláusulas.\n",
    "    \n",
    "    b. Cada cláusula contém exatamente 3 literais escolhidos aleatoriamente dentro das variáveis disponíveis que, com igual probabilidade, ocorrem com ou sem conetiva de negação."
   ]
  },
  {
   "cell_type": "markdown",
   "metadata": {},
   "source": [
    "Para este exercício, começamos por gerar as M cláusulas com as 256 variáveis aleatórias. Para gerar as N variáveis de forma aleatória, usamos a função do exercício anterior para gerar valores entre 1 e 256. Após gerar as cláusulas, percorremos cada uma delas e guardamos no dicionário as que ainda não tiverem sido guardadas. Após isso, atribuimos o conectivo positivo ou negativo a cada um dos literais de forma aleatória.\n",
    "No fim de atribuir cada um dos conectivos aos literais de cada cláusula, esta é adicionada à lista de cláusulas.\n",
    "No final, usamos a função check() para verificar se o problema é ou não satisfazível, e se for imprimimos a solução."
   ]
  },
  {
   "cell_type": "code",
   "execution_count": 85,
   "metadata": {},
   "outputs": [
    {
     "name": "stdout",
     "output_type": "stream",
     "text": [
      "sat\n",
      "[58 = False,\n",
      " 224 = False,\n",
      " 71 = True,\n",
      " 254 = False,\n",
      " 239 = False,\n",
      " 244 = False,\n",
      " 89 = False,\n",
      " 253 = False,\n",
      " 148 = False,\n",
      " 35 = True,\n",
      " 192 = True,\n",
      " 147 = False,\n",
      " 198 = True,\n",
      " 163 = True,\n",
      " 91 = False,\n",
      " 250 = False,\n",
      " 145 = False,\n",
      " 100 = False,\n",
      " 10 = True,\n",
      " 125 = False,\n",
      " 119 = False,\n",
      " 94 = False,\n",
      " 54 = False,\n",
      " 31 = False,\n",
      " 24 = True,\n",
      " 247 = False,\n",
      " 144 = True,\n",
      " 152 = True,\n",
      " 181 = True,\n",
      " 101 = False,\n",
      " 86 = False,\n",
      " 124 = False,\n",
      " 23 = False,\n",
      " 13 = False,\n",
      " 134 = False,\n",
      " 206 = False,\n",
      " 202 = False,\n",
      " 64 = False,\n",
      " 158 = True,\n",
      " 121 = True,\n",
      " 33 = False,\n",
      " 120 = False,\n",
      " 43 = True,\n",
      " 243 = True,\n",
      " 46 = True,\n",
      " 18 = True,\n",
      " 219 = False,\n",
      " 184 = True,\n",
      " 20 = True,\n",
      " 30 = True,\n",
      " 123 = False,\n",
      " 241 = True,\n",
      " 116 = False,\n",
      " 157 = False,\n",
      " 40 = True,\n",
      " 149 = True,\n",
      " 215 = False,\n",
      " 238 = True,\n",
      " 207 = True,\n",
      " 63 = True,\n",
      " 70 = False,\n",
      " 76 = True,\n",
      " 251 = False,\n",
      " 137 = True,\n",
      " 81 = True,\n",
      " 106 = False,\n",
      " 29 = False,\n",
      " 55 = False,\n",
      " 88 = False,\n",
      " 194 = False,\n",
      " 41 = False,\n",
      " 68 = True,\n",
      " 256 = False,\n",
      " 205 = True,\n",
      " 9 = False,\n",
      " 168 = False,\n",
      " 196 = True,\n",
      " 178 = True,\n",
      " 190 = True,\n",
      " 11 = False,\n",
      " 161 = True,\n",
      " 186 = False,\n",
      " 191 = True,\n",
      " 211 = False,\n",
      " 51 = True,\n",
      " 151 = False,\n",
      " 7 = False,\n",
      " 15 = False,\n",
      " 234 = False,\n",
      " 172 = False,\n",
      " 60 = True,\n",
      " 99 = False,\n",
      " 223 = True,\n",
      " 177 = False,\n",
      " 110 = True,\n",
      " 87 = False,\n",
      " 131 = False,\n",
      " 155 = True,\n",
      " 132 = True,\n",
      " 208 = True,\n",
      " 195 = True,\n",
      " 19 = True,\n",
      " 153 = False,\n",
      " 21 = False,\n",
      " 45 = True,\n",
      " 77 = False,\n",
      " 78 = False,\n",
      " 82 = False,\n",
      " 164 = False,\n",
      " 128 = False,\n",
      " 114 = False,\n",
      " 246 = False,\n",
      " 112 = False,\n",
      " 133 = True,\n",
      " 104 = False,\n",
      " 115 = True,\n",
      " 204 = True,\n",
      " 93 = False,\n",
      " 6 = False,\n",
      " 85 = True,\n",
      " 135 = False,\n",
      " 154 = False,\n",
      " 228 = False,\n",
      " 188 = True,\n",
      " 75 = False,\n",
      " 222 = False,\n",
      " 122 = True,\n",
      " 27 = False,\n",
      " 80 = False,\n",
      " ...]\n"
     ]
    }
   ],
   "source": [
    "from z3 import *\n",
    "\n",
    "n = 256; # numero de variaveis\n",
    "m = n * 2; # numero de clausulas\n",
    "\n",
    "# gerar as M clausulas com 3 literais cada\n",
    "clauses = np.random.randint(1, n + 1, size = (m, 3))\n",
    "randomConective = np.random.choice([-1, 1], 1)\n",
    "\n",
    "#inicializacao do solver e do dicionario\n",
    "s = Solver()\n",
    "c = {}\n",
    "\n",
    "for i in range(0, 512): # percorrer cada uma das 512 clausulas\n",
    "    literal = [None] * 3\n",
    "    for j in range(0, 3): # percorrer cada um dos 3 literais\n",
    "        c[clauses[i][j]] = Bool(str(clauses[i][j])) # guardar no dicionario a var actual\n",
    "        if (clauses[i][j] * randomConective) < 0: # decidir se var tem valor positivo ou negativo\n",
    "            literal[j] = Not(c[clauses[i][j]]) # se negativo, guardar a negacao\n",
    "        else:\n",
    "            literal[j] = c[clauses[i][j]] # se positivo, guardar a afirmacao\n",
    "        randomConective = np.random.choice([-1, 1], 1) # troca o valor aleatório\n",
    "    s.add( Or( Or(literal[0], literal[1] ), literal[2] ) ) # adiciona a clausula à lista\n",
    "    \n",
    "print(s.check())\n",
    "\n",
    "if s.check() == sat:\n",
    "    print(s.model())"
   ]
  }
 ],
 "metadata": {
  "kernelspec": {
   "display_name": "Python 3",
   "language": "python",
   "name": "python3"
  },
  "language_info": {
   "codemirror_mode": {
    "name": "ipython",
    "version": 3
   },
   "file_extension": ".py",
   "mimetype": "text/x-python",
   "name": "python",
   "nbconvert_exporter": "python",
   "pygments_lexer": "ipython3",
   "version": "3.7.3"
  }
 },
 "nbformat": 4,
 "nbformat_minor": 2
}
