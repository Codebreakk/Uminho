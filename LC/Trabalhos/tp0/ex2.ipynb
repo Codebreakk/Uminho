{
 "cells": [
  {
   "cell_type": "code",
   "execution_count": 1,
   "metadata": {},
   "outputs": [],
   "source": [
    "import numpy as np\n",
    "file = '/home/jc/Documents/LC/Trabalhos/tp0/output_2'"
   ]
  },
  {
   "cell_type": "code",
   "execution_count": 2,
   "metadata": {},
   "outputs": [
    {
     "name": "stdout",
     "output_type": "stream",
     "text": [
      "Array before compressing: \n",
      "\n",
      "[[1 0 0 ... 0 1 1]\n",
      " [1 0 1 ... 0 0 1]\n",
      " [0 1 1 ... 1 1 1]\n",
      " ...\n",
      " [0 0 1 ... 0 1 1]\n",
      " [1 1 0 ... 0 1 0]\n",
      " [1 1 1 ... 0 0 1]]\n",
      "\n",
      "\n",
      "Array after compressing: \n",
      "\n",
      "[[1 0 0 ... 0 1 1]\n",
      " [1 0 1 ... 0 0 1]\n",
      " [0 1 1 ... 1 1 1]\n",
      " ...\n",
      " [0 0 1 ... 0 1 1]\n",
      " [1 1 0 ... 0 1 0]\n",
      " [1 1 1 ... 0 0 1]]\n",
      "\n",
      "\n",
      "Are the arrays equal?: True\n"
     ]
    }
   ],
   "source": [
    "# TP 0 - exercício 2.a\n",
    "# gerar matriz com dimensao 1024*1024 e com valores aleatórios 0 e 1\n",
    "my_array = np.random.randint(2, size = (1024, 1024))\n",
    "# guardar matriz compacta para o ficheiro na variavel file\n",
    "np.savez_compressed(file, my_array = my_array)\n",
    "# carregar ficheiro para verificar se a matriz foi guardada correctamente\n",
    "loadedFile = np.load(file + '.npz')\n",
    "\n",
    "print(\"Array before compressing: \\n\")\n",
    "print (my_array)\n",
    "print ('\\n')\n",
    "\n",
    "print(\"Array after compressing: \\n\")\n",
    "print (loadedFile['my_array'])\n",
    "print ('\\n')\n",
    "\n",
    "arrays_equal = np.array_equal(my_array, loadedFile['my_array'])\n",
    "print(\"Are the arrays equal?: \" + str(arrays_equal))"
   ]
  },
  {
   "cell_type": "code",
   "execution_count": null,
   "metadata": {},
   "outputs": [],
   "source": []
  }
 ],
 "metadata": {
  "kernelspec": {
   "display_name": "Python 3",
   "language": "python",
   "name": "python3"
  },
  "language_info": {
   "codemirror_mode": {
    "name": "ipython",
    "version": 3
   },
   "file_extension": ".py",
   "mimetype": "text/x-python",
   "name": "python",
   "nbconvert_exporter": "python",
   "pygments_lexer": "ipython3",
   "version": "3.7.3"
  }
 },
 "nbformat": 4,
 "nbformat_minor": 2
}
