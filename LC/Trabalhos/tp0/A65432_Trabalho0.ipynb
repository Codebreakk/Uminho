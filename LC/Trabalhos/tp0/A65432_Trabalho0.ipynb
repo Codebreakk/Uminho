{
 "cells": [
  {
   "cell_type": "markdown",
   "metadata": {},
   "source": [
    "# Trabalho 0\n",
    "\n",
    "\n",
    "__2. Criar um “hello world” para IPython + Numpy com os seguintes passos:__\n",
    "\n",
    "    a. Criar uma matriz de inteiros {0,1}, aleatória, A de dimensão 1024 x 1024 armaze-\n",
    "       nada de forma compacta; usar Numpy.\n",
    "    \n"
   ]
  },
  {
   "cell_type": "markdown",
   "metadata": {},
   "source": [
    "Para gerar a matriz de inteiros de dimensão 1024 x 1024 através do numpy, usei a função randint com os seguintes argumentos:\n",
    " - o primeiro argumento é o valor inteiro máximo (exclusivé) a partir do qual randomizar. Neste caso defini o valor 2, logo os valores gerados serão sempre os valores 0 ou 1.\n",
    "   \n",
    "   \n",
    " - o segundo argumento é a dimensão da matriz. Uma vez que pretendemos gerar uma matriz de 1024 x 1024, os valores do segundo argumento são \"size = (1024, 1024)\"."
   ]
  },
  {
   "cell_type": "code",
   "execution_count": 2,
   "metadata": {},
   "outputs": [],
   "source": [
    "import numpy as np\n",
    "import pickle"
   ]
  },
  {
   "cell_type": "code",
   "execution_count": 2,
   "metadata": {
    "scrolled": true
   },
   "outputs": [
    {
     "name": "stdout",
     "output_type": "stream",
     "text": [
      "Array:\n",
      "[[0 0 1 ... 0 0 0]\n",
      " [1 0 0 ... 1 1 0]\n",
      " [1 0 0 ... 0 1 1]\n",
      " ...\n",
      " [0 0 1 ... 1 1 1]\n",
      " [0 1 0 ... 0 0 0]\n",
      " [1 1 0 ... 0 1 1]]\n",
      "\n",
      "\n"
     ]
    }
   ],
   "source": [
    "# gerar matriz com dimensao 1024 * 1024 e com valores aleatorios 0 e 1\n",
    "my_array = np.random.randint(2, size = (1024, 1024))\n",
    "print (\"Array:\\n\" + str(my_array))\n",
    "print ('\\n')\n"
   ]
  },
  {
   "cell_type": "markdown",
   "metadata": {},
   "source": [
    "    b. Explorar serializar/deserializar A; usar pickle e JSON."
   ]
  },
  {
   "cell_type": "markdown",
   "metadata": {},
   "source": [
    "Para serializar com o Pickle, usei as funções \"dumps\" e \"loads\" para primeiro gerar a matriz serializada e depois carregar o ficheiro para memória para poder ver a matriz."
   ]
  },
  {
   "cell_type": "code",
   "execution_count": 3,
   "metadata": {},
   "outputs": [
    {
     "name": "stdout",
     "output_type": "stream",
     "text": [
      "8388770\n",
      "131072\n"
     ]
    }
   ],
   "source": [
    "# serializacao com o pickle\n",
    "dump_array = pickle.dumps(my_array) # gerar o array com o pickle\n",
    "print(len(dump_array))\n",
    "load_array = pickle.loads(dump_array) # carregar o array para memoria\n",
    "\n",
    "a = np.packbits(my_array)\n",
    "print(len(a))\n",
    "#print(\"Array with Pickle:\\n\" + str(loadArray))"
   ]
  },
  {
   "cell_type": "markdown",
   "metadata": {},
   "source": [
    "__3. Criar um “hello world” para o solver Z3 para resolver um problema de SAT aleatório gerado segundo as seguintes regras:__\n",
    "\n",
    "    a. O problema tem N = 256 variáveis e M = 2 * N cláusulas.\n",
    "    \n",
    "    b. Cada cláusula contém exatamente 3 literais escolhidos aleatoriamente dentro das\n",
    "       variáveis disponíveis que, com igual probabilidade, ocorrem com ou sem conetiva\n",
    "       de negação."
   ]
  },
  {
   "cell_type": "markdown",
   "metadata": {},
   "source": [
    "Para este exercício, começamos por gerar as M cláusulas com as 256 variáveis aleatórias. Para gerar as N variáveis de forma aleatória, usamos a função do exercício anterior para gerar valores entre 1 e 256. Após gerar as cláusulas, percorremos cada uma delas e guardamos no dicionário as que ainda não tiverem sido guardadas. Após isso, atribuimos o conectivo positivo ou negativo a cada um dos literais de forma aleatória.\n",
    "No fim de atribuir cada um dos conectivos aos literais de cada cláusula, esta é adicionada à lista de cláusulas.\n",
    "No final, usamos a função check() para verificar se o problema é ou não satisfazível, e se for imprimimos a solução."
   ]
  },
  {
   "cell_type": "code",
   "execution_count": 3,
   "metadata": {
    "scrolled": false
   },
   "outputs": [
    {
     "name": "stdout",
     "output_type": "stream",
     "text": [
      "sat\n"
     ]
    }
   ],
   "source": [
    "from z3 import *\n",
    "\n",
    "n = 256; # numero de variaveis\n",
    "m = n * 2; # numero de clausulas\n",
    "\n",
    "randomVars = {}\n",
    "\n",
    "for i in range(256):\n",
    "    randomVars[i] = i\n",
    "    randomVars[-i] = -i\n",
    "\n",
    "#print(randomVars)\n",
    "# gerar as M clausulas com 3 literais cada\n",
    "clauses = np.random.randint(1, n + 1, size = (m, 3))\n",
    "randomConective = np.random.choice([-1, 1], 1)\n",
    "\n",
    "\n",
    "\n",
    "#inicializacao do solver e do dicionario\n",
    "s = Solver()\n",
    "c = {}\n",
    "\n",
    "for i in range(0, m): # percorrer cada uma das 512 clausulas\n",
    "    literal = [None] * 3\n",
    "    for j in range(0, 3): # percorrer cada um dos 3 literais\n",
    "        if (clauses[i][j] * randomConective) < 0: # decidir se var tem valor positivo ou negativo\n",
    "            literal[j] = Not(Bool(str(clauses[i][j]))) # se negativo, guardar a negacao\n",
    "        else:\n",
    "            literal[j] = Bool(str(clauses[i][j])) # se positivo, guardar a afirmacao\n",
    "        randomConective = np.random.choice([-1, 1], 1) # troca o valor aleatório\n",
    "    s.add( Or( Or(literal[0], literal[1] ), literal[2] ) ) # adiciona a clausula à lista\n",
    "    \n",
    "print(s.check())\n",
    "\n",
    "#if s.check() == sat:\n",
    " #   print(s.model())"
   ]
  }
 ],
 "metadata": {
  "kernelspec": {
   "display_name": "Python 3",
   "language": "python",
   "name": "python3"
  },
  "language_info": {
   "codemirror_mode": {
    "name": "ipython",
    "version": 3
   },
   "file_extension": ".py",
   "mimetype": "text/x-python",
   "name": "python",
   "nbconvert_exporter": "python",
   "pygments_lexer": "ipython3",
   "version": "3.7.3"
  }
 },
 "nbformat": 4,
 "nbformat_minor": 2
}
