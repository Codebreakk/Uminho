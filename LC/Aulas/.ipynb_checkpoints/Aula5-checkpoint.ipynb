{
 "cells": [
  {
   "cell_type": "markdown",
   "metadata": {},
   "source": [
    "# Aula 5"
   ]
  },
  {
   "cell_type": "markdown",
   "metadata": {},
   "source": [
    "## Problemas de alocação\n",
    "\n",
    "Os problemas de alocação modelam uma relação entre dois tipos de entidades: *compromissos* e *recursos*. Adicionalmente, as restrições sobre a alocação de recursos a compromissos classificam-se em dois tipos: *obrigações* e *limitações*.\n",
    "\n",
    "Nesta aula vamos considerar um problema de alocação. Pretende-se que faça a modelação do problema em Programação Inteira e que use o SCIP para os resolver."
   ]
  },
  {
   "cell_type": "code",
   "execution_count": null,
   "metadata": {},
   "outputs": [],
   "source": [
    "from pyscipopt import Model, quicksum"
   ]
  },
  {
   "cell_type": "markdown",
   "metadata": {},
   "source": [
    "## Horário de um centro de estudos\n",
    "\n",
    "Um centro de estudos possui $S$ salas de aula, $P$ professores, e está aberto $H$ horas por dia, durante $D$ dias na semana.\n",
    "\n",
    "O centro de estudos funciona com as seguintes regras:\n",
    "- Cada professor não pode dar mais do que $C$ horas por dia.\n",
    "- Todos os professores do centro devem ter a mesma carga horária $T$ semanal.\n",
    "- Não é permitido mais do que um professor por sala.\n",
    "- Alocações contíguas do mesmo professor têm de ser na mesma sala.\n",
    "\n",
    "Pretende-se estabelecer um horário para o centro de estudos que permita maximizar a carga horária de cada professor."
   ]
  },
  {
   "cell_type": "markdown",
   "metadata": {},
   "source": [
    "### Análise do problema\n",
    "\n",
    "Este é um problema de alocação. Pretende-se alocar professores a salas de aula, ao longo da semana, sendo o tempo de ocupação das salas de uma hora. \n",
    "\n",
    "Existem $P$ professores, que podemos identificar por um índice $p \\in [0..P\\!-\\!1]$, e podemos identificar cada sala disponível num dado dia, a uma dada hora, por um triplo $(s,d,h) \\in [0..S\\!-\\!1]\\times[0..D\\!-\\!1]\\times[0..H\\!-\\!1]$.\n",
    "\n",
    "Vamos usar uma família $x_{p,s,d,h}$ de variáveis binárias (i.e., que assumem valores inteiros $\\{0,1\\}$), com a seguinte semântica\n",
    "\n",
    "$$x_{p,s,d,h} == 1  \\quad \\mbox{se e só se} \\quad \\mbox{o professor $p$ for alocado à sala $s$, no dia $d$, à hora $h$.}$$\n",
    "\n",
    "Estas $P\\times S\\times D\\times H$ variáveis são convenientemente representadas numa matriz $X$ instanciável com valores $\\{0,1\\}^{P\\times S\\times D\\times H}$, a que se costuma chamar *matriz de alocação*.\n",
    "\n",
    "Destaca-se ainda o seguinte:\n",
    "\n",
    "**Limitações**\n",
    "\n",
    "1. A carga horária diária máxima de cada docente é $C$.\n",
    "2. Cada sala tem alocado, num máximo, um professor.\n",
    "3. Em cada dia e hora, cada professor é alocado 0 ou 1 vezes.\n",
    "\n",
    "**Obrigações**\n",
    "\n",
    "4. Todos os professores têm a mesma carga horaria $T$ semanal.\n",
    "5. No mesmo dia duas alocações contíguas do mesmo professor têm de ser na mesma sala.\n",
    "\n",
    "**Objectivo**\n",
    "\n",
    "Maximizar o número de horas de docência para cada professor.\n"
   ]
  },
  {
   "cell_type": "markdown",
   "metadata": {},
   "source": [
    "### Implementação\n",
    "\n",
    "Começamos por inicializar o modelo *horario* e definir os valores para as constantes $S$, $P$, $H$, $D$ e $C$."
   ]
  },
  {
   "cell_type": "code",
   "execution_count": null,
   "metadata": {},
   "outputs": [],
   "source": [
    "horario = Model()\n",
    "\n",
    "S, P, H, D, C = 5, 8, 6, 5, 4"
   ]
  },
  {
   "cell_type": "markdown",
   "metadata": {},
   "source": [
    "Em seguida, declaramos a matriz de alocação, $X$, e a variável $T$ que representa a carga horária semanal de cada professor."
   ]
  },
  {
   "cell_type": "markdown",
   "metadata": {},
   "source": [
    "### Exercício 1\n",
    "\n",
    "Complete a declaração da matriz de alocação $X$ como um dicionário."
   ]
  },
  {
   "cell_type": "code",
   "execution_count": null,
   "metadata": {},
   "outputs": [],
   "source": [
    "x = {}\n",
    "\n",
    "\n",
    "for p in range(P):\n",
    "    x[p] = {}\n",
    "    for s in range(S):\n",
    "        x[p][s] = {}\n",
    "        for d in range(D):\n",
    "            x[p][s][d] = {}\n",
    "            for h in range(H):\n",
    "                x[p][s][d][h] = horario.addVar(str(p) + str(s) + str(d) + str(h), vtype = 'B')\n",
    "\n",
    "\n",
    "def X(p,s,d,h):              # abreviatura\n",
    "    return x[p][s][d][h]     # p = pessoas, s = sala, d = dia, h = hora      \n",
    "\n",
    "T = horario.addVar(\"T\",vtype=\"I\",lb=0,ub=H*D) # lb = lower bound, ub = upper bound"
   ]
  },
  {
   "cell_type": "markdown",
   "metadata": {},
   "source": [
    "Passamos agora à modelação das restrições e à sua introdução no SCIP.\n",
    "\n",
    "A restrição\n",
    "\n",
    "`1. A carga horária diaria máxima de cada docente é $C$`\n",
    "\n",
    "pode expressar-se da seguinte forma:\n",
    "\n",
    "$$\\forall_{d< D}.\\forall_{p< P}. \\quad \\big(\\sum_{h< H,\\,s< S} x_{p,s,d,h}\\big) \\leq C$$"
   ]
  },
  {
   "cell_type": "code",
   "execution_count": null,
   "metadata": {},
   "outputs": [],
   "source": [
    "for d in range(D):\n",
    "    for p in range(P):\n",
    "        horario.addCons(quicksum([X(p,s,d,h) \\\n",
    "                         for h in range(H) for s in range(S)]) <= C)"
   ]
  },
  {
   "cell_type": "markdown",
   "metadata": {},
   "source": [
    "### Exercício 2\n",
    "\n",
    "Apresente as fórmulas que modelam as restantes restrições e acrescente-as ao modelo `horario`.\n",
    "\n",
    "`2. Cada sala tem alocada, no máximo, um professor.`\n"
   ]
  },
  {
   "cell_type": "markdown",
   "metadata": {},
   "source": [
    "pode expressar-se da seguinte forma:\n",
    "\n",
    "$$\\forall_{s< S}.\\forall_{d< D}.\\forall_{h< H}. \\quad \\big(\\sum_{p< P} x_{p,s,d,h}\\big) \\leq 1$$"
   ]
  },
  {
   "cell_type": "code",
   "execution_count": null,
   "metadata": {},
   "outputs": [],
   "source": [
    "for s in range(S): # para cada sala\n",
    "    for d in range(D): # para cada dia\n",
    "        for h in range(H): # para cada hora\n",
    "            horario.addCons( quicksum( [ X(p,s,d,h) \\\n",
    "                           for p in range(P)] ) <= 1)"
   ]
  },
  {
   "cell_type": "markdown",
   "metadata": {},
   "source": [
    "`3. Em cada dia e hora, cada professor é alocado 0 ou 1 vezes.`\n"
   ]
  },
  {
   "cell_type": "markdown",
   "metadata": {},
   "source": [
    "pode expressar-se da seguinte forma:\n",
    "\n",
    "$$\\forall_{d< D}.\\forall_{h< H}.\\forall_{p< P}. \\quad \\big(\\sum_{s< S} x_{p,s,d,h}\\big) \\leq 1$$"
   ]
  },
  {
   "cell_type": "code",
   "execution_count": null,
   "metadata": {},
   "outputs": [],
   "source": [
    " for d in range(D): # para cada dia\n",
    "    for h in range(H): # para cada hora\n",
    "        for p in range(P): # para cada professor\n",
    "            horario.addCons( quicksum( [ X(p,s,d,h) \\\n",
    "                           for s in range(S)] ) <= 1)"
   ]
  },
  {
   "cell_type": "markdown",
   "metadata": {},
   "source": [
    "`4. Todos os professores têm a mesma carga horaria $T$ semanal.`\n"
   ]
  },
  {
   "cell_type": "markdown",
   "metadata": {},
   "source": [
    "pode expressar-se da seguinte forma:\n",
    "\n",
    "$$\\forall_{p< P}. \\quad \\big(\\sum_{s< S,\\,d< D,\\,h< H} x_{p,s,d,h}\\big) = T$$"
   ]
  },
  {
   "cell_type": "code",
   "execution_count": null,
   "metadata": {},
   "outputs": [],
   "source": [
    "# completar\n",
    "for d in range(D): # para cada dia\n",
    "    horario.addCons( quicksum( [ X(p,s,d,h) \\\n",
    "                           for s in range(S) for d in range(D) for p in range(P)] ) <= T)"
   ]
  },
  {
   "cell_type": "markdown",
   "metadata": {},
   "source": [
    "`5. No mesmo dia duas alocações contíguas do mesmo professor têm de ser na mesma sala.`\n"
   ]
  },
  {
   "cell_type": "markdown",
   "metadata": {},
   "source": [
    "pode expressar-se da seguinte forma:\n",
    "\n",
    "$$\\forall_{d< D}.\\forall_{p< P}.\\forall_{h< H-1}.\\forall_{s< s'< S} \\quad \\big( x_{p,s,d,h} + x_{p,s',d,h+1} \\leq 1\\big) \\land \\big( x_{p,s',d,h} + x_{p,s,d,h+1} \\leq 1\\big) $$"
   ]
  },
  {
   "cell_type": "code",
   "execution_count": null,
   "metadata": {},
   "outputs": [],
   "source": [
    "# completar \n",
    "for d in range(D): # para cada dia\n",
    "    for p in range(P): # para cada professor\n",
    "        for h in range(H - 1): # para cada hora\n",
    "            for s1 in range(S): # para cada sala\n",
    "                for s2 in range(S-1):\n",
    "                    horario.addCons(x[p][s1][d][h] + x[p][s2][d][h+1] <= 1)\n",
    "                    horario.addCons(x[p][s2][d][h] + x[p][s1][d][h+1] <= 1)\n",
    "                    \n",
    "                "
   ]
  },
  {
   "cell_type": "markdown",
   "metadata": {},
   "source": [
    "### Exercício 3\n",
    "\n",
    "Finalize a resolução do problema, introduzindo o critério de optimização, procurando uma solução, e imprimindo-a, caso exista.\n",
    "\n",
    "Recorde que  objectivo do problema é \n",
    "`Maximizar o número de horas de docência para cada professor.`\n",
    "\n"
   ]
  },
  {
   "cell_type": "code",
   "execution_count": null,
   "metadata": {},
   "outputs": [],
   "source": [
    "# completar \n",
    "horario.setObjective(T, sense = 'maximize')\n",
    "horario.optimize()\n",
    "\n",
    "if horario.getStatus() == 'optimal':\n",
    "    print(horario.getVal(T))"
   ]
  },
  {
   "cell_type": "markdown",
   "metadata": {},
   "source": [
    "### Exercício 4\n",
    "\n",
    "Defina funções para construir os horarios de professores e salas individuais, e para apresentar de forma legível esses horários."
   ]
  },
  {
   "cell_type": "code",
   "execution_count": null,
   "metadata": {
    "scrolled": false
   },
   "outputs": [],
   "source": [
    "def prof(p):\n",
    "   # completar \n",
    "\n",
    "def sala(s):\n",
    "    # completar \n",
    "\n",
    "def apresenta(A):\n",
    "    # completar             \n",
    "            \n",
    "            \n",
    "\n",
    "print(\"\\n=== Professor 0 ===\")            \n",
    "apresenta(prof(0))\n",
    "print(\"\\n=== Sala 0 ===\")            \n",
    "apresenta(sala(0))\n"
   ]
  },
  {
   "cell_type": "markdown",
   "metadata": {},
   "source": [
    "### Exercício 5\n",
    "\n",
    "Explore o comportamento do modelo pela variação dos parâmetros $S$, $P$, $H$, $D$ e $C$."
   ]
  },
  {
   "cell_type": "markdown",
   "metadata": {},
   "source": [
    "### Exercício 6\n",
    "\n",
    "Queremos agora acrescentar a seguinte regra no funcionamento do centro de estudos:\n",
    "\n",
    "`Cada professor tem de ter um dia da semana em que não dá aulas.`\n",
    "\n",
    "Esta *obrigação* poderia ser expressa matemáticamente, de forma direta, por\n",
    "$$\n",
    "\\forall_{p<P}.\\exists_{d<D}. \\quad \\sum_{s<S,h<H} x_{p,s,d,h} = 0\n",
    "$$\n",
    "ou, em alternativa, pela seguinte expressão\n",
    "$$\n",
    "\\forall_{p<P}. \\quad \\bigvee_{d<D} \\big(\\sum_{s<S,h<H} x_{p,s,d,h} = 0\\big) \n",
    "$$\n",
    "\n",
    "Contudo a disjunção não tem uma representação direta em SCIP. Para a implementar podemos\n",
    " acrescentar uma família de variáveis binárias $y_{p,d}$ que indicam se o professor $p$ dá aulas no dia $d$.\n",
    " O valor de cada $y_{p,d}$ será então a disjunção de todas as aulas do professor $p$, no dia $d$. O método para acrescentar esta restrição é o `addConsOr`, pelo que, para cada dia $d$, ter-se-á que invocar\n",
    "\n",
    "   `horario.addConsOr([X(p,s,d,h) for s in range(S) for h in range(H)],y[p][d])`\n",
    "\n",
    "Naturalmente que, para cada professor, a soma de todas estas variáveis $y_{p,d}$ terá que ser inferior a $D$.\n",
    "\n",
    "Apresente as fórmulas que modelam esta nova obrigação. "
   ]
  },
  {
   "cell_type": "markdown",
   "metadata": {},
   "source": [
    "..."
   ]
  },
  {
   "cell_type": "markdown",
   "metadata": {},
   "source": [
    "Acrescente agora as fórmulas ao modelo horario, e encontre nova solução.\n",
    "\n",
    "**Nota:** Não é premitido modificar o problema depois de evocar o método `optimize`. Para reverter o solver para o estado antes de optimizar deverá usar método `freeTransform`."
   ]
  },
  {
   "cell_type": "code",
   "execution_count": null,
   "metadata": {},
   "outputs": [],
   "source": [
    "# completar "
   ]
  },
  {
   "cell_type": "code",
   "execution_count": null,
   "metadata": {},
   "outputs": [],
   "source": []
  }
 ],
 "metadata": {
  "kernelspec": {
   "display_name": "Python 3",
   "language": "python",
   "name": "python3"
  },
  "language_info": {
   "codemirror_mode": {
    "name": "ipython",
    "version": 3
   },
   "file_extension": ".py",
   "mimetype": "text/x-python",
   "name": "python",
   "nbconvert_exporter": "python",
   "pygments_lexer": "ipython3",
   "version": "3.7.3"
  }
 },
 "nbformat": 4,
 "nbformat_minor": 2
}
