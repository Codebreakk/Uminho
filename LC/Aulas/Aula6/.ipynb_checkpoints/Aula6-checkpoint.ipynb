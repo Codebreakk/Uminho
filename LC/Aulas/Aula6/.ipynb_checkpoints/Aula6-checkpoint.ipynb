{
 "cells": [
  {
   "cell_type": "markdown",
   "metadata": {},
   "source": [
    "# Aula 6"
   ]
  },
  {
   "cell_type": "markdown",
   "metadata": {},
   "source": [
    "## Problemas de incidência\n",
    "\n",
    "Uma versão particular dos problemas de alocação são os *problemas de incidência*. Genericamente estes problemas estão ligados aos conjuntos que é possível  formar com os elementos de um dado universo finito.\n",
    "\n",
    "É frequente usar nestes problemas uma matriz binária $A$ com a seguinte semântica:\n",
    "\n",
    "> $A_{i,j} = 1 \\quad$ se e só se $\\quad$ o elemento $i$ do universo está contido no conjunto $j$.\n",
    "\n",
    "Estas matrizes chamam-se *matrizes de incidência* e daí resulta o nome genérico para estes problemas."
   ]
  },
  {
   "cell_type": "markdown",
   "metadata": {},
   "source": [
    "## Set cover\n",
    "\n",
    "Um dos problemas clássicos das ciências da computação nesta categoria é o problema do *set cover* descrito em https://en.wikipedia.org/wiki/Set_cover_problem.\n",
    "\n",
    "Neste problema, são dados\n",
    "- $U$, o universo de valores\n",
    "- $S$, o conjunto de conjuntos,  cuja união é igual a $U$\n",
    "\n",
    "O objectivo é determinar o menor número de conjuntos de $S$ cuja união é igual a $U$, i.e., a *cobertura mínima* de $U$.\n",
    "\n",
    "### Análise do problema\n",
    "\n",
    "Podemos representar este problema por uma matriz de incidência $A \\in \\{0,1\\}^{|U| \\times |S|}$. Por exemplo, se $U=\\{0,1,2,3,4\\}$ e $S = \\{\\{0,1,2\\},\\{1,3\\},\\{2,3\\},\\{3,4\\}\\}$ temos a seguinte matriz de incidência\n",
    "\n",
    "$$\n",
    "\\begin{array}{c|c|c|c|c}\n",
    "& S_0 & S_1 & S_2 & S_3\\\\\n",
    "\\hline\n",
    "0 & 1 & 0 & 0 & 0\\\\\n",
    "\\hline\n",
    "1 & 1 & 1 & 0 & 0\\\\\n",
    "\\hline\n",
    "2 & 1 & 0 & 1 & 0\\\\\n",
    "\\hline\n",
    "3 & 0 & 1 & 1 & 1\\\\\n",
    "\\hline\n",
    "4 & 0 & 0 & 0 & 1\n",
    "\\end{array}\n",
    "$$\n",
    "\n",
    "Neste exemplo, a cobertura mínima é $S_0 \\cup S_3 = U$.\n",
    "\n",
    "Este problema pode ser resolvido com programação inteira usando uma variável binária $x_j$ para cada conjunto $S_j$, que irá determinar se esse conjunto pertence à cobertura mínima. O objectivo é minimizar $\\sum_j x_j$ obedecendo à seguinte restrição:\n",
    "- Cada elemento de $U$ tem que pertencer a pelo menos um conjunto da cobertura mínima."
   ]
  },
  {
   "cell_type": "markdown",
   "metadata": {},
   "source": [
    "### Exercício 1\n",
    "Formalize a restrição acima indicada.\n",
    "\n",
    "$$\\forall_{i \\in U}. \\quad \\big(\\sum_{j< S-1} x_{j} * A_{i,j}\\big) < 1$$"
   ]
  },
  {
   "cell_type": "markdown",
   "metadata": {},
   "source": [
    "### Exercício 2\n",
    "Usando o SCIP, defina a função `set_cover` que dada a matriz de incidência (representada como uma lista de colunas) determine quais os conjuntos que pertencem à cobertura mínima."
   ]
  },
  {
   "cell_type": "code",
   "execution_count": 1,
   "metadata": {},
   "outputs": [],
   "source": [
    "from pyscipopt import Model,quicksum\n",
    "\n",
    "def set_cover(A):\n",
    "    # completar\n",
    "    x = {}\n",
    "    cover = Model()\n",
    "    \n",
    "    S = len(A)    # j\n",
    "    U = len(A[0]) # i\n",
    "    \n",
    "    for j in range(S):\n",
    "        x[j] = cover.addVar('', vtype = 'B')\n",
    "    \n",
    "    for i in range(U):\n",
    "        cover.addCons(quicksum((x[j] * A[j][i]) for j in range(S)) >= 1)\n",
    "    \n",
    "    cover.setObjective(quicksum(x.values()), sense = 'minimize')\n",
    "    cover.optimize()\n",
    "            \n",
    "    if cover.getStatus() == 'optimal':\n",
    "        return[j for j in range(S) if cover.getVal(x[j]) == 1]\n",
    "        print(cover.getVal(R))\n",
    "\n",
    "\n",
    "        \n",
    "assert set_cover([[1,1,1,0,0],[0,1,0,1,0],[0,0,1,1,0],[0,0,0,1,1]]) == [0,3]"
   ]
  },
  {
   "cell_type": "markdown",
   "metadata": {},
   "source": [
    "## Bin packing\n",
    "\n",
    "Outro problema clássico na categoria dos problemas de incidência, que generaliza o problema anterior, é o problema de empacotamento *bin packing* descrito em https://en.wikipedia.org/wiki/Bin_packing_problem. \n",
    "\n",
    "Neste problema, são dados\n",
    "- $N$, o número de items a empacotar\n",
    "- $C$, a capacidade das contentores onde pretendemos empacotar os items\n",
    "- $W_i$, o peso de cada item $i$, com $0 < W_i \\le C$\n",
    "\n",
    "Pretende-se determinar o número mínimo de contentores necessários para empacotar todos os items (note que, no pior caso, tal será possível com $N$ contentores).\n",
    "\n",
    "Por exemplo, se tivermos\n",
    "- $N = 7$\n",
    "- $C = 10$\n",
    "- $W_0 = 2, W_1 = 5, W_2 = 4, W_3 = 7, W_4 = 1, W_5 = 3, W_6 = 8$\n",
    "\n",
    "o número mínimo de contentores necessários é 3.\n",
    "\n",
    "### Análise do problema\n",
    "\n",
    "Ao contrário do problema anterior, em que a matriz de incidência é dada como input, neste problema pretende-se precisamente descobrir esta matriz, minimizando simultaneamente o número de contentores. Como tal, para resolver este problema com programação inteira iremos usar as seguintes variáveis:\n",
    "\n",
    "- Uma matriz $A$ de variáveis binárias de dimensão $|N| \\times |N|$, onde a variável $A_{i,j}$ determina se o item $i$ é colocado no contentor $j$\n",
    "- Uma variável binária $y_j$ por cada contentor $j$ que determina se esse contentor é utilizado\n",
    "\n",
    "O objectivo é minimizar $\\sum_j y_j$ obedecendo às seguintes restrições:\n",
    "- Cada item tem que ser empacotado num contentor\n",
    "- A capacidade de cada contentor não pode ser excedida (considere que a capacidade de um contentor não utilizado é 0)."
   ]
  },
  {
   "cell_type": "markdown",
   "metadata": {},
   "source": [
    "### Exercício 3\n",
    "Formalize as duas restrições acima indicadas.\n",
    "\n",
    "\n",
    "$N$: número de item\n",
    "\n",
    "$C$: capacidade\n",
    "\n",
    "$W_{i}$: peso do item i\n",
    "\n",
    "$i$ são itens, $j$ são contentores\n",
    "\n",
    "$y_{j}=1$ sse o contentor j está a ser usado\n",
    "\n",
    "$A_{i,j}=1$ sse o item i está no contentor j\n",
    "\n",
    "__Objectivo__: minimizar $\\quad \\big(\\sum_{j} y_{j} \\big)$\n",
    "\n",
    "__Restrições__: \n",
    " - cada item tem que estar em apenas um contentor:\n",
    "$$\\forall_{i}. \\quad \\big(\\sum_{j} A_{i,j}\\big) = 1$$\n",
    " - a capacidade do contentor não pode ser excedida:\n",
    " $$\\forall_{j}. \\quad \\big(\\sum_{i} A_{i,j} * W_{i}\\big) \\le C * y_{j}$$"
   ]
  },
  {
   "cell_type": "markdown",
   "metadata": {},
   "source": [
    "### Exercício 4\n",
    "Usando o SCIP, defina a função `binpacking` que dada a capacidade dos contentores e uma lista com os pesos dos items a empacotar determine o número mínimo de contentores necessários para o fazer."
   ]
  },
  {
   "cell_type": "code",
   "execution_count": 30,
   "metadata": {},
   "outputs": [],
   "source": [
    "def binpacking(C,W):\n",
    "    # completar\n",
    "    m = Model()\n",
    "    y = {}\n",
    "    A = {}\n",
    "    N = len(W)\n",
    "    \n",
    "    for i in range(N):\n",
    "        y[i] = m.addVar('', vtype = 'B')\n",
    "        A[i] = {}\n",
    "        for j in range(N):\n",
    "            A[i][j] = m.addVar('', vtype = 'B')\n",
    "    \n",
    "    # primeira restrição\n",
    "    for i in range(N):\n",
    "        m.addCons( quicksum([A[i][j] for j in range(N)]) == 1)\n",
    "    \n",
    "    # segunda restrição\n",
    "    for j in range(N):\n",
    "        m.addCons( quicksum([W[i] * A[i][j] for i in range(N)]) == C * y[j])\n",
    "    \n",
    "    m.setObjective(quicksum(y[j] for j in range(N)), sense = 'minimize')\n",
    "    m.optimize()\n",
    "    assert m.getStatus() == 'optimal'\n",
    "    \n",
    "    return(int(sum([m.getVal(y[i]) for i in range(N)])))\n",
    "    \n",
    "assert binpacking(10,[2,5,4,7,1,3,8]) == 3"
   ]
  },
  {
   "cell_type": "markdown",
   "metadata": {},
   "source": [
    "### Exercício 5\n",
    "Modifique a sua implementação da função anterior por forma a devolver uma lista com os identificadores dos contentores onde cada item deve ser empacotado."
   ]
  },
  {
   "cell_type": "code",
   "execution_count": 48,
   "metadata": {},
   "outputs": [
    {
     "data": {
      "text/plain": [
       "[3, 6, 6, 5, 6, 5, 3]"
      ]
     },
     "execution_count": 48,
     "metadata": {},
     "output_type": "execute_result"
    }
   ],
   "source": [
    "def binpacking(C,W):\n",
    "    \n",
    "    # completar\n",
    "    m = Model()\n",
    "    y = {}\n",
    "    A = {}\n",
    "    N = len(W)\n",
    "    \n",
    "    for i in range(N):\n",
    "        y[i] = m.addVar('', vtype = 'B')\n",
    "        A[i] = {}\n",
    "        for j in range(N):\n",
    "            A[i][j] = m.addVar('', vtype = 'B')\n",
    "    \n",
    "    # primeira restrição\n",
    "    for i in range(N):\n",
    "        m.addCons( quicksum([A[i][j] for j in range(N)]) == 1)\n",
    "    \n",
    "    # segunda restrição\n",
    "    for j in range(N):\n",
    "        m.addCons( quicksum([W[i] * A[i][j] for i in range(N)]) == C * y[j])\n",
    "    \n",
    "    m.setObjective(quicksum(y[j] for j in range(N)), sense = 'minimize')\n",
    "    m.optimize()\n",
    "    assert m.getStatus() == 'optimal'\n",
    "    \n",
    "    resposta = []\n",
    "    for i in range(N):\n",
    "        for j in range(N):\n",
    "            if m.getVal(A[i][j]) == 1:\n",
    "                resposta.append(j)\n",
    "                \n",
    "    return resposta\n",
    "    \n",
    "\n",
    "binpacking(10,[2,5,4,7,1,3,8])"
   ]
  },
  {
   "cell_type": "markdown",
   "metadata": {},
   "source": [
    "### Exercício 6\n",
    "\n",
    "Em https://www2.wiwi.uni-jena.de/Entscheidung/binpp/bin1dat.htm pode encontrar um conjunto de ficheiros com diferentes instâncias deste problema. Altere a função `binpacking` para resolver uma instância deste problema contida num ficheiro no formato utilizado neste *data set*. Como algumas instâncias são de difícil resolução, parametrize a função com um tempo limite para a resolução. Para definir o tempo limite `t` pode invocar o método `setRealParam(\"limits/time\",t)` sobre o modelo antes da optimização. Determine também quais das 20 instâncias da categoria `N1C1W1` conseguem resolver em menos de 1 segundo."
   ]
  },
  {
   "cell_type": "code",
   "execution_count": null,
   "metadata": {},
   "outputs": [],
   "source": [
    "def binpacking(name,time):\n",
    "    # completar\n",
    "\n",
    "# completar"
   ]
  },
  {
   "cell_type": "markdown",
   "metadata": {},
   "source": [
    "## Knapsack\n",
    "\n",
    "Outro problema clássico de incidência é o *problema da mochila* descrito em https://en.wikipedia.org/wiki/Knapsack_problem.\n",
    "\n",
    "Neste problema, são dados\n",
    "- $N$, o número de items disponíveis\n",
    "- $C$, a capacidade da mochila\n",
    "- $W_i$, o peso de cada item $i$, com $0 < W_i \\le C$\n",
    "- $V_i$, o valor de cada item $i$, com $0 \\le V_i$\n",
    "\n",
    "Pretende-se determinar o valor máximo que pode ser transportado na mochila.\n",
    "\n",
    "Por exemplo, se tivermos uma mochila com capacidade $C = 15$ e 5 items com os seguintes pesos e valores\n",
    "$$\n",
    "\\begin{array}{c|c|c}\n",
    "& W & V\\\\\n",
    "\\hline\n",
    "0 & 12 & 4\\\\\n",
    "1 & 2 & 2\\\\\n",
    "2 & 1 & 2\\\\\n",
    "3 & 1 & 1\\\\\n",
    "4 & 4 & 10\n",
    "\\end{array}\n",
    "$$\n",
    "a melhor solução é empacotar todos os items menos o primeiro, com um valor total de 15."
   ]
  },
  {
   "cell_type": "markdown",
   "metadata": {},
   "source": [
    "### Exercício 7\n",
    "Formalize este problema usando programação inteira."
   ]
  },
  {
   "cell_type": "markdown",
   "metadata": {},
   "source": [
    "### Exercício 8\n",
    "Implemente a função `knapsack` que dada a capacidade e uma lista com um par *(peso, valor)* por cada item, determine quais os items a empacotar na mochila e o respectivo valor."
   ]
  },
  {
   "cell_type": "code",
   "execution_count": null,
   "metadata": {},
   "outputs": [],
   "source": [
    "def knapsack(C,I):\n",
    "    # completar\n",
    "    \n",
    "assert knapsack(15,[(12,4),(2,2),(1,2),(1,1),(4,10)]) == [1,2,3,4]"
   ]
  },
  {
   "cell_type": "markdown",
   "metadata": {},
   "source": [
    "### Exercício 9\n",
    "Em http://artemisa.unicauca.edu.co/~johnyortega/instances_01_KP/ pode encontrar um conjunto de ficheiros com diferentes instâncias deste problema. Altere a função `knapsack` para resolver uma instância deste problema contida num ficheiro no formato utilizado neste *data set*."
   ]
  },
  {
   "cell_type": "code",
   "execution_count": null,
   "metadata": {},
   "outputs": [],
   "source": [
    "def knapsack(name):\n",
    "    # completar\n",
    "\n",
    "knapsack('f1_l-d_kp_10_269')"
   ]
  }
 ],
 "metadata": {
  "kernelspec": {
   "display_name": "Python 3",
   "language": "python",
   "name": "python3"
  },
  "language_info": {
   "codemirror_mode": {
    "name": "ipython",
    "version": 3
   },
   "file_extension": ".py",
   "mimetype": "text/x-python",
   "name": "python",
   "nbconvert_exporter": "python",
   "pygments_lexer": "ipython3",
   "version": "3.7.3"
  }
 },
 "nbformat": 4,
 "nbformat_minor": 2
}
