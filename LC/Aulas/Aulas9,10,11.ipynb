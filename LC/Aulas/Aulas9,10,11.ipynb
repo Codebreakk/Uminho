{
 "cells": [
  {
   "cell_type": "markdown",
   "metadata": {},
   "source": [
    "# Aulas 9, 10 e 11\n",
    "\n",
    "## *First-order Transition Systems* (FOTS)\n",
    "\n",
    "FOTS são modelos de sistemas dinâmicos que são determinados por um espaço de estados, uma relação de transição de estados e um conjunto de estados iniciais. Nos FOTS o conjunto de estados iniciais é descrito por um predicado unário (*init*) sobre o vector de variáveis associado ao espaço de estados, e a relação de transição é descrita por um predicado binário (*trans*) sobre dois vectores de variáveis que representam o estado antes e depois da transição."
   ]
  },
  {
   "cell_type": "markdown",
   "metadata": {},
   "source": [
    "### Modelação de programas com FOTS\n",
    "\n",
    "Um programa pode ser modelado por um FOTS da seguinte forma:\n",
    "- O estado é constituído pelas variáveis do programa mais uma variável para o respectivo *program counter*\n",
    "- Os estados iniciais são caracterizados implicitamente por um predicado sobre as variáveis de estado\n",
    "- As transições são caracterizadas implicitamente por um predicado sobre pares de estados\n",
    "\n",
    "Considere, por exemplo o programa seguinte, anotado com uma pré-condição que restringe o valor inicial de $x$:\n",
    "\n",
    "```Python\n",
    "{x >= 3}\n",
    "0: while (x>0):\n",
    "1:    x = x-1\n",
    "2:\n",
    "```\n",
    "\n",
    "Neste caso o estado do FOTS respectivo será um par de inteiros, o primeiro contendo o valor do $\\mathit{pc}$ (o *program counter* que neste caso pode ser 0, 1 ou 2) e o segundo o valor da variável $x$. O estado inicial é caracterizado pelo seguinte predicado:\n",
    "\n",
    "$$\n",
    "\\mathit{pc} = 0 \\wedge x \\ge 3\n",
    "$$\n",
    "\n",
    "As transições possíveis no FOTS são caracterizadas pelo seguinte predicado:\n",
    "\n",
    "$$\n",
    "\\begin{array}{c}\n",
    "(\\mathit{pc} = 0 \\wedge x > 0 \\wedge \\mathit{pc}' = 1 \\wedge x' = x)\\\\\n",
    "\\vee\\\\\n",
    "(\\mathit{pc} = 0 \\wedge x \\le 0 \\wedge \\mathit{pc}' = 2 \\wedge x' = x) \\\\\n",
    "\\vee\\\\\n",
    "(\\mathit{pc} = 1 \\wedge \\mathit{pc}' = 0 \\wedge x' = x - 1) \\\\\n",
    "\\vee\\\\\n",
    "(\\mathit{pc} = 2 \\wedge \\mathit{pc}' = 2 \\wedge x' = x)\n",
    "\\end{array}\n",
    "$$\n",
    "\n",
    "Note que este predicado é uma disjunção de todas as possíveis transições que podem ocorrer no programa. Cada transição é caracterizada por um predicado onde uma variável do programa denota o seu valor no pré-estado e a mesma variável com apóstrofe denota o seu valor no pós-estado. É usual exigir que cada estado do FOTS tenha pelo menos um sucessor, pelo que o estado final do programa é caracterizado por uma transição para ele próprio (um lacete).\n",
    "\n",
    "Usando estes predicados podemos usar um SMT solver (nomeadamente o Z3) para, por exemplo, gerar uma possível execução de $k\\!-\\!1$ passos do programa (em que $k>0$). Para tal precisamos de criar $k$ cópias das variáveis que caracterizam o estado do FOTS e depois impor que a primeira cópia satisfaz o predicado inicial e que cada par de cópias consecutivas satisfazem o predicado de transição.\n",
    "\n",
    "A seguinte função cria a $i$-ésima cópia das variáveis de estado, agrupadas num dicionário que nos permite aceder às mesmas pelo nome."
   ]
  },
  {
   "cell_type": "code",
   "execution_count": 3,
   "metadata": {
    "ExecuteTime": {
     "end_time": "2019-11-20T11:33:01.318599Z",
     "start_time": "2019-11-20T11:33:01.006812Z"
    }
   },
   "outputs": [],
   "source": [
    "from z3 import *\n",
    "\n",
    "def declare(i):\n",
    "    state = {}\n",
    "    state['pc'] = Int('pc'+str(i))\n",
    "    state['x'] = Int('x'+str(i))\n",
    "    return state"
   ]
  },
  {
   "cell_type": "markdown",
   "metadata": {},
   "source": [
    "### Exercício 1\n",
    "\n",
    "Defina a função `init` que, dado um possível estado do programa (um dicionário de variáveis), devolva um predicado Z3 que testa se esse estado é um possível estado inicial do programa."
   ]
  },
  {
   "cell_type": "code",
   "execution_count": 4,
   "metadata": {
    "ExecuteTime": {
     "end_time": "2019-11-20T11:33:01.324793Z",
     "start_time": "2019-11-20T11:33:01.320246Z"
    }
   },
   "outputs": [],
   "source": [
    "def init(s):\n",
    "    return And(s['pc']==0,s['x']>=3)"
   ]
  },
  {
   "cell_type": "markdown",
   "metadata": {},
   "source": [
    "### Exercício 2\n",
    "\n",
    "Defina a função `trans` que, dados dois possíveis estados do programa, devolva um predicado Z3 que testa se é possível transitar do primeiro para o segundo."
   ]
  },
  {
   "cell_type": "code",
   "execution_count": 5,
   "metadata": {
    "ExecuteTime": {
     "end_time": "2019-11-20T11:33:01.338563Z",
     "start_time": "2019-11-20T11:33:01.326835Z"
    }
   },
   "outputs": [],
   "source": [
    "def trans(s,p):\n",
    "    t01= And(s['pc']==0,s['x']>0,p['pc']==1,p['x']==s['x'])\n",
    "    t02= And(s['pc']==0,s['x']<=0,p['pc']==2,p['x']==s['x'])\n",
    "    t10= And(s['pc']==1,p['pc']==0,p['x']==s['x']-1)\n",
    "    t22= And(s['pc']==2,p['pc']==2,p['x']==s['x'])\n",
    "    return Or(t01,t02,t10,t22)"
   ]
  },
  {
   "cell_type": "markdown",
   "metadata": {},
   "source": [
    "### Exercício 3\n",
    "\n",
    "Complete a função de ordem superior `gera_traco` que, dada uma função que gera uma cópia das variáveis do estado, um predicado que testa se um estado é inicial, um predicado que testa se um par de estados é uma transição válida, e um número positivo `k`, use o Z3 para gerar um possível traço de execução do programa de tamanho `k`. Para cada estado do traço deverá imprimir o respectivo valor das variáveis."
   ]
  },
  {
   "cell_type": "code",
   "execution_count": 6,
   "metadata": {
    "ExecuteTime": {
     "end_time": "2019-11-20T11:33:02.639191Z",
     "start_time": "2019-11-20T11:33:01.340097Z"
    }
   },
   "outputs": [
    {
     "name": "stdout",
     "output_type": "stream",
     "text": [
      "0\n",
      "pc 0\n",
      "x 5\n",
      "1\n",
      "pc 1\n",
      "x 5\n",
      "2\n",
      "pc 0\n",
      "x 4\n",
      "3\n",
      "pc 1\n",
      "x 4\n",
      "4\n",
      "pc 0\n",
      "x 3\n",
      "5\n",
      "pc 1\n",
      "x 3\n",
      "6\n",
      "pc 0\n",
      "x 2\n",
      "7\n",
      "pc 1\n",
      "x 2\n",
      "8\n",
      "pc 0\n",
      "x 1\n",
      "9\n",
      "pc 1\n",
      "x 1\n"
     ]
    }
   ],
   "source": [
    "def gera_traco(declare,init,trans,k):\n",
    "    s = Solver()\n",
    "    state = []\n",
    "    for i in range(k):\n",
    "        state.append(declare(i))\n",
    "    s.add(init(state[0]))\n",
    "    for i in range(k - 1):\n",
    "        s.add(trans(state[i], state[i + 1]))\n",
    "    if s.check() == sat:\n",
    "        m = s.model()\n",
    "        for i in range(k):\n",
    "            print(i)\n",
    "            for v in state[i]:\n",
    "                print(v, m[state[i][v]])\n",
    "                \n",
    "gera_traco(declare,init,trans,10)"
   ]
  },
  {
   "cell_type": "markdown",
   "metadata": {},
   "source": [
    "### Lógica temporal linear (LTL)\n",
    "\n",
    "Sobre este FOTS podemos querer verificar várias propriedades temporais, como por exemplo:\n",
    "1. $x$ é sempre positivo\n",
    "2. $x$ é sempre diferente de 1\n",
    "3. $x$ chega inevitavelmente a 0\n",
    "4. $x$ chega inevitavelmente a um valor negativo\n",
    "5. o programa termina\n",
    "\n",
    "Estas propriedades são de natureza muito diferente. As duas primeiras são *propriedades de segurança* (*safety*) que, em geral, garantem que \"nada de mau irá acontecer\". Neste caso em particular são invariantes, ou seja, propriedades que devem ser verdade em todos os estados da execução do programa. As três últimas são *propriedades de animação* (*liveness*) que, em geral, garantem que \"algo de bom irá acontecer\".\n",
    "\n",
    "A lógica LTL introduz *operadores temporais* que nos permitem escrever estas propriedades formalmente. Os operadores mais conhecidos são o $G$, que informalmente significa \"*é sempre verdade que*\", e o $F$, que informalmente significa \"*é inevitável que*\". Com estes operadores, as propriedades acima podem ser especificadas formalmente do seguinte modo\n",
    "1. $G\\ (x \\ge 0)$\n",
    "2. $G\\ (x \\neq 1)$\n",
    "3. $F\\ (x = 0)$\n",
    "4. $F\\ (x < 0)$\n",
    "5. $F\\ (pc = 2)$\n",
    "\n",
    "### *Bounded Model Checking* (BMC) para LTL\n",
    "\n",
    "Como é óbvio, nem todas estas propriedades são válidas. Em particular a 2ª e a 4ª não o são. O objectivo da verificação é precisamente determinar se uma propriedade temporal é válida num FOTS ou não. Este procedimento designa-se *model checking* e, quando uma propriedade não é válida, produz um contra-exemplo (um traço do FOTS correspondente a uma execução do programa onde a propriedade falha). Nesta aula vamos estudar uma técnica particular de *model checking* designada *bounded model checking*, onde o objectivo é determinar se uma propriedade temporal é válida nos primeiros $K$ estados da execução do FOTS.\n",
    "\n",
    "A ideia passa por usar um SMT solver (neste caso o Z3) para tentar descobrir um contra-exemplo para uma dada propriedade. Para simplificar vamos abordar apenas dois casos: verificação de invariantes da forma $G\\ \\phi$ e propriedades de animação simples da forma $F\\ \\phi$, em que $\\phi$ é uma fórmula sem operadores temporais.\n",
    "\n",
    "### BMC de invariantes\n",
    "\n",
    "Para fazer BMC de um invariante, por exemplo $G\\ (x \\ge 0)$ basta-nos usar o Z3 para encontrar um contra-exemplo com no máximo $K$ estados onde a propriedade $(x \\ge 0)$ seja inválida nalgum estado. Para tal podemos implementar um procedimento iterativo que tenta encontrar esse contra-exemplo com tamanhos crescentes, começando com tamanho 1 até ao tamanho máximo $K$. Para cada tamanho $0 < k \\le K$ basta tentar encontrar um possível traço onde o invariante a verificar seja inválido no último estado. Para tal podemos usar um código muito semelhante ao da função `gera_traco`. O procedimento é interrompido mal um contra-exemplo seja encontrado, sendo garantido que esse é um contra-exemplo mínimo para essa propriedade."
   ]
  },
  {
   "cell_type": "markdown",
   "metadata": {},
   "source": [
    "### Exercício 4\n",
    "\n",
    "Complete a definição da função de ordem superior `bmc_always` que, dada uma função que gera uma cópia das variáveis do estado, um predicado que testa se um estado é inicial, um predicado que testa se um par de estados é uma transição válida, um invariante a verificar, e um número positivo `K`, use o Z3 para verificar se esse invariante é sempre válido nos primeiros `K-1` passos de execução do programa, ou devolva um contra-exemplo mínimo caso não seja."
   ]
  },
  {
   "cell_type": "code",
   "execution_count": 7,
   "metadata": {
    "ExecuteTime": {
     "end_time": "2019-11-20T11:33:03.182901Z",
     "start_time": "2019-11-20T11:33:02.640753Z"
    }
   },
   "outputs": [
    {
     "name": "stdout",
     "output_type": "stream",
     "text": [
      "k= 1\n",
      "k= 2\n",
      "k= 3\n",
      "k= 4\n",
      "k= 5\n",
      "k= 6\n",
      "k= 7\n",
      "k= 8\n",
      "k= 9\n",
      "k= 10\n",
      "k= 11\n",
      "k= 12\n",
      "k= 13\n",
      "k= 14\n",
      "k= 15\n",
      "k= 16\n",
      "k= 17\n",
      "k= 18\n",
      "k= 19\n",
      "k= 20\n",
      "O invariante e sempre valido nos primeiros 20 estados\n"
     ]
    }
   ],
   "source": [
    "def bmc_always(declare, init, trans, inv, K):\n",
    "    for k in range(1, K + 1):\n",
    "        print(\"k = \", k)\n",
    "        s = Solver()\n",
    "        state = []\n",
    "        \n",
    "        for i in range(k):\n",
    "            state.append(declare(i))\n",
    "        s.add(init(state[0]))\n",
    "        \n",
    "        for i in range(k - 1):\n",
    "            s.add(trans(state[i], state[i + 1]))\n",
    "        s.add(Not(inv(state[k - 1])))\n",
    "        \n",
    "        if s.check() == sat:\n",
    "            m = s.model()\n",
    "            for i in range(k):\n",
    "                print(i)\n",
    "                for v in state[i]:\n",
    "                    print(v, m[state[i][v]])\n",
    "    print (\"O invariante e sempre valido nos primeiros\", k, \"estados\")\n",
    "\n",
    "def positive(state):\n",
    "    return (state['x'] >= 0)\n",
    "\n",
    "bmc_always(declare, init, trans, positive, 20)"
   ]
  },
  {
   "cell_type": "markdown",
   "metadata": {},
   "source": [
    "### Exercício 5\n",
    "\n",
    "Use o procedimento `bmc_always` para encontrar um contra-exemplo para a segunda propriedade especificada acima."
   ]
  },
  {
   "cell_type": "code",
   "execution_count": 8,
   "metadata": {
    "ExecuteTime": {
     "end_time": "2019-11-20T11:33:03.364310Z",
     "start_time": "2019-11-20T11:33:03.184409Z"
    }
   },
   "outputs": [],
   "source": [
    "# completar"
   ]
  },
  {
   "cell_type": "markdown",
   "metadata": {},
   "source": [
    "### BMC de propriedades de animação\n",
    "\n",
    "Para fazer BMC de propriedades de animação da forma $F\\ \\phi$ o prodimento é ligeiramente mais complicado. Neste caso não basta encontrar um traço aberto com num máximo $K$ estados onde $\\phi$ nunca seja válida, pois tal contra-exemplo não seria convincente: nada garante que $\\phi$ não pudesse ser válida num ponto mais tarde da execução. Neste caso, o contra-exemplo teria que ser uma execução completa do programa que demonstre inequivocamente que a propriedade não é válida. É possível encontrar uma execução completa do programa com no máximo $K$ estados se a mesma tiver um *loop* no último estado, mais concretamente, uma transição para um dos estados precedentes. "
   ]
  },
  {
   "cell_type": "markdown",
   "metadata": {},
   "source": [
    "### Exercício 6\n",
    "\n",
    "Complete a definição da função de ordem superior `bmc_eventually` que, dada uma função que gera uma cópia das variáveis do estado, um predicado que testa se um estado é inicial, um predicado que testa se um par de estados é uma transição válida, uma propriedade cuja inevitabilidade se pretende verificar, e um número positivo `K`, use o Z3 para encontrar um contra-exemplo para essa propriedade considerando apenas os primeiros `K` estados de execução do programa. Note que neste caso um contra-exemplo tem que ser necessariamente um *loop* (no sentido acima referido) onde a propriedade desejada nunca seja válida."
   ]
  },
  {
   "cell_type": "code",
   "execution_count": 9,
   "metadata": {
    "ExecuteTime": {
     "end_time": "2019-11-20T11:33:04.367276Z",
     "start_time": "2019-11-20T11:33:03.368931Z"
    }
   },
   "outputs": [
    {
     "name": "stdout",
     "output_type": "stream",
     "text": [
      "A propriedade (F prop) é válida em traços de tamanho até 20\n",
      "State:  0\n",
      "pc:  0\n",
      "x:  3\n",
      "State:  1\n",
      "pc:  1\n",
      "x:  3\n",
      "State:  2\n",
      "pc:  0\n",
      "x:  2\n",
      "State:  3\n",
      "pc:  1\n",
      "x:  2\n",
      "State:  4\n",
      "pc:  0\n",
      "x:  1\n",
      "State:  5\n",
      "pc:  1\n",
      "x:  1\n",
      "State:  6\n",
      "pc:  0\n",
      "x:  0\n",
      "State:  7\n",
      "pc:  2\n",
      "x:  0\n"
     ]
    }
   ],
   "source": [
    "def bmc_eventually(declare, init, trans, prop, bound):\n",
    "    for k in range(1, bound + 1):\n",
    "        s = Solver()\n",
    "        \n",
    "        # criar k cópias do estado, no traço\n",
    "        trace = []\n",
    "        for i in range(k):\n",
    "            trace.append(declare(i))\n",
    "            \n",
    "        # restrições: init e trans\n",
    "        s.add(init(trace[0]))\n",
    "        for i in range(k - 1):\n",
    "            s.add(trans(trace[i], trace[i + 1]))\n",
    "        \n",
    "        # restrições para forçar a existência do loop\n",
    "        s.add(Or([ trans(trace[k - 1], trace[i]) for i in range(k) ]))\n",
    "\n",
    "        # verificar que prop nunca é válida\n",
    "        s.add(Not(prop(trace[i])))\n",
    "        \n",
    "        if s.check() == sat:\n",
    "            m = s.model()\n",
    "            for i in range(k):\n",
    "                print(\"State: \", i)\n",
    "                print(\"pc: \", m[trace[i]['pc']].as_long())\n",
    "                print(\"x: \", m[trace[i]['x']])\n",
    "            return\n",
    "        \n",
    "    print(\"A propriedade (F prop) é válida em traços de tamanho até \" + str(bound))\n",
    "            \n",
    "        \n",
    "def zero(state):\n",
    "    return (state['x'] == 0)\n",
    "\n",
    "bmc_eventually(declare, init, trans, zero, 20)\n",
    "\n",
    "def terminates(state):\n",
    "    return (state['pc'] == 2)\n",
    "\n",
    "bmc_eventually(declare, init, trans, terminates, 20)"
   ]
  },
  {
   "cell_type": "markdown",
   "metadata": {},
   "source": [
    "### Exercício 7\n",
    "\n",
    "Modifique a função `bmc_eventually` para não só imprimir os estados do contra-exemplo, mas também o estado onde começa o *loop*. Sugere-se a utilização da função `eval` do Z3 para detectar esse estado. Utilize esta função modificada para encontrar um contra exemplo para a quarta propriedade acima referida."
   ]
  },
  {
   "cell_type": "code",
   "execution_count": 10,
   "metadata": {
    "ExecuteTime": {
     "end_time": "2019-11-20T11:33:05.368278Z",
     "start_time": "2019-11-20T11:33:04.369440Z"
    }
   },
   "outputs": [
    {
     "name": "stdout",
     "output_type": "stream",
     "text": [
      "A propriedade (F prop) é válida em traços de tamanho até 20\n",
      "State:  0\n",
      "pc:  0\n",
      "x:  3\n",
      "State:  1\n",
      "pc:  1\n",
      "x:  3\n",
      "State:  2\n",
      "pc:  0\n",
      "x:  2\n",
      "State:  3\n",
      "pc:  1\n",
      "x:  2\n",
      "State:  4\n",
      "pc:  0\n",
      "x:  1\n",
      "State:  5\n",
      "pc:  1\n",
      "x:  1\n",
      "State:  6\n",
      "pc:  0\n",
      "x:  0\n",
      "O loop começa aqui\n",
      "State:  7\n",
      "pc:  2\n",
      "x:  0\n"
     ]
    }
   ],
   "source": [
    "def bmc_eventually(declare, init, trans, prop, bound):\n",
    "    for k in range(1, bound + 1):\n",
    "        s = Solver()\n",
    "        \n",
    "        # criar k cópias do estado, no traço\n",
    "        trace = []\n",
    "        for i in range(k):\n",
    "            trace.append(declare(i))\n",
    "            \n",
    "        # restrições: init e trans\n",
    "        s.add(init(trace[0]))\n",
    "        for i in range(k - 1):\n",
    "            s.add(trans(trace[i], trace[i + 1]))\n",
    "        \n",
    "        # restrições para forçar a existência do loop\n",
    "        s.add(Or([ trans(trace[k - 1], trace[i]) for i in range(k) ]))\n",
    "\n",
    "        # verificar que prop nunca é válida\n",
    "        s.add(Not(prop(trace[i])))\n",
    "        \n",
    "        if s.check() == sat:\n",
    "            m = s.model()\n",
    "            for i in range(k):\n",
    "                if m.eval(trans(trace[k - 1], trace[i])):\n",
    "                    print(\"O loop começa aqui\")\n",
    "                print(\"State: \", i)\n",
    "                print(\"pc: \", m[trace[i]['pc']].as_long())\n",
    "                print(\"x: \", m[trace[i]['x']])\n",
    "            return\n",
    "        \n",
    "    print(\"A propriedade (F prop) é válida em traços de tamanho até \" + str(bound))\n",
    "            \n",
    "\n",
    "def negative(state):\n",
    "    return (state['x'] < 0)\n",
    "        \n",
    "def zero(state):\n",
    "    return (state['x'] == 0)\n",
    "\n",
    "bmc_eventually(declare, init, trans, zero, 20)\n",
    "\n",
    "def terminates(state):\n",
    "    return (state['pc'] == 2)\n",
    "\n",
    "bmc_eventually(declare, init, trans, terminates, 20)\n",
    "#bmc_eventually(declare, init, trans, negative, 20)"
   ]
  },
  {
   "cell_type": "markdown",
   "metadata": {},
   "source": [
    "### Verificação indutiva de invariantes\n",
    "\n",
    "O procedimento de BMC verifica se uma propriedade é válida num FOTS considerando apenas um número limitado de estados de execução. Se quisermos verificar uma propriedade para qualquer execução não limitada do FOTS temos que usar um procedimento alternativo. No caso da verificação de propriedades de segurança $G\\ \\phi$, ou seja, onde $\\phi$ é um invariante, podemos utilizar indução para fazer essa verificação não limitada.\n",
    "\n",
    "Para verificar o invariante $\\phi$ por indução temos que verificar as seguintes condições:\n",
    "- $\\phi$ é válido nos estados iniciais, ou seja, $\\mathit{init}(s) \\rightarrow \\phi(s)$\n",
    "- Para qualquer estado, assumindo que $\\phi$ é verdade, se executarmos uma transição, $\\phi$ continua a ser verdade no próximo estado, ou seja, $\\phi(s) \\wedge \\mathit{trans}(s,s') \\rightarrow \\phi(s')$."
   ]
  },
  {
   "cell_type": "markdown",
   "metadata": {},
   "source": [
    "### Exercício 8\n",
    "\n",
    "Implemente o método `induction_always` para verificação de invariantes por indução. Note que terá que testar a validade das duas condições acima recorrendo à satisfiabilidade, ou seja, usando o solver para encontrar contra-exemplos. Por exemplo, no caso da primeira deve procurar uma valoração que satisfaça $\\mathit{init}(s) \\wedge \\neg \\phi(s)$."
   ]
  },
  {
   "cell_type": "code",
   "execution_count": 11,
   "metadata": {
    "ExecuteTime": {
     "end_time": "2019-11-20T11:33:05.410594Z",
     "start_time": "2019-11-20T11:33:05.369885Z"
    }
   },
   "outputs": [
    {
     "name": "stdout",
     "output_type": "stream",
     "text": [
      "A propriedade falha no passo indutivo, na transição começada em\n",
      "pc:  1\n",
      "x:  0\n"
     ]
    }
   ],
   "source": [
    "def induction_always(declare,init,trans,inv):\n",
    "    # completar\n",
    "    \n",
    "    # declarar 2 variáveis de estado\n",
    "    trace = []\n",
    "    for i in range(2):\n",
    "        trace.append(declare(i))\n",
    "    \n",
    "    # testar inv para o caso de base        s = trace[0]\n",
    "    s = Solver()\n",
    "    s.add(init(trace[0]))\n",
    "    s.add(Not(inv(trace[0])))\n",
    "    \n",
    "    if s.check() == sat:\n",
    "        m = s.model()\n",
    "        print(\"A propriedade falha no caso de base (estado inicial).\")\n",
    "        print(\"State: \", 0)\n",
    "        print(\"pc: \", m[trace[0]['pc']]) #.as_long()\n",
    "        print(\"x: \", m[trace[0]['x']])\n",
    "        return\n",
    "    \n",
    "    # testar inv no passo indutivo        s = trace[0], s' = trace[1]\n",
    "    s = Solver()\n",
    "    s.add(inv(trace[0]))\n",
    "    s.add(trans(trace[0], trace[1]))\n",
    "    s.add(Not(inv(trace[1])))\n",
    "    \n",
    "    if s.check() == sat:\n",
    "        m = s.model()\n",
    "        print(\"A propriedade falha no passo indutivo, na transição começada em\")\n",
    "        print(\"pc: \", m[trace[0]['pc']])\n",
    "        print(\"x: \", m[trace[0]['x']])\n",
    "        return\n",
    "\n",
    "    if s.check() == unsat:\n",
    "        print(\"A propriedade é válida.\")\n",
    "\n",
    "induction_always(declare,init,trans,positive)"
   ]
  },
  {
   "cell_type": "markdown",
   "metadata": {},
   "source": [
    "Como deve ter verificado, a propriedade anterior, embora seja verdade, não pode ser verificada por indução, pois o passo indutivo falha quando $\\mathit{pc} = 1$ e $x = 0$. De facto, este contra-exemplo para o passo de indução não é realista, dado que este estado não é acessível a partir do estado inicial. Para verificarmos esta propriedade por indução temos que encontrar um invariante $\\phi$ que seja mais forte que o desejado, ou seja, $\\phi(x,\\mathit{pc}) \\rightarrow x \\ge 0$, e que seja verificável por indução."
   ]
  },
  {
   "cell_type": "markdown",
   "metadata": {},
   "source": [
    "### Exercício 9\n",
    "\n",
    "Encontre uma propriedade mais forte que $x \\ge 0$ e que seja verificável por indução."
   ]
  },
  {
   "cell_type": "code",
   "execution_count": 12,
   "metadata": {
    "ExecuteTime": {
     "end_time": "2019-11-20T11:33:05.448592Z",
     "start_time": "2019-11-20T11:33:05.412044Z"
    }
   },
   "outputs": [
    {
     "name": "stdout",
     "output_type": "stream",
     "text": [
      "A propriedade é válida.\n"
     ]
    }
   ],
   "source": [
    "def positive_stronger(state):\n",
    "    # completar\n",
    "    #return Or(And(state['pc'] != 1, state['x'] >= 0), And(state['pc'] == 1, state['x'] > 0))\n",
    "    return If(state['pc'] == 1, state['x'] > 0, state['x'] >= 0)\n",
    "\n",
    "induction_always(declare,init,trans,positive_stronger)"
   ]
  },
  {
   "cell_type": "markdown",
   "metadata": {},
   "source": [
    "### Exercício 10\n",
    "\n",
    "Utilize o Z3 para verificar que essa propriedade é realmente mais forte que $x \\ge 0$."
   ]
  },
  {
   "cell_type": "code",
   "execution_count": 13,
   "metadata": {
    "ExecuteTime": {
     "end_time": "2019-11-20T11:33:05.477305Z",
     "start_time": "2019-11-20T11:33:05.456361Z"
    }
   },
   "outputs": [
    {
     "name": "stdout",
     "output_type": "stream",
     "text": [
      "unsat\n"
     ]
    }
   ],
   "source": [
    "# completar\n",
    "s = Solver()\n",
    "state = declare(0)\n",
    "\n",
    "# provar q positive_stronger(state) --> positive(state)\n",
    "s.add(positive_stronger(state))\n",
    "s.add(Not(positive(state)))\n",
    "print(s.check())"
   ]
  },
  {
   "cell_type": "markdown",
   "metadata": {},
   "source": [
    "Nem sempre é fácil encontrar um invariante indutivo mais forte que o desejado. Um procedimento de verificação alternativo que pode ser utilizado nesses casos é a designada $k$-indução. A ideia é generalizar a indução simples assumindo no passo indutivo que o invariante é válido nos $k$ estados anteriores. Claro que neste caso também será necessário verificar que a propriedade é válida nos $k$ primeiros estados. Com esta generalização é possível verificar que $x \\ge 0$ é um invariante recorrendo a $k$-indução com $k=2$."
   ]
  },
  {
   "cell_type": "markdown",
   "metadata": {},
   "source": [
    "### Exercício 11\n",
    "\n",
    "Implemente o método `kinduction_always` para verificação de invariantes por $k$-indução."
   ]
  },
  {
   "cell_type": "code",
   "execution_count": 4,
   "metadata": {
    "ExecuteTime": {
     "end_time": "2019-11-24T18:17:27.331186Z",
     "start_time": "2019-11-24T18:17:27.310550Z"
    }
   },
   "outputs": [
    {
     "ename": "NameError",
     "evalue": "name 'declare' is not defined",
     "output_type": "error",
     "traceback": [
      "\u001b[0;31m---------------------------------------------------------------------------\u001b[0m",
      "\u001b[0;31mNameError\u001b[0m                                 Traceback (most recent call last)",
      "\u001b[0;32m<ipython-input-4-d6f8846f6e62>\u001b[0m in \u001b[0;36m<module>\u001b[0;34m\u001b[0m\n\u001b[1;32m     49\u001b[0m \u001b[0;34m\u001b[0m\u001b[0m\n\u001b[1;32m     50\u001b[0m \u001b[0;34m\u001b[0m\u001b[0m\n\u001b[0;32m---> 51\u001b[0;31m \u001b[0mkinduction_always\u001b[0m\u001b[0;34m(\u001b[0m\u001b[0mdeclare\u001b[0m\u001b[0;34m,\u001b[0m\u001b[0minit\u001b[0m\u001b[0;34m,\u001b[0m\u001b[0mtrans\u001b[0m\u001b[0;34m,\u001b[0m\u001b[0mpositive\u001b[0m\u001b[0;34m,\u001b[0m\u001b[0;36m2\u001b[0m\u001b[0;34m)\u001b[0m\u001b[0;34m\u001b[0m\u001b[0;34m\u001b[0m\u001b[0m\n\u001b[0m",
      "\u001b[0;31mNameError\u001b[0m: name 'declare' is not defined"
     ]
    }
   ],
   "source": [
    "def kinduction_always(declare,init,trans,inv,k):\n",
    "    # completar\n",
    "    \n",
    "    # declarar 2 variáveis de estado\n",
    "    trace = []\n",
    "    for i in range(k + 1):\n",
    "        trace.append(declare(i))\n",
    "    \n",
    "    # testar inv para o caso de base        s = trace[0]\n",
    "    s = Solver()\n",
    "    s.add(init(trace[0]))\n",
    "    for i in range(k - 1):\n",
    "        s.add(trans(trace[i], trace[i + 1]))\n",
    "    \n",
    "    s.add(Or([Not(inv(trace[i])) for i in range(k)]))\n",
    "    \n",
    "    if s.check() == sat:\n",
    "        m = s.model()\n",
    "        print(\"A propriedade falha nos seguintes casos de base: \")\n",
    "        for i in range(k):\n",
    "            if m.eval(inv(trace[i])):\n",
    "                print(\"pc: \", m[trace[i]['pc']])\n",
    "                print(\"x: \", m[trace[i]['x']])\n",
    "        return\n",
    "        \n",
    "    # declarar k+1 variáveis de estado\n",
    "    trace = []\n",
    "    for i in range(k+1):\n",
    "        trace.append(declare(i))\n",
    "    \n",
    "    # testar inv no passo indutivo\n",
    "    s = Solver()\n",
    "    for i in range(k):\n",
    "        s.add(trans(trace[i], trace[i+1]))\n",
    "        s.add(inv(trace[i]))\n",
    "    s.add(Not(inv(trace[k])))\n",
    "    \n",
    "    if s.check() == sat:\n",
    "        m = s.model()\n",
    "        print(\"A propriedade falha nos seguintes casos: \")\n",
    "        for i in range(k):\n",
    "            if m.eval(inv(trace[i])):\n",
    "                print(\"pc: \", m[trace[i]['pc']])\n",
    "                print(\"x: \", m[trace[i]['x']])\n",
    "        return\n",
    "    \n",
    "    if s.check() == unsat:\n",
    "        print(\"A propriedade é válida.\")\n",
    "        \n",
    "        \n",
    "kinduction_always(declare,init,trans,positive,2)"
   ]
  },
  {
   "cell_type": "markdown",
   "metadata": {},
   "source": [
    "### Verificação de propriedades de animação por indução\n",
    "\n",
    "Como vimos acima, podemos verificar propriedades de animação do tipo $F\\ \\phi$ usando BMC. Mais uma vez, se quisermos verificar estas proprieades para qualquer execução ilimitada temos que usar um procedimento alternativo. Uma possibilidade consiste em reduzir a verificação dessas propriedades à verificação de uma propriedade de segurança, mais concretamente um invariante, que possa ser verificado por indução.\n",
    "\n",
    "Por exemplo, uma técnica que pode ser usada para verificar uma propriedade de animação do tipo $F\\ (G\\ \\phi)$, passa por descobrir um *variante* $V$ que satisfaz as seguintes condições:\n",
    "- O variante é sempre positivo, ou seja, $G\\ (V(s) \\ge 0)$\n",
    "- O variante descresce sempre (estritamente) ou atinge o valor 0, ou seja, $G\\ (\\forall s' . \\mathit{trans}(s,s') \\rightarrow (V(s') < V(s) \\vee V(s') = 0))$\n",
    "- Quando o variante é 0 verifica-se necessariamente $\\phi$, ou seja, $G\\ (V(s)=0 \\rightarrow \\phi(s))$\n",
    "\n",
    "A terminação de um programa é um dos exemplos de propriedade que encaixa neste padrão. Por exemplo, para o programa acima a terminação pode ser expressa por $F\\ (G\\ \\mathit{pc}=2)$ (note que devido ao lacete no estado final, o programa permanece indefinidamente no estado final).\n",
    "\n",
    "Note que a segunda condição recorre a uma quantificação universal sobre os possíveis estados alcançáveis por uma transição a partir de cada estado."
   ]
  },
  {
   "cell_type": "markdown",
   "metadata": {},
   "source": [
    "### Exercício 12\n",
    "\n",
    "Descubra o variante que permite provar por indução que o programa acima termina. Encontre também os menores valores de $k$ que permitem provar as condições acima por $k$-indução."
   ]
  },
  {
   "cell_type": "code",
   "execution_count": 31,
   "metadata": {
    "ExecuteTime": {
     "end_time": "2019-11-20T12:11:24.875269Z",
     "start_time": "2019-11-20T12:11:24.736693Z"
    }
   },
   "outputs": [
    {
     "name": "stdout",
     "output_type": "stream",
     "text": [
      "A propriedade é válida.\n",
      "A propriedade é válida.\n",
      "A propriedade é válida.\n"
     ]
    }
   ],
   "source": [
    "def variante(state):\n",
    "    return (2 * state['x'] - state['pc'] + 2)\n",
    "\n",
    "def positivo(state):\n",
    "    return variante(state) >= 0\n",
    "\n",
    "kinduction_always(declare, init, trans, positivo, 3)\n",
    "\n",
    "def decrescente(state0):\n",
    "    state1 = declare(-1)\n",
    "    return ForAll(list(state1.values()), Implies(trans(state0, state1),\\\n",
    "                                                Or(variante(state1) < variante(state0), variante(state1) == 0)))\n",
    "\n",
    "kinduction_always(declare, init, trans, decrescente, 3)\n",
    "\n",
    "def util(state):\n",
    "    return Implies(variante(state) == 0, state['pc'] == 2)\n",
    "\n",
    "kinduction_always(declare, init, trans, util, 2)"
   ]
  },
  {
   "cell_type": "markdown",
   "metadata": {},
   "source": [
    "### Exercício 13\n",
    "\n",
    "Encontrar um variante que decresça em todas as transições nem sempre é fácil. Podemos relaxar a segunda condição acima e exigir que o variante apenas tenha que decrescer estritamente a cada $l$ transições. Neste caso dizemos que temos um *lookahead* de $l$. Altere a definição da função decrescente por forma a considerar um lookahead de 2 e encontre um variante mais simples que o anterior que lhe permita verificar a terminação do programa."
   ]
  },
  {
   "cell_type": "code",
   "execution_count": 35,
   "metadata": {
    "ExecuteTime": {
     "end_time": "2019-11-20T12:30:09.398405Z",
     "start_time": "2019-11-20T12:30:09.268282Z"
    }
   },
   "outputs": [
    {
     "name": "stdout",
     "output_type": "stream",
     "text": [
      "A propriedade é válida.\n",
      "A propriedade é válida.\n",
      "A propriedade é válida.\n"
     ]
    }
   ],
   "source": [
    "def variante(state):\n",
    "    return If(state['pc'] == 2, 0, state['x'] + 1)\n",
    "\n",
    "def positivo(state):\n",
    "    return variante(state) >= 0\n",
    "\n",
    "kinduction_always(declare, init, trans, positivo, 2)\n",
    "\n",
    "def decrescente(state0):\n",
    "    state1 = declare(-1)\n",
    "    state2 = declare(-2)\n",
    "    return ForAll( list(state1.values()) + list(state2.values()),\\\n",
    "                                             Implies(And(trans(state0, state1), trans(state1, state2)),\\\n",
    "                                                    Or(variante(state2) < variante(state0), variante(state2) == 0)) )\n",
    "    \n",
    "kinduction_always(declare, init, trans, decrescente, 2)\n",
    "\n",
    "def util(state):\n",
    "    return Implies(variante(state) == 0, state['pc'] == 2)\n",
    "\n",
    "kinduction_always(declare, init, trans, util, 2)"
   ]
  },
  {
   "cell_type": "markdown",
   "metadata": {},
   "source": [
    "### Exclusão mútua com semáforos\n",
    "\n",
    "Considere o seguinte programa (em pseudo-código) concorrente com 2 processos que utilizam um semáforo (uma variável global booleana partilhada entre os dois) para controlar o acesso exclusivo a um recurso crítico que só pode ser acedido por um deles de cada vez (por exemplo, um ficheiro onde pretendem ambos escrever). Ambos os processos tentam repetidamente executar esse código crítico alternadamente com código não crítico (ambos abstraídos por um simples comentário neste programa). O procedimento de controlo de acesso à região crítica é aqui abstraído pela execução atómica de uma __espera activa até que o semáforo seja `True` seguida de uma atribuição ao mesmo do valor `False`__.\n",
    "\n",
    "```Python\n",
    "{ while True:\n",
    "0:    [ while (not sem); sem = False ] # instrução atómica\n",
    "1:    # critical code of process 1\n",
    "2:    sem = True\n",
    "3:    # non critical code of process 1\n",
    "}\n",
    "||\n",
    "{ while True:\n",
    "0:    [ while (not sem); sem = False ]\n",
    "1:    # critical code of process 2\n",
    "2:    sem = True\n",
    "3:    # non critical code of process 2\n",
    "}\n",
    "```\n",
    "\n",
    "### Exercício 14\n",
    "\n",
    "Mostre como pode utilizar o procedimento `bmc_always` para verificar a propriedade fundamental de segurança deste código: os dois processos nunca podem estar simultaneamente na região crítica. Note que, como temos dois processos, é conveniente usar dois *program counters* no estado, um por cada processo."
   ]
  },
  {
   "cell_type": "code",
   "execution_count": null,
   "metadata": {},
   "outputs": [],
   "source": [
    "def declare(i):\n",
    "    state = {}\n",
    "    state['pc1'] = Int('pc1'+str(i))\n",
    "    state['pc2'] = Int('pc2'+str(i))\n",
    "    state['sem'] = Int('sem'+str(i))\n",
    "    return state\n",
    "\n",
    "def init(s):\n",
    "    return And(s['pc1'] == 0, s['pc2'] == 0, s['sem'] == True)\n",
    "\n",
    "def trans(s,p):\n",
    "    t1_01 = And(s['pc1'] == 0, s['pc2'] == 0, s['sem'] == True, p['pc1'] == 1, p['pc2'] == s['pc2'], s['sem'] == False)\n",
    "    t1_12 = And(s['pc1'] == 1, s['pc2'] == 0, s['sem'] == True, p['pc1'] == 1, p['pc2'] == s['pc2'], s['sem'] == False)\n",
    "    \n",
    "    t2_01 = And(s['pc1'] == 0, s['pc2'] == 0, s['sem'] == True, p['pc1'] == s['pc1'], p['pc2'] == 1, s['sem'] == False)\n",
    "    return Or(t01,t02,t10,t22)"
   ]
  },
  {
   "cell_type": "markdown",
   "metadata": {},
   "source": [
    "### Exercício 15\n",
    "\n",
    "Mostre como poderia verificar a propriedade anterior por indução."
   ]
  },
  {
   "cell_type": "code",
   "execution_count": null,
   "metadata": {},
   "outputs": [],
   "source": [
    "# completar"
   ]
  }
 ],
 "metadata": {
  "kernelspec": {
   "display_name": "Python 3",
   "language": "python",
   "name": "python3"
  },
  "language_info": {
   "codemirror_mode": {
    "name": "ipython",
    "version": 3
   },
   "file_extension": ".py",
   "mimetype": "text/x-python",
   "name": "python",
   "nbconvert_exporter": "python",
   "pygments_lexer": "ipython3",
   "version": "3.7.3"
  }
 },
 "nbformat": 4,
 "nbformat_minor": 2
}
