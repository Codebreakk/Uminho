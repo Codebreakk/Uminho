{
 "cells": [
  {
   "cell_type": "markdown",
   "metadata": {},
   "source": [
    "# Trabalho 2"
   ]
  },
  {
   "cell_type": "markdown",
   "metadata": {},
   "source": [
    "### Exercício 1\n",
    "\n",
    "Modificar os 'templates' leccionados nas aulas TP para verificação usando BMC propriedades temporais de um FOTS, por forma a tirar partido das técnicas de solving incremental do Z3 (push/pop)."
   ]
  },
  {
   "cell_type": "code",
   "execution_count": 4,
   "metadata": {},
   "outputs": [
    {
     "name": "stdout",
     "output_type": "stream",
     "text": [
      "k= 1\n",
      "k= 2\n",
      "k= 3\n",
      "k= 4\n",
      "k= 5\n",
      "k= 6\n",
      "k= 7\n",
      "k= 8\n",
      "k= 9\n",
      "k= 10\n",
      "k= 11\n",
      "k= 12\n",
      "k= 13\n",
      "k= 14\n",
      "k= 15\n",
      "k= 16\n",
      "k= 17\n",
      "k= 18\n",
      "k= 19\n",
      "k= 20\n",
      "O invariante e sempre valido nos primeiros 20 estados\n"
     ]
    }
   ],
   "source": [
    "from z3 import *\n",
    "\n",
    "def declare(i):\n",
    "    state = {}\n",
    "    state['pc'] = Int('pc'+str(i))\n",
    "    state['x'] = Int('x'+str(i))\n",
    "    return state\n",
    "\n",
    "def init(s): # pré-condição\n",
    "    return And(s['pc']==0,s['x']>=3)\n",
    "\n",
    "def trans(s,p):\n",
    "    t01= And(s['pc']==0,s['x']>0,p['pc']==1,p['x']==s['x'])\n",
    "    t02= And(s['pc']==0,s['x']<=0,p['pc']==2,p['x']==s['x'])\n",
    "    t10= And(s['pc']==1,p['pc']==0,p['x']==s['x']-1)\n",
    "    t22= And(s['pc']==2,p['pc']==2,p['x']==s['x'])\n",
    "    return Or(t01,t02,t10,t22)\n",
    "\n",
    "def bmc_always(declare,init,trans,inv,K):\n",
    "    for k in range(1,K+1):\n",
    "        print(\"k=\",k)\n",
    "        s=Solver()\n",
    "        state=[]\n",
    "        for i in range(k):\n",
    "            state.append(declare(i))\n",
    "        s.add(init(state[0]))\n",
    "        for i in range(k-1):\n",
    "            s.add(trans(state[i],state[i+1]))\n",
    "        s.add(Not(inv(state[k-1])))\n",
    "        if s.check()==sat:\n",
    "            m=s.model()\n",
    "            for i in range(k):\n",
    "                print(i)\n",
    "                for v in state[i]:\n",
    "                    print(v,m[state[i][v]])\n",
    "    print (\"O invariante e sempre valido nos primeiros\",k,\"estados\")\n",
    "def positive(state):\n",
    "    return (state['x'] >= 0)\n",
    "\n",
    "bmc_always(declare,init,trans,positive,20)"
   ]
  },
  {
   "cell_type": "markdown",
   "metadata": {},
   "source": [
    "### Exercício 2\n",
    "Considere o seguinte programa, em Python anotado, para multiplicação de dois inteiros de precisão limitada a 16 bits.  Assume-se que os inteiros são representáveis na teoria de bit vetors do Z3 com tamanho 16 bits. Usando  os procedimentos da questão anterior:\n",
    "    - Verifique a correção parcial do programa\n",
    "    - Verifique a terminação do programa.\n",
    "    - Avalie os ganhos de eficiência conseguidos com as optimizações introduzidas na questão anterior.\n",
    "\n",
    "\n",
    "```python\n",
    "        1: assume m >= 0 and n >= 0 and r == 0 and x == m and y == n \n",
    "        2: while y > 0:\n",
    "        3:    if y & 1 == 1:\n",
    "        4:        y = y-1\n",
    "        5:        r = r+x\n",
    "        6:    x = x<<1\n",
    "        7:    y = y>>1\n",
    "        8: assert r == m * n\n",
    "```"
   ]
  },
  {
   "cell_type": "code",
   "execution_count": null,
   "metadata": {},
   "outputs": [],
   "source": []
  },
  {
   "cell_type": "markdown",
   "metadata": {},
   "source": [
    "### Exercício 3\n",
    "Mostrar como, usando $k$-indução, se pode verificar também ambas as propriedades referidas na questão 2."
   ]
  },
  {
   "cell_type": "code",
   "execution_count": null,
   "metadata": {},
   "outputs": [],
   "source": []
  }
 ],
 "metadata": {
  "kernelspec": {
   "display_name": "Python 3",
   "language": "python",
   "name": "python3"
  },
  "language_info": {
   "codemirror_mode": {
    "name": "ipython",
    "version": 3
   },
   "file_extension": ".py",
   "mimetype": "text/x-python",
   "name": "python",
   "nbconvert_exporter": "python",
   "pygments_lexer": "ipython3",
   "version": "3.7.3"
  }
 },
 "nbformat": 4,
 "nbformat_minor": 2
}
