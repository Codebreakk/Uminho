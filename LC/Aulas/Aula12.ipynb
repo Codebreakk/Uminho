{
 "cells": [
  {
   "cell_type": "markdown",
   "metadata": {},
   "source": [
    "# Aula 12\n",
    "\n",
    "## Autómatos híbridos\n",
    "\n",
    "\n",
    "*Autómatos híbridos* são modelos de sistemas ciber-físicos. Essencialmente um autómato híbrido é uma *máquina de estados finita*, onde cada estado (designado por *modo de funcionamento*) descreve o comportamento contínuo de um sistema dinâmico modelado por *relações diferenciais ordinárias* (nas variáveis contínuas e nas suas derivadas em relação ao tempo) codificadas num predicado designado por *flow*. Estas variáveis contínuas evoluem num modo de funcionamento enquanto o seu *flow* for válido.\n",
    "Cada transição discreta entre estados é representada por um arco anotado com um predicado (designado *switch* ou *jump*). Uma transição realiza-se quando o seu *switch* é válido. Ao ocorrer uma transição as variáveis internas dos modos conservam o seu valor, a não ser que lhes seja explicitamente atribuído um novo valor.\n",
    "\n",
    "Um autómato híbrido pode ser descrito por um FOTS (sobre o qual podemos verificar propriedades lógicas com as metodologias que já estudamos). Nesse processo o FOTS vai *discretizar* as relações diferenciais ordinárias e vai mapea-las num espaço de estados também discreto.\n",
    "\n",
    "\n",
    "\n",
    "\n",
    "### Exemplo do Termostato\n",
    "\n",
    "Considere o seguinte autómato híbrido que modela o comportamento de um termostato que controla uma caldeira de aquecimento.\n",
    "\n",
    "<img src=\"termostato.png\" width=\"400\"/>\n",
    "\n",
    "Inicialmente a temperatura (aqui representada pela variável $x$) é de 20 graus. Quando a temperatura é menor que 19 graus o termostato pode ligar-se. Como o modo em que o termostato está desligado tem o invariante $x>=18$, esta temperatura estabelece um limite a partir do qual o termostato tem necessariamente que se ligar. O termostato só pode voltar a desligar quando a temperatura excede os 21 graus, fazendo-o necessariamente se esta atingir os 22 graus devido ao invariante no modo em que está ligado.\n",
    "\n",
    "### Verificação de autómatos híbridos com FOTS\n",
    "\n",
    "Podemos verificar propriedades de segurança de autómatos híbridos codificando a semântica dos mesmos num FOTS e usando depois os procedimentos de verificação implementados nas aulas anteriores.\n",
    "\n",
    "A ideia básica é incluir nos estados do FOTS para além das variáveis contínuas do autómato híbrido 2 variáveis especiais:\n",
    "- $T$ é uma variável contínua que denota o tempo\n",
    "- $M$ é uma variável discreta que denota o *modo de funcionamento*\n",
    "\n",
    "O estado inicial do FOTS é derivado facilmente a partir da definição do autómato híbrido. Por exemplo, no caso do termostato temos\n",
    "\n",
    "$$\n",
    "T = 0 \\wedge M = \\mathit{Off} \\wedge x = 20\n",
    "$$\n",
    "\n",
    "As transições do FOTS incluem os dois tipos de transição que podem ocorrer num autómato híbrido:\n",
    "- Transições *timed* descrevem os *flows* associados a cada modo (a evolução das variáveis contínuas)\n",
    "- Transições *untimed* descrevem os *switches* entre modos\n",
    "\n",
    "As transições *untimed* podem ser obtidas através de uma codificação muito directa das guardas e efeitos especificadas nos *switches*, com a restrição que o tempo não evolui nestas transições, nem as variáveis contínuas se modificam a não ser que lhes seja explicitamente atribuído um novo valor no efeito do *switch*. Por exemplo, no caso do termostato temos 2 transições deste tipo:\n",
    "\n",
    "$$\n",
    "\\begin{array}{c}\n",
    "M = \\mathit{Off} \\wedge M' = \\mathit{On} \\wedge x < 19 \\wedge x' = x \\wedge T' = T \\\\\n",
    "\\vee\\\\\n",
    "M = \\mathit{On} \\wedge M' = \\mathit{Off} \\wedge x > 21 \\wedge x' = x \\wedge T' = T \n",
    "\\end{array}\n",
    "$$\n",
    "\n",
    "Nas transições *timed* o modo permanece constante, mas o resto das variáveis evoluem de acordo com as restrições indicadas. Os *flows* são especificados indicando qual a derivada em relação ao tempo de cada variável contínua. Para codificar os *flows* no FOTS é necessário fazer a sua *discretização*, ou seja, indicar qual a variação ocorrida no intervalor de tempo $T'-T$. Se a derivada for uma constante a discretização é trivial. Por exemplo, se $\\dot{y} = k$ temos que $y' - y = k(T'-T)$. Se a relação de *flow* é amortecida, como por exemplo no modo $\\mathit{Off}$ do termostato, onde temos $\\dot{x} = -0.1x$, uma sugestão para discretizar consiste em usar um valor constante inferido a partir do invariante de modo. Por exemplo, no caso do *flow* anterior como sabemos que $x \\ge 18$ podemos substituir $x$ por 18 na equação anterior, dando origem à relação $x - x' = -1.8(T'-T)$.\n",
    "Com esta técnica, no caso do termostato teríamos as seguintes 2 transições *timed* (na segunda aproximamos $x$ por 22, o limite superior da temperatura inferido a partir do invariante do modo $\\mathit{On}$):\n",
    "\n",
    "$$\n",
    "\\begin{array}{c}\n",
    "M = \\mathit{Off} \\wedge M' = M \\wedge x' - x = -1.8 \\cdot (T'-T) \\wedge T'>T \\\\\n",
    "\\vee\\\\\n",
    "M = \\mathit{On} \\wedge M' = M \\wedge x' - x = 2.8 \\cdot (T'-T) \\wedge T'>T\n",
    "\\end{array}\n",
    "$$\n",
    "\n",
    "Para reduzir os erros na verificação pode-se reduzir a granularidade da discretização subdividindo cada modo em vários sub-modos que cubram toda a gama dos valores permitidos. Por exemplo neste caso poderíamos dividir cada um dos modos em 4 sub-modos, cada um com uma variação de temperatura máxima de 1 grau, cobrindo assim toda a gama de temperaturas possíveis (entre 18 e 22 graus).\n",
    "\n",
    "Finalmente, é necessário também impor os invariantes dos modos no FOTS. Isso pode ser feito acrescentando a cada transição uma restrição que obriga o invariante a ser cumprido, ou então, modificando os procedimentos de verificação para impor o seguinte invariante:\n",
    "\n",
    "$$\n",
    "\\begin{array}{c}\n",
    "M = \\mathit{Off} \\rightarrow x \\ge 18\\\\\n",
    "\\wedge\\\\\n",
    "M = \\mathit{On} \\rightarrow x \\le 22\n",
    "\\end{array}\n",
    "$$"
   ]
  },
  {
   "cell_type": "markdown",
   "metadata": {},
   "source": [
    "Na codificação em Z3 é conveniente usar um tipo enumerado para implementar os modos. No caso do termostato podemos declarar esse tipo da seguinte forma."
   ]
  },
  {
   "cell_type": "code",
   "execution_count": 1,
   "metadata": {
    "ExecuteTime": {
     "end_time": "2019-12-11T14:20:33.185166Z",
     "start_time": "2019-12-11T14:20:32.454495Z"
    }
   },
   "outputs": [],
   "source": [
    "from z3 import *\n",
    "\n",
    "Mode, (on, off) = EnumSort('Mode', ('On', 'Off'))"
   ]
  },
  {
   "cell_type": "markdown",
   "metadata": {},
   "source": [
    "Podemos agora declarar as variáveis do FOTS correspondente ao termostato da seguinte forma."
   ]
  },
  {
   "cell_type": "code",
   "execution_count": 2,
   "metadata": {
    "ExecuteTime": {
     "end_time": "2019-12-11T14:20:35.017934Z",
     "start_time": "2019-12-11T14:20:35.012429Z"
    }
   },
   "outputs": [],
   "source": [
    "def declare(i):\n",
    "    s = {}\n",
    "    s['T'] = Real('T'+str(i))\n",
    "    s['M'] = Const('M'+str(i),Mode)\n",
    "    s['x'] = Real('x'+str(i))\n",
    "    return s"
   ]
  },
  {
   "cell_type": "markdown",
   "metadata": {},
   "source": [
    "### Exercício 1\n",
    "\n",
    "Codifique os predicados Z3 `init`, `trans` e `inv`, que caracterizam, respectivamente, os estados iniciais, as transições e o invariante de modo do FOTS correspondente ao termostato."
   ]
  },
  {
   "cell_type": "code",
   "execution_count": 3,
   "metadata": {
    "ExecuteTime": {
     "end_time": "2019-12-11T14:20:36.760324Z",
     "start_time": "2019-12-11T14:20:36.749712Z"
    }
   },
   "outputs": [],
   "source": [
    "def init(s):\n",
    "    return And(s['T'] == 0, s['M'] == off, s['x'] == 20)\n",
    "\n",
    "def trans(s,p):\n",
    "    tOffOn = And(s['M'] == off, p['M'] == on, s['x'] < 19, p['x'] == s['x'], p['T'] == s['T'])\n",
    "    tOnOff = And(s['M'] == on, p['M'] == off, s['x'] > 21, p['x'] == s['x'], p['T'] == s['T'])\n",
    "    tOff   = And(s['M'] == off, p['M'] == s['M'], p['x'] - s['x'] == -1.8 * (p['T'] - s['T']), p['T'] > s['T'])\n",
    "    tOn    = And(s['M'] == on, p['M'] == s['M'], p['x'] - s['x'] == 2.8 * (p['T'] - s['T']), p['T'] > s['T'])\n",
    "    \n",
    "    return Or(tOffOn, tOnOff, tOff, tOn)\n",
    "\n",
    "def inv(s):\n",
    "    return And(Implies(s['M'] == off, s['x'] >= 18), Implies(s['M'] == on, s['x'] <= 22))"
   ]
  },
  {
   "cell_type": "markdown",
   "metadata": {},
   "source": [
    "### Exercício 2\n",
    "\n",
    "Adapte a função `gera_traco` implementada nas aulas anterior para receber também como parâmetro o invariante de modo. Para melhor compreensão dos resultados, imprima também todas as variáveis continuas como números de virgula flutuante. Para saber qual o tipo (*sort*) de uma variável use o método `sort()`. No caso das variáveis contínuas o tipo será `RealSort()`. Para converter o valor `v` de uma variável contínua do Z3 para um float do Python use a expressão `float(v.numerator_as_long())/float(v.denominator_as_long())`."
   ]
  },
  {
   "cell_type": "code",
   "execution_count": 4,
   "metadata": {
    "ExecuteTime": {
     "end_time": "2019-12-11T14:20:39.654129Z",
     "start_time": "2019-12-11T14:20:38.233261Z"
    }
   },
   "outputs": [
    {
     "name": "stdout",
     "output_type": "stream",
     "text": [
      "0\n",
      "T = 0.0\n",
      "M = Off\n",
      "x = 20.0\n",
      "1\n",
      "T = 0.37037037037037035\n",
      "M = Off\n",
      "x = 19.333333333333332\n",
      "2\n",
      "T = 0.7407407407407407\n",
      "M = Off\n",
      "x = 18.666666666666668\n",
      "3\n",
      "T = 1.1111111111111112\n",
      "M = Off\n",
      "x = 18.0\n",
      "4\n",
      "T = 1.1111111111111112\n",
      "M = On\n",
      "x = 18.0\n"
     ]
    }
   ],
   "source": [
    "def gera_traco(declare,init,trans,inv,k):\n",
    "    s = Solver()\n",
    "    \n",
    "    # criar k cópias de estado, guardar na lista do traço\n",
    "    trace = []\n",
    "    for i in range(k):\n",
    "        trace.append(declare(i))\n",
    "        \n",
    "    s.add(init(trace[0]))\n",
    "    \n",
    "    for i in range(k):\n",
    "        s.add(inv(trace[i]))\n",
    "    \n",
    "    for i in range(k - 1):\n",
    "        s.add(trans(trace[i], trace[i + 1]))\n",
    "    \n",
    "    if s.check() == sat:\n",
    "        m = s.model()\n",
    "        for i in range(k):\n",
    "            print(i)\n",
    "            for v in trace[i]:\n",
    "                if trace[i][v].sort() != RealSort():\n",
    "                    print(v, '=', m[trace[i][v]])\n",
    "                else:\n",
    "                    r = m[trace[i][v]]\n",
    "                    f = float(r.numerator_as_long())/float(r.denominator_as_long())\n",
    "                    print(v, '=', f)\n",
    "            \n",
    "                \n",
    "gera_traco(declare,init,trans,inv,5)"
   ]
  },
  {
   "cell_type": "markdown",
   "metadata": {},
   "source": [
    "### Exercício 3\n",
    "\n",
    "Adapte a função `bmc_always` implementada nas aulas anterior para receber também como parâmetro o invariante de modo `inv` na verificação da propriedade `prop`. Tal como no exercício anterior, quando ocorrer um contra-exemplo imprima também todas as variáveis continuas como números de virgula flutuante. "
   ]
  },
  {
   "cell_type": "code",
   "execution_count": 5,
   "metadata": {
    "ExecuteTime": {
     "end_time": "2019-12-11T14:20:41.527488Z",
     "start_time": "2019-12-11T14:20:41.475740Z"
    }
   },
   "outputs": [
    {
     "name": "stdout",
     "output_type": "stream",
     "text": [
      "A propriedade é válida de em traços de tamanho até 10\n"
     ]
    }
   ],
   "source": [
    "def bmc_always(declare,init,trans,inv,prop,K):\n",
    "    s = Solver()\n",
    "    \n",
    "    # criar k cópias de estado, guardar na lista do traço\n",
    "    trace = []\n",
    "    for i in range(K):\n",
    "        trace.append(declare(i))\n",
    "        \n",
    "    s.add(init(trace[0]))\n",
    "    \n",
    "    for i in range(K):\n",
    "        s.add(inv(trace[i]))\n",
    "    \n",
    "    for i in range(K - 1):\n",
    "        s.add(trans(trace[i], trace[i + 1]))\n",
    "        \n",
    "    s.add(Not(prop(trace[K - 1])))\n",
    "    \n",
    "    if s.check() == sat:\n",
    "        m = s.model()\n",
    "        for i in range(K):\n",
    "            print(i)\n",
    "            for v in trace[i]:\n",
    "                if trace[i][v].sort() != RealSort():\n",
    "                    print(v, '=', m[trace[i][v]])\n",
    "                else:\n",
    "                    r = m[trace[i][v]]\n",
    "                    f = float(r.numerator_as_long())/float(r.denominator_as_long())\n",
    "                    print(v, '=', f)\n",
    "        return\n",
    "    \n",
    "    print (\"A propriedade é válida de em traços de tamanho até \" + str(K))\n",
    "\n",
    "def positive(s):\n",
    "    return s['x'] >= 0\n",
    "\n",
    "bmc_always(declare,init,trans,inv,positive,10)"
   ]
  },
  {
   "cell_type": "markdown",
   "metadata": {},
   "source": [
    "### Exercício 4\n",
    "\n",
    "Verifique que não é verdade que a temperatura seja sempre inferior a 22 graus."
   ]
  },
  {
   "cell_type": "code",
   "execution_count": 6,
   "metadata": {
    "ExecuteTime": {
     "end_time": "2019-12-11T14:20:43.836175Z",
     "start_time": "2019-12-11T14:20:43.777687Z"
    }
   },
   "outputs": [
    {
     "name": "stdout",
     "output_type": "stream",
     "text": [
      "0\n",
      "T = 0.0\n",
      "M = Off\n",
      "x = 20.0\n",
      "1\n",
      "T = 1.1111111111111112\n",
      "M = Off\n",
      "x = 18.0\n",
      "2\n",
      "T = 1.1111111111111112\n",
      "M = On\n",
      "x = 18.0\n",
      "3\n",
      "T = 1.6666666666666667\n",
      "M = On\n",
      "x = 19.555555555555557\n",
      "4\n",
      "T = 2.380952380952381\n",
      "M = On\n",
      "x = 21.555555555555557\n",
      "5\n",
      "T = 2.380952380952381\n",
      "M = Off\n",
      "x = 21.555555555555557\n",
      "6\n",
      "T = 2.9365079365079363\n",
      "M = Off\n",
      "x = 20.555555555555557\n",
      "7\n",
      "T = 4.109347442680776\n",
      "M = Off\n",
      "x = 18.444444444444443\n",
      "8\n",
      "T = 4.109347442680776\n",
      "M = On\n",
      "x = 18.444444444444443\n",
      "9\n",
      "T = 5.379188712522046\n",
      "M = On\n",
      "x = 22.0\n"
     ]
    }
   ],
   "source": [
    "def never22(s):\n",
    "    return s['x'] < 22\n",
    "\n",
    "bmc_always(declare,init,trans,inv,never22,10)"
   ]
  },
  {
   "cell_type": "markdown",
   "metadata": {},
   "source": [
    "### Exercício 5\n",
    "\n",
    "A propriedade \"o termostato irá inevitavelmente ficar ligado\" é uma propriedade de *liveness* exprimível como $F\\ (M = \\mathit{On})$. No entanto a propriedade \"passados 1.1s o termostato irá inevitavelmente ficar ligado\" já é uma propriedade de *safety*. Explique porquê. Verifique também se esta propriedade se verifica no termostato."
   ]
  },
  {
   "cell_type": "code",
   "execution_count": 7,
   "metadata": {
    "ExecuteTime": {
     "end_time": "2019-12-11T14:20:46.431690Z",
     "start_time": "2019-12-11T14:20:46.370347Z"
    }
   },
   "outputs": [
    {
     "name": "stdout",
     "output_type": "stream",
     "text": [
      "0\n",
      "T = 0.0\n",
      "M = Off\n",
      "x = 20.0\n",
      "1\n",
      "T = 0.6049382716049383\n",
      "M = Off\n",
      "x = 18.91111111111111\n",
      "2\n",
      "T = 0.654320987654321\n",
      "M = Off\n",
      "x = 18.822222222222223\n",
      "3\n",
      "T = 0.7037037037037037\n",
      "M = Off\n",
      "x = 18.733333333333334\n",
      "4\n",
      "T = 0.7530864197530864\n",
      "M = Off\n",
      "x = 18.644444444444446\n",
      "5\n",
      "T = 0.8024691358024691\n",
      "M = Off\n",
      "x = 18.555555555555557\n",
      "6\n",
      "T = 0.8518518518518519\n",
      "M = Off\n",
      "x = 18.466666666666665\n",
      "7\n",
      "T = 0.9012345679012346\n",
      "M = Off\n",
      "x = 18.377777777777776\n",
      "8\n",
      "T = 0.9506172839506173\n",
      "M = Off\n",
      "x = 18.288888888888888\n",
      "9\n",
      "T = 1.0\n",
      "M = Off\n",
      "x = 18.2\n"
     ]
    }
   ],
   "source": [
    "def on11(s):\n",
    "    return Implies(s['T']==1, s['M']==on)\n",
    "    \n",
    "bmc_always(declare, init, trans, inv, on11, 10)"
   ]
  },
  {
   "cell_type": "markdown",
   "metadata": {},
   "source": [
    "### Exercício 6\n",
    "\n",
    "Como pode verificar o contra-exemplo obtido não é realista e deve-se aos erros introduzidos pela fraca discretização efectuada. Neste exercício pretende-se que reduza a granularidade da discretização para 1 grau e que volte a verificar esta propriedade. Para tal teremos que dividir os 2 modos em 4 sub-modos cada correspondentes às 4 gamas de temperatura possíveis: $18 \\le x \\le 19$, $19 \\le x \\le 20$, $20 \\le x \\le 21$, e $21 \\le x \\le 22$. Sugere-se que, em vez de alterar o tipo da variável $M$, introduza uma nova variável de modo discreta $D \\in \\{18,19,20,21\\}$ que indica o limite inferior de cada gama de temperatura. Com esta nova variável, o invariante de modo pode ser descrito como\n",
    "\n",
    "$$18 \\le D \\le 21 \\wedge D \\le x \\le D+1$$\n",
    "\n",
    "Para converter uma variável discreta `i` para uma variável contínua pode usar a função `ToReal(i)`."
   ]
  },
  {
   "cell_type": "code",
   "execution_count": 8,
   "metadata": {
    "ExecuteTime": {
     "end_time": "2019-12-11T14:20:48.169088Z",
     "start_time": "2019-12-11T14:20:48.167140Z"
    }
   },
   "outputs": [],
   "source": [
    "# completar"
   ]
  }
 ],
 "metadata": {
  "kernelspec": {
   "display_name": "Python 3",
   "language": "python",
   "name": "python3"
  },
  "language_info": {
   "codemirror_mode": {
    "name": "ipython",
    "version": 3
   },
   "file_extension": ".py",
   "mimetype": "text/x-python",
   "name": "python",
   "nbconvert_exporter": "python",
   "pygments_lexer": "ipython3",
   "version": "3.7.3"
  }
 },
 "nbformat": 4,
 "nbformat_minor": 2
}
