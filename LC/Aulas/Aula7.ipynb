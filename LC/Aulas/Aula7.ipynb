{
 "cells": [
  {
   "cell_type": "markdown",
   "metadata": {},
   "source": [
    "# Grafos de fluxos\n",
    "\n",
    "Na sua versão mais simples, um *grafo de fluxos* é um grafo orientado onde cada aresta modela uma \"conduta\" onde pode fluir \"alguma coisa\" (gás, água, trânsito automóvel, etc) sujeita a uma capacidade máxima. Mais em informação em https://en.wikipedia.org/wiki/Flow_network.\n",
    "\n",
    "Usando o `networkx` podemos modelar um grafo de fluxos usando um `DiGraph` (*directed graph*), usando atributos adicionais para representar a capacidade máxima de cada arco e o respectivo fluxo efectivo. Por exemplo, o seguinte código cria um grafo de fluxos com 6 nodos e 10 arcos, usando o atributo `capacity` para a guardar a capacidade máxima."
   ]
  },
  {
   "cell_type": "code",
   "execution_count": 2,
   "metadata": {},
   "outputs": [],
   "source": [
    "import networkx as nx\n",
    "\n",
    "graph = nx.DiGraph()\n",
    "graph.add_edge(0,1,capacity=16)\n",
    "graph.add_edge(0,2,capacity=13)\n",
    "graph.add_edge(1,2,capacity=10)\n",
    "graph.add_edge(1,3,capacity=12)\n",
    "graph.add_edge(2,1,capacity=4)\n",
    "graph.add_edge(2,4,capacity=14)\n",
    "graph.add_edge(3,2,capacity=9)\n",
    "graph.add_edge(3,5,capacity=20)\n",
    "graph.add_edge(4,3,capacity=7)\n",
    "graph.add_edge(4,5,capacity=4)"
   ]
  },
  {
   "cell_type": "markdown",
   "metadata": {},
   "source": [
    "Podemos desenhar este grafo de fluxos usando a seguinte função que assume que o grafo é planar e que coloca como fluxo efectivo o caracter `?` caso o atributo `flow` não esteja definido."
   ]
  },
  {
   "cell_type": "code",
   "execution_count": 3,
   "metadata": {},
   "outputs": [
    {
     "name": "stderr",
     "output_type": "stream",
     "text": [
      "/home/jc/anaconda3/lib/python3.7/site-packages/networkx/drawing/layout.py:923: FutureWarning: arrays to stack must be passed as a \"sequence\" type such as list or tuple. Support for non-sequence iterables such as generators is deprecated as of NumPy 1.16 and will raise an error in the future.\n",
      "  pos = np.row_stack((pos[x] for x in node_list))\n",
      "/home/jc/anaconda3/lib/python3.7/site-packages/networkx/drawing/nx_pylab.py:579: MatplotlibDeprecationWarning: \n",
      "The iterable function was deprecated in Matplotlib 3.1 and will be removed in 3.3. Use np.iterable instead.\n",
      "  if not cb.iterable(width):\n",
      "/home/jc/anaconda3/lib/python3.7/site-packages/networkx/drawing/nx_pylab.py:676: MatplotlibDeprecationWarning: \n",
      "The iterable function was deprecated in Matplotlib 3.1 and will be removed in 3.3. Use np.iterable instead.\n",
      "  if cb.iterable(node_size):  # many node sizes\n"
     ]
    }
   ],
   "source": [
    "def draw_flow_network(graph):\n",
    "    pos = nx.planar_layout(graph)\n",
    "    labels = {}\n",
    "    for (o,d) in graph.edges():\n",
    "        if 'flow' in graph[o][d]:\n",
    "            labels[(o,d)] = str(graph[o][d]['flow']) + ' / ' + str(graph[o][d]['capacity'])\n",
    "        else:\n",
    "            labels[(o,d)] = '? / ' + str(graph[o][d]['capacity'])                        \n",
    "    nx.draw_networkx(graph,pos)\n",
    "    nx.draw_networkx_edge_labels(graph,pos,labels,label_pos=0.3)\n",
    "\n",
    "\n",
    "draw_flow_network(graph)"
   ]
  },
  {
   "cell_type": "markdown",
   "metadata": {},
   "source": [
    "## Max-flow\n",
    "\n",
    "Um dos problemas clássicos com grafos de fluxos consiste em determinar qual o fluxo máximo que pode existir entre dois nodos concretos do grafo.\n",
    "\n",
    "Usando programação inteira podemos determinar este fluxo máximo da seguinte forma.\n",
    "\n",
    "### Análise do problema\n",
    "\n",
    "Dado um grafo orientado $(V,E)$, uma capacidade $C_e \\ge 0$ para cada arco $e \\in E$, um nodo $s$ correspondente à origem e um nodo $t$ correspondente ao destino, precisamos de uma variável $f_e$ do tipo contínuo por cada arco $e \\in E$. Para encontrar o fluxo máximo entre $s$ e $t$ basta maximizar\n",
    "\n",
    "$$\n",
    "\\sum_{(s,v) \\in E} f_{(s,v)}\n",
    "$$\n",
    "\n",
    "sujeito às seguintes restrições:\n",
    "- A capacidade de cada arco é respeitada\n",
    "- O fluxo que sai de cada nodo é igual ao que entra (exceptuando em $s$ e $t$)"
   ]
  },
  {
   "cell_type": "markdown",
   "metadata": {},
   "source": [
    "### Exercício 1\n",
    "\n",
    "Formalize estas restrições."
   ]
  },
  {
   "cell_type": "markdown",
   "metadata": {},
   "source": [
    "### Exercício 2\n",
    "\n",
    "Implemente a função `max_flow` que dado um grafo de fluxos, determina o fluxo máximo entre `s` e `t`, definindo também o atributo `flow` com o fluxo efectivo de cada arco necessário para atingir esse fluxo máximo."
   ]
  },
  {
   "cell_type": "code",
   "execution_count": 4,
   "metadata": {},
   "outputs": [
    {
     "name": "stderr",
     "output_type": "stream",
     "text": [
      "/home/jc/anaconda3/lib/python3.7/site-packages/networkx/drawing/layout.py:923: FutureWarning: arrays to stack must be passed as a \"sequence\" type such as list or tuple. Support for non-sequence iterables such as generators is deprecated as of NumPy 1.16 and will raise an error in the future.\n",
      "  pos = np.row_stack((pos[x] for x in node_list))\n"
     ]
    },
    {
     "data": {
      "image/png": "[encoded data removed]",
      "text/plain": [
       "<Figure size 432x288 with 1 Axes>"
      ]
     },
     "metadata": {},
     "output_type": "display_data"
    }
   ],
   "source": [
    "from pyscipopt import Model,quicksum\n",
    "\n",
    "def max_flow(graph,s,t):\n",
    "    \n",
    "    m=Model()\n",
    "    f = {}\n",
    "    \n",
    "    for (o,d) in graph.edges():\n",
    "        f[(o,d)] = m.addVar('', 'C', lb = 0, ub = graph[o][d]['capacity'])\n",
    "    \n",
    "    for v in graph:\n",
    "        if v != s and v != t:\n",
    "            m.addCons(quicksum([ f[e] for e in graph.in_edges(v)]) == \\\n",
    "                      quicksum( [ f[e]  for e in graph.out_edges(v) ] ))\n",
    "                            \n",
    "    m.setObjective(quicksum( [f[e] for e in graph.in_edges(v)] ), sense = 'maximize')\n",
    "    m.optimize()\n",
    "    \n",
    "    if m.getStatus() == 'optimal':\n",
    "        r = sum([ m.getVal(f[e]) for e in graph.out_edges(s)])\n",
    "        for (o,d) in graph.edges():\n",
    "            graph[o][d]['flow'] = m.getVal(f[(o,d)])\n",
    "        return r\n",
    "    \n",
    "\n",
    "assert max_flow(graph,0,5) == 23\n",
    "draw_flow_network(graph)"
   ]
  },
  {
   "cell_type": "markdown",
   "metadata": {},
   "source": [
    "## Min-cut\n",
    "\n",
    "Um dos resultados fundamentais sobre grafos de fluxos, conforme https://en.wikipedia.org/wiki/Max-flow_min-cut_theorem, diz que o fluxo máximo entre dois vértices é igual à soma da capacidade dos arcos que estabelecem um *corte mínimo* entre esses vértices. Num grafo um *corte mínimo* é um conjunto de arcos que divide os nodos em dois conjuntos disjuntos satisfazendo algum critério de minimalidade. Neste caso estamos interessados em dividir o grafo em dois conjuntos $S$ e $T$ onde a origem $s \\in S$ e o destino $t \\in T$, minimizando a capacidade total dos arcos que pertecem ao corte, ou seja, a capacidade total dos arcos que ligam $S$ a $T$.\n",
    "\n",
    "### Análise do problema\n",
    "\n",
    "Dado um grafo orientado $(V,E)$, uma capacidade $C_e \\ge 0$ para cada arco $e \\in E$, um nodo $s$ correspondente à origem e um nodo $t$ correspondente ao destino, precisamos de uma variável binária $d_{(a,b)}$ por cada aresta $(a,b) \\in E$, que terá o valor 1 se a respectiva aresta pertencer ao corte entre $S$ e $T$ (ou seja, se $a \\in S$ e $b \\in V$), e de uma variável binária $x_v$ por cada vértice $v \\in V$, que terá o valor 1 se o respectivo vértice pertencer a $S$ (se o valor for 0 é porque $v \\in T$). Para encontrar o corte mínimo basta minimizar\n",
    "\n",
    "$$\n",
    "\\sum_{e \\in E} d_{e} \\cdot C_e\n",
    "$$\n",
    "\n",
    "sujeito às seguintes restrições:\n",
    "- O nodo $s$ pertence a $S$ e o nodo $t$ pertence a $T$\n",
    "- Uma aresta com origem em $S$ e destino em $T$ pertence ao corte"
   ]
  },
  {
   "cell_type": "markdown",
   "metadata": {},
   "source": [
    "### Exercício 3\n",
    "\n",
    "Formalize estas restrições."
   ]
  },
  {
   "cell_type": "markdown",
   "metadata": {},
   "source": [
    "### Exercício 4\n",
    "\n",
    "Implemente a função `min_cut` que dado um grafo de fluxos determina o fluxo máximo entre `s` e `t`."
   ]
  },
  {
   "cell_type": "code",
   "execution_count": 6,
   "metadata": {},
   "outputs": [
    {
     "ename": "AssertionError",
     "evalue": "",
     "output_type": "error",
     "traceback": [
      "\u001b[0;31m---------------------------------------------------------------------------\u001b[0m",
      "\u001b[0;31mAssertionError\u001b[0m                            Traceback (most recent call last)",
      "\u001b[0;32m<ipython-input-6-b7df966bbea7>\u001b[0m in \u001b[0;36m<module>\u001b[0;34m\u001b[0m\n\u001b[1;32m     22\u001b[0m                   for (a,b) in graph.edges() if m.getVal(d[a,b]) == 1)\n\u001b[1;32m     23\u001b[0m \u001b[0;34m\u001b[0m\u001b[0m\n\u001b[0;32m---> 24\u001b[0;31m \u001b[0;32massert\u001b[0m \u001b[0mmin_cut\u001b[0m\u001b[0;34m(\u001b[0m\u001b[0mgraph\u001b[0m\u001b[0;34m,\u001b[0m\u001b[0;36m0\u001b[0m\u001b[0;34m,\u001b[0m\u001b[0;36m5\u001b[0m\u001b[0;34m)\u001b[0m \u001b[0;34m==\u001b[0m \u001b[0;36m23\u001b[0m\u001b[0;34m\u001b[0m\u001b[0;34m\u001b[0m\u001b[0m\n\u001b[0m",
      "\u001b[0;31mAssertionError\u001b[0m: "
     ]
    }
   ],
   "source": [
    "def min_cut(graph,s,t):\n",
    "    m = Model()\n",
    "    x = {}\n",
    "    for v in graph:\n",
    "        x[v] = m.addVar('', 'B')\n",
    "    d = {}\n",
    "    for e in graph.edges():\n",
    "        d[e] = m.addVar('', 'B')\n",
    "    \n",
    "    m.addCons(x[s] == 1)\n",
    "    m.addCons(x[t] == 0)\n",
    "    \n",
    "    for(a,b) in graph.edges():\n",
    "        m.addCons(d[(a,b)] >= x[a] - x[b])\n",
    "    \n",
    "    m.setObjective(quicksum( [d[(a,b)] + graph[a][b]['capacity'] \\\n",
    "                             for (a,b) in graph.edges()] ), sense = 'minimize')\n",
    "    \n",
    "    m.optimize()\n",
    "    if m.getStatus() == 'optimal':\n",
    "        return sum(graph[a][b]['capacity'] \\\n",
    "                  for (a,b) in graph.edges() if m.getVal(d[a,b]) == 1)\n",
    "    \n",
    "assert min_cut(graph,0,5) == 23"
   ]
  },
  {
   "cell_type": "markdown",
   "metadata": {},
   "source": [
    "## Outros problemas de corte mínimo\n",
    "\n",
    "Outro problema relacionado com o corte mínimo consiste em determinar, para um grafo orientado e dois nodos $s$ e $t$ desse grafo, o número mínimo de arcos que é necessário retirar para que $t$ deixe de ser acessível a partir de $s$.\n",
    "\n",
    "Uma forma directa de resolver este problema consiste em começar por determinar todos os caminhos (sem ciclos) entre $s$ e $t$ e depois determinar o conjunto mínimo de arestas que intersecta todos esses caminhos."
   ]
  },
  {
   "cell_type": "markdown",
   "metadata": {},
   "source": [
    "### Exercício 5\n",
    "\n",
    "Formalize este problema usando programação inteira. Assuma que dado um grafo $(V,E)$ e os nodos $s$ e $t$, $P$ é o conjunto de todos os caminhos (sem ciclos) entre $s$ e $t$, onde cada caminho é representado pelo conjunto dos arcos que lhe pertencem."
   ]
  },
  {
   "cell_type": "markdown",
   "metadata": {},
   "source": [
    "### Exercício 6\n",
    "\n",
    "Implemente a função `disconnect_all_paths` que dado um grafo `graph` e os nodos `s` e `t` devolve a lista de arestas a remover para que `t` deixe de ser acessível a partir de `s`. Pode usar a função `all_simple_paths` do `networkx` para determinar todos os caminhos sem ciclos entre dois vértices."
   ]
  },
  {
   "cell_type": "code",
   "execution_count": null,
   "metadata": {},
   "outputs": [],
   "source": [
    "def disconnect_all_paths(graph,s,t):\n",
    "    # completar\n",
    "\n",
    "disconnect_all_paths(graph,0,5)"
   ]
  },
  {
   "cell_type": "markdown",
   "metadata": {},
   "source": [
    "### Exercício 7\n",
    "\n",
    "Também é possível reduzir este problema ao problema do corte mínimo em grafos de fluxos assumindo simplesmente que a capacidade  dos arcos é 1.\n",
    "\n",
    "Implemente a função `disconnect_min_cut` que dado um grafo `graph` e os nodos `s` e `t` devolve a lista de arestas a remover para que `t` deixe de ser acessível a partir de `s` usando esta técnica."
   ]
  },
  {
   "cell_type": "code",
   "execution_count": null,
   "metadata": {},
   "outputs": [],
   "source": [
    "def disconnect_min_cut(graph,s,t):\n",
    "    # completar\n",
    "    \n",
    "disconnect_min_cut(graph,0,5)"
   ]
  },
  {
   "cell_type": "markdown",
   "metadata": {},
   "source": [
    "### Exercício 8\n",
    "\n",
    "Usando análise empírica da complexidade, compare a eficiência destas duas técnicas."
   ]
  }
 ],
 "metadata": {
  "kernelspec": {
   "display_name": "Python 3",
   "language": "python",
   "name": "python3"
  },
  "language_info": {
   "codemirror_mode": {
    "name": "ipython",
    "version": 3
   },
   "file_extension": ".py",
   "mimetype": "text/x-python",
   "name": "python",
   "nbconvert_exporter": "python",
   "pygments_lexer": "ipython3",
   "version": "3.7.3"
  }
 },
 "nbformat": 4,
 "nbformat_minor": 2
}
