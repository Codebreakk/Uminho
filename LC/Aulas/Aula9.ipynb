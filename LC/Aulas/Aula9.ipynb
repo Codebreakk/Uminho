{
 "cells": [
  {
   "cell_type": "markdown",
   "metadata": {},
   "source": [
    "# Aula 9\n",
    "\n",
    "## *Bounded model checking* (BMC) para *First-order Transition Systems* (FOTS)\n",
    "\n",
    "FOTS são modelos de sistemas dinâmicos que são determinados por um espaço de estados, uma relação de transição de estados e um conjunto de estados iniciais. Nos FOTS o conjunto de estados iniciais é descrito por um predicado unário (*init*) sobre o vector de variáveis associado ao espaço de estados, e a relação de transição é descrita por um predicado binário (*trans*) sobre dois vectores de variáveis que representam o estado antes e depois da transição."
   ]
  },
  {
   "cell_type": "markdown",
   "metadata": {},
   "source": [
    "### Modelação de programas com FOTS\n",
    "\n",
    "Um programa pode ser modelado por um FOTS da seguinte forma:\n",
    "- O estado é constituído pelas variáveis do programa mais uma variável para o respectivo *program counter*\n",
    "- Os estados iniciais são caracterizados implicitamente por um predicado sobre as variáveis de estado\n",
    "- As transições são caracterizadas implicitamente por um predicado sobre pares de estados\n",
    "\n",
    "Considere, por exemplo o programa seguinte, anotado com uma pré-condição que restringe o valor inicial de $x$:\n",
    "\n",
    "```Python\n",
    "{x >= 3}\n",
    "0: while (x>0):\n",
    "1:    x = x-1\n",
    "2:\n",
    "```\n",
    "\n",
    "Neste caso o estado do FOTS respectivo será um par de inteiros, o primeiro contendo o valor do $\\mathit{pc}$ (o *program counter* que neste caso pode ser 0, 1 ou 2) e o segundo o valor da variável $x$. O estado inicial é caracterizado pelo seguinte predicado:\n",
    "\n",
    "$$\n",
    "\\mathit{pc} = 0 \\wedge x \\ge 3\n",
    "$$\n",
    "\n",
    "As transições possíveis no FOTS são caracterizadas pelo seguinte predicado:\n",
    "\n",
    "$$\n",
    "\\begin{array}{c}\n",
    "(\\mathit{pc} = 0 \\wedge x > 0 \\wedge \\mathit{pc}' = 1 \\wedge x' = x)\\\\\n",
    "\\vee\\\\\n",
    "(\\mathit{pc} = 0 \\wedge x \\le 0 \\wedge \\mathit{pc}' = 2 \\wedge x' = x) \\\\\n",
    "\\vee\\\\\n",
    "(\\mathit{pc} = 1 \\wedge \\mathit{pc}' = 0 \\wedge x' = x - 1) \\\\\n",
    "\\vee\\\\\n",
    "(\\mathit{pc} = 2 \\wedge \\mathit{pc}' = 2 \\wedge x' = x)\n",
    "\\end{array}\n",
    "$$\n",
    "\n",
    "Note que este predicado é uma disjunção de todas as possíveis transições que podem ocorrer no programa. Cada transição é caracterizada por um predicado onde uma variável do programa denota o seu valor no pré-estado e a mesma variável com apóstrofe denota o seu valor no pós-estado. É usual exigir que cada estado do FOTS tenha pelo menos um sucessor, pelo que o estado final do programa é caracterizado por uma transição para ele próprio (um lacete).\n",
    "\n",
    "Usando estes predicados podemos usar um SMT solver (nomeadamente o Z3) para, por exemplo, gerar uma possível execução de $k\\!-\\!1$ passos do programa (em que $k>0$). Para tal precisamos de criar $k$ cópias das variáveis que caracterizam o estado do FOTS e depois impor que a primeira cópia satisfaz o predicado inicial e que cada par de cópias consecutivas satisfazem o predicado de transição.\n",
    "\n",
    "A seguinte função cria a $i$-ésima cópia das variáveis de estado, agrupadas num dicionário que nos permite aceder às mesmas pelo nome."
   ]
  },
  {
   "cell_type": "code",
   "execution_count": 1,
   "metadata": {},
   "outputs": [],
   "source": [
    "from z3 import *\n",
    "\n",
    "def declare(i):\n",
    "    state = {}\n",
    "    state['pc'] = Int('pc'+str(i))\n",
    "    state['x'] = Int('x'+str(i))\n",
    "    return state"
   ]
  },
  {
   "cell_type": "markdown",
   "metadata": {},
   "source": [
    "### Exercício 1\n",
    "\n",
    "Defina a função `init` que, dado um possível estado do programa (um dicionário de variáveis), devolva um predicado Z3 que testa se esse estado é um possível estado inicial do programa."
   ]
  },
  {
   "cell_type": "code",
   "execution_count": 2,
   "metadata": {},
   "outputs": [],
   "source": [
    "def init(s):\n",
    "    return And(s['pc']==0,s['x']>=3)"
   ]
  },
  {
   "cell_type": "markdown",
   "metadata": {},
   "source": [
    "### Exercício 2\n",
    "\n",
    "Defina a função `trans` que, dados dois possíveis estados do programa, devolva um predicado Z3 que testa se é possível transitar do primeiro para o segundo."
   ]
  },
  {
   "cell_type": "code",
   "execution_count": 3,
   "metadata": {},
   "outputs": [],
   "source": [
    "def trans(s,p):\n",
    "    t01= And(s['pc']==0,s['x']>0,p['pc']==1,p['x']==s['x'])\n",
    "    t02= And(s['pc']==0,s['x']<=0,p['pc']==2,p['x']==s['x'])\n",
    "    t10= And(s['pc']==1,p['pc']==0,p['x']==s['x']-1)\n",
    "    t22= And(s['pc']==2,p['pc']==2,p['x']==s['x'])\n",
    "    return Or(t01,t02,t10,t22)"
   ]
  },
  {
   "cell_type": "markdown",
   "metadata": {},
   "source": [
    "### Exercício 3\n",
    "\n",
    "Complete a função de ordem superior `gera_traco` que, dada uma função que gera uma cópia das variáveis do estado, um predicado que testa se um estado é inicial, um predicado que testa se um par de estados é uma transição válida, e um número positivo `k`, use o Z3 para gerar um possível traço de execução do programa de tamanho `k`. Para cada estado do traço deverá imprimir o respectivo valor das variáveis."
   ]
  },
  {
   "cell_type": "code",
   "execution_count": 4,
   "metadata": {},
   "outputs": [
    {
     "name": "stdout",
     "output_type": "stream",
     "text": [
      "0\n",
      "pc 0\n",
      "x 5\n",
      "1\n",
      "pc 1\n",
      "x 5\n",
      "2\n",
      "pc 0\n",
      "x 4\n",
      "3\n",
      "pc 1\n",
      "x 4\n",
      "4\n",
      "pc 0\n",
      "x 3\n",
      "5\n",
      "pc 1\n",
      "x 3\n",
      "6\n",
      "pc 0\n",
      "x 2\n",
      "7\n",
      "pc 1\n",
      "x 2\n",
      "8\n",
      "pc 0\n",
      "x 1\n",
      "9\n",
      "pc 1\n",
      "x 1\n"
     ]
    }
   ],
   "source": [
    "def gera_traco(declare,init,trans,k):\n",
    "    s=Solver()\n",
    "    state=[]\n",
    "    for i in range(k):\n",
    "        state.append(declare(i))\n",
    "    s.add(init(state[0]))\n",
    "    for i in range(k-1):\n",
    "        s.add(trans(state[i],state[i+1]))\n",
    "    if s.check()==sat:\n",
    "        m=s.model()\n",
    "        for i in range(k):\n",
    "            print(i)\n",
    "            for v in state[i]:\n",
    "                print(v,m[state[i][v]])\n",
    "                \n",
    "gera_traco(declare,init,trans,10)"
   ]
  },
  {
   "cell_type": "markdown",
   "metadata": {},
   "source": [
    "### Lógica temporal linear (LTL)\n",
    "\n",
    "Sobre este FOTS podemos querer verificar várias propriedades temporais, como por exemplo:\n",
    "1. $x$ é sempre positivo\n",
    "2. $x$ é sempre diferente de 1\n",
    "3. $x$ chega inevitavelmente a 0\n",
    "4. $x$ chega inevitavelmente a um valor negativo\n",
    "5. o programa termina\n",
    "\n",
    "Estas propriedades são de natureza muito diferente. As duas primeiras são *propriedades de segurança* que, em geral, garantem que \"nada de mau irá acontecer\". Neste caso em particular são invariantes, ou seja, propriedades que devem ser verdade em todos os estados da execução do programa. As três últimas são *propriedades de animação* que, em geral, garantem que \"algo de bom irá acontecer\".\n",
    "\n",
    "A lógica LTL introduz *operadores temporais* que nos permitem escrever estas propriedades formalmente. Os operadores mais conhecidos são o $G$, que informalmente significa \"*é sempre verdade que*\", e o $F$, que informalmente significa \"*é inevitável que*\". Com estes operadores, as propriedades acima podem ser especificadas formalmente do seguinte modo\n",
    "1. $G\\ (x \\ge 0)$\n",
    "2. $G\\ (x \\neq 1)$\n",
    "3. $F\\ (x = 0)$\n",
    "4. $F\\ (x < 0)$\n",
    "5. $F\\ (pc = 2)$\n",
    "\n",
    "### BMC para LTL\n",
    "\n",
    "Como é óbvio, nem todas estas propriedades são válidas. Em particular a 2ª e a 4ª não o são. O objectivo da verificação é precisamente determinar se uma propriedade temporal é válida num FOTS ou não. Este procedimento designa-se *model checking* e, quando uma propriedade não é válida, produz um contra-exemplo (um traço do FOTS correspondente a uma execução do programa onde a propriedade falha). Nesta aula vamos estudar uma técnica particular de *model checking* designada *bounded model checking*, onde o objectivo é determinar se uma propriedade temporal é válida nos primeiros $K$ estados da execução do FOTS.\n",
    "\n",
    "A ideia passa por usar um SMT solver (neste caso o Z3) para tentar descobrir um contra-exemplo para uma dada propriedade. Para simplificar vamos abordar apenas dois casos: verificação de invariantes da forma $G\\ \\phi$ e propriedades de animação simples da forma $F\\ \\phi$, em que $\\phi$ é uma fórmula sem operadores temporais.\n",
    "\n",
    "### BMC de invariantes\n",
    "\n",
    "Para fazer BMC de um invariante, por exemplo $G\\ (x \\ge 0)$ basta-nos usar o Z3 para encontrar um contra-exemplo com no máximo $K$ estados onde a propriedade $(x \\ge 0)$ seja inválida nalgum estado. Para tal podemos implementar um procedimento iterativo que tenta encontrar esse contra-exemplo com tamanhos crescentes, começando com tamanho 1 até ao tamanho máximo $K$. Para cada tamanho $0 < k \\le K$ basta tentar encontrar um possível traço onde o invariante a verificar seja inválido no último estado. Para tal podemos usar um código muito semelhante ao da função `gera_traco`. O procedimento é interrompido mal um contra-exemplo seja encontrado, sendo garantido que esse é um contra-exemplo mínimo para essa propriedade."
   ]
  },
  {
   "cell_type": "markdown",
   "metadata": {},
   "source": [
    "### Exercício 4\n",
    "\n",
    "Complete a definição da função de ordem superior `bmc_always` que, dada uma função que gera uma cópia das variáveis do estado, um predicado que testa se um estado é inicial, um predicado que testa se um par de estados é uma transição válida, um invariante a verificar, e um número positivo `K`, use o Z3 para verificar se esse invariante é sempre válido nos primeiros `K-1` passos de execução do programa, ou devolva um contra-exemplo mínimo caso não seja."
   ]
  },
  {
   "cell_type": "code",
   "execution_count": 5,
   "metadata": {},
   "outputs": [
    {
     "name": "stdout",
     "output_type": "stream",
     "text": [
      "k= 1\n",
      "k= 2\n",
      "k= 3\n",
      "k= 4\n",
      "k= 5\n",
      "k= 6\n",
      "k= 7\n",
      "k= 8\n",
      "k= 9\n",
      "k= 10\n",
      "k= 11\n",
      "k= 12\n",
      "k= 13\n",
      "k= 14\n",
      "k= 15\n",
      "k= 16\n",
      "k= 17\n",
      "k= 18\n",
      "k= 19\n",
      "k= 20\n",
      "O invariante e sempre valido nos primeiros 20 estados\n"
     ]
    }
   ],
   "source": [
    "def bmc_always(declare,init,trans,inv,K):\n",
    "    for k in range(1,K+1):\n",
    "        print(\"k=\",k)\n",
    "        s=Solver()\n",
    "        state=[]\n",
    "        for i in range(k):\n",
    "            state.append(declare(i))\n",
    "        s.add(init(state[0]))\n",
    "        for i in range(k-1):\n",
    "            s.add(trans(state[i],state[i+1]))\n",
    "        s.add(Not(inv(state[k-1])))\n",
    "        if s.check()==sat:\n",
    "            m=s.model()\n",
    "            for i in range(k):\n",
    "                print(i)\n",
    "                for v in state[i]:\n",
    "                    print(v,m[state[i][v]])\n",
    "    print (\"O invariante e sempre valido nos primeiros\",k,\"estados\")\n",
    "def positive(state):\n",
    "    return (state['x'] >= 0)\n",
    "\n",
    "bmc_always(declare,init,trans,positive,20)"
   ]
  },
  {
   "cell_type": "markdown",
   "metadata": {},
   "source": [
    "### Exercício 5\n",
    "\n",
    "Use o procedimento `bmc_always` para encontrar um contra-exemplo para a segunda propriedade especificada acima."
   ]
  },
  {
   "cell_type": "code",
   "execution_count": 6,
   "metadata": {},
   "outputs": [],
   "source": [
    "# completar"
   ]
  },
  {
   "cell_type": "markdown",
   "metadata": {},
   "source": [
    "### Exercício 6\n",
    "\n",
    "Considere o seguinte programa (em pseudo-código) concorrente com 2 processos que utilizam um semáforo (uma variável global booleana partilhada entre os dois) para controlar o acesso exclusivo a um recurso crítico que só pode ser acedido por um deles de cada vez (por exemplo, um ficheiro onde pretendem ambos escrever). Ambos os processos tentam repetidamente executar esse código crítico alternadamente com código não crítico (ambos abstraídos por um simples comentário neste programa). O procedimento de controlo de acesso à região crítica é aqui abstraído pela execução atómica de uma espera activa até que o semáforo seja `True` seguida de uma atribuição ao mesmo do valor `False`.\n",
    "\n",
    "```Python\n",
    "{ while True:\n",
    "0:    while (not sem); sem = False \n",
    "1:    # critical code of process 1\n",
    "2:    sem = True\n",
    "3:    # non critical code of process 2\n",
    "}\n",
    "||\n",
    "{ while True:\n",
    "0:    while (not sem); sem = False\n",
    "1:    # critical code of process 2\n",
    "2:    sem = True\n",
    "3:    # non critical code of process 2\n",
    "}\n",
    "```\n",
    "\n",
    "Mostre como pode utilizar o procedimento `bmc_always` para verificar a propriedade fundamental de segurança deste código: os dois processos nunca podem estar simultaneamente na região crítica. Note que, como temos dois processos, é conveniente usar dois *program counters* no estado, um por cada processo."
   ]
  },
  {
   "cell_type": "code",
   "execution_count": null,
   "metadata": {},
   "outputs": [],
   "source": [
    "# completar"
   ]
  },
  {
   "cell_type": "markdown",
   "metadata": {},
   "source": [
    "### BMC de propriedades de animação\n",
    "\n",
    "Para fazer BMC de propriedades de animação da forma $F\\ \\phi$ o prodimento é ligeiramente mais complicado. Neste caso não basta encontrar uma traço aberto com num máximo $K$ estados onde $\\phi$ nunca seja válida, pois tal contra-exemplo não seria convincente: nada garante que $\\phi$ não pudesse ser válida num ponto mais tarde da execução. Neste caso, o contra-exemplo teria que ser uma execução completa do programa que demonstre inequivocamente que a propriedade não é válida. É possível encontrar uma execução completa do programa com no máximo $K$ estados se a mesma tiver um *loop* no último estado, mais concretamente, uma transição para um dos estados precedentes. "
   ]
  },
  {
   "cell_type": "markdown",
   "metadata": {},
   "source": [
    "### Exercício 7\n",
    "\n",
    "Complete a definição da função de ordem superior `bmc_eventually` que, dada uma função que gera uma cópia das variáveis do estado, um predicado que testa se um estado é inicial, um predicado que testa se um par de estados é uma transição válida, uma propriedade cuja inevitabilidade se pretende verificar, e um número positivo `K`, use o Z3 para encontrar um contra-exemplo para essa propriedade considerando apenas os primeiros `K` estados de execução do programa. Note que neste caso um contra-exemplo tem que ser necessariamente um *loop* (no sentido acima referido) onde a propriedade desejada nunca seja válida."
   ]
  },
  {
   "cell_type": "code",
   "execution_count": null,
   "metadata": {},
   "outputs": [],
   "source": [
    "def bmc_eventually(declare,init,trans,prop,bound):\n",
    "    # completar\n",
    "\n",
    "def zero(state):\n",
    "    return (state['x'] == 0)\n",
    "\n",
    "bmc_eventually(declare,init,trans,zero,20)\n",
    "\n",
    "def terminates(state):\n",
    "    return (state['pc'] == 2)\n",
    "\n",
    "bmc_eventually(declare,init,trans,terminates,20)"
   ]
  },
  {
   "cell_type": "markdown",
   "metadata": {},
   "source": [
    "### Exercício 8\n",
    "\n",
    "Modifique a função `bmc_eventually` para não só imprimir os estados do contra-exemplo, mas também o estado onde começa o *loop*. Sugere-se a utilização da função `eval` do Z3 para detectar esse estado. Utilize esta função modificada para encontrar um contra exemplo para a quarta propriedade acima referida."
   ]
  },
  {
   "cell_type": "code",
   "execution_count": null,
   "metadata": {},
   "outputs": [],
   "source": [
    "# completar"
   ]
  }
 ],
 "metadata": {
  "kernelspec": {
   "display_name": "Python 3",
   "language": "python",
   "name": "python3"
  },
  "language_info": {
   "codemirror_mode": {
    "name": "ipython",
    "version": 3
   },
   "file_extension": ".py",
   "mimetype": "text/x-python",
   "name": "python",
   "nbconvert_exporter": "python",
   "pygments_lexer": "ipython3",
   "version": "3.7.3"
  }
 },
 "nbformat": 4,
 "nbformat_minor": 2
}
