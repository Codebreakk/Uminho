{
 "cells": [
  {
   "cell_type": "markdown",
   "metadata": {},
   "source": [
    "# Teste 2"
   ]
  },
  {
   "cell_type": "markdown",
   "metadata": {},
   "source": [
    "A matéria em avaliação no teste 2 refere-se ao capítulo das raízes primitivas e Elgamal, e da dos resíduos quadráticos (v. pastas com estas denominações na área de Conteúdos->Vídeos)."
   ]
  },
  {
   "cell_type": "markdown",
   "metadata": {},
   "source": [
    "## ElGamal"
   ]
  },
  {
   "cell_type": "markdown",
   "metadata": {},
   "source": [
    "$p$ primo, $r$ raíz primitiva de $p$, $1\\le a \\le p-1$, $b\\equiv r^a \\mod p.$\n",
    "\n",
    "__Chave pública__: $(p, r, b)$\n",
    "\n",
    "__Chave privada__: $a$"
   ]
  },
  {
   "cell_type": "code",
   "execution_count": 21,
   "metadata": {},
   "outputs": [
    {
     "data": {
      "text/plain": [
       "10000000019"
      ]
     },
     "execution_count": 21,
     "metadata": {},
     "output_type": "execute_result"
    }
   ],
   "source": [
    "# p primo\n",
    "p= next_prime(10^10)\n",
    "p"
   ]
  },
  {
   "cell_type": "code",
   "execution_count": 16,
   "metadata": {},
   "outputs": [
    {
     "data": {
      "text/plain": [
       "2"
      ]
     },
     "execution_count": 16,
     "metadata": {},
     "output_type": "execute_result"
    }
   ],
   "source": [
    "# r raíz primitiva de p\n",
    "r = primitive_root(p)\n",
    "r"
   ]
  },
  {
   "cell_type": "code",
   "execution_count": 22,
   "metadata": {},
   "outputs": [],
   "source": [
    "# codificação de r em Zp\n",
    "Zp = IntegerModRing(p)\n",
    "r = Zp(r)"
   ]
  },
  {
   "cell_type": "code",
   "execution_count": 23,
   "metadata": {},
   "outputs": [
    {
     "data": {
      "text/plain": [
       "6329992349"
      ]
     },
     "execution_count": 23,
     "metadata": {},
     "output_type": "execute_result"
    }
   ],
   "source": [
    "# 1 <= a <= p-1\n",
    "a = randint(1, p-1)\n",
    "a"
   ]
  },
  {
   "cell_type": "code",
   "execution_count": 24,
   "metadata": {},
   "outputs": [
    {
     "data": {
      "text/plain": [
       "1287358216"
      ]
     },
     "execution_count": 24,
     "metadata": {},
     "output_type": "execute_result"
    }
   ],
   "source": [
    "# b == r^a mod p (= power_mod(r,a,p))\n",
    "b = r^a\n",
    "b"
   ]
  },
  {
   "cell_type": "code",
   "execution_count": 25,
   "metadata": {},
   "outputs": [],
   "source": [
    "PubKey = (p, r, b)\n",
    "PrivKey = a"
   ]
  },
  {
   "cell_type": "code",
   "execution_count": 1,
   "metadata": {},
   "outputs": [
    {
     "data": {
      "text/plain": [
       "((10000000019, 2, 4958735438), 6241090644)"
      ]
     },
     "execution_count": 1,
     "metadata": {},
     "output_type": "execute_result"
    }
   ],
   "source": [
    "def elgamal_keygen(n = 10):\n",
    "    p = next_prime(10^n)\n",
    "    r = primitive_root(p)\n",
    "    Zp = IntegerModRing(p)\n",
    "    r = Zp(r)\n",
    "    a = randint(1, p-1)\n",
    "    b = r^a\n",
    "    PubKey = (p,r,b)\n",
    "    PrivKey = a\n",
    "    return PubKey, PrivKey\n",
    "\n",
    "chvPub, chvPriv = elgamal_keygen()\n",
    "chvPub, chvPriv"
   ]
  },
  {
   "cell_type": "code",
   "execution_count": 2,
   "metadata": {},
   "outputs": [],
   "source": [
    "def elgamal_cypher(p, r, b, x):\n",
    "    Zp = IntegerModRing(p)\n",
    "    r = Zp(r) # optimiza\n",
    "    k = randint(1, p - 2)\n",
    "    gama = power_mod(r,k,p)\n",
    "    delta = mod(x*b^k,p)\n",
    "    criptograma = gama, delta\n",
    "    return criptograma"
   ]
  },
  {
   "cell_type": "code",
   "execution_count": 3,
   "metadata": {},
   "outputs": [],
   "source": [
    "def elgamal_decypher(gama, delta, a):\n",
    "    #s = power_mod(gama,a,p)\n",
    "    #return mod(delta*s^(-1), p)\n",
    "    #return mod(delta/s,p)\n",
    "    return (1/(gama^a))*delta"
   ]
  },
  {
   "cell_type": "markdown",
   "metadata": {},
   "source": [
    "Message is decrypted using\n",
    "\n",
    "$$s = c{_1}^x\\ mod\\ p$$\n",
    "\n",
    "$$m = c{_2}\\ .\\ s^{-1}\\ mod\\ p$$\n",
    "\n",
    "\n",
    "which can be rewritten as \n",
    "\n",
    "$$m = c{_2}\\ .\\ s^{p-2}\\ mod\\ p$$"
   ]
  },
  {
   "cell_type": "code",
   "execution_count": 4,
   "metadata": {},
   "outputs": [],
   "source": [
    "def elgamal_decypher_opt(gama, delta, a, p):\n",
    "    s = power_mod(gama, a, p)\n",
    "    m = mod(delta*s^(p-2), p)\n",
    "    return m"
   ]
  },
  {
   "cell_type": "markdown",
   "metadata": {},
   "source": [
    "## Símbolo de Jacobi"
   ]
  },
  {
   "cell_type": "markdown",
   "metadata": {},
   "source": [
    "### Método 1\n",
    "\n",
    "    1º - Obter os factores de n. (n = base_1^exp_1 * base_2^exp_2 *...* base_n^exp_n)\n",
    "    2º - calcular gcd(a, n).\n",
    "    3º - Se gcd(a, n) = 1, calcular legendre_symbol(a, base_1)^exp_1 * ... * legendre_symbol(a, base_n)^exp_n"
   ]
  },
  {
   "cell_type": "code",
   "execution_count": 6,
   "metadata": {},
   "outputs": [
    {
     "data": {
      "text/plain": [
       "1825565980776525"
      ]
     },
     "execution_count": 6,
     "metadata": {},
     "output_type": "execute_result"
    }
   ],
   "source": [
    "n = 3^4*5^2*13^3*17^7 # = factor(n)\n",
    "n"
   ]
  },
  {
   "cell_type": "code",
   "execution_count": 11,
   "metadata": {},
   "outputs": [
    {
     "data": {
      "text/plain": [
       "3^4 * 5^2 * 13^3 * 17^7"
      ]
     },
     "execution_count": 11,
     "metadata": {},
     "output_type": "execute_result"
    }
   ],
   "source": [
    "factor(n)"
   ]
  },
  {
   "cell_type": "code",
   "execution_count": 7,
   "metadata": {},
   "outputs": [
    {
     "data": {
      "text/plain": [
       "25745372"
      ]
     },
     "execution_count": 7,
     "metadata": {},
     "output_type": "execute_result"
    }
   ],
   "source": [
    "a = 2^2*23^5\n",
    "a"
   ]
  },
  {
   "cell_type": "code",
   "execution_count": 9,
   "metadata": {},
   "outputs": [
    {
     "data": {
      "text/plain": [
       "True"
      ]
     },
     "execution_count": 9,
     "metadata": {},
     "output_type": "execute_result"
    }
   ],
   "source": [
    "gcd(a, n)==1"
   ]
  },
  {
   "cell_type": "code",
   "execution_count": 13,
   "metadata": {},
   "outputs": [
    {
     "data": {
      "text/plain": [
       "-1"
      ]
     },
     "execution_count": 13,
     "metadata": {},
     "output_type": "execute_result"
    }
   ],
   "source": [
    "legendre_symbol(a, 3)^4 * legendre_symbol(a, 5)^2 * legendre_symbol(a, 13)^3 * legendre_symbol(a, 17)^7"
   ]
  },
  {
   "cell_type": "markdown",
   "metadata": {},
   "source": [
    "### Método 2\n",
    "    Basta usar jacobi_symbol(a, n)."
   ]
  },
  {
   "cell_type": "code",
   "execution_count": 12,
   "metadata": {},
   "outputs": [
    {
     "data": {
      "text/plain": [
       "-1"
      ]
     },
     "execution_count": 12,
     "metadata": {},
     "output_type": "execute_result"
    }
   ],
   "source": [
    "# jacobi_symbol(a, n)\n",
    "# \n",
    "# INPUT:\n",
    "# a - inteiro\n",
    "# n - inteiro ímpar\n",
    "#\n",
    "# OUTPUT:\n",
    "# 1 se a == 0 (mod n)\n",
    "# 0 se a != 0 (mod n) e existe x tal que: a == x² (mod n)\n",
    "#-1 se a != 0 (mod n) e não existe x\n",
    "#\n",
    "\n",
    "jacobi_symbol(a, n)"
   ]
  },
  {
   "cell_type": "markdown",
   "metadata": {},
   "source": [
    "## Raízes primitivas"
   ]
  },
  {
   "cell_type": "markdown",
   "metadata": {},
   "source": [
    "Seja $a\\in \\mathbb{Z}^*_n$, ou seja, $a\\in \\mathbb{Z}_n$ tal que $(a, n) = 1$."
   ]
  },
  {
   "cell_type": "markdown",
   "metadata": {},
   "source": [
    "Pelo __Teorema de Euler__, \n",
    "$$a^{\\varphi{(n)}} \\equiv 1 \\mod n.$$"
   ]
  },
  {
   "cell_type": "markdown",
   "metadata": {},
   "source": [
    "*Questão:* \n",
    "\n",
    "Existe $x$ com $1\\le x < \\varphi(n)$ para o qual $a^x \\equiv 1 \\mod n$?"
   ]
  },
  {
   "cell_type": "markdown",
   "metadata": {},
   "source": [
    "$a\\in \\mathbb{Z}_n^*$ diz-se uma __raíz primitiva__ de $n$ se $\\varphi(n)$ for o menor natural $x$ para o qual $a^x \\equiv 1 \\mod n$."
   ]
  },
  {
   "cell_type": "code",
   "execution_count": 2,
   "metadata": {},
   "outputs": [
    {
     "data": {
      "text/plain": [
       "12"
      ]
     },
     "execution_count": 2,
     "metadata": {},
     "output_type": "execute_result"
    }
   ],
   "source": [
    "n = 21\n",
    "euler_phi(n) #n=21=3*7 e portanto phi(21)=phi(3*7)=phi(3)*phi(5)=(3-1)*(7-1)"
   ]
  },
  {
   "cell_type": "code",
   "execution_count": 4,
   "metadata": {},
   "outputs": [],
   "source": [
    "Zn = IntegerModRing(n) # Zn é um scr mod n"
   ]
  },
  {
   "cell_type": "code",
   "execution_count": 5,
   "metadata": {},
   "outputs": [
    {
     "data": {
      "text/plain": [
       "[1, 2, 4, 5, 8, 10, 11, 13, 16, 17, 19, 20]"
      ]
     },
     "execution_count": 5,
     "metadata": {},
     "output_type": "execute_result"
    }
   ],
   "source": [
    "srr = [a for a in Zn if gcd(a, n) == 1]\n",
    "srr #srr é um sistema reduzido de resíduos"
   ]
  },
  {
   "cell_type": "code",
   "execution_count": 6,
   "metadata": {},
   "outputs": [
    {
     "data": {
      "text/plain": [
       "2"
      ]
     },
     "execution_count": 6,
     "metadata": {},
     "output_type": "execute_result"
    }
   ],
   "source": [
    "a = srr[1]\n",
    "a"
   ]
  },
  {
   "cell_type": "code",
   "execution_count": 9,
   "metadata": {},
   "outputs": [
    {
     "data": {
      "text/plain": [
       "1"
      ]
     },
     "execution_count": 9,
     "metadata": {},
     "output_type": "execute_result"
    }
   ],
   "source": [
    "# a^euler_phi(n)\n",
    "a^12 # Teorema de Euler"
   ]
  },
  {
   "cell_type": "code",
   "execution_count": 10,
   "metadata": {},
   "outputs": [
    {
     "data": {
      "text/plain": [
       "[2, 4, 8, 16, 11, 1, 2, 4, 8, 16, 11, 1]"
      ]
     },
     "execution_count": 10,
     "metadata": {},
     "output_type": "execute_result"
    }
   ],
   "source": [
    "Potencias_a = [a^k for k in (1..12)]\n",
    "Potencias_a"
   ]
  },
  {
   "cell_type": "markdown",
   "metadata": {},
   "source": [
    "Dado $a\\in \\mathbb{Z}_n^*$, o menor natural $x$ para o qual $a^x \\equiv 1 \\mod n$ é denominado por *ordem de $a$ módulo $n$*. \n",
    "\n",
    "É denotado por $ord_m\\, a$."
   ]
  },
  {
   "cell_type": "code",
   "execution_count": 11,
   "metadata": {},
   "outputs": [
    {
     "data": {
      "text/plain": [
       "6"
      ]
     },
     "execution_count": 11,
     "metadata": {},
     "output_type": "execute_result"
    }
   ],
   "source": [
    "multiplicative_order(Zn(2))"
   ]
  },
  {
   "cell_type": "markdown",
   "metadata": {},
   "source": [
    "__Teorema__: $a^x \\equiv 1 \\mod n \\Leftrightarrow ord_m \\, a | x.$"
   ]
  },
  {
   "cell_type": "markdown",
   "metadata": {},
   "source": [
    "__Corolário__: $ord_n a | \\varphi(n)$."
   ]
  },
  {
   "cell_type": "markdown",
   "metadata": {},
   "source": [
    "Portanto, $a$ é raíz primitiva de $n$ *se e só se* $ord_n a = \\varphi(n)$."
   ]
  },
  {
   "cell_type": "code",
   "execution_count": 12,
   "metadata": {},
   "outputs": [
    {
     "data": {
      "text/plain": [
       "11"
      ]
     },
     "execution_count": 12,
     "metadata": {},
     "output_type": "execute_result"
    }
   ],
   "source": [
    "primitive_root(18)"
   ]
  },
  {
   "cell_type": "code",
   "execution_count": 14,
   "metadata": {},
   "outputs": [
    {
     "data": {
      "text/plain": [
       "Ring of integers modulo 18"
      ]
     },
     "execution_count": 14,
     "metadata": {},
     "output_type": "execute_result"
    }
   ],
   "source": [
    "n = 18\n",
    "Zn = IntegerModRing(n)\n",
    "Zn"
   ]
  },
  {
   "cell_type": "code",
   "execution_count": 15,
   "metadata": {},
   "outputs": [
    {
     "data": {
      "text/plain": [
       "6"
      ]
     },
     "execution_count": 15,
     "metadata": {},
     "output_type": "execute_result"
    }
   ],
   "source": [
    "euler_phi(n)"
   ]
  },
  {
   "cell_type": "code",
   "execution_count": 16,
   "metadata": {},
   "outputs": [
    {
     "data": {
      "text/plain": [
       "[1, 5, 7, 11, 13, 17]"
      ]
     },
     "execution_count": 16,
     "metadata": {},
     "output_type": "execute_result"
    }
   ],
   "source": [
    "srr = [a for a in Zn if gcd(a, n)==1]\n",
    "srr"
   ]
  },
  {
   "cell_type": "code",
   "execution_count": 17,
   "metadata": {},
   "outputs": [
    {
     "data": {
      "text/plain": [
       "[11, 13, 17, 7, 5, 1]"
      ]
     },
     "execution_count": 17,
     "metadata": {},
     "output_type": "execute_result"
    }
   ],
   "source": [
    "a = Zn(11)\n",
    "[a^i for i in (1..6)]"
   ]
  },
  {
   "cell_type": "code",
   "execution_count": 18,
   "metadata": {},
   "outputs": [
    {
     "data": {
      "text/plain": [
       "[5, 7, 17, 13, 11, 1]"
      ]
     },
     "execution_count": 18,
     "metadata": {},
     "output_type": "execute_result"
    }
   ],
   "source": [
    "b = Zn(5)\n",
    "[b^i for i in (1..6)]"
   ]
  },
  {
   "cell_type": "code",
   "execution_count": 19,
   "metadata": {},
   "outputs": [
    {
     "data": {
      "text/plain": [
       "[17, 1, 17, 1, 17, 1]"
      ]
     },
     "execution_count": 19,
     "metadata": {},
     "output_type": "execute_result"
    }
   ],
   "source": [
    "c = Zn(17)\n",
    "[c^i for i in (1..6)]"
   ]
  },
  {
   "cell_type": "code",
   "execution_count": 20,
   "metadata": {},
   "outputs": [
    {
     "data": {
      "text/plain": [
       "2"
      ]
     },
     "execution_count": 20,
     "metadata": {},
     "output_type": "execute_result"
    }
   ],
   "source": [
    "n = 25\n",
    "Zn = IntegerModRing(n)\n",
    "primitive_root(n)"
   ]
  },
  {
   "cell_type": "code",
   "execution_count": 21,
   "metadata": {},
   "outputs": [
    {
     "data": {
      "text/plain": [
       "20"
      ]
     },
     "execution_count": 21,
     "metadata": {},
     "output_type": "execute_result"
    }
   ],
   "source": [
    "euler_phi(n)"
   ]
  },
  {
   "cell_type": "code",
   "execution_count": 22,
   "metadata": {},
   "outputs": [
    {
     "data": {
      "text/plain": [
       "20"
      ]
     },
     "execution_count": 22,
     "metadata": {},
     "output_type": "execute_result"
    }
   ],
   "source": [
    "a = Zn(2)\n",
    "a.multiplicative_order()"
   ]
  },
  {
   "cell_type": "markdown",
   "metadata": {},
   "source": [
    "$\\langle 2\\rangle = \\mathbb{Z}_{25}^*$"
   ]
  },
  {
   "cell_type": "code",
   "execution_count": 23,
   "metadata": {},
   "outputs": [
    {
     "data": {
      "text/plain": [
       "[1, 2, 3, 4, 6, 7, 8, 9, 11, 12, 13, 14, 16, 17, 18, 19, 21, 22, 23, 24]"
      ]
     },
     "execution_count": 23,
     "metadata": {},
     "output_type": "execute_result"
    }
   ],
   "source": [
    "srr = [k for k in Zn if gcd(k, n) == 1]\n",
    "srr"
   ]
  },
  {
   "cell_type": "code",
   "execution_count": 24,
   "metadata": {},
   "outputs": [
    {
     "data": {
      "text/plain": [
       "[2, 4, 8, 16, 7, 14, 3, 6, 12, 24, 23, 21, 17, 9, 18, 11, 22, 19, 13, 1]"
      ]
     },
     "execution_count": 24,
     "metadata": {},
     "output_type": "execute_result"
    }
   ],
   "source": [
    "[a^x for x in (1..20)]"
   ]
  },
  {
   "cell_type": "code",
   "execution_count": 25,
   "metadata": {},
   "outputs": [
    {
     "data": {
      "text/plain": [
       "[3, 9, 2, 6, 18, 4, 12, 11, 8, 24, 22, 16, 23, 19, 7, 21, 13, 14, 17, 1]"
      ]
     },
     "execution_count": 25,
     "metadata": {},
     "output_type": "execute_result"
    }
   ],
   "source": [
    "[Zn(3)^x for x in (1..20)]"
   ]
  },
  {
   "cell_type": "code",
   "execution_count": 26,
   "metadata": {},
   "outputs": [
    {
     "data": {
      "text/plain": [
       "20"
      ]
     },
     "execution_count": 26,
     "metadata": {},
     "output_type": "execute_result"
    }
   ],
   "source": [
    "Zn(3).multiplicative_order()"
   ]
  },
  {
   "cell_type": "code",
   "execution_count": 27,
   "metadata": {},
   "outputs": [
    {
     "data": {
      "text/plain": [
       "[6, 11, 16, 21, 1, 6, 11, 16, 21, 1, 6, 11, 16, 21, 1, 6, 11, 16, 21, 1]"
      ]
     },
     "execution_count": 27,
     "metadata": {},
     "output_type": "execute_result"
    }
   ],
   "source": [
    "[Zn(6)^x for x in (1..20)]"
   ]
  },
  {
   "cell_type": "code",
   "execution_count": 28,
   "metadata": {},
   "outputs": [
    {
     "data": {
      "text/plain": [
       "(11, 11)"
      ]
     },
     "execution_count": 28,
     "metadata": {},
     "output_type": "execute_result"
    }
   ],
   "source": [
    "Zn(6)^2, Zn(6)^17"
   ]
  },
  {
   "cell_type": "markdown",
   "metadata": {},
   "source": [
    "__Teorema__: Para $a\\in \\mathbb{Z}_n^*$, $$a^i\\equiv a^j \\mod n \\Leftrightarrow i\\equiv j \\mod ord_n\\, a.$$"
   ]
  },
  {
   "cell_type": "markdown",
   "metadata": {},
   "source": [
    "$r\\in \\mathbb{Z}_n^*$ é __raiz primitiva__ de $n$ se $\\langle r \\rangle =  \\mathbb{Z}_n^*$, i.e., $ord_n\\ r = \\varphi(n)$."
   ]
  },
  {
   "cell_type": "markdown",
   "metadata": {},
   "source": [
    "__Teorema do índice__: Dada uma raíz primitiva $r$ de $n$ (se existir),  $$r^i\\equiv r^j \\mod n \\Leftrightarrow i\\equiv j \\mod \\varphi(n).$$"
   ]
  },
  {
   "cell_type": "markdown",
   "metadata": {},
   "source": [
    "__Teorema__: $n$ possui uma raíz primitiva se e só se  $n$ é igual a $2$, $4$, $p^k$, $2p^k$, onde $p$ é um primo ímpar."
   ]
  },
  {
   "cell_type": "markdown",
   "metadata": {},
   "source": [
    "__Corolário__: Todo o primo tem uma raíz primitiva."
   ]
  },
  {
   "cell_type": "code",
   "execution_count": 29,
   "metadata": {},
   "outputs": [
    {
     "data": {
      "text/plain": [
       "25"
      ]
     },
     "execution_count": 29,
     "metadata": {},
     "output_type": "execute_result"
    }
   ],
   "source": [
    "n"
   ]
  },
  {
   "cell_type": "code",
   "execution_count": 30,
   "metadata": {},
   "outputs": [
    {
     "data": {
      "text/plain": [
       "2"
      ]
     },
     "execution_count": 30,
     "metadata": {},
     "output_type": "execute_result"
    }
   ],
   "source": [
    "primitive_root(n)"
   ]
  },
  {
   "cell_type": "code",
   "execution_count": 32,
   "metadata": {},
   "outputs": [
    {
     "data": {
      "text/plain": [
       "[1, 2, 3, 4, 6, 7, 8, 9, 11, 12, 13, 14, 16, 17, 18, 19, 21, 22, 23, 24]"
      ]
     },
     "execution_count": 32,
     "metadata": {},
     "output_type": "execute_result"
    }
   ],
   "source": [
    "r = Zn(2)\n",
    "srr"
   ]
  },
  {
   "cell_type": "code",
   "execution_count": 33,
   "metadata": {},
   "outputs": [
    {
     "data": {
      "text/plain": [
       "12"
      ]
     },
     "execution_count": 33,
     "metadata": {},
     "output_type": "execute_result"
    }
   ],
   "source": [
    "r^9"
   ]
  },
  {
   "cell_type": "markdown",
   "metadata": {},
   "source": [
    "Seja $r$ uma raíz primitiva de $n$. \n",
    "\n",
    "$ind_r a = x$ significa que $1\\le x\\le \\varphi(n)$ tal que $r^x \\equiv a \\mod n$."
   ]
  },
  {
   "cell_type": "markdown",
   "metadata": {},
   "source": [
    "## Resíduos quadráticos"
   ]
  },
  {
   "cell_type": "markdown",
   "metadata": {},
   "source": [
    "Seja $p$ um primo ímpar e $a\\in \\mathbb{Z}_p^*$. Será que existe $x\\in \\mathbb{Z}_p^*$ para o qual $x^2\\equiv a \\mod p$?"
   ]
  },
  {
   "cell_type": "code",
   "execution_count": 1,
   "metadata": {},
   "outputs": [
    {
     "data": {
      "text/plain": [
       "[]"
      ]
     },
     "execution_count": 1,
     "metadata": {},
     "output_type": "execute_result"
    }
   ],
   "source": [
    "p = 5\n",
    "Zp = IntegerModRing(p)\n",
    "a = Zp(2)\n",
    "[x for x in Zp if x^2 == a]"
   ]
  },
  {
   "cell_type": "code",
   "execution_count": 2,
   "metadata": {},
   "outputs": [
    {
     "data": {
      "text/plain": [
       "[3, 4]"
      ]
     },
     "execution_count": 2,
     "metadata": {},
     "output_type": "execute_result"
    }
   ],
   "source": [
    "p = 7\n",
    "Zp = IntegerModRing(p)\n",
    "a = Zp(2)\n",
    "[x for x in Zp if x^2 == a]"
   ]
  },
  {
   "cell_type": "code",
   "execution_count": 8,
   "metadata": {},
   "outputs": [
    {
     "data": {
      "text/plain": [
       "[]"
      ]
     },
     "execution_count": 8,
     "metadata": {},
     "output_type": "execute_result"
    }
   ],
   "source": [
    "p = 11\n",
    "Zp = IntegerModRing(p)\n",
    "a = Zp(2)\n",
    "[x for x in Zp if x^2 == a]"
   ]
  },
  {
   "cell_type": "markdown",
   "metadata": {},
   "source": [
    "__Definição__: Dado um natural $n$ e $a$ primo relativo com $n$, diz que *$a$ é resíduo quadrático de $n$* se a congruência $x^2\\equiv a \\mod n$ tiver solução.\n",
    "\n",
    "Se não tiver solução, então $a$ chama-se um *não-resíduo quadrático de $n$*."
   ]
  },
  {
   "cell_type": "markdown",
   "metadata": {},
   "source": [
    "__Lemma__: Seja $p$ um primo ímpar e $a$ tal que $(a, p)=1$. Então $x^2\\equiv  a \\mod p$ ou não tem soluções ou então tem exactamente duas soluções incongruentes. "
   ]
  },
  {
   "cell_type": "markdown",
   "metadata": {},
   "source": [
    "__Teorema__: Dado um primo ímpar $p$, então *exactamente* metade dos elementos de $\\mathbb{Z}_p^*$ são resíduos quadráticos e os restantes são não-resíduos quadráticos."
   ]
  },
  {
   "cell_type": "markdown",
   "metadata": {},
   "source": [
    "__Definição:__ Seja $p$ um primo ímpar e $a$ tal que $(a, p)=1$. O *símbolo de Legendre* está definido como\n",
    "\n",
    "$$\\left(\\frac{a}{p}\\right) = \\left\\{ \\begin{array}{cc} 1 & \\text{ se $a$ é resíduo quadrático}\\\\ -1 & \\text{no caso contrário}\\end{array}\\right.$$"
   ]
  },
  {
   "cell_type": "code",
   "execution_count": 10,
   "metadata": {},
   "outputs": [],
   "source": [
    "p = 11\n",
    "Zp = IntegerModRing(p)\n",
    "a = Zp(2)"
   ]
  },
  {
   "cell_type": "code",
   "execution_count": 11,
   "metadata": {},
   "outputs": [
    {
     "data": {
      "text/plain": [
       "-1"
      ]
     },
     "execution_count": 11,
     "metadata": {},
     "output_type": "execute_result"
    }
   ],
   "source": [
    "legendre_symbol(2, p)"
   ]
  },
  {
   "cell_type": "code",
   "execution_count": 12,
   "metadata": {},
   "outputs": [
    {
     "data": {
      "text/plain": [
       "[]"
      ]
     },
     "execution_count": 12,
     "metadata": {},
     "output_type": "execute_result"
    }
   ],
   "source": [
    "[x for x in Zp if x^2 == a]"
   ]
  },
  {
   "cell_type": "code",
   "execution_count": 13,
   "metadata": {},
   "outputs": [
    {
     "data": {
      "text/plain": [
       "[1, 3, 4, 5, 9]"
      ]
     },
     "execution_count": 13,
     "metadata": {},
     "output_type": "execute_result"
    }
   ],
   "source": [
    "[a for a in Zp if legendre_symbol(a, p)==1]"
   ]
  },
  {
   "cell_type": "code",
   "execution_count": 15,
   "metadata": {},
   "outputs": [
    {
     "data": {
      "text/plain": [
       "-1"
      ]
     },
     "execution_count": 15,
     "metadata": {},
     "output_type": "execute_result"
    }
   ],
   "source": [
    "jacobi_symbol(2, p)"
   ]
  },
  {
   "cell_type": "code",
   "execution_count": 16,
   "metadata": {},
   "outputs": [
    {
     "data": {
      "text/plain": [
       "-1"
      ]
     },
     "execution_count": 16,
     "metadata": {},
     "output_type": "execute_result"
    }
   ],
   "source": [
    "kronecker_symbol(2, p)"
   ]
  },
  {
   "cell_type": "code",
   "execution_count": 17,
   "metadata": {},
   "outputs": [],
   "source": [
    "p = 11\n",
    "Zp = IntegerModRing(p)"
   ]
  },
  {
   "cell_type": "code",
   "execution_count": 18,
   "metadata": {},
   "outputs": [
    {
     "data": {
      "text/plain": [
       "2"
      ]
     },
     "execution_count": 18,
     "metadata": {},
     "output_type": "execute_result"
    }
   ],
   "source": [
    "r = Zp.multiplicative_generator()\n",
    "r"
   ]
  },
  {
   "cell_type": "code",
   "execution_count": 21,
   "metadata": {},
   "outputs": [
    {
     "data": {
      "text/plain": [
       "[1, 3, 4, 5, 9]"
      ]
     },
     "execution_count": 21,
     "metadata": {},
     "output_type": "execute_result"
    }
   ],
   "source": [
    "ResQuadr = [a for a in Zp if legendre_symbol(a, p)==1]\n",
    "ResQuadr"
   ]
  },
  {
   "cell_type": "code",
   "execution_count": 22,
   "metadata": {},
   "outputs": [
    {
     "ename": "SyntaxError",
     "evalue": "invalid syntax (<ipython-input-22-4869468d7fa0>, line 2)",
     "output_type": "error",
     "traceback": [
      "\u001b[0;36m  File \u001b[0;32m\"<ipython-input-22-4869468d7fa0>\"\u001b[0;36m, line \u001b[0;32m2\u001b[0m\n\u001b[0;31m    print discrete_log(a, r)\u001b[0m\n\u001b[0m                     ^\u001b[0m\n\u001b[0;31mSyntaxError\u001b[0m\u001b[0;31m:\u001b[0m invalid syntax\n"
     ]
    }
   ],
   "source": [
    "for a in ResQuadr:\n",
    "    print discrete_log(a, r)"
   ]
  },
  {
   "cell_type": "markdown",
   "metadata": {},
   "source": [
    "__Teorema__: Dado um primo ímpar $p$ e uma raíz primitiva $r$ de $p$, se $p \\nmid a$ então $a$ é resíduo quadrático se e só se $ind_r a $ é par."
   ]
  },
  {
   "cell_type": "markdown",
   "metadata": {},
   "source": [
    "__Critério de Euler__: dado um primo ímpar $p$ e $p\\nmid a$ então\n",
    "\n",
    "$$\\left(\\frac{a}{p}\\right) \\equiv a^{\\frac{p-1}{2}} \\mod p.$$"
   ]
  },
  {
   "cell_type": "code",
   "execution_count": 39,
   "metadata": {},
   "outputs": [],
   "source": [
    "p = 11\n",
    "Zp = IntegerModRing(p)"
   ]
  },
  {
   "cell_type": "code",
   "execution_count": 24,
   "metadata": {},
   "outputs": [
    {
     "data": {
      "text/plain": [
       "1"
      ]
     },
     "execution_count": 24,
     "metadata": {},
     "output_type": "execute_result"
    }
   ],
   "source": [
    "legendre_symbol(3, p)"
   ]
  },
  {
   "cell_type": "code",
   "execution_count": 25,
   "metadata": {},
   "outputs": [
    {
     "data": {
      "text/plain": [
       "1"
      ]
     },
     "execution_count": 25,
     "metadata": {},
     "output_type": "execute_result"
    }
   ],
   "source": [
    "Zp(3)^((p-1)/2)"
   ]
  },
  {
   "cell_type": "code",
   "execution_count": 26,
   "metadata": {},
   "outputs": [
    {
     "data": {
      "text/plain": [
       "-1"
      ]
     },
     "execution_count": 26,
     "metadata": {},
     "output_type": "execute_result"
    }
   ],
   "source": [
    "legendre_symbol(2, p)"
   ]
  },
  {
   "cell_type": "code",
   "execution_count": 33,
   "metadata": {},
   "outputs": [
    {
     "data": {
      "text/plain": [
       "10"
      ]
     },
     "execution_count": 33,
     "metadata": {},
     "output_type": "execute_result"
    }
   ],
   "source": [
    "a = Zp(2)\n",
    "Zp(2)^((p-1)/2)"
   ]
  },
  {
   "cell_type": "code",
   "execution_count": 51,
   "metadata": {},
   "outputs": [
    {
     "data": {
      "text/plain": [
       "True"
      ]
     },
     "execution_count": 51,
     "metadata": {},
     "output_type": "execute_result"
    }
   ],
   "source": [
    "legendre_symbol(2, p) == mod(Zp(2)^((p-1)/2), p)"
   ]
  },
  {
   "cell_type": "markdown",
   "metadata": {},
   "source": [
    "## Exercícios"
   ]
  },
  {
   "cell_type": "code",
   "execution_count": 4,
   "metadata": {},
   "outputs": [],
   "source": [
    "def get_srr(n): # calcula o sistema reduzido de resíduos de 'n'\n",
    "    Zn = IntegerModRing(n)\n",
    "    srr = [a for a in Zn if gcd(a,n) == 1]\n",
    "    return srr"
   ]
  },
  {
   "cell_type": "code",
   "execution_count": 5,
   "metadata": {},
   "outputs": [],
   "source": [
    "def is_primitive_root(a, n): # verifica se 'a' é raíz primitiva de 'n'\n",
    "    Zn = IntegerModRing(n)\n",
    "    #return multiplicative_order(Zn(a)) == euler_phi(n)\n",
    "    #return power_mod(Zn(a), euler_phi(n), n) == 1\n",
    "    return power_mod(a, euler_phi(n), n) == 1"
   ]
  },
  {
   "cell_type": "code",
   "execution_count": 6,
   "metadata": {},
   "outputs": [],
   "source": [
    "def get_ord(a, n): # retorna a ordem de 'a' em 'n'\n",
    "    Zn = IntegerModRing(n)\n",
    "    return multiplicative_order(Zn(a))"
   ]
  },
  {
   "cell_type": "code",
   "execution_count": 7,
   "metadata": {},
   "outputs": [],
   "source": [
    "def get_ind(a, n, r): # retorna o indice de 'a' em 'r' para módulo 'n'\n",
    "    for x in range (0, euler_phi(n)+1):\n",
    "        if r^x == mod(a,n):\n",
    "            return x"
   ]
  },
  {
   "cell_type": "code",
   "execution_count": 8,
   "metadata": {},
   "outputs": [],
   "source": [
    "def get_residuos_quadraticos(p, a): # Lista de resíduos quadráticos\n",
    "    lista = list()\n",
    "    Zp = IntegerModRing(p)\n",
    "    for x in Zp:\n",
    "        if x^2 == a:\n",
    "            lista.append(x)\n",
    "    return lista"
   ]
  },
  {
   "cell_type": "code",
   "execution_count": 9,
   "metadata": {},
   "outputs": [],
   "source": [
    "def get_residuos_quadraticos_legendre(p, a): # Lista de resíduos quadráticos\n",
    "    lista = list()\n",
    "    Zp = IntegerModRing(p)\n",
    "    for x in Zp:\n",
    "        if legendre_symbol(x, p) == 1:\n",
    "            lista.append(x)\n",
    "    return lista"
   ]
  },
  {
   "cell_type": "code",
   "execution_count": 10,
   "metadata": {},
   "outputs": [],
   "source": [
    "def residuo_quadratico_CritEuler(a, p): # 'p' ímpar e 'p' não dívide 'a'. Output é resíduo quadrático.\n",
    "    Zp = IntegerModRing(p)\n",
    "    exp = (p-1)//2\n",
    "    return jacobi_symbol(a,p) == power_mod(Zp(a), exp, p)"
   ]
  },
  {
   "cell_type": "code",
   "execution_count": 15,
   "metadata": {},
   "outputs": [
    {
     "data": {
      "text/plain": [
       "True"
      ]
     },
     "execution_count": 15,
     "metadata": {},
     "output_type": "execute_result"
    }
   ],
   "source": [
    "n = 4874199776762032183\n",
    "Zn = IntegerModRing(n)\n",
    "r = Zn(1564111718413659456)\n",
    "a = 2063484835043722125\n",
    "\n",
    "\n",
    "x = 1945473589762547835 \n",
    "r^x == mod(a,n)"
   ]
  },
  {
   "cell_type": "code",
   "execution_count": 59,
   "metadata": {},
   "outputs": [
    {
     "data": {
      "text/plain": [
       "8"
      ]
     },
     "execution_count": 59,
     "metadata": {},
     "output_type": "execute_result"
    }
   ],
   "source": [
    "p = 23\n",
    "a = 20\n",
    "total = 0\n",
    "for k in range (1,12):\n",
    "    total = total + len(get_residuos_quadraticos(p, k*a))\n",
    "\n",
    "total"
   ]
  },
  {
   "cell_type": "code",
   "execution_count": 60,
   "metadata": {},
   "outputs": [
    {
     "data": {
      "text/plain": [
       "(16806724217122004366, 7824614627092383869)"
      ]
     },
     "execution_count": 60,
     "metadata": {},
     "output_type": "execute_result"
    }
   ],
   "source": [
    "p = 57619203398612914699\n",
    "r = 2\n",
    "b = 9115002375460472237\n",
    "\n",
    "x = 1234\n",
    "k = 4321\n",
    "\n",
    "Zp = IntegerModRing(p)\n",
    "r = Zp(r) # optimização\n",
    "gama = power_mod(r,k,p)\n",
    "delta = mod(x*b^k,p)\n",
    "criptograma = gama, delta\n",
    "criptograma"
   ]
  },
  {
   "cell_type": "code",
   "execution_count": 52,
   "metadata": {},
   "outputs": [
    {
     "data": {
      "text/plain": [
       "True"
      ]
     },
     "execution_count": 52,
     "metadata": {},
     "output_type": "execute_result"
    }
   ],
   "source": [
    "p = 55540681755441238129\n",
    "r = 13\n",
    "b = 12772590286989137524\n",
    "\n",
    "a = 12772590286989137524\n",
    "indice_x = 21736048700748686856 # indice de 'a' em 'p' na base 'r'\n",
    "\n",
    "# b = r^a\n",
    "\n",
    "gama = 16055761497023349210\n",
    "delta = 28640927469043013682\n",
    "\n",
    "b == power_mod(r,21736048700748686856,p)"
   ]
  },
  {
   "cell_type": "code",
   "execution_count": 20,
   "metadata": {},
   "outputs": [
    {
     "data": {
      "text/plain": [
       "True"
      ]
     },
     "execution_count": 20,
     "metadata": {},
     "output_type": "execute_result"
    }
   ],
   "source": [
    "Zn = IntegerModRing(269)\n",
    "power_mod(Zn(209), euler_phi(269),269) == 1"
   ]
  },
  {
   "cell_type": "code",
   "execution_count": 45,
   "metadata": {},
   "outputs": [
    {
     "name": "stdout",
     "output_type": "stream",
     "text": [
      "False\n",
      "False\n"
     ]
    }
   ],
   "source": [
    "b = 6\n",
    "n = 1111\n",
    "print(b^((n-1)/2) == jacobi_symbol(b,n))\n",
    "print(b^((n-1)/2) == -jacobi_symbol(b,n))"
   ]
  },
  {
   "cell_type": "code",
   "execution_count": 51,
   "metadata": {},
   "outputs": [],
   "source": [
    "p = 59879295262580794019\n",
    "r = 2\n",
    "b = 46532948489070777896\n",
    "\n",
    "gama = 31508193067819085597\n",
    "delta = 42769957659645449029\n",
    "\n",
    "# get_ind(b,p,r) = 26889797028840904448 # <= fi(p), t.q. r^26889797028840904448 == mod(b,p)"
   ]
  },
  {
   "cell_type": "markdown",
   "metadata": {},
   "source": [
    "## Seja $r$ uma raíz primitiva de $n$. \n",
    "\n",
    "## $ind_r a = x$ significa que $1\\le x\\le \\varphi(n)$ tal que $r^x \\equiv a \\mod n$."
   ]
  },
  {
   "cell_type": "code",
   "execution_count": null,
   "metadata": {},
   "outputs": [],
   "source": [
    "p = 16456780161579311951\n",
    "r = 10632721783361421121\n",
    "aux = 12124670967023022731\n",
    "\n",
    "#get_ind(12124670967023022731,p,r)\n",
    "r^765875512 == mod(12124670967023022731,n)\n",
    "\n"
   ]
  },
  {
   "cell_type": "code",
   "execution_count": null,
   "metadata": {},
   "outputs": [],
   "source": []
  },
  {
   "cell_type": "code",
   "execution_count": null,
   "metadata": {},
   "outputs": [],
   "source": []
  },
  {
   "cell_type": "code",
   "execution_count": null,
   "metadata": {},
   "outputs": [],
   "source": []
  },
  {
   "cell_type": "code",
   "execution_count": null,
   "metadata": {},
   "outputs": [],
   "source": []
  },
  {
   "cell_type": "code",
   "execution_count": null,
   "metadata": {},
   "outputs": [],
   "source": []
  },
  {
   "cell_type": "code",
   "execution_count": null,
   "metadata": {},
   "outputs": [],
   "source": []
  },
  {
   "cell_type": "code",
   "execution_count": 83,
   "metadata": {},
   "outputs": [
    {
     "data": {
      "text/plain": [
       "4"
      ]
     },
     "execution_count": 83,
     "metadata": {},
     "output_type": "execute_result"
    }
   ],
   "source": [
    "a = 2\n",
    "n = 5\n",
    "get_ord(a, n)"
   ]
  },
  {
   "cell_type": "code",
   "execution_count": 84,
   "metadata": {},
   "outputs": [
    {
     "data": {
      "text/plain": [
       "6"
      ]
     },
     "execution_count": 84,
     "metadata": {},
     "output_type": "execute_result"
    }
   ],
   "source": [
    "a = 10\n",
    "n = 13\n",
    "get_ord(a, n)"
   ]
  },
  {
   "cell_type": "code",
   "execution_count": 87,
   "metadata": {},
   "outputs": [
    {
     "data": {
      "text/plain": [
       "4"
      ]
     },
     "execution_count": 87,
     "metadata": {},
     "output_type": "execute_result"
    }
   ],
   "source": [
    "a = 3\n",
    "n = 10\n",
    "get_ord(a, n)"
   ]
  },
  {
   "cell_type": "code",
   "execution_count": 88,
   "metadata": {},
   "outputs": [
    {
     "data": {
      "text/plain": [
       "4"
      ]
     },
     "execution_count": 88,
     "metadata": {},
     "output_type": "execute_result"
    }
   ],
   "source": [
    "a = 7\n",
    "n = 10\n",
    "get_ord(a, n)"
   ]
  },
  {
   "cell_type": "code",
   "execution_count": 89,
   "metadata": {},
   "outputs": [
    {
     "data": {
      "text/plain": [
       "5"
      ]
     },
     "execution_count": 89,
     "metadata": {},
     "output_type": "execute_result"
    }
   ],
   "source": [
    "a = 3\n",
    "n = 11\n",
    "get_ord(a, n)"
   ]
  },
  {
   "cell_type": "code",
   "execution_count": 90,
   "metadata": {},
   "outputs": [
    {
     "data": {
      "text/plain": [
       "8"
      ]
     },
     "execution_count": 90,
     "metadata": {},
     "output_type": "execute_result"
    }
   ],
   "source": [
    "a = 2\n",
    "n = 17\n",
    "get_ord(a, n)"
   ]
  },
  {
   "cell_type": "code",
   "execution_count": 91,
   "metadata": {},
   "outputs": [
    {
     "data": {
      "text/plain": [
       "6"
      ]
     },
     "execution_count": 91,
     "metadata": {},
     "output_type": "execute_result"
    }
   ],
   "source": [
    "a = 10\n",
    "n = 21\n",
    "get_ord(a, n)"
   ]
  },
  {
   "cell_type": "code",
   "execution_count": 92,
   "metadata": {},
   "outputs": [
    {
     "data": {
      "text/plain": [
       "10"
      ]
     },
     "execution_count": 92,
     "metadata": {},
     "output_type": "execute_result"
    }
   ],
   "source": [
    "a = 9\n",
    "n = 25\n",
    "get_ord(a, n)"
   ]
  },
  {
   "cell_type": "code",
   "execution_count": 64,
   "metadata": {},
   "outputs": [
    {
     "data": {
      "text/plain": [
       "True"
      ]
     },
     "execution_count": 64,
     "metadata": {},
     "output_type": "execute_result"
    }
   ],
   "source": [
    "# M.q. 5 é raíz primitiva de 6\n",
    "n = 6\n",
    "a = 5\n",
    "Zn = IntegerModRing(n)\n",
    "\n",
    "multiplicative_order(Zn(a)) == euler_phi(n)"
   ]
  },
  {
   "cell_type": "code",
   "execution_count": 103,
   "metadata": {},
   "outputs": [
    {
     "data": {
      "text/plain": [
       "1"
      ]
     },
     "execution_count": 103,
     "metadata": {},
     "output_type": "execute_result"
    }
   ],
   "source": [
    "power_mod(a, euler_phi(n), n) # = 1, logo 'a' é raíz primitiva de 'n'"
   ]
  },
  {
   "cell_type": "code",
   "execution_count": 66,
   "metadata": {},
   "outputs": [
    {
     "data": {
      "text/plain": [
       "True"
      ]
     },
     "execution_count": 66,
     "metadata": {},
     "output_type": "execute_result"
    }
   ],
   "source": [
    "is_primitive_root(a,n)"
   ]
  },
  {
   "cell_type": "code",
   "execution_count": 67,
   "metadata": {},
   "outputs": [
    {
     "data": {
      "text/plain": [
       "True"
      ]
     },
     "execution_count": 67,
     "metadata": {},
     "output_type": "execute_result"
    }
   ],
   "source": [
    "# M.q. 2 é uma raíz primitíva de 11\n",
    "is_primitive_root(2, 11)"
   ]
  },
  {
   "cell_type": "code",
   "execution_count": 93,
   "metadata": {},
   "outputs": [
    {
     "data": {
      "text/plain": [
       "3"
      ]
     },
     "execution_count": 93,
     "metadata": {},
     "output_type": "execute_result"
    }
   ],
   "source": [
    "primitive_root(4)"
   ]
  },
  {
   "cell_type": "code",
   "execution_count": 94,
   "metadata": {},
   "outputs": [
    {
     "data": {
      "text/plain": [
       "2"
      ]
     },
     "execution_count": 94,
     "metadata": {},
     "output_type": "execute_result"
    }
   ],
   "source": [
    "primitive_root(5)"
   ]
  },
  {
   "cell_type": "code",
   "execution_count": 95,
   "metadata": {},
   "outputs": [
    {
     "data": {
      "text/plain": [
       "7"
      ]
     },
     "execution_count": 95,
     "metadata": {},
     "output_type": "execute_result"
    }
   ],
   "source": [
    "primitive_root(10)"
   ]
  },
  {
   "cell_type": "code",
   "execution_count": 97,
   "metadata": {},
   "outputs": [
    {
     "data": {
      "text/plain": [
       "2"
      ]
     },
     "execution_count": 97,
     "metadata": {},
     "output_type": "execute_result"
    }
   ],
   "source": [
    "primitive_root(13)"
   ]
  },
  {
   "cell_type": "code",
   "execution_count": 98,
   "metadata": {},
   "outputs": [
    {
     "data": {
      "text/plain": [
       "3"
      ]
     },
     "execution_count": 98,
     "metadata": {},
     "output_type": "execute_result"
    }
   ],
   "source": [
    "primitive_root(14)"
   ]
  },
  {
   "cell_type": "code",
   "execution_count": 99,
   "metadata": {},
   "outputs": [
    {
     "data": {
      "text/plain": [
       "11"
      ]
     },
     "execution_count": 99,
     "metadata": {},
     "output_type": "execute_result"
    }
   ],
   "source": [
    "primitive_root(18)"
   ]
  },
  {
   "cell_type": "code",
   "execution_count": 101,
   "metadata": {},
   "outputs": [
    {
     "ename": "ValueError",
     "evalue": "no primitive root",
     "output_type": "error",
     "traceback": [
      "\u001b[0;31m---------------------------------------------------------------------------\u001b[0m",
      "\u001b[0;31mValueError\u001b[0m                                Traceback (most recent call last)",
      "\u001b[0;32m<ipython-input-101-dfd011334dbe>\u001b[0m in \u001b[0;36m<module>\u001b[0;34m()\u001b[0m\n\u001b[0;32m----> 1\u001b[0;31m \u001b[0mprimitive_root\u001b[0m\u001b[0;34m(\u001b[0m\u001b[0mInteger\u001b[0m\u001b[0;34m(\u001b[0m\u001b[0;36m12\u001b[0m\u001b[0;34m)\u001b[0m\u001b[0;34m)\u001b[0m\u001b[0;34m\u001b[0m\u001b[0;34m\u001b[0m\u001b[0m\n\u001b[0m",
      "\u001b[0;32m/opt/SageMath/local/lib/python3.7/site-packages/sage/arith/misc.py\u001b[0m in \u001b[0;36mprimitive_root\u001b[0;34m(n, check)\u001b[0m\n\u001b[1;32m   4086\u001b[0m         \u001b[0;32mif\u001b[0m \u001b[0mm\u001b[0m\u001b[0;34m%\u001b[0m\u001b[0;36m2\u001b[0m \u001b[0;32mand\u001b[0m \u001b[0mm\u001b[0m\u001b[0;34m.\u001b[0m\u001b[0mis_prime_power\u001b[0m\u001b[0;34m(\u001b[0m\u001b[0;34m)\u001b[0m\u001b[0;34m:\u001b[0m\u001b[0;34m\u001b[0m\u001b[0;34m\u001b[0m\u001b[0m\n\u001b[1;32m   4087\u001b[0m             \u001b[0;32mreturn\u001b[0m \u001b[0mZZ\u001b[0m\u001b[0;34m(\u001b[0m\u001b[0mpari\u001b[0m\u001b[0;34m(\u001b[0m\u001b[0mn\u001b[0m\u001b[0;34m)\u001b[0m\u001b[0;34m.\u001b[0m\u001b[0mznprimroot\u001b[0m\u001b[0;34m(\u001b[0m\u001b[0;34m)\u001b[0m\u001b[0;34m)\u001b[0m\u001b[0;34m\u001b[0m\u001b[0;34m\u001b[0m\u001b[0m\n\u001b[0;32m-> 4088\u001b[0;31m     \u001b[0;32mraise\u001b[0m \u001b[0mValueError\u001b[0m\u001b[0;34m(\u001b[0m\u001b[0;34m\"no primitive root\"\u001b[0m\u001b[0;34m)\u001b[0m\u001b[0;34m\u001b[0m\u001b[0;34m\u001b[0m\u001b[0m\n\u001b[0m\u001b[1;32m   4089\u001b[0m \u001b[0;34m\u001b[0m\u001b[0m\n\u001b[1;32m   4090\u001b[0m \u001b[0;34m\u001b[0m\u001b[0m\n",
      "\u001b[0;31mValueError\u001b[0m: no primitive root"
     ]
    }
   ],
   "source": [
    "primitive_root(12)"
   ]
  },
  {
   "cell_type": "code",
   "execution_count": 102,
   "metadata": {
    "scrolled": true
   },
   "outputs": [
    {
     "ename": "ValueError",
     "evalue": "no primitive root",
     "output_type": "error",
     "traceback": [
      "\u001b[0;31m---------------------------------------------------------------------------\u001b[0m",
      "\u001b[0;31mValueError\u001b[0m                                Traceback (most recent call last)",
      "\u001b[0;32m<ipython-input-102-ee028d8e2355>\u001b[0m in \u001b[0;36m<module>\u001b[0;34m()\u001b[0m\n\u001b[0;32m----> 1\u001b[0;31m \u001b[0mprimitive_root\u001b[0m\u001b[0;34m(\u001b[0m\u001b[0mInteger\u001b[0m\u001b[0;34m(\u001b[0m\u001b[0;36m20\u001b[0m\u001b[0;34m)\u001b[0m\u001b[0;34m)\u001b[0m\u001b[0;34m\u001b[0m\u001b[0;34m\u001b[0m\u001b[0m\n\u001b[0m",
      "\u001b[0;32m/opt/SageMath/local/lib/python3.7/site-packages/sage/arith/misc.py\u001b[0m in \u001b[0;36mprimitive_root\u001b[0;34m(n, check)\u001b[0m\n\u001b[1;32m   4086\u001b[0m         \u001b[0;32mif\u001b[0m \u001b[0mm\u001b[0m\u001b[0;34m%\u001b[0m\u001b[0;36m2\u001b[0m \u001b[0;32mand\u001b[0m \u001b[0mm\u001b[0m\u001b[0;34m.\u001b[0m\u001b[0mis_prime_power\u001b[0m\u001b[0;34m(\u001b[0m\u001b[0;34m)\u001b[0m\u001b[0;34m:\u001b[0m\u001b[0;34m\u001b[0m\u001b[0;34m\u001b[0m\u001b[0m\n\u001b[1;32m   4087\u001b[0m             \u001b[0;32mreturn\u001b[0m \u001b[0mZZ\u001b[0m\u001b[0;34m(\u001b[0m\u001b[0mpari\u001b[0m\u001b[0;34m(\u001b[0m\u001b[0mn\u001b[0m\u001b[0;34m)\u001b[0m\u001b[0;34m.\u001b[0m\u001b[0mznprimroot\u001b[0m\u001b[0;34m(\u001b[0m\u001b[0;34m)\u001b[0m\u001b[0;34m)\u001b[0m\u001b[0;34m\u001b[0m\u001b[0;34m\u001b[0m\u001b[0m\n\u001b[0;32m-> 4088\u001b[0;31m     \u001b[0;32mraise\u001b[0m \u001b[0mValueError\u001b[0m\u001b[0;34m(\u001b[0m\u001b[0;34m\"no primitive root\"\u001b[0m\u001b[0;34m)\u001b[0m\u001b[0;34m\u001b[0m\u001b[0;34m\u001b[0m\u001b[0m\n\u001b[0m\u001b[1;32m   4089\u001b[0m \u001b[0;34m\u001b[0m\u001b[0m\n\u001b[1;32m   4090\u001b[0m \u001b[0;34m\u001b[0m\u001b[0m\n",
      "\u001b[0;31mValueError\u001b[0m: no primitive root"
     ]
    }
   ],
   "source": [
    "primitive_root(20)"
   ]
  },
  {
   "cell_type": "markdown",
   "metadata": {},
   "source": [
    "#### Nota: $ind_ra$\n",
    "modulo 7 $\\rightarrow$ $n = 7$"
   ]
  },
  {
   "cell_type": "code",
   "execution_count": 139,
   "metadata": {},
   "outputs": [
    {
     "data": {
      "text/plain": [
       "4"
      ]
     },
     "execution_count": 139,
     "metadata": {},
     "output_type": "execute_result"
    }
   ],
   "source": [
    "# Calcule, módulo 7, (ind_5)^2\n",
    "\n",
    "r = 5\n",
    "a = 2\n",
    "n = 7\n",
    "get_ind(a, n, r)"
   ]
  },
  {
   "cell_type": "code",
   "execution_count": 136,
   "metadata": {},
   "outputs": [
    {
     "data": {
      "text/plain": [
       "5"
      ]
     },
     "execution_count": 136,
     "metadata": {},
     "output_type": "execute_result"
    }
   ],
   "source": [
    "r = 5\n",
    "a = 3\n",
    "n = 7\n",
    "get_ind(a, n, r)"
   ]
  },
  {
   "cell_type": "code",
   "execution_count": 137,
   "metadata": {},
   "outputs": [
    {
     "data": {
      "text/plain": [
       "3"
      ]
     },
     "execution_count": 137,
     "metadata": {},
     "output_type": "execute_result"
    }
   ],
   "source": [
    "r = 5\n",
    "a = 6\n",
    "n = 7\n",
    "get_ind(a, n, r)"
   ]
  },
  {
   "cell_type": "code",
   "execution_count": 140,
   "metadata": {},
   "outputs": [
    {
     "data": {
      "text/plain": [
       "2"
      ]
     },
     "execution_count": 140,
     "metadata": {},
     "output_type": "execute_result"
    }
   ],
   "source": [
    "r = 5\n",
    "a = 3^4\n",
    "n = 7\n",
    "get_ind(a, n, r)"
   ]
  },
  {
   "cell_type": "code",
   "execution_count": null,
   "metadata": {},
   "outputs": [],
   "source": []
  },
  {
   "cell_type": "code",
   "execution_count": null,
   "metadata": {},
   "outputs": [],
   "source": []
  },
  {
   "cell_type": "code",
   "execution_count": 25,
   "metadata": {},
   "outputs": [
    {
     "data": {
      "text/plain": [
       "(2415, 91)"
      ]
     },
     "execution_count": 25,
     "metadata": {},
     "output_type": "execute_result"
    }
   ],
   "source": [
    "# pub key\n",
    "p = 2551\n",
    "r = 6\n",
    "b = 33\n",
    "\n",
    "# message to cypher\n",
    "msg = 133\n",
    "\n",
    "elgamal_cypher(p,r,b,msg)"
   ]
  },
  {
   "cell_type": "code",
   "execution_count": 29,
   "metadata": {},
   "outputs": [
    {
     "data": {
      "text/plain": [
       "133"
      ]
     },
     "execution_count": 29,
     "metadata": {},
     "output_type": "execute_result"
    }
   ],
   "source": [
    "#priv key\n",
    "a = 13\n",
    "\n",
    "#message to decypher\n",
    "gama = 421\n",
    "delta = 95\n",
    "\n",
    "#elgamal_decypher(gama, delta, a)\n",
    "elgamal_decypher_opt(gama, delta, a, p)"
   ]
  },
  {
   "cell_type": "code",
   "execution_count": 12,
   "metadata": {},
   "outputs": [
    {
     "data": {
      "text/plain": [
       "(211749706, 101929852)"
      ]
     },
     "execution_count": 12,
     "metadata": {},
     "output_type": "execute_result"
    }
   ],
   "source": [
    "p = 370113067\n",
    "r = 3\n",
    "b = 161485623\n",
    "msg = 138616298\n",
    "\n",
    "elgamal_cypher(p,r,b,msg)"
   ]
  },
  {
   "cell_type": "code",
   "execution_count": 31,
   "metadata": {},
   "outputs": [
    {
     "data": {
      "text/plain": [
       "1856"
      ]
     },
     "execution_count": 31,
     "metadata": {},
     "output_type": "execute_result"
    }
   ],
   "source": [
    "gama = 267037772\n",
    "delta = 234691095\n",
    "a = 164943214\n",
    "\n",
    "elgamal_decypher_opt(gama, delta, a, p)"
   ]
  },
  {
   "cell_type": "code",
   "execution_count": null,
   "metadata": {},
   "outputs": [],
   "source": []
  },
  {
   "cell_type": "code",
   "execution_count": null,
   "metadata": {},
   "outputs": [],
   "source": []
  },
  {
   "cell_type": "code",
   "execution_count": 105,
   "metadata": {},
   "outputs": [
    {
     "data": {
      "text/plain": [
       "1"
      ]
     },
     "execution_count": 105,
     "metadata": {},
     "output_type": "execute_result"
    }
   ],
   "source": [
    "jacobi_symbol(3,11)"
   ]
  },
  {
   "cell_type": "code",
   "execution_count": 106,
   "metadata": {},
   "outputs": [
    {
     "data": {
      "text/plain": [
       "-1"
      ]
     },
     "execution_count": 106,
     "metadata": {},
     "output_type": "execute_result"
    }
   ],
   "source": [
    "jacobi_symbol(8,11)"
   ]
  },
  {
   "cell_type": "code",
   "execution_count": 107,
   "metadata": {},
   "outputs": [
    {
     "data": {
      "text/plain": [
       "-1"
      ]
     },
     "execution_count": 107,
     "metadata": {},
     "output_type": "execute_result"
    }
   ],
   "source": [
    "jacobi_symbol(24,11)"
   ]
  },
  {
   "cell_type": "code",
   "execution_count": 108,
   "metadata": {},
   "outputs": [
    {
     "data": {
      "text/plain": [
       "1"
      ]
     },
     "execution_count": 108,
     "metadata": {},
     "output_type": "execute_result"
    }
   ],
   "source": [
    "jacobi_symbol(9,11)"
   ]
  },
  {
   "cell_type": "code",
   "execution_count": 109,
   "metadata": {},
   "outputs": [
    {
     "data": {
      "text/plain": [
       "-1"
      ]
     },
     "execution_count": 109,
     "metadata": {},
     "output_type": "execute_result"
    }
   ],
   "source": [
    "jacobi_symbol(72,11)"
   ]
  },
  {
   "cell_type": "code",
   "execution_count": 110,
   "metadata": {},
   "outputs": [
    {
     "data": {
      "text/plain": [
       "1"
      ]
     },
     "execution_count": 110,
     "metadata": {},
     "output_type": "execute_result"
    }
   ],
   "source": [
    "jacobi_symbol(21,235)"
   ]
  },
  {
   "cell_type": "code",
   "execution_count": 111,
   "metadata": {},
   "outputs": [
    {
     "data": {
      "text/plain": [
       "1"
      ]
     },
     "execution_count": 111,
     "metadata": {},
     "output_type": "execute_result"
    }
   ],
   "source": [
    "jacobi_symbol(101,159)"
   ]
  },
  {
   "cell_type": "code",
   "execution_count": 1,
   "metadata": {},
   "outputs": [
    {
     "name": "stderr",
     "output_type": "stream",
     "text": [
      "/opt/SageMath/local/lib/python3.7/site-packages/docutils/writers/latex2e/__init__.py:2978: DeprecationWarning: invalid escape sequence \\l\n",
      "  self.out.append('}] \\leavevmode ')\n",
      "/opt/SageMath/local/lib/python3.7/site-packages/requests/models.py:847: DeprecationWarning: invalid escape sequence \\*\n",
      "  \"\"\"\n",
      "/opt/SageMath/local/lib/python3.7/site-packages/requests/api.py:67: DeprecationWarning: invalid escape sequence \\*\n",
      "  \"\"\"\n",
      "/opt/SageMath/local/lib/python3.7/site-packages/requests/api.py:80: DeprecationWarning: invalid escape sequence \\*\n",
      "  \"\"\"\n",
      "/opt/SageMath/local/lib/python3.7/site-packages/requests/api.py:93: DeprecationWarning: invalid escape sequence \\*\n",
      "  \"\"\"\n",
      "/opt/SageMath/local/lib/python3.7/site-packages/requests/api.py:108: DeprecationWarning: invalid escape sequence \\*\n",
      "  \"\"\"\n",
      "/opt/SageMath/local/lib/python3.7/site-packages/requests/api.py:122: DeprecationWarning: invalid escape sequence \\*\n",
      "  \"\"\"\n",
      "/opt/SageMath/local/lib/python3.7/site-packages/requests/api.py:136: DeprecationWarning: invalid escape sequence \\*\n",
      "  \"\"\"\n",
      "/opt/SageMath/local/lib/python3.7/site-packages/requests/api.py:148: DeprecationWarning: invalid escape sequence \\*\n",
      "  \"\"\"\n",
      "/opt/SageMath/local/lib/python3.7/site-packages/requests/sessions.py:498: DeprecationWarning: invalid escape sequence \\*\n",
      "  \"\"\"\n",
      "/opt/SageMath/local/lib/python3.7/site-packages/requests/sessions.py:509: DeprecationWarning: invalid escape sequence \\*\n",
      "  \"\"\"\n",
      "/opt/SageMath/local/lib/python3.7/site-packages/requests/sessions.py:520: DeprecationWarning: invalid escape sequence \\*\n",
      "  \"\"\"\n",
      "/opt/SageMath/local/lib/python3.7/site-packages/requests/sessions.py:533: DeprecationWarning: invalid escape sequence \\*\n",
      "  \"\"\"\n",
      "/opt/SageMath/local/lib/python3.7/site-packages/requests/sessions.py:544: DeprecationWarning: invalid escape sequence \\*\n",
      "  \"\"\"\n",
      "/opt/SageMath/local/lib/python3.7/site-packages/requests/sessions.py:555: DeprecationWarning: invalid escape sequence \\*\n",
      "  \"\"\"\n",
      "/opt/SageMath/local/lib/python3.7/site-packages/requests/sessions.py:565: DeprecationWarning: invalid escape sequence \\*\n",
      "  \"\"\"\n"
     ]
    }
   ],
   "source": [
    "inverse_mod??"
   ]
  },
  {
   "cell_type": "code",
   "execution_count": null,
   "metadata": {},
   "outputs": [],
   "source": [
    "m=3\n",
    "z =(H(m)-x*r)*(j)  ##O problema está no k^-1, que representa o inverso multiplicativo de k...\n",
    "s =mod(z,p-1)    ## está errado porque apenas k é elevado a -1 e nao todo a expressao"
   ]
  },
  {
   "cell_type": "code",
   "execution_count": 2,
   "metadata": {},
   "outputs": [],
   "source": [
    "inverse_mod??"
   ]
  },
  {
   "cell_type": "code",
   "execution_count": null,
   "metadata": {},
   "outputs": [],
   "source": []
  }
 ],
 "metadata": {
  "kernelspec": {
   "display_name": "SageMath 9.0",
   "language": "sage",
   "name": "sagemath"
  },
  "language_info": {
   "codemirror_mode": {
    "name": "ipython",
    "version": 3
   },
   "file_extension": ".py",
   "mimetype": "text/x-python",
   "name": "python",
   "nbconvert_exporter": "python",
   "pygments_lexer": "ipython3",
   "version": "3.7.3"
  }
 },
 "nbformat": 4,
 "nbformat_minor": 2
}
