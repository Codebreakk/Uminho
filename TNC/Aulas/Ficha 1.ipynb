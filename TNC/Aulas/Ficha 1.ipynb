{
 "cells": [
  {
   "cell_type": "markdown",
   "metadata": {},
   "source": [
    "## Folha 1"
   ]
  },
  {
   "cell_type": "markdown",
   "metadata": {},
   "source": [
    "### Exercício 1\n",
    "Recorde o **Pequeno Teorema de Fermat (PTF)**:\n",
    "\n",
    "- n primo implica $a^{n-1}\\ ≡\\ 1\\ mod\\ n$, se (a, n) = 1.\n",
    "\n",
    "\n",
    "Seja n = 2⁵¹² + 1."
   ]
  },
  {
   "cell_type": "markdown",
   "metadata": {},
   "source": [
    "#### a) \n",
    "Considere a = 2. Verifique se a tese é satisfeita (ou seja, se $2^{n-1}$ ≡ 1 mod n)."
   ]
  },
  {
   "cell_type": "code",
   "execution_count": 1,
   "metadata": {},
   "outputs": [
    {
     "data": {
      "text/plain": [
       "True"
      ]
     },
     "execution_count": 1,
     "metadata": {},
     "output_type": "execute_result"
    }
   ],
   "source": [
    "n = 2^512 + 1\n",
    "a = 2\n",
    "\n",
    "gcd(a,n) == 1 # (a,n) = 1"
   ]
  },
  {
   "cell_type": "code",
   "execution_count": 2,
   "metadata": {},
   "outputs": [
    {
     "data": {
      "text/plain": [
       "1"
      ]
     },
     "execution_count": 2,
     "metadata": {},
     "output_type": "execute_result"
    }
   ],
   "source": [
    "mod(1,n)\n",
    "#mod?? \n",
    "# mod(n, m):  'n' modulo 'm'"
   ]
  },
  {
   "cell_type": "code",
   "execution_count": 3,
   "metadata": {},
   "outputs": [
    {
     "data": {
      "text/plain": [
       "1"
      ]
     },
     "execution_count": 3,
     "metadata": {},
     "output_type": "execute_result"
    }
   ],
   "source": [
    "power_mod(a, n-1, n) # a^(n-1) mod n\n",
    "\n",
    "#power_mod??\n",
    "# power_mod(a, n, m):  a^n mod m\n",
    "# Return the 'n'-th power of 'a' modulo the integer 'm'."
   ]
  },
  {
   "cell_type": "markdown",
   "metadata": {},
   "source": [
    "#### b)\n",
    "Procure outros exemplos de bases que verifiquem a tese do teorema."
   ]
  },
  {
   "cell_type": "code",
   "execution_count": 4,
   "metadata": {},
   "outputs": [
    {
     "name": "stdout",
     "output_type": "stream",
     "text": [
      "a = 4\n",
      "a = 8\n",
      "a = 16\n",
      "a = 32\n",
      "a = 64\n"
     ]
    }
   ],
   "source": [
    "# encontrar outro valor 'a' t.q. a^(n-1) ≡ 1 mod n\n",
    "# TODO: dúvida... é para encontrar outro 'a' ou outro 'n'???\n",
    "\n",
    "def resolver_b(n):\n",
    "    a = 3 # a base inicial era 2, por isso começamos com a = 3\n",
    "    while(a < 100): # inicialmente era a < n-1, mas nunca mais acabava\n",
    "        r = power_mod(a,n-1,n) # calcular a^(n-1) mod n\n",
    "        \n",
    "        if r == 1: # a é solução se r = 1\n",
    "            print(\"a =\", a)\n",
    "            #return a\n",
    "        a = a + 1\n",
    "    \n",
    "resolver_b(2^512+1)"
   ]
  },
  {
   "cell_type": "markdown",
   "metadata": {},
   "source": [
    "#### c)\n",
    "Mostre, usando o PTF, que o número não  é primo."
   ]
  },
  {
   "cell_type": "code",
   "execution_count": 5,
   "metadata": {
    "scrolled": true
   },
   "outputs": [
    {
     "name": "stdout",
     "output_type": "stream",
     "text": [
      "k = 4 -> result = True\n",
      "k = 8 -> result = True\n",
      "k = 16 -> result = True\n",
      "k = 32 -> result = True\n",
      "k = 64 -> result = True\n",
      "\n",
      " a = 2 n = 13407807929942597099574024998205846127479365820592393377723561443721764030073546976801874298166903427690031858186486050853753882811946569946433649006084097 -> result = True\n"
     ]
    }
   ],
   "source": [
    "# Todos os números são pares, logo não são primos. Contudo, vamos de-\n",
    "# senvolver um algoritmo simples para testar.\n",
    "\n",
    "def resolver_1c(a, n):\n",
    "    mdc = gcd(a,n)\n",
    "    \n",
    "    if (mdc != 1):\n",
    "        return False # n não é primo\n",
    "    else:\n",
    "        return power_mod(a, n-1, n) == 1\n",
    "    \n",
    "for k in (4,8,16,32,64):\n",
    "    print(\"k =\", k, \"-> result =\", resolver_1c(k,n))\n",
    "    \n",
    "print(\"\\n\", \"a =\", a, \"n =\", n, \"-> result =\", resolver_1c(2,n))"
   ]
  },
  {
   "cell_type": "markdown",
   "metadata": {},
   "source": [
    "### Exercício 2\n",
    "A conjectura dos primos gémeos afirma que existe uma infinidade de pares de\n",
    "números primos $p$ e $p+2$. Escreva uma função que encontre os **primos gémeos** inferiores\n",
    "a um certo argumento."
   ]
  },
  {
   "cell_type": "code",
   "execution_count": 6,
   "metadata": {
    "scrolled": true
   },
   "outputs": [
    {
     "name": "stdout",
     "output_type": "stream",
     "text": [
      "1ª solução:\n",
      "3 5\n",
      "5 7\n",
      "11 13\n",
      "17 19\n",
      "29 31\n",
      "41 43\n",
      "59 61\n",
      "71 73\n",
      "101 103\n",
      "107 109\n",
      "137 139\n",
      "149 151\n",
      "179 181\n",
      "191 193\n",
      "197 199\n",
      "\n",
      "2ª solução:\n",
      "11 13\n",
      "17 19\n",
      "29 31\n",
      "41 43\n",
      "59 61\n",
      "71 73\n",
      "101 103\n",
      "107 109\n",
      "137 139\n",
      "149 151\n",
      "179 181\n",
      "191 193\n",
      "197 199\n"
     ]
    }
   ],
   "source": [
    "def resolver_ex2a(max):\n",
    "    x = 0; y = 2;\n",
    "    while(y < max):\n",
    "        if (is_prime(x) and is_prime(y)): # solução base\n",
    "            print (x,y)\n",
    "        x = x+1\n",
    "        y = y+1\n",
    "\n",
    "def resolver_ex2b(max):\n",
    "    x = 0; y = 2;\n",
    "\n",
    "    while(y < max):\n",
    "        r_x = -1; r_y = -1; # vars for the return values\n",
    "        for a in range(2, 10):\n",
    "            if gcd(a, x) != 1:\n",
    "                r_x = -1\n",
    "                break\n",
    "            else:\n",
    "                if power_mod(a, x - 1, x) == 1:\n",
    "                    r_x = x;\n",
    "                    \n",
    "        for a in range(2,10):\n",
    "            if gcd(a, y) != 1:\n",
    "                r_y = -1\n",
    "                break\n",
    "            else:\n",
    "                if power_mod(a, y - 1, y) == 1:\n",
    "                    r_y = y;\n",
    "        if r_x != -1 and r_y != -1:\n",
    "            print (r_x, r_y)\n",
    "                    \n",
    "        x = x + 1; y = y + 1;\n",
    "\n",
    "print(\"1ª solução:\")\n",
    "resolver_ex2a(200)\n",
    "\n",
    "print(\"\\n2ª solução:\")\n",
    "resolver_ex2b(200)\n"
   ]
  },
  {
   "cell_type": "markdown",
   "metadata": {},
   "source": [
    "### Exercício 3\n",
    "Teste a Conjectura (forte) de Goldbach: todo o natural par maior que 3 pode-se\n",
    "escrever como a soma de dois números primos."
   ]
  },
  {
   "cell_type": "code",
   "execution_count": 7,
   "metadata": {
    "scrolled": true
   },
   "outputs": [
    {
     "name": "stdout",
     "output_type": "stream",
     "text": [
      "5 683\n",
      "True \n",
      "\n",
      "11 677\n",
      "True\n"
     ]
    },
    {
     "data": {
      "text/plain": [
       "True"
      ]
     },
     "execution_count": 7,
     "metadata": {},
     "output_type": "execute_result"
    }
   ],
   "source": [
    "def resolver_ex3a(n):\n",
    "    if n < 4:\n",
    "        print(\"valor argumento tem de ser maior que 3.\")\n",
    "        return\n",
    "    elif is_odd(n):\n",
    "        print(\"valor argumento tem de ser par.\")\n",
    "        return\n",
    "    \n",
    "    # vamos assumir que n é natural, para não perder mais tempo a \n",
    "    # desenvolver funções auxiliares.\n",
    "    for a in range (1, n + 1):\n",
    "        b = n - a\n",
    "        \n",
    "        if is_prime(a) and is_prime(b):\n",
    "            print(a,b)\n",
    "            return True\n",
    "    return False\n",
    "\n",
    "def resolver_ex3b(n):\n",
    "    if n < 4:\n",
    "        print(\"valor argumento tem de ser maior que 3.\")\n",
    "        return\n",
    "    elif is_odd(n):\n",
    "        print(\"valor argumento tem de ser par.\")\n",
    "        return\n",
    "    \n",
    "    # vamos assumir que n é natural, para não perder mais tempo a \n",
    "    # desenvolver funções auxiliares.\n",
    "    for a in range (2, n + 1):\n",
    "        b = n - a\n",
    "        \n",
    "        for x in range(2,10):\n",
    "            aIsPrime = False;\n",
    "            if gcd(x, a) != 1:\n",
    "                bIsPrime = False;\n",
    "                break\n",
    "            else:\n",
    "                if power_mod(x, a - 1, a):\n",
    "                    aIsPrime = True\n",
    "        \n",
    "        for y in range(2,300):\n",
    "            bIsPrime = False;\n",
    "            if gcd(y, b) != 1:\n",
    "                bIsPrime = False;\n",
    "                break\n",
    "            else:\n",
    "                if power_mod(y, b - 1, b):\n",
    "                    bIsPrime = True\n",
    "                    \n",
    "        if aIsPrime == True and bIsPrime == True:\n",
    "            print(a, b)\n",
    "            return True\n",
    "        \n",
    "    return False    \n",
    "    \n",
    "    \n",
    "val = 688\n",
    "\n",
    "print(resolver_ex3a(val), \"\\n\")\n",
    "print(resolver_ex3b(val))\n",
    "\n",
    "is_prime(677)"
   ]
  },
  {
   "cell_type": "markdown",
   "metadata": {},
   "source": [
    "### Exercício 4\n",
    "Implemente uma função que tenha como argumento um natural n > 2 e\n",
    "como retorno a lista dos números primos não superiores a n, fazendo uso do crivo\n",
    "de Eratóstenes."
   ]
  },
  {
   "cell_type": "code",
   "execution_count": 51,
   "metadata": {
    "scrolled": true
   },
   "outputs": [
    {
     "name": "stdout",
     "output_type": "stream",
     "text": [
      "2\n",
      "3\n",
      "5\n",
      "7\n",
      "11\n",
      "13\n",
      "17\n",
      "19\n",
      "23\n",
      "29\n",
      "31\n",
      "37\n",
      "41\n",
      "43\n",
      "47\n",
      "53\n",
      "59\n",
      "61\n",
      "67\n",
      "71\n",
      "73\n",
      "79\n",
      "83\n",
      "89\n",
      "97\n",
      "101\n",
      "103\n",
      "107\n",
      "109\n",
      "113\n",
      "127\n",
      "131\n",
      "137\n",
      "139\n",
      "149\n",
      "151\n",
      "157\n",
      "163\n",
      "167\n",
      "173\n",
      "179\n",
      "181\n",
      "191\n",
      "193\n",
      "197\n",
      "199\n",
      "211\n",
      "223\n",
      "227\n",
      "229\n",
      "233\n",
      "239\n",
      "241\n",
      "251\n",
      "257\n",
      "263\n",
      "269\n",
      "271\n",
      "277\n",
      "281\n",
      "283\n",
      "293\n"
     ]
    }
   ],
   "source": [
    "def resolver_ex3(n):\n",
    "    if n <= 2:\n",
    "        print(\"argumento inválido\")\n",
    "        return\n",
    "        \n",
    "    a = 2\n",
    "    lista = list(range(2, n+1))\n",
    "    max = sqrt(n)\n",
    "    \n",
    "    for x in range(len(lista)):\n",
    "        if lista[x] == -1:\n",
    "            continue\n",
    "        for y in range(x+1, len(lista)):\n",
    "            if lista[y] == -1:\n",
    "                continue\n",
    "            elif mod(lista[y], lista[x]) == 0:\n",
    "                lista[y] = -1\n",
    "                \n",
    "            \n",
    "    for z in range(n-1):\n",
    "        if lista[z] != -1:\n",
    "            print(lista[z])\n",
    "    \n",
    "resolver_ex3(300)"
   ]
  },
  {
   "cell_type": "markdown",
   "metadata": {},
   "source": [
    "### Exercício 5\n",
    "\n",
    "Implemente uma função que teste a primalidade de um número à custa da\n",
    "divisão por tentativas."
   ]
  },
  {
   "cell_type": "code",
   "execution_count": 72,
   "metadata": {},
   "outputs": [
    {
     "name": "stdout",
     "output_type": "stream",
     "text": [
      "resposta:  False\n",
      "correcta?:  True\n"
     ]
    }
   ],
   "source": [
    "def is_prime_bruteforce(n):\n",
    "    if mod(n, 2) == 0:\n",
    "        return False\n",
    "    x= 3\n",
    "    while x < n:\n",
    "        if mod(n, x) == 0:\n",
    "            return False\n",
    "        x = x+1\n",
    "    return True\n",
    "\n",
    "val = 9287837698918489136487263\n",
    "print(\"resposta: \", is_prime_bruteforce(val))\n",
    "print(\"correcta?: \", is_prime_bruteforce(val) == is_prime(val))"
   ]
  }
 ],
 "metadata": {
  "kernelspec": {
   "display_name": "SageMath 9.0",
   "language": "sage",
   "name": "sagemath"
  },
  "language_info": {
   "codemirror_mode": {
    "name": "ipython",
    "version": 3
   },
   "file_extension": ".py",
   "mimetype": "text/x-python",
   "name": "python",
   "nbconvert_exporter": "python",
   "pygments_lexer": "ipython3",
   "version": "3.7.3"
  }
 },
 "nbformat": 4,
 "nbformat_minor": 2
}
