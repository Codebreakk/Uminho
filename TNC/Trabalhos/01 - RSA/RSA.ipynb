{
 "cells": [
  {
   "cell_type": "markdown",
   "metadata": {},
   "source": [
    "# Sistema criptográfico RSA\n",
    "\n",
    "Ricardo Silva a71532\n",
    "\n",
    "Francisca Fernandes a72450\n",
    "\n",
    "João Cerqueira a65432\n",
    "\n",
    "José Barbosa a69136"
   ]
  },
  {
   "cell_type": "markdown",
   "metadata": {},
   "source": [
    "# Introdução"
   ]
  },
  {
   "cell_type": "markdown",
   "metadata": {},
   "source": [
    "Com o crescimento da internet e a necessidade de transferencia de dados com segurança, começaram a ser desenvolvidos algoritmos criptográficos para assegurar a integridade dos dados, assim assegurando uma comunicação segura entre as duas partes, geralmente a estrutura cliente/servidor. O algoritmo RSA foi descrito em 1977 por Ron Rivest, Adi Shamir, e Leonard Adleman."
   ]
  },
  {
   "cell_type": "markdown",
   "metadata": {},
   "source": [
    "Este tipo de algoritmo é chamado de criptografia assimétrica ou de chave pública, pois existem duas chaves que são usadas.\n",
    "\n",
    "É uma ideia simples mas que vem revolucionar a criptografia. Quem quiser comunicar de forma segura, encripta a mensagem com a chave pública do receptor e só ele consegue desencriptá-la com a respectiva chave privada, que não precisa nem deve ser partilhada com ninguém. Para além de estabelecer comunicações seguras, os sistemas criptográficos de chave pública têm por objectivo autenticar através de uma assinatura digital a informação transmitida.\n",
    "\n",
    "Para implementar um sistema de assinaturas digitais com RSA, o utilizador que possua uma chave privada d poderá assinar uma dada mensagem como iremos abordar mais a baixo."
   ]
  },
  {
   "cell_type": "markdown",
   "metadata": {},
   "source": [
    "# Geração de chaves \n",
    "\n",
    "A chave pública é o par (n,e).\n",
    "\n",
    "A chave privada é d."
   ]
  },
  {
   "cell_type": "markdown",
   "metadata": {},
   "source": [
    "Vamos supor que um cliente querer enviar uma mensagem a um servidor:\n",
    "\n",
    "Sejam p,q dois numeros primos aleatorios:"
   ]
  },
  {
   "cell_type": "code",
   "execution_count": 62,
   "metadata": {},
   "outputs": [
    {
     "data": {
      "text/plain": [
       "(379, 181)"
      ]
     },
     "execution_count": 62,
     "metadata": {},
     "output_type": "execute_result"
    }
   ],
   "source": [
    "p = random_prime(1000, lbound=150)\n",
    "q = random_prime(1000, lbound=150)\n",
    "p, q"
   ]
  },
  {
   "cell_type": "markdown",
   "metadata": {},
   "source": [
    "Seja n=pq, entao φ(n)=φ(pq)=(p−1)(q−1) pois p,q sao primos."
   ]
  },
  {
   "cell_type": "markdown",
   "metadata": {},
   "source": [
    "$e\\in \\mathbb{Z}_{\\varphi(n)}^*$, ou seja, $e\\in \\mathbb{Z}_{\\varphi(n)}$ com $(e, \\varphi(n))=1$. Calcula $d = e^{-1}$ em $\\mathbb{Z}_{\\varphi(n)}$.\n",
    "​\t \n"
   ]
  },
  {
   "cell_type": "code",
   "execution_count": 63,
   "metadata": {},
   "outputs": [],
   "source": [
    "n= p*q\n",
    "m =(p-1)*(q-1)\n",
    "Zn=IntegerModRing(n)\n",
    "Zm=IntegerModRing(m)"
   ]
  },
  {
   "cell_type": "code",
   "execution_count": 64,
   "metadata": {},
   "outputs": [
    {
     "data": {
      "text/plain": [
       "1"
      ]
     },
     "execution_count": 64,
     "metadata": {},
     "output_type": "execute_result"
    }
   ],
   "source": [
    "e = 19\n",
    "gcd(e, m)\n"
   ]
  },
  {
   "cell_type": "code",
   "execution_count": 65,
   "metadata": {},
   "outputs": [
    {
     "data": {
      "text/plain": [
       "68599"
      ]
     },
     "execution_count": 65,
     "metadata": {},
     "output_type": "execute_result"
    }
   ],
   "source": [
    "n"
   ]
  },
  {
   "cell_type": "markdown",
   "metadata": {},
   "source": [
    "Então o par(598901,19) seria a chave publica do servidor.\n",
    "\n",
    "A sua chave privada vai ser calculada a partir do e. "
   ]
  },
  {
   "cell_type": "code",
   "execution_count": 66,
   "metadata": {},
   "outputs": [
    {
     "data": {
      "text/plain": [
       "64459"
      ]
     },
     "execution_count": 66,
     "metadata": {},
     "output_type": "execute_result"
    }
   ],
   "source": [
    "d = power_mod(e, -1, m)\n",
    "d"
   ]
  },
  {
   "cell_type": "code",
   "execution_count": 67,
   "metadata": {},
   "outputs": [],
   "source": [
    "ChPub = (n,e)\n",
    "ChPriv = d"
   ]
  },
  {
   "cell_type": "markdown",
   "metadata": {},
   "source": [
    "Possivel algoritmo para fazer esta geração de chaves seria:"
   ]
  },
  {
   "cell_type": "code",
   "execution_count": 2,
   "metadata": {},
   "outputs": [],
   "source": [
    "def RSA_Key(nbits = 512):\n",
    "    p = random_prime(2^(nbits//2), 2^(nbits//2-1))\n",
    "    q = random_prime(2^(nbits//2+1), 2^(nbits//2))\n",
    "    n = p*q\n",
    "    m = (p-1)*(q-1)\n",
    "    e = randint(2, m-1)\n",
    "    while gcd(e, m) != 1:\n",
    "        e = randint(2, m-1)\n",
    "    d = power_mod(e, -1, m)\n",
    "    PubKey = (n, e)\n",
    "    PrivKey = d\n",
    "    return PubKey, PrivKey"
   ]
  },
  {
   "cell_type": "markdown",
   "metadata": {},
   "source": [
    "# Cifração\n",
    "\n",
    "Seja x a mensagem que o cliente quer enviar então , essa mensgaem vai ser cifrada numa mensagem y antes de ser enviada, e depois sera decifrada pelo servidor."
   ]
  },
  {
   "cell_type": "code",
   "execution_count": 69,
   "metadata": {},
   "outputs": [
    {
     "data": {
      "text/plain": [
       "65424"
      ]
     },
     "execution_count": 69,
     "metadata": {},
     "output_type": "execute_result"
    }
   ],
   "source": [
    "x = 123\n",
    "y = power_mod(x, e, n)\n",
    "y"
   ]
  },
  {
   "cell_type": "markdown",
   "metadata": {},
   "source": [
    "Um possivel Algoritmo para a cifração :"
   ]
  },
  {
   "cell_type": "code",
   "execution_count": 70,
   "metadata": {},
   "outputs": [],
   "source": [
    "def RSA_encrypt(x, chave_pub):\n",
    "    n, e = chave_pub\n",
    "    criptograma = power_mod(x, e, n)\n",
    "    return criptograma"
   ]
  },
  {
   "cell_type": "markdown",
   "metadata": {},
   "source": [
    "# Decifração\n",
    "O servidor vai decifrar a mensagem y e voltar a obter a mensagem x original."
   ]
  },
  {
   "cell_type": "code",
   "execution_count": 71,
   "metadata": {},
   "outputs": [
    {
     "data": {
      "text/plain": [
       "123"
      ]
     },
     "execution_count": 71,
     "metadata": {},
     "output_type": "execute_result"
    }
   ],
   "source": [
    "power_mod(y, d, n)"
   ]
  },
  {
   "cell_type": "markdown",
   "metadata": {},
   "source": [
    "Um possivel Algoritmo para a decifração :"
   ]
  },
  {
   "cell_type": "code",
   "execution_count": 72,
   "metadata": {},
   "outputs": [],
   "source": [
    "def RSA_decrypt(y, chave):\n",
    "    n, _ = chave[0]\n",
    "    d = chave[1]\n",
    "    z = power_mod(y, d, n)\n",
    "    return z"
   ]
  },
  {
   "cell_type": "markdown",
   "metadata": {},
   "source": [
    "# Assinatura Digital\n",
    "Ao enviar uma mensagem, podemos também querer assiná-la, de forma semelhante ao que faríamos com um documento físico. \n",
    "Através do sistema RSA, é possível assinar uma mensagem de acordo com o conceito de assinatura com recuperação de mensagens. Ou seja, podemos assinar a mensagem de forma a que o remetente obtenha o seu conteúdo através da verificação da assinatura.\n",
    "\n",
    "Esta assinatura digital não é mais do que um inteiro que garante a origem e integridade da mensagem.\n",
    "\n",
    "Assinatura RSA funciona em 3 passos:\n",
    "\n",
    " - **Geração de chaves** - De forma semelhante à cifração de mensagens, o remetente começa por gerar a chave publica _(e,n)_ e a chave privada _d_, em que $n = pq$ é o produto de dois primos muito grandes.\n",
    " \n",
    "\n",
    " - **Geração da assinatura** - após codificar a mensagem _m_ em $\\mathbb {Z}/n\\mathbb {Z}$, é gerada a assinatura $s = m^d$ através da chave privada *d*.\n",
    " \n",
    "\n",
    " - **Verificação** - Computar $m = s^e \\in \\mathbb {Z}/n\\mathbb {Z}$.\n",
    "\n"
   ]
  },
  {
   "cell_type": "code",
   "execution_count": 19,
   "metadata": {
    "scrolled": true
   },
   "outputs": [
    {
     "name": "stdout",
     "output_type": "stream",
     "text": [
      "Chave publica: (7129612338089899369, 5439790653683557309) \n",
      "\n",
      "Chave privada: 3243342941345494109\n"
     ]
    }
   ],
   "source": [
    "# 1º passo - geração de chaves\n",
    "ChPub, ChPriv = RSA_Key(64)\n",
    "n = ChPub[0] # n = p*q\n",
    "Zn = IntegerModRing(n) # Zn = Z/nZ\n",
    "print(\"Chave publica:\", ChPub, \"\\n\")\n",
    "print(\"Chave privada:\", ChPriv)"
   ]
  },
  {
   "cell_type": "code",
   "execution_count": 20,
   "metadata": {},
   "outputs": [
    {
     "data": {
      "text/plain": [
       "1234"
      ]
     },
     "execution_count": 20,
     "metadata": {},
     "output_type": "execute_result"
    }
   ],
   "source": [
    "# 2º passo - geração da assinatura\n",
    "# Seja 'm' a mensagem a enviar\n",
    "m = Zn(1234)\n",
    "m"
   ]
  },
  {
   "cell_type": "code",
   "execution_count": 21,
   "metadata": {},
   "outputs": [
    {
     "data": {
      "text/plain": [
       "6616111484528945985"
      ]
     },
     "execution_count": 21,
     "metadata": {},
     "output_type": "execute_result"
    }
   ],
   "source": [
    "# geramos a assinatura a partir da mensagem e da chave privada\n",
    "d = ChPriv\n",
    "s = m**d\n",
    "s"
   ]
  },
  {
   "cell_type": "code",
   "execution_count": 22,
   "metadata": {},
   "outputs": [
    {
     "data": {
      "text/plain": [
       "1234"
      ]
     },
     "execution_count": 22,
     "metadata": {},
     "output_type": "execute_result"
    }
   ],
   "source": [
    "# 3º passo - Verificação\n",
    "e = ChPub[1]\n",
    "m_decoded = s^e\n",
    "m_decoded"
   ]
  },
  {
   "cell_type": "code",
   "execution_count": null,
   "metadata": {},
   "outputs": [],
   "source": []
  },
  {
   "cell_type": "code",
   "execution_count": null,
   "metadata": {},
   "outputs": [],
   "source": []
  },
  {
   "cell_type": "code",
   "execution_count": 23,
   "metadata": {},
   "outputs": [
    {
     "data": {
      "text/plain": [
       "6616111484528945985"
      ]
     },
     "execution_count": 23,
     "metadata": {},
     "output_type": "execute_result"
    }
   ],
   "source": [
    "# gerar assinatura\n",
    "S = power_mod(m, d, n) # Decifração da mensagem para gerar assinatura\n",
    "S"
   ]
  },
  {
   "cell_type": "code",
   "execution_count": 24,
   "metadata": {},
   "outputs": [
    {
     "data": {
      "text/plain": [
       "1234"
      ]
     },
     "execution_count": 24,
     "metadata": {},
     "output_type": "execute_result"
    }
   ],
   "source": [
    "# verificação\n",
    "M_received = power_mod(S, e, n) # Cifração da mensagem para verificar origem\n",
    "M_received"
   ]
  },
  {
   "cell_type": "code",
   "execution_count": null,
   "metadata": {},
   "outputs": [],
   "source": []
  }
 ],
 "metadata": {
  "kernelspec": {
   "display_name": "SageMath 9.0",
   "language": "sage",
   "name": "sagemath"
  },
  "language_info": {
   "codemirror_mode": {
    "name": "ipython",
    "version": 3
   },
   "file_extension": ".py",
   "mimetype": "text/x-python",
   "name": "python",
   "nbconvert_exporter": "python",
   "pygments_lexer": "ipython3",
   "version": "3.7.3"
  }
 },
 "nbformat": 4,
 "nbformat_minor": 4
}
