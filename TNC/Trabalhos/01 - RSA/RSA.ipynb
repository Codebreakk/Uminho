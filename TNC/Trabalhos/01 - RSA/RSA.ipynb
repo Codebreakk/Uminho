{
 "cells": [
  {
   "cell_type": "markdown",
   "metadata": {},
   "source": [
    "# Sistema criptográfico RSA\n",
    "\n",
    "Ricardo Silva a71532\n",
    "\n",
    "Francisca Fernandes a72450\n",
    "\n",
    "João Cerqueira a65432"
   ]
  },
  {
   "cell_type": "markdown",
   "metadata": {},
   "source": [
    "# Introdução"
   ]
  },
  {
   "cell_type": "markdown",
   "metadata": {},
   "source": [
    "Com o crescimento da internet e a necessidade de transferencia de dados com segurança, começaram a ser desenvolvidos algoritmos criptográficos para assegurar a integridade dos dados, assim assegurando uma comunicação segura entre as duas partes, geralmente a estrutura cliente/servidor. O algoritmo RSA foi descrito em 1977 por Ron Rivest, Adi Shamir, e Leonard Adleman."
   ]
  },
  {
   "cell_type": "markdown",
   "metadata": {},
   "source": [
    "Este tipo de algoritmo é chamado de criptografia assimétrica ou de chave pública, pois existem duas chaves que são usadas.\n",
    "\n",
    "É uma ideia simples mas que vem revolucionar a criptografia. Quem quiser comunicar de forma segura, encripta a mensagem com a chave pública do receptor e só ele consegue desencriptá-la com a respectiva chave privada, que não precisa nem deve ser partilhada com ninguém. Para além de estabelecer comunicações seguras, os sistemas criptográficos de chave pública têm por objectivo autenticar através de uma assinatura digital a informação transmitida.\n",
    "\n",
    "Apesar de terem sido Dime e Hellman a introduzir o conceito, não apresentaram nenhum exemplo. São Rivest, Shamir e Adleman que, em Fevereiro de 1978 [RSA78], apresentam o primeiro sistema criptográfico de chave pública: o sistema criptográfico RSA."
   ]
  },
  {
   "cell_type": "markdown",
   "metadata": {},
   "source": [
    "# Geração de chaves \n",
    "\n",
    "A chave pública é o par (n,e).\n",
    "\n",
    "A chave privada é d."
   ]
  },
  {
   "cell_type": "markdown",
   "metadata": {},
   "source": [
    "Vamos supor que um cliente querer enviar uma mensagem a um servidor:\n",
    "\n",
    "Sejam p,q dois numeros primos aleatorios:"
   ]
  },
  {
   "cell_type": "code",
   "execution_count": 2,
   "metadata": {},
   "outputs": [
    {
     "data": {
      "text/plain": [
       "(911, 263)"
      ]
     },
     "execution_count": 2,
     "metadata": {},
     "output_type": "execute_result"
    }
   ],
   "source": [
    "p = random_prime(1000, lbound=150)\n",
    "q = random_prime(1000, lbound=150)\n",
    "p, q"
   ]
  },
  {
   "cell_type": "markdown",
   "metadata": {},
   "source": [
    "Seja n=pq, entao φ(n)=φ(pq)=(p−1)(q−1) pois p,q sao primos."
   ]
  },
  {
   "cell_type": "markdown",
   "metadata": {},
   "source": [
    "$e\\in \\mathbb{Z}_{\\varphi(n)}^*$, ou seja, $e\\in \\mathbb{Z}_{\\varphi(n)}$ com $(e, \\varphi(n))=1$. Calcula $d = e^{-1}$ em $\\mathbb{Z}_{\\varphi(n)}$.\n",
    "​\t \n"
   ]
  },
  {
   "cell_type": "code",
   "execution_count": 3,
   "metadata": {},
   "outputs": [],
   "source": [
    "n= p*q\n",
    "m =(p-1)*(q-1)\n",
    "Zn=IntegerModRing(n)\n",
    "Zm=IntegerModRing(m)"
   ]
  },
  {
   "cell_type": "code",
   "execution_count": 11,
   "metadata": {},
   "outputs": [
    {
     "data": {
      "text/plain": [
       "1"
      ]
     },
     "execution_count": 11,
     "metadata": {},
     "output_type": "execute_result"
    }
   ],
   "source": [
    "e = 19\n",
    "gcd(e, m)\n"
   ]
  },
  {
   "cell_type": "code",
   "execution_count": 12,
   "metadata": {},
   "outputs": [
    {
     "data": {
      "text/plain": [
       "239593"
      ]
     },
     "execution_count": 12,
     "metadata": {},
     "output_type": "execute_result"
    }
   ],
   "source": [
    "n"
   ]
  },
  {
   "cell_type": "markdown",
   "metadata": {},
   "source": [
    "Então o par(239593,19) seria a chave publica do servidor.\n",
    "\n",
    "A sua chave privada vai ser calculada a partir do e. "
   ]
  },
  {
   "cell_type": "code",
   "execution_count": 13,
   "metadata": {},
   "outputs": [
    {
     "data": {
      "text/plain": [
       "87839"
      ]
     },
     "execution_count": 13,
     "metadata": {},
     "output_type": "execute_result"
    }
   ],
   "source": [
    "d = power_mod(e, -1, m)\n",
    "d"
   ]
  },
  {
   "cell_type": "code",
   "execution_count": 14,
   "metadata": {},
   "outputs": [],
   "source": [
    "ChPub = (n,e)\n",
    "ChPriv = d"
   ]
  },
  {
   "cell_type": "markdown",
   "metadata": {},
   "source": [
    "Possivel algoritmo para fazer esta geração de chaves seria:"
   ]
  },
  {
   "cell_type": "code",
   "execution_count": 15,
   "metadata": {},
   "outputs": [],
   "source": [
    "def RSA_Key(nbits = 512):\n",
    "    p = random_prime(2^(nbits//2), 2^(nbits//2-1))\n",
    "    q = random_prime(2^(nbits//2+1), 2^(nbits//2))\n",
    "    n = p*q\n",
    "    m = (p-1)*(q-1)\n",
    "    e = randint(2, m-1)\n",
    "    while gcd(e, m) != 1:\n",
    "        e = randint(2, m-1)\n",
    "    d = power_mod(e, -1, m)\n",
    "    PubKey = (n, e)\n",
    "    PrivKey = d\n",
    "    return PubKey, PrivKey"
   ]
  },
  {
   "cell_type": "markdown",
   "metadata": {},
   "source": [
    "# Cifração\n",
    "\n",
    "Seja x a mensagem que o cliente quer enviar então , essa mensgaem vai ser cifrada numa mensagem y antes de ser enviada, e depois sera decifrada pelo servidor."
   ]
  },
  {
   "cell_type": "code",
   "execution_count": 21,
   "metadata": {},
   "outputs": [
    {
     "data": {
      "text/plain": [
       "170139"
      ]
     },
     "execution_count": 21,
     "metadata": {},
     "output_type": "execute_result"
    }
   ],
   "source": [
    "x = 123\n",
    "y = power_mod(x, e, n)\n",
    "y"
   ]
  },
  {
   "cell_type": "markdown",
   "metadata": {},
   "source": [
    "Um possivel Algoritmo para a cifração :"
   ]
  },
  {
   "cell_type": "code",
   "execution_count": 0,
   "metadata": {},
   "outputs": [],
   "source": [
    "def RSA_encrypt(x, chave_pub):\n",
    "    n, e = chave_pub\n",
    "    criptograma = power_mod(x, e, n)\n",
    "    return criptograma"
   ]
  },
  {
   "cell_type": "markdown",
   "metadata": {},
   "source": [
    "# Decifração\n",
    "O servidor vai decifrar a mensagem y e voltar a obter a mensagem x original."
   ]
  },
  {
   "cell_type": "code",
   "execution_count": 24,
   "metadata": {},
   "outputs": [
    {
     "data": {
      "text/plain": [
       "123"
      ]
     },
     "execution_count": 24,
     "metadata": {},
     "output_type": "execute_result"
    }
   ],
   "source": [
    "power_mod(y, d, n)"
   ]
  },
  {
   "cell_type": "markdown",
   "metadata": {},
   "source": [
    "Um possivel Algoritmo para a decifração :"
   ]
  },
  {
   "cell_type": "code",
   "execution_count": 2,
   "metadata": {},
   "outputs": [],
   "source": [
    "def RSA_decrypt(y, chave):\n",
    "    n, _ = chave[0]\n",
    "    d = chave[1]\n",
    "    z = power_mod(y, d, n)\n",
    "    return z"
   ]
  },
  {
   "cell_type": "markdown",
   "metadata": {},
   "source": [
    "# Assinaturas Digitais\n",
    "\n",
    "Pode-se ao enviar uma mensagem querer também assiná-la, tal como se assina um documento ou um cheque. O sistema RSA pode também ser usado para esse fim, sendo possível associar a uma mensagem uma assinatura digital que não é mais que um número inteiro que garante a origem da mensagem."
   ]
  },
  {
   "cell_type": "markdown",
   "metadata": {},
   "source": [
    "# Ataques ao RSA\n",
    "Após o desenvovimento deste sistema foram apontados problemas relativamente a segurança do mesmo.\n",
    "\n",
    "Suponhamos que a mensagem x não é prima relativa com o modulo RSA, ou seja n.\n",
    "\n",
    "Seja (x,n)!=1 e n=pq\n",
    "\n",
    "Entao p|x ou q|x\n",
    "\n",
    "e (x,n)= p ou (x,n)=q\n",
    "\n",
    "Caso fossemos um atacante bastaria calcular (x,n) para ficar com a fatorização de n e portanto φ(n).\n",
    "\n",
    "Como e é publico , sabendo p e q teriamos φ(n)=(p-1)(q-1) \n",
    "\n",
    "e portanto:\n",
    "\n",
    "       d = power_mod(e,-1,φ(n))"
   ]
  },
  {
   "cell_type": "markdown",
   "metadata": {},
   "source": [
    "Como contormamos esta situção?"
   ]
  },
  {
   "cell_type": "markdown",
   "metadata": {},
   "source": [
    "Sabemos que :\n",
    "        \n",
    "        n = pq\n",
    "\n",
    "e entao :\n",
    "\n",
    "       φ(n)=n(1-1/p)(1-1/q)\n",
    "\n",
    "\n",
    "Entao sabemos que o nº de numeros não primos relativos com n é \n",
    "\n",
    "        n-n(1-1/p)(1-1/q)\n",
    "        \n",
    "A probabilidade de x não ser primo realtivo com n é dada por \n",
    "\n",
    "        (n-n(1-1/p)(1-1/q))/n  = 1/p + 1/q - 1/pq"
   ]
  },
  {
   "cell_type": "markdown",
   "metadata": {},
   "source": [
    "Entao sabemos que a probabilidade de uma mensagem x nao ser primo relativo com o modulo RSA , que nos leva a problemas de segurança é dada por :\n",
    "\n",
    "    1/p + 1/q - 1/pq , com p e q fatores do modulo RSA.\n",
    "\n",
    "\n",
    "\n"
   ]
  },
  {
   "cell_type": "markdown",
   "metadata": {},
   "source": [
    "Mas se o modulo do RSA foi sufecientemente grande sabemos que esta probabilidade vai ser muito baixa.\n",
    "\n",
    "Atualmente chaves RSA tem um comprimento de 2048 bits , corresponde a que n tenha a volta de 600 digitos e p,q a volta de 300 digitos\n",
    "\n",
    "Se o módulo N tem n-bits então os primos p e g devem ter n/2 bits cada, i.é, ter o mesmo tamanho (mas com os primeiros bits diferentes, por exemplo), pois quanto maior for um factor primo, mais difícil é encontrá-lo."
   ]
  },
  {
   "cell_type": "markdown",
   "metadata": {},
   "source": [
    "Temos tambem de ter algum cuidado na escolha dos expoentes, privado ou publico porque isso tambem nos pode levar a tipos de ataques que vamos descrever a frente de forma sussinta. "
   ]
  },
  {
   "cell_type": "markdown",
   "metadata": {},
   "source": [
    "# Expoente Privado Pequeno\n",
    "Numa tentativa de tornar o processo de desencriptação mais rápido podemos cair na tentação de escolher um expoente privado d \"pequeno\". O teorema de M. Wiener mostra que a escolha de d \"pequeno\" pode levar à ruptura total da segurança do sistema criptográfico RSA, ou seja, consegue-se determinar o expoente privado d e consequentemente a factorização de N."
   ]
  },
  {
   "cell_type": "markdown",
   "metadata": {},
   "source": [
    "# Expoente Público Pequeno\n",
    "\n",
    "No processo de encriptação podemos querer escolher um expoente público pequeno na tentativa de tornar a encriptação mais rápida.\n",
    "\n",
    "Os ataques ao expoente público estão longe de levar à ruptura total do sistema RSA pois não chegam a factorizar o módulo N. O objectivo destes ataques é normalmente desencriptar uma mensagem sem precisar de descobrir a chave privada. "
   ]
  },
  {
   "cell_type": "code",
   "execution_count": 0,
   "metadata": {},
   "outputs": [],
   "source": []
  }
 ],
 "metadata": {
  "kernelspec": {
   "display_name": "SageMath 9.0",
   "language": "sage",
   "name": "sagemath"
  },
  "language_info": {
   "codemirror_mode": {
    "name": "ipython",
    "version": 3
   },
   "file_extension": ".py",
   "mimetype": "text/x-python",
   "name": "python",
   "nbconvert_exporter": "python",
   "pygments_lexer": "ipython3",
   "version": "3.7.3"
  }
 },
 "nbformat": 4,
 "nbformat_minor": 4
}
