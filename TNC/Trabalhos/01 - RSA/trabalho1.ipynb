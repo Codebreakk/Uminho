{
 "cells": [
  {
   "cell_type": "markdown",
   "metadata": {},
   "source": [
    "# RSA\n",
    "\n",
    "**Descreva e exemplifique o sistema de assinatura digital RSA.**"
   ]
  },
  {
   "cell_type": "markdown",
   "metadata": {},
   "source": [
    "## Objectivos\n",
    "Algumas perguntas a responder neste trabalho:\n",
    "\n",
    "    \"O quê?\" - O que é RSA?\n",
    "    \"Porquê?\" - Porquê desenvolver um novo algoritmo criptográfico?\n",
    "    \"Qual?\" - Quais as diferenças entre RSA e os outros algoritmos?\n",
    "            - Qual o objectivo deste algoritmo?\n",
    "    \"Como?\" - Como funciona o algoritmo RSA?\n",
    "            - Como são encriptadas as mensagens?\n",
    "            - Como são assinadas as mensagens?"
   ]
  },
  {
   "cell_type": "markdown",
   "metadata": {},
   "source": [
    "### Introdução"
   ]
  },
  {
   "cell_type": "markdown",
   "metadata": {},
   "source": [
    "Com o crescimento da internet e a necessidade de transferencia de dados com segurança, começaram a ser desenvolvidos algoritmos criptográficos para assegurar a integridade dos dados, assim assegurando uma comunicação segura entre as duas partes, geralmente a estrutura cliente/servidor. O algoritmo RSA foi descrito em 1977 por Ron Rivest, Adi Shamir, e Leonard Adleman."
   ]
  },
  {
   "cell_type": "markdown",
   "metadata": {},
   "source": [
    "RSA  (também conhecido como criptografia de chave pública) é um sistema de criptografia desenvolvido por Ron Rivest, Adi Shamir e Leonard Adleman em 1977."
   ]
  },
  {
   "cell_type": "markdown",
   "metadata": {},
   "source": [
    "### \"O quê?\""
   ]
  },
  {
   "cell_type": "markdown",
   "metadata": {},
   "source": [
    "    O que é RSA?"
   ]
  },
  {
   "cell_type": "markdown",
   "metadata": {},
   "source": [
    "Este tipo de algoritmo é chamado de criptografia de chave pública (ou de criptografia assimétrica), pois existem duas chaves que são usadas: uma chave pública (usada para encriptar a mensagem a ser enviada ao destinatário) e uma chave privada (usada pelo destinatário para desencriptar a mensagem do remetente)."
   ]
  },
  {
   "cell_type": "markdown",
   "metadata": {},
   "source": [
    "O sistema tem como base um sistema de criptografia de chave pública, conceito desenvolvido por Diffie e Hellman. Este conceito será explorado mais a fundo no segundo trabalho sobre o protocolo de troca de chaves de Diffie-Hellman."
   ]
  },
  {
   "cell_type": "markdown",
   "metadata": {},
   "source": [
    "### \"Porquê?\""
   ]
  },
  {
   "cell_type": "markdown",
   "metadata": {},
   "source": [
    "    Porquê desenvolver um novo algoritmo criptográfico?"
   ]
  },
  {
   "cell_type": "markdown",
   "metadata": {},
   "source": [
    "Este sistema foi desenvolvido de forma a assegurar que o sistema de email mantinha duas das principais propriedades do sistema tradicional de correio:\n",
    "    \n",
    "    1) as mensagens são privadas;\n",
    "    \n",
    "    2) as mensagens podem ser assinadas;\n",
    "\n"
   ]
  },
  {
   "cell_type": "markdown",
   "metadata": {},
   "source": [
    "### \"Qual?\""
   ]
  },
  {
   "cell_type": "markdown",
   "metadata": {},
   "source": [
    "    Quais as diferenças entre RSA e outros algoritmos?"
   ]
  },
  {
   "cell_type": "markdown",
   "metadata": {},
   "source": [
    "Ao contrário do sistema de chave simétrica, o sistema de chave pública não obriga à geração de uma chave nova após o envio de cada mensagem.\n"
   ]
  },
  {
   "cell_type": "markdown",
   "metadata": {},
   "source": [
    "    Qual o objectivo deste algoritmo?"
   ]
  },
  {
   "cell_type": "markdown",
   "metadata": {},
   "source": []
  },
  {
   "cell_type": "markdown",
   "metadata": {},
   "source": [
    "### \"Como?\""
   ]
  },
  {
   "cell_type": "markdown",
   "metadata": {},
   "source": [
    "    Como são encriptadas as mensagens?"
   ]
  },
  {
   "cell_type": "markdown",
   "metadata": {},
   "source": []
  },
  {
   "cell_type": "markdown",
   "metadata": {},
   "source": [
    "    Como são assinadas as mensagens?"
   ]
  },
  {
   "cell_type": "markdown",
   "metadata": {},
   "source": []
  },
  {
   "cell_type": "markdown",
   "metadata": {},
   "source": [
    "    Como funciona o algoritmo RSA?"
   ]
  },
  {
   "cell_type": "code",
   "execution_count": 5,
   "metadata": {},
   "outputs": [],
   "source": [
    "# Algoritmo para gerar chave com n bits.\n",
    "def Gera_Chave(nbits = 512):\n",
    "    # Geração de 2 números primos 'n' e 'q'.\n",
    "    p = random_prime(2^(nbits//2), 2^(nbits//2-2))\n",
    "    q = random_prime(2^(nbits//2 +1), 2^(nbits//2 -1))\n",
    "    # Se 'p' e 'q' forem iguais, volta a gerar os números até que se-\n",
    "    # jam diferentes.\n",
    "    while p == q:\n",
    "        p = random_prime(2^(nbits//2), 2^(nbits//2-2))\n",
    "        q = random_prime(2^(nbits//2 +1), 2^(nbits//2 -1))\n",
    "    # define n como o resultado da múltiplicação dos 2 números primos.\n",
    "    n = p*q\n",
    "    m = (p-1)*(q-1)\n",
    "    e = randint(2, m-1)\n",
    "    while gcd(e, m) != 1:\n",
    "        e = randint(2,m-1)\n",
    "    d = power_mod(e, -1, m)\n",
    "    PubKey = (n, e)\n",
    "    Chave = (PubKey, d)\n",
    "    return Chave"
   ]
  },
  {
   "cell_type": "code",
   "execution_count": 6,
   "metadata": {},
   "outputs": [],
   "source": [
    "# Algoritmo que encripta a mensagem X do remetente com a chave pública\n",
    "# do destinatário.\n",
    "def encrypt(x, PubKey):\n",
    "    n, e = PubKey\n",
    "    criptograma = power_mod(x, e, n)\n",
    "    return criptograma"
   ]
  },
  {
   "cell_type": "code",
   "execution_count": 7,
   "metadata": {},
   "outputs": [],
   "source": [
    "# Algoritmo que desencripta a mensagem Y do remetente com a chave pri-\n",
    "# vada do destinatário.\n",
    "def decrypt(y, chave):\n",
    "    n, _ = chave[0]\n",
    "    d = chave[1]\n",
    "    texto = power_mod(y, d, n)\n",
    "    return texto"
   ]
  }
 ],
 "metadata": {
  "kernelspec": {
   "display_name": "SageMath 9.0",
   "language": "sage",
   "name": "sagemath"
  },
  "language_info": {
   "codemirror_mode": {
    "name": "ipython",
    "version": 3
   },
   "file_extension": ".py",
   "mimetype": "text/x-python",
   "name": "python",
   "nbconvert_exporter": "python",
   "pygments_lexer": "ipython3",
   "version": "3.7.3"
  }
 },
 "nbformat": 4,
 "nbformat_minor": 2
}
