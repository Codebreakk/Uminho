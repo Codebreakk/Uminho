{
 "cells": [
  {
   "cell_type": "markdown",
   "metadata": {},
   "source": [
    "# Teste de Primalidade de Lucas"
   ]
  },
  {
   "cell_type": "markdown",
   "metadata": {},
   "source": [
    "## Definição do algoritmo"
   ]
  },
  {
   "cell_type": "code",
   "execution_count": 134,
   "metadata": {},
   "outputs": [],
   "source": [
    "def fact_Fermat(n, ntent = 10):\n",
    "    contador = 0\n",
    "    s = ceil(sqrt(n))\n",
    "    while contador < ntent and not is_square(s^2-n):\n",
    "        s += 1\n",
    "        contador += 1\n",
    "    if contador == ntent:\n",
    "        return []\n",
    "    t = ZZ(sqrt(s^2-n))\n",
    "    a, b = s+t, s-t\n",
    "    return a, b"
   ]
  },
  {
   "cell_type": "code",
   "execution_count": 66,
   "metadata": {},
   "outputs": [],
   "source": [
    "# prime              -> 0\n",
    "# composite          -> 1\n",
    "# possibly composite -> 2\n",
    "PRIME = 0\n",
    "COMPOSITE = 1\n",
    "POSSIBLY_COMPOSITE = 2\n",
    "\n",
    "# O valor de 'n' tem de ser superior a 2.\n",
    "def lucas_primality_test(n):\n",
    "    # calcular factores de 'n-1' fora do ciclo de forma a evitar repetir computações\n",
    "    aux = factor(n-1)\n",
    "    factores = []\n",
    "    for a in aux:\n",
    "        factores.append(a[0])\n",
    "    total_factores = len(factores)\n",
    "    \n",
    "    for a in range(2, n):\n",
    "        total_verificados = 0\n",
    "        if power_mod(a,n-1,n) != 1:\n",
    "            return COMPOSITE\n",
    "        else:\n",
    "            for q in factores:\n",
    "                if(power_mod(a, (n-1)//q, n) != 1):\n",
    "                    total_verificados = total_verificados + 1\n",
    "                    if total_verificados == total_factores:\n",
    "                        return PRIME\n",
    "                    else:\n",
    "                        continue\n",
    "                else:\n",
    "                    continue\n",
    "    return POSSIBLY_COMPOSITE"
   ]
  },
  {
   "cell_type": "code",
   "execution_count": 67,
   "metadata": {},
   "outputs": [],
   "source": [
    "def Lucas_primality_Test(n):\n",
    "    l=prime_factors(n-1) #fatores primos de 'n'\n",
    "    a=2                  #'a>=2'\n",
    "    prime=False\n",
    "    p=0\n",
    "    while(a<=n-1)&(prime==False):           #sai se 'a>n-1', ou se encontrar uma base 'a' na qual 'n' é primo(prime=true)\n",
    "        prime=True\n",
    "        p=0\n",
    "        if(power_mod(a,n-1,n)!=1):          #Se for falso incrementa a base 'a'\n",
    "            prime=False\n",
    "        while(p<=len(l)-1)&(prime==True):   #sai se: -ja verificou todos os fatores primos\n",
    "            if(mod(a^((n-1)/l[p]),n)!=1):   #        -se algum fator não cumpre a condição 'power_mod(a,(n-1)//l[p],n)'\n",
    "                p=p+1                       #Se a condição se verifica, passa para o próximo fator primo\n",
    "            else:\n",
    "                prime=False                 #Caso a condição não se verificar: 'n' não é primo na base 'a' e sai do ciclo interior\n",
    "        a=a+1\n",
    "    if(prime==True):\n",
    "        print(n,\"é primo na base\",a-1)\n",
    "    else:\n",
    "        print(n,\"não é primo\")"
   ]
  },
  {
   "cell_type": "code",
   "execution_count": 68,
   "metadata": {},
   "outputs": [
    {
     "name": "stdout",
     "output_type": "stream",
     "text": [
      "341 não é primo\n"
     ]
    }
   ],
   "source": [
    "Lucas_primality_Test(341)"
   ]
  },
  {
   "cell_type": "code",
   "execution_count": 69,
   "metadata": {},
   "outputs": [
    {
     "data": {
      "text/plain": [
       "True"
      ]
     },
     "execution_count": 69,
     "metadata": {},
     "output_type": "execute_result"
    }
   ],
   "source": [
    "lucas_primality_test(341) != PRIME"
   ]
  },
  {
   "cell_type": "code",
   "execution_count": 70,
   "metadata": {},
   "outputs": [],
   "source": [
    "for i in range(3,9000):\n",
    "    lucas = (lucas_primality_test(i) == PRIME)\n",
    "    if lucas != is_prime(i):\n",
    "        print(i, \"is prime?:\", is_prime(i), \"   Lucas result:\", lucas_primality_test(i))"
   ]
  },
  {
   "cell_type": "code",
   "execution_count": null,
   "metadata": {},
   "outputs": [],
   "source": []
  }
 ],
 "metadata": {
  "kernelspec": {
   "display_name": "SageMath 9.0",
   "language": "sage",
   "name": "sagemath"
  },
  "language_info": {
   "codemirror_mode": {
    "name": "ipython",
    "version": 3
   },
   "file_extension": ".py",
   "mimetype": "text/x-python",
   "name": "python",
   "nbconvert_exporter": "python",
   "pygments_lexer": "ipython3",
   "version": "3.7.3"
  }
 },
 "nbformat": 4,
 "nbformat_minor": 2
}
