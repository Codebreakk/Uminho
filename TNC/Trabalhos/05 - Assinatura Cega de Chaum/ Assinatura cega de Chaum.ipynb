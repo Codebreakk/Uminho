{
 "cells": [
  {
   "cell_type": "markdown",
   "metadata": {
    "collapsed": false
   },
   "source": [
    "#  Assinatura Cega de Chaum\n",
    "\n",
    "Ricardo Silva a71532\n",
    "\n",
    "Francisca Fernandes a72450\n",
    "\n",
    "João Cerqueira a65432\n",
    "\n",
    "José Barbosa a69136"
   ]
  },
  {
   "cell_type": "markdown",
   "metadata": {
    "collapsed": false
   },
   "source": [
    "# Introdução\n",
    "É uma forma de assinatura digital em que o conteúdo de uma mensagem é disfarçado ( cego ) antes de ser assinado. \n",
    "Numa assinatura cega (conceito introduzido por Chaum nos anos 80) existem dois agentes: o emissor E e o “prover” P. O objectivo de E é obter uma assinatura de P sobre uma mensagem m por si escolhida, sem que P conheça essa mensagem.\n",
    "A mensagem a ser assinada está no valor de m . Considere que Alice tem um voto que deve ser assinado por uma autoridade ( Bob), mas Alice não quer revelar o conteúdo do voto(mensagem = m) a Bob. Ela pode colocar o voto e Bob vai assinar esse voto sem conhecer  o seu conteudo e enviá-lo de volta para Alice. Alice pode então abrir e encontrar o voto assinado por Bob, mas sem Bob ter visto o seu conteúdo.\n",
    "\n"
   ]
  },
  {
   "cell_type": "markdown",
   "metadata": {
    "collapsed": false
   },
   "source": [
    "## Geração de Chaves\n",
    "\n",
    "Sejam p,q dois numeros primos aleatorios e seja n=pq, entao φ(n)=φ(pq)=(p−1)(q−1)pois p,q sao primos."
   ]
  },
  {
   "cell_type": "code",
   "execution_count": 1,
   "metadata": {
    "collapsed": false
   },
   "outputs": [
    {
     "data": {
      "text/plain": [
       "(659, 631, 415829, 414540)"
      ]
     },
     "execution_count": 1,
     "metadata": {
     },
     "output_type": "execute_result"
    }
   ],
   "source": [
    "p = random_prime(1000, lbound=150)\n",
    "q = random_prime(1000, lbound=150)\n",
    "n=p*q\n",
    "m = (p-1)*(q-1)\n",
    "Zn=IntegerModRing(n)\n",
    "Zm=IntegerModRing(m)\n",
    "p, q, n , m"
   ]
  },
  {
   "cell_type": "markdown",
   "metadata": {
    "collapsed": false
   },
   "source": [
    "Temos também $e\\in \\mathbb{Z}_{\\varphi(n)}^*$, ou seja, $e\\in \\mathbb{Z}_{\\varphi(n)}$ com $(e, \\varphi(n))=1$. Calcula $d = e^{-1}$ em $\\mathbb{Z}_{\\varphi(n)}$.\n",
    "​\t \n"
   ]
  },
  {
   "cell_type": "code",
   "execution_count": 2,
   "metadata": {
    "collapsed": false
   },
   "outputs": [
    {
     "data": {
      "text/plain": [
       "1"
      ]
     },
     "execution_count": 2,
     "metadata": {
     },
     "output_type": "execute_result"
    }
   ],
   "source": [
    "e = 19\n",
    "gcd(e, m)"
   ]
  },
  {
   "cell_type": "code",
   "execution_count": 3,
   "metadata": {
    "collapsed": false
   },
   "outputs": [
    {
     "data": {
      "text/plain": [
       "218179"
      ]
     },
     "execution_count": 3,
     "metadata": {
     },
     "output_type": "execute_result"
    }
   ],
   "source": [
    "d = power_mod(e, -1, m)\n",
    "d"
   ]
  },
  {
   "cell_type": "code",
   "execution_count": 4,
   "metadata": {
    "collapsed": false
   },
   "outputs": [
   ],
   "source": [
    "ChPub = (n,e)\n",
    "ChPriv = (d,n)"
   ]
  },
  {
   "cell_type": "markdown",
   "metadata": {
    "collapsed": false
   },
   "source": [
    "## Assinatura\n",
    "\n",
    "$Alice$ obtem a chave pública de $Bob$ (n,e) e seleciona um número aleatório r, onde r < n e mdc (r,n) = 1:\n"
   ]
  },
  {
   "cell_type": "code",
   "execution_count": 5,
   "metadata": {
    "collapsed": false
   },
   "outputs": [
    {
     "data": {
      "text/plain": [
       "1"
      ]
     },
     "execution_count": 5,
     "metadata": {
     },
     "output_type": "execute_result"
    }
   ],
   "source": [
    "r = Zn(17)\n",
    "gcd(r, n)"
   ]
  },
  {
   "cell_type": "code",
   "execution_count": 6,
   "metadata": {
    "collapsed": false
   },
   "outputs": [
   ],
   "source": [
    "men=Zn(1234)"
   ]
  },
  {
   "cell_type": "markdown",
   "metadata": {
    "collapsed": false
   },
   "source": [
    "Alice calcula M’. Alice envia M’ para Bob assinar.  $$ m' \\equiv m r^e\\  $$\n"
   ]
  },
  {
   "cell_type": "code",
   "execution_count": 7,
   "metadata": {
    "collapsed": false
   },
   "outputs": [
    {
     "data": {
      "text/plain": [
       "336343"
      ]
     },
     "execution_count": 7,
     "metadata": {
     },
     "output_type": "execute_result"
    }
   ],
   "source": [
    "men1= Zn(men * r^e)\n",
    "men1"
   ]
  },
  {
   "cell_type": "markdown",
   "metadata": {
    "collapsed": false
   },
   "source": [
    "Bob calcula $s’$  e envia s’ para Alice .     $$ s' \\equiv (m')^d\\ (\\mathrm{mod}\\ n) $$"
   ]
  },
  {
   "cell_type": "code",
   "execution_count": 8,
   "metadata": {
    "collapsed": false
   },
   "outputs": [
    {
     "data": {
      "text/plain": [
       "235412"
      ]
     },
     "execution_count": 8,
     "metadata": {
     },
     "output_type": "execute_result"
    }
   ],
   "source": [
    "sl= power_mod(men1,d,n)\n",
    "sl"
   ]
  },
  {
   "cell_type": "markdown",
   "metadata": {
    "collapsed": false
   },
   "source": [
    "De seguida, Alice calcula s , onde s é efetivamente a assinatura de B sobre M.  $$ s \\equiv s' \\cdot r^{-1}\\ (\\mathrm{mod}\\ n) $$\n"
   ]
  },
  {
   "cell_type": "code",
   "execution_count": 9,
   "metadata": {
    "collapsed": false
   },
   "outputs": [
    {
     "data": {
      "text/plain": [
       "(209532, True)"
      ]
     },
     "execution_count": 9,
     "metadata": {
     },
     "output_type": "execute_result"
    }
   ],
   "source": [
    "s= Zn(sl * r^-1)\n",
    "\n",
    "s,s == men^d"
   ]
  },
  {
   "cell_type": "markdown",
   "metadata": {
    "collapsed": false
   },
   "source": [
    "Isto funciona porque o RSA satisfaz $r^{ed}\\equiv r\\pmod{n}$"
   ]
  },
  {
   "cell_type": "code",
   "execution_count": 6,
   "metadata": {
    "collapsed": false
   },
   "outputs": [
    {
     "data": {
      "text/plain": [
       "True"
      ]
     },
     "execution_count": 6,
     "metadata": {
     },
     "output_type": "execute_result"
    }
   ],
   "source": [
    "l = r^(e*d)\n",
    "f = power_mod(r,1,n)\n",
    "l == f"
   ]
  },
  {
   "cell_type": "markdown",
   "metadata": {
    "collapsed": false
   },
   "source": [
    "E portanto, $$s \\equiv s' \\cdot r^{-1} \\equiv (m')^d r^{-1} \\equiv m^d r^{ed} r^{-1} \\equiv m^d r r^{-1} \\equiv m^d\\pmod{N}. $$\n"
   ]
  },
  {
   "cell_type": "markdown",
   "metadata": {
    "collapsed": false
   },
   "source": [
    "## Perigos desta Assinatura\n",
    "\n",
    "Um possível ataque a esta assinatura é através da decifração da mensagem e pela sua substituição por outra. Como o processo de criação da assinatura é basicamente equivalente ao de decifração usando a chave privada, quem ataca pode fornecer uma versão \"cega\" da mensagem cifrada com a chave pública. A mensagem cifrada seria normalmente uma informação secreta para todos mas que o atacante consegue ver através dos envios feitos através a cifraçao com a chave pública. Assim, quem ataque consegue remover a parte \"cega\" e terá acesso ao texto claro(mm').  $$ \\begin{align} m'' & = m' r^e\\pmod n \\\\     & = (m^e\\pmod n \\cdot r^e)\\pmod n \\\\     & = (mr)^e \\pmod n \\\\ \\end{align} $$\n",
    "\n",
    "Onde m' será a versão cifrada da mensagem e portanto quando a mensagem é assinada, conseguimos saber qual será o $m$   \\begin{align} s' & = m''^d\\pmod n \\\\    & = ((mr)^e\\pmod n)^d\\pmod n \\\\    & = (mr)^{ed} \\pmod n \\\\    & = m \\cdot r \\pmod n  \\mbox{, com } ed \\equiv 1 \\pmod{\\phi(n)}\\\\ \\end{align}\n",
    "\n",
    "\n",
    "Sendo $\\phi(n)$ referente a função de Euler. E portanto,  $$ \\begin{align} m = s' \\cdot r^{-1} \\pmod{n} \\end{align} $$ \n",
    "\n",
    "\n",
    "Este ataque funciona neste esquema porque a mensagem é assinada diretamente, ao contrário de outro tipos de assinaturas."
   ]
  },
  {
   "cell_type": "code",
   "execution_count": 0,
   "metadata": {
    "collapsed": false
   },
   "outputs": [
   ],
   "source": [
   ]
  }
 ],
 "metadata": {
  "kernelspec": {
   "display_name": "SageMath (system-wide)",
   "language": "sagemath",
   "metadata": {
    "cocalc": {
     "description": "Open-source mathematical software system",
     "priority": -1,
     "url": "https://www.sagemath.org/"
    }
   },
   "name": "sagemath"
  },
  "language_info": {
   "codemirror_mode": {
    "name": "ipython",
    "version": 2
   },
   "file_extension": ".py",
   "mimetype": "text/x-python",
   "name": "python",
   "nbconvert_exporter": "python",
   "pygments_lexer": "ipython2",
   "version": "2.7.15"
  }
 },
 "nbformat": 4,
 "nbformat_minor": 4
}