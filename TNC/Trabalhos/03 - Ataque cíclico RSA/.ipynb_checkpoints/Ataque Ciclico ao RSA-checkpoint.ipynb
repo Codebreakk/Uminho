{
 "cells": [
  {
   "cell_type": "markdown",
   "metadata": {},
   "source": [
    "# Ataque cíclico ao RSA\n",
    "\n",
    "Ricardo Silva a71532\n",
    "\n",
    "Francisca Fernandes a72450\n",
    "\n",
    "João Cerqueira a65432\n",
    "\n",
    "José Barbosa a69136"
   ]
  },
  {
   "cell_type": "markdown",
   "metadata": {},
   "source": [
    "## Introdução\n",
    "Vimos nos trabalhos anteriores como funciona o sistema RSA e o sistema Diffie-Hellman. Vimos também que este último é susceptível a ataques do tipo _man in the middle_, em que uma terceira pessoa colocada entre o destinatário e o remetente consegue decifrar e manipular as mensagens enviadas entre as duas sem que estas se apercebam. Apesar do sistema RSA não sofrer deste problema, não deixa de ser possível decifrar mensagens sem ter acesso à chave privada. Descrevemos neste trabalho como funciona este ataque, conhecido como ataque cíclico ao RSA.\n"
   ]
  },
  {
   "cell_type": "markdown",
   "metadata": {},
   "source": [
    "## Envio da mensagem cifrada"
   ]
  },
  {
   "cell_type": "markdown",
   "metadata": {},
   "source": [
    "Para testar este ataque vamos definir uma chave pública e uma chave privada usando o mesmo algoritmo que definimos no primeiro trabalho."
   ]
  },
  {
   "cell_type": "code",
   "execution_count": 1,
   "metadata": {},
   "outputs": [],
   "source": [
    "def RSA_Key(nbits = 512):\n",
    "    p = random_prime(2^(nbits//2), 2^(nbits//2-1))\n",
    "    q = random_prime(2^(nbits//2+1), 2^(nbits//2))\n",
    "    n = p*q\n",
    "    m = (p-1)*(q-1)\n",
    "    e = randint(2, m-1)\n",
    "    while gcd(e, m) != 1:\n",
    "        e = randint(2, m-1)\n",
    "    d = power_mod(e, -1, m)\n",
    "    PubKey = (n, e)\n",
    "    PrivKey = d\n",
    "    return PubKey, PrivKey"
   ]
  },
  {
   "cell_type": "markdown",
   "metadata": {},
   "source": [
    "Geramos então as chaves e guardamos os valores $e$ e $n$ da chave pública."
   ]
  },
  {
   "cell_type": "code",
   "execution_count": 2,
   "metadata": {},
   "outputs": [
    {
     "name": "stdout",
     "output_type": "stream",
     "text": [
      "Chave publica: (166, 55) \n",
      "\n",
      "Chave privada: 3\n"
     ]
    }
   ],
   "source": [
    "ChPub, ChPriv = RSA_Key(12)\n",
    "n = ChPub[0] # n = p*q\n",
    "e = ChPub[1]\n",
    "print(\"Chave publica:\", ChPub, \"\\n\")\n",
    "print(\"Chave privada:\", ChPriv)"
   ]
  },
  {
   "cell_type": "markdown",
   "metadata": {},
   "source": [
    "O remetente gera então a cifra da mensagem através da chave pública e envia para o destinatário."
   ]
  },
  {
   "cell_type": "code",
   "execution_count": 3,
   "metadata": {},
   "outputs": [
    {
     "data": {
      "text/plain": [
       "111"
      ]
     },
     "execution_count": 3,
     "metadata": {},
     "output_type": "execute_result"
    }
   ],
   "source": [
    "msg = 123\n",
    "C = power_mod(msg, e, n)\n",
    "C"
   ]
  },
  {
   "cell_type": "markdown",
   "metadata": {},
   "source": [
    "## Captura e decifração da mensagem cifrada"
   ]
  },
  {
   "cell_type": "markdown",
   "metadata": {},
   "source": [
    "No entanto nós capturamos a cifra. Temos então a chave pública $(n,e)$ e a mensagem cifrada $C$. Queremos decifrar a mensagem cifrada $C$ de forma a obter a mensagem original $P$. Para isso, vamos construir a sucessão {$C_{j}$}, com $1\\leq C_{j} < n$, em que $C_{1} = C^{e}\\ mod\\ n$, $C_{2} = C_{1}^{e}\\ mod\\ n$, ..., $C_{j+1} = C{j}^{e}\\ mod\\ n$. Se encontrarmos $C_{j} = C$, então sabemos que $C_{j-1} = P$, e temos então a nossa mensagem decifrada."
   ]
  },
  {
   "cell_type": "markdown",
   "metadata": {},
   "source": [
    "Interceptamos a mensagem cifrada $C$, e sabemos que $C = m^e\\ mod\\ n$.\n",
    "Começamos então por definir $C_{1}$:"
   ]
  },
  {
   "cell_type": "code",
   "execution_count": 4,
   "metadata": {
    "scrolled": true
   },
   "outputs": [
    {
     "data": {
      "text/plain": [
       "151"
      ]
     },
     "execution_count": 4,
     "metadata": {},
     "output_type": "execute_result"
    }
   ],
   "source": [
    "C1 = power_mod(C, e, n)\n",
    "C1"
   ]
  },
  {
   "cell_type": "markdown",
   "metadata": {},
   "source": [
    "$C_{1} \\neq C$, pelo que $C_{0} \\neq P$ e assim sabemos que para $j = 1$ não deciframos a mensagem. Logo temos de continuar a calcular $C_{2}$, $C_{3}$, ..., $C_{j}$ até encontrarmos um valor que iguale $C$.\n",
    "\n",
    "Para obter $C_{2}$ calculamos $C_{2} = C_{1}^e\\ mod\\ n$.\n",
    "\n",
    "Se $C_{2} \\neq C$, então $C_{1} \\neq P$. Logo teremos de calcular $C_{3} = C_{2}^e\\ mod\\ n$.\n",
    "\n",
    "Facilmente observamos que existe aqui um conjunto de passos cíclicos a executar até que por fim obtemos a nossa mensagem decifrada. Para cada $C_{j} \\neq C$, o passo seguinte será calcular $C_{j+1} = C_{j}^e\\ mod\\ n$, com $1 \\leq C_{j} < n$. Este passo será repetido até obtermos $C_{j} = C$, para o qual sabemos então que $C_{j-1} = P$. Obtemos assim a nossa mensagem decifrada.\n",
    "\n",
    "Podemos então definir um ciclo que calcula $C_{j+1} = C_{j}^e\\ mod\\ n$  até que encontre o valor de $j$ que nos permita decifrar a mensagem."
   ]
  },
  {
   "cell_type": "code",
   "execution_count": 5,
   "metadata": {},
   "outputs": [
    {
     "name": "stdout",
     "output_type": "stream",
     "text": [
      "Cj = 111 , j = 8\n"
     ]
    }
   ],
   "source": [
    "Cj = C1\n",
    "j = 1\n",
    "\n",
    "while Cj != C:\n",
    "    j = j + 1\n",
    "    Cj = power_mod(Cj,e,n) #Cj+1 = Cj^e mod n\n",
    "\n",
    "print(\"Cj =\", Cj, \", j =\", j)"
   ]
  },
  {
   "cell_type": "markdown",
   "metadata": {},
   "source": [
    "## Definição do algoritmo"
   ]
  },
  {
   "cell_type": "markdown",
   "metadata": {},
   "source": [
    "Agora que temos os passos do ataque definidos, podemos escrever os seguintes algoritmos que nos permitem descobrir o valor de $j$ e a mensagem original $P$ a partir da chave pública $(n,e)$ e da mensagem cifrada $C$."
   ]
  },
  {
   "cell_type": "code",
   "execution_count": 6,
   "metadata": {},
   "outputs": [
    {
     "data": {
      "text/plain": [
       "8"
      ]
     },
     "execution_count": 6,
     "metadata": {},
     "output_type": "execute_result"
    }
   ],
   "source": [
    "# Este algoritmo indica qual o valor de j de quebra a cifra\n",
    "def RSACycleAttack_Find_j(n, e, C):\n",
    "    j = 1\n",
    "    Cj = power_mod(C, e, n) # Cj = C^e mod n\n",
    "    while Cj != C:\n",
    "        j = j + 1\n",
    "        Cj = power_mod(Cj, e, n) #Cj+1 = Cj^e mod n\n",
    "    return j\n",
    "\n",
    "RSACycleAttack_Find_j(n, e, C)"
   ]
  },
  {
   "cell_type": "code",
   "execution_count": 7,
   "metadata": {},
   "outputs": [
    {
     "data": {
      "text/plain": [
       "123"
      ]
     },
     "execution_count": 7,
     "metadata": {},
     "output_type": "execute_result"
    }
   ],
   "source": [
    "# Este algoritmo devolve a mensagem decifrada\n",
    "def RSACycleAttack(n, e, C):\n",
    "    j = 1\n",
    "    C_aux = C\n",
    "    Cj = power_mod(C, e, n) # Cj = C^e mod n\n",
    "    while Cj != C:\n",
    "        j = j + 1\n",
    "        C_aux = Cj\n",
    "        Cj = power_mod(Cj, e, n) #Cj+1 = Cj^e mod n\n",
    "    return C_aux # retorna Cj-1\n",
    "\n",
    "RSACycleAttack(n,e,C)"
   ]
  },
  {
   "cell_type": "markdown",
   "metadata": {},
   "source": [
    "Como é óbvio, ambos os algoritmos seguem os mesmos passos definidos acima, excepto no retorno das variáveis."
   ]
  },
  {
   "cell_type": "markdown",
   "metadata": {},
   "source": [
    "## Como proteger contra o ataque"
   ]
  },
  {
   "cell_type": "markdown",
   "metadata": {},
   "source": [
    "Apesar de termos conseguido decifrar a mensagem recorrendo a este ataque, apenas obtivemos sucesso devido ao facto de as chaves geradas serem pequenas."
   ]
  },
  {
   "cell_type": "markdown",
   "metadata": {},
   "source": [
    "Vamos primeiro calcular o tempo de decifração para a mensagem anterior com o nosso algoritmo:"
   ]
  },
  {
   "cell_type": "code",
   "execution_count": 8,
   "metadata": {},
   "outputs": [
    {
     "name": "stdout",
     "output_type": "stream",
     "text": [
      "CPU times: user 29 µs, sys: 4 µs, total: 33 µs\n",
      "Wall time: 35.5 µs\n"
     ]
    },
    {
     "data": {
      "text/plain": [
       "123"
      ]
     },
     "execution_count": 8,
     "metadata": {},
     "output_type": "execute_result"
    }
   ],
   "source": [
    "%%time\n",
    "RSACycleAttack(n,e,C)"
   ]
  },
  {
   "cell_type": "markdown",
   "metadata": {},
   "source": [
    "Como podemos ver, o ataque foi executado em menos de 1 segundo, pelo que as nossas chaves não são de todo seguras. Tentemos agora com um nível de segurança maior."
   ]
  },
  {
   "cell_type": "markdown",
   "metadata": {},
   "source": [
    "Mais uma vez, começamos por gerar as chaves e cifrar a mensagem. Desta vez iremos gerar chaves com 32 bits e usaremos uma mensagem ligeiramente maior."
   ]
  },
  {
   "cell_type": "code",
   "execution_count": 9,
   "metadata": {},
   "outputs": [
    {
     "name": "stdout",
     "output_type": "stream",
     "text": [
      "Chave publica: (3440474633, 79923853) \n",
      "\n",
      "Chave privada: 2712498949\n"
     ]
    },
    {
     "data": {
      "text/plain": [
       "1552388146"
      ]
     },
     "execution_count": 9,
     "metadata": {},
     "output_type": "execute_result"
    }
   ],
   "source": [
    "ChPub, ChPriv = RSA_Key(32)\n",
    "n = ChPub[0] # n = p*q\n",
    "e = ChPub[1]\n",
    "print(\"Chave publica:\", ChPub, \"\\n\")\n",
    "print(\"Chave privada:\", ChPriv)\n",
    "\n",
    "# mensagem\n",
    "msg = 12345678\n",
    "C = power_mod(msg, e, n)\n",
    "C"
   ]
  },
  {
   "cell_type": "markdown",
   "metadata": {},
   "source": [
    "Já temos a nossa mensagem cifrada C, e as chaves pública e privada. Tentemos então aplicar o nosso algorimo para decifar a mensagem."
   ]
  },
  {
   "cell_type": "code",
   "execution_count": 10,
   "metadata": {},
   "outputs": [
    {
     "name": "stdout",
     "output_type": "stream",
     "text": [
      "CPU times: user 26.3 s, sys: 1.59 ms, total: 26.3 s\n",
      "Wall time: 26.3 s\n"
     ]
    },
    {
     "data": {
      "text/plain": [
       "12345678"
      ]
     },
     "execution_count": 10,
     "metadata": {},
     "output_type": "execute_result"
    }
   ],
   "source": [
    "%%time\n",
    "RSACycleAttack(n,e,C)"
   ]
  },
  {
   "cell_type": "markdown",
   "metadata": {},
   "source": [
    "Podemos ver que o tempo necessário para o ataque funcionar aumentou. Contudo, 32 bits continua a ser um valor baixo para gerar, uma vez que existem chaves com 2048 bits. Vamos então agora testar com chaves de 48 bits."
   ]
  },
  {
   "cell_type": "code",
   "execution_count": 58,
   "metadata": {},
   "outputs": [
    {
     "name": "stdout",
     "output_type": "stream",
     "text": [
      "Chave publica: (80428349097599, 1722428388919) \n",
      "\n",
      "Chave privada: 77201917425679\n"
     ]
    },
    {
     "data": {
      "text/plain": [
       "32999274747937"
      ]
     },
     "execution_count": 58,
     "metadata": {},
     "output_type": "execute_result"
    }
   ],
   "source": [
    "ChPub, ChPriv = RSA_Key(48)\n",
    "n = ChPub[0] # n = p*q\n",
    "e = ChPub[1]\n",
    "print(\"Chave publica:\", ChPub, \"\\n\")\n",
    "print(\"Chave privada:\", ChPriv)\n",
    "\n",
    "# mensagem\n",
    "msg = 12345678\n",
    "C = power_mod(msg, e, n)\n",
    "C"
   ]
  },
  {
   "cell_type": "markdown",
   "metadata": {},
   "source": [
    "Mais uma vez, executamos o ataque sobre a mensagem cifrada:"
   ]
  },
  {
   "cell_type": "code",
   "execution_count": 59,
   "metadata": {},
   "outputs": [
    {
     "name": "stdout",
     "output_type": "stream",
     "text": [
      "CPU times: user 15min 42s, sys: 32 ms, total: 15min 42s\n",
      "Wall time: 15min 42s\n"
     ]
    },
    {
     "data": {
      "text/plain": [
       "12345678"
      ]
     },
     "execution_count": 59,
     "metadata": {},
     "output_type": "execute_result"
    }
   ],
   "source": [
    "%%time\n",
    "RSACycleAttack(n,e,C)"
   ]
  },
  {
   "cell_type": "markdown",
   "metadata": {},
   "source": [
    "Como observado, conseguimos obter a mensagem original $P$, mas o tempo de ataque aumentou de forma exponêncial com o aumento do número de bits para gerar as chaves. \n",
    "\n",
    "Fica então claro que, apesar de não ser impossível decifrar uma mensagem recorrendo a este ataque, o custo deste aumenta de forma consideravel à medida que as chaves aumentam de tamanho, tornando-se extremamente caro computar a mensagem original $P$.\n",
    "\n",
    "Não existe nenhum método especifico de proteção contra o ataque cíclico, visto que todos os valores usados como input do ataque são públicos e o atacante pode ainda tentar usar outro valor de $e$ de forma a tentar facilitar os cálculos (apesar de não existir um valor predefinido $e$ que automaticamente torne o ataque mais rápido).\n",
    "\n",
    "Mas uma vez que o seu custo é demasiado elevado, a probabilidade de uma mensagem ser  decifrada desta forma é demasiado baixa."
   ]
  }
 ],
 "metadata": {
  "kernelspec": {
   "display_name": "SageMath 9.0",
   "language": "sage",
   "name": "sagemath"
  },
  "language_info": {
   "codemirror_mode": {
    "name": "ipython",
    "version": 3
   },
   "file_extension": ".py",
   "mimetype": "text/x-python",
   "name": "python",
   "nbconvert_exporter": "python",
   "pygments_lexer": "ipython3",
   "version": "3.7.3"
  }
 },
 "nbformat": 4,
 "nbformat_minor": 4
}
