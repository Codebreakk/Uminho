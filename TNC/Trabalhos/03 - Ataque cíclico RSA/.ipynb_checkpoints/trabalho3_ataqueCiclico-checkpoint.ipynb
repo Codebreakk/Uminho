{
 "cells": [
  {
   "cell_type": "markdown",
   "metadata": {},
   "source": [
    "# Ataque cíclico ao RSA\n",
    "\n",
    "Ricardo Silva a71532\n",
    "\n",
    "Francisca Fernandes a72450\n",
    "\n",
    "João Cerqueira a65432\n",
    "\n",
    "José Barbosa a69136"
   ]
  },
  {
   "cell_type": "markdown",
   "metadata": {},
   "source": [
    "Descreva e exemplifique o ataque cíclico ao RSA.\n",
    "\n",
    "## Remover esta nota.\n",
    "\n",
    "**NOTA**: TP2 - 2ª aula gravada, a partir do minuto 43 está explicado o ataque."
   ]
  },
  {
   "cell_type": "markdown",
   "metadata": {},
   "source": [
    "## Intro\n",
    "**TODO: Intro**"
   ]
  },
  {
   "cell_type": "markdown",
   "metadata": {},
   "source": [
    "Para testar este ataque vamos definir uma chave pública e uma chave privada usando o mesmo algoritmo que definimos no primeiro trabalho."
   ]
  },
  {
   "cell_type": "code",
   "execution_count": 1,
   "metadata": {},
   "outputs": [],
   "source": [
    "def RSA_Key(nbits = 512):\n",
    "    p = random_prime(2^(nbits//2), 2^(nbits//2-1))\n",
    "    q = random_prime(2^(nbits//2+1), 2^(nbits//2))\n",
    "    n = p*q\n",
    "    m = (p-1)*(q-1)\n",
    "    e = randint(2, m-1)\n",
    "    while gcd(e, m) != 1:\n",
    "        e = randint(2, m-1)\n",
    "    d = power_mod(e, -1, m)\n",
    "    PubKey = (n, e)\n",
    "    PrivKey = d\n",
    "    return PubKey, PrivKey"
   ]
  },
  {
   "cell_type": "markdown",
   "metadata": {},
   "source": [
    "Geramos então as chaves e guardamos os valores _e_ e *n* da chave pública."
   ]
  },
  {
   "cell_type": "code",
   "execution_count": 2,
   "metadata": {},
   "outputs": [
    {
     "name": "stdout",
     "output_type": "stream",
     "text": [
      "Chave publica: (259, 197) \n",
      "\n",
      "Chave privada: 125\n"
     ]
    }
   ],
   "source": [
    "ChPub, ChPriv = RSA_Key(11)\n",
    "n = ChPub[0] # n = p*q\n",
    "e = ChPub[1]\n",
    "print(\"Chave publica:\", ChPub, \"\\n\")\n",
    "print(\"Chave privada:\", ChPriv)"
   ]
  },
  {
   "cell_type": "markdown",
   "metadata": {},
   "source": [
    "O remetente gera então a cifra da mensagem e envia para o destinatário."
   ]
  },
  {
   "cell_type": "code",
   "execution_count": 3,
   "metadata": {},
   "outputs": [
    {
     "data": {
      "text/plain": [
       "219"
      ]
     },
     "execution_count": 3,
     "metadata": {},
     "output_type": "execute_result"
    }
   ],
   "source": [
    "msg = 123\n",
    "C = power_mod(msg, e, n)\n",
    "C"
   ]
  },
  {
   "cell_type": "markdown",
   "metadata": {},
   "source": [
    "No entanto nós capturamos a cifra e temos os valores da chave pública."
   ]
  },
  {
   "cell_type": "markdown",
   "metadata": {},
   "source": [
    "Temos a chave pública $(n,e)$ e a mensagem cifrada $C$. Queremos decifrar a mensagem cifrada $C$ de forma a obter a mensagem original $P$. Para isso, vamos construir a sucessão {$C_{j}$}, com $1\\leq C_{j} < n$, em que $C_{1} = C^{e}\\ mod\\ n$, $C_{2} = C_{1}^{e}\\ mod\\ n$, ..., $C_{j+1} = C{j}^{e}\\ mod\\ n$. Se encontrarmos $C_{j} = C$, então sabemos que $C_{j-1} = P$, e temos então a nossa mensagem decifrada."
   ]
  },
  {
   "cell_type": "markdown",
   "metadata": {},
   "source": [
    "Interceptamos a mensagem cifrada $C$, e sabemos que $C = m^e\\ mod\\ n$.\n",
    "Começamos então por definir $C_{1}$:"
   ]
  },
  {
   "cell_type": "code",
   "execution_count": 4,
   "metadata": {},
   "outputs": [
    {
     "data": {
      "text/plain": [
       "123"
      ]
     },
     "execution_count": 4,
     "metadata": {},
     "output_type": "execute_result"
    }
   ],
   "source": [
    "C1 = power_mod(C, e, n)\n",
    "C1"
   ]
  },
  {
   "cell_type": "markdown",
   "metadata": {},
   "source": [
    "$C_{1} \\neq C$, logo temos de continuar a calcular $C_{2}$, $C_{3}$, ..., $C_{j}$ até encontrarmos um valor que iguale C.\n",
    "Podemos então definir um ciclo que calcula $C_{j} = C_{j-1}^e\\ mod\\ n$  até que encontre o valor de j que nos permita decifrar a mensagem."
   ]
  },
  {
   "cell_type": "code",
   "execution_count": 5,
   "metadata": {},
   "outputs": [
    {
     "name": "stdout",
     "output_type": "stream",
     "text": [
      "Cj = 219 , j = 2\n"
     ]
    }
   ],
   "source": [
    "Cj = C1\n",
    "j = 1\n",
    "\n",
    "while Cj != C:\n",
    "    j = j + 1\n",
    "    Cj = power_mod(Cj,e,n)\n",
    "\n",
    "print(\"Cj =\", Cj, \", j =\", j)"
   ]
  },
  {
   "cell_type": "markdown",
   "metadata": {},
   "source": [
    "Podemos então definir os seguintes algoritmos que nos permitem descobrir o valor de j e a mensagem original  P a partir da chave pública _(n,e)_ e da mensagem cifrada C."
   ]
  },
  {
   "cell_type": "code",
   "execution_count": 6,
   "metadata": {},
   "outputs": [
    {
     "data": {
      "text/plain": [
       "2"
      ]
     },
     "execution_count": 6,
     "metadata": {},
     "output_type": "execute_result"
    }
   ],
   "source": [
    "# Este algoritmo indica qual o valor de j de quebra a cifra\n",
    "def RSACycleAttack_Find_j(n, e, C):\n",
    "    j = 1\n",
    "    Cj = power_mod(C, e, n)\n",
    "    while Cj != C:\n",
    "        j = j + 1\n",
    "        Cj = power_mod(Cj, e, n)\n",
    "    return j\n",
    "\n",
    "RSACycleAttack_Find_j(n, e, C)"
   ]
  },
  {
   "cell_type": "code",
   "execution_count": 7,
   "metadata": {},
   "outputs": [
    {
     "data": {
      "text/plain": [
       "123"
      ]
     },
     "execution_count": 7,
     "metadata": {},
     "output_type": "execute_result"
    }
   ],
   "source": [
    "# Este algoritmo devolve a mensagem decifrada\n",
    "def RSACycleAttack(n, e, C):\n",
    "    j = 1\n",
    "    C_aux = C\n",
    "    Cj = power_mod(C, e, n)\n",
    "    while Cj != C:\n",
    "        j = j + 1\n",
    "        C_aux = Cj\n",
    "        Cj = power_mod(Cj, e, n)\n",
    "    return C_aux\n",
    "\n",
    "RSACycleAttack(n,e,C)"
   ]
  },
  {
   "cell_type": "markdown",
   "metadata": {},
   "source": [
    "### Deste parágrafo até ao fim acho que não faz parte do trabalho, visto que é preciso saber o que é o \"número de Jacobi\""
   ]
  },
  {
   "cell_type": "markdown",
   "metadata": {},
   "source": [
    "## Factorizar n através do ataque cíclico"
   ]
  },
  {
   "cell_type": "code",
   "execution_count": 8,
   "metadata": {},
   "outputs": [
    {
     "data": {
      "text/plain": [
       "2"
      ]
     },
     "execution_count": 8,
     "metadata": {},
     "output_type": "execute_result"
    }
   ],
   "source": [
    "j = RSACycleAttack_Find_j(n, e, C)\n",
    "j"
   ]
  },
  {
   "cell_type": "code",
   "execution_count": 9,
   "metadata": {},
   "outputs": [
    {
     "data": {
      "text/plain": [
       "38808"
      ]
     },
     "execution_count": 9,
     "metadata": {},
     "output_type": "execute_result"
    }
   ],
   "source": [
    "x = e^j-1\n",
    "x"
   ]
  },
  {
   "cell_type": "code",
   "execution_count": 10,
   "metadata": {},
   "outputs": [
    {
     "name": "stdout",
     "output_type": "stream",
     "text": [
      "y = 4851 , f = 3\n"
     ]
    }
   ],
   "source": [
    "# x = (2^f)*y\n",
    "f = 1 # f>= 1\n",
    "y = 1 # y é impar\n",
    "while x != 2^f*y and f < x:\n",
    "    y = y + 2\n",
    "    if y > x:\n",
    "        f = f + 1\n",
    "        y = 1\n",
    "\n",
    "print(\"y =\", y, \", f =\", f)"
   ]
  },
  {
   "cell_type": "code",
   "execution_count": 11,
   "metadata": {
    "scrolled": false
   },
   "outputs": [
    {
     "name": "stdout",
     "output_type": "stream",
     "text": [
      "p = 37 , q = 7\n",
      "259\n"
     ]
    }
   ],
   "source": [
    "# Now select a random a modulo n such that (a/n) = −1 \n",
    "a = 1\n",
    "lista = set()\n",
    "while a < n:\n",
    "    if jacobi_symbol(a, n) == -1: # Jacobi Symbol\n",
    "        b = power_mod(a, y, n)\n",
    "        if b != 1 and b != n-1:\n",
    "            c_aux = power_mod(b, 2, n)\n",
    "            if c_aux == 1:\n",
    "                lista.add(gcd(b-1, n))\n",
    "            elif c_aux == n-1:\n",
    "                continue\n",
    "    a = a + 1\n",
    "    \n",
    "for elem in lista:\n",
    "    factor_p = elem\n",
    "    factor_q = n/elem\n",
    "    print(\"p =\", factor_p, \", q =\",factor_q)\n",
    "    print(factor_p * factor_q)"
   ]
  },
  {
   "cell_type": "markdown",
   "metadata": {},
   "source": [
    "Visto que conseguimos obter os factores $p$ e $q$, podemos gerar a chave privada:"
   ]
  },
  {
   "cell_type": "code",
   "execution_count": 12,
   "metadata": {},
   "outputs": [
    {
     "data": {
      "text/plain": [
       "125"
      ]
     },
     "execution_count": 12,
     "metadata": {},
     "output_type": "execute_result"
    }
   ],
   "source": [
    "forged_m = (factor_p - 1) * (factor_q - 1)\n",
    "forged_d = power_mod(e, -1, forged_m)\n",
    "forged_d"
   ]
  },
  {
   "cell_type": "code",
   "execution_count": 13,
   "metadata": {},
   "outputs": [
    {
     "data": {
      "text/plain": [
       "123"
      ]
     },
     "execution_count": 13,
     "metadata": {},
     "output_type": "execute_result"
    }
   ],
   "source": [
    "decrypting_msg = power_mod(C, forged_d, n)\n",
    "decrypting_msg"
   ]
  },
  {
   "cell_type": "code",
   "execution_count": null,
   "metadata": {},
   "outputs": [],
   "source": []
  }
 ],
 "metadata": {
  "kernelspec": {
   "display_name": "SageMath 9.0",
   "language": "sage",
   "name": "sagemath"
  },
  "language_info": {
   "codemirror_mode": {
    "name": "ipython",
    "version": 3
   },
   "file_extension": ".py",
   "mimetype": "text/x-python",
   "name": "python",
   "nbconvert_exporter": "python",
   "pygments_lexer": "ipython3",
   "version": "3.7.3"
  }
 },
 "nbformat": 4,
 "nbformat_minor": 2
}
