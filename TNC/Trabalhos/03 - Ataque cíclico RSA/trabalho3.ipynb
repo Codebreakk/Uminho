{
 "cells": [
  {
   "cell_type": "markdown",
   "metadata": {},
   "source": [
    "# Ataque cíclico ao RSA\n",
    "\n",
    "Ricardo Silva a71532\n",
    "\n",
    "Francisca Fernandes a72450\n",
    "\n",
    "João Cerqueira a65432\n",
    "\n",
    "José Barbosa a69136"
   ]
  },
  {
   "cell_type": "markdown",
   "metadata": {},
   "source": [
    "Descreva e exemplifique o ataque cíclico ao RSA.\n",
    "\n",
    "**NOTA**: TP2 - 2ª aula gravada, a partir do minuto 43 está explicado o ataque."
   ]
  },
  {
   "cell_type": "markdown",
   "metadata": {},
   "source": [
    "Para testar este ataque vamos definir uma chave pública e uma chave privada usando o mesmo algoritmo que definimos no primeiro trabalho."
   ]
  },
  {
   "cell_type": "code",
   "execution_count": 13,
   "metadata": {},
   "outputs": [],
   "source": [
    "def RSA_Key(nbits = 512):\n",
    "    p = random_prime(2^(nbits//2), 2^(nbits//2-1))\n",
    "    q = random_prime(2^(nbits//2+1), 2^(nbits//2))\n",
    "    n = p*q\n",
    "    m = (p-1)*(q-1)\n",
    "    e = randint(2, m-1)\n",
    "    while gcd(e, m) != 1:\n",
    "        e = randint(2, m-1)\n",
    "    d = power_mod(e, -1, m)\n",
    "    PubKey = (n, e)\n",
    "    PrivKey = d\n",
    "    return PubKey, PrivKey"
   ]
  },
  {
   "cell_type": "markdown",
   "metadata": {},
   "source": [
    "Geramos então as chaves e guardamos os valores _e_ e *n* da chave pública."
   ]
  },
  {
   "cell_type": "code",
   "execution_count": 14,
   "metadata": {},
   "outputs": [
    {
     "name": "stdout",
     "output_type": "stream",
     "text": [
      "Chave publica: (42173, 23891) \n",
      "\n",
      "Chave privada: 10811\n"
     ]
    }
   ],
   "source": [
    "ChPub, ChPriv = RSA_Key(16)\n",
    "n = ChPub[0] # n = p*q\n",
    "e = ChPub[1]\n",
    "print(\"Chave publica:\", ChPub, \"\\n\")\n",
    "print(\"Chave privada:\", ChPriv)"
   ]
  },
  {
   "cell_type": "markdown",
   "metadata": {},
   "source": [
    "O remetente gera então a cifra da mensagem e envia para o destinatário."
   ]
  },
  {
   "cell_type": "code",
   "execution_count": 15,
   "metadata": {},
   "outputs": [
    {
     "data": {
      "text/plain": [
       "39076"
      ]
     },
     "execution_count": 15,
     "metadata": {},
     "output_type": "execute_result"
    }
   ],
   "source": [
    "msg = 1234\n",
    "C = power_mod(msg, e, n)\n",
    "C"
   ]
  },
  {
   "cell_type": "markdown",
   "metadata": {},
   "source": [
    "No entanto nós capturamos a cifra e temos os valores da chave pública."
   ]
  },
  {
   "cell_type": "markdown",
   "metadata": {},
   "source": [
    "Temos a chave pública $(n,e)$ e a mensagem cifrada $C$. Queremos decifrar a mensagem cifrada $C$ de forma a obter a mensagem original $P$. Para isso, vamos construir a sucessão {$C_{j}$}, com $1\\leq C_{j} < n$, em que $C_{1} = C^{e}\\ mod\\ n$, $C_{2} = C_{1}^{e}\\ mod\\ n$, ..., $C_{j+1} = C{j}^{e}\\ mod\\ n$. Se encontrarmos $C_{j} = C$, então sabemos que $C_{j-1} = P$, e temos então a nossa mensagem decifrada."
   ]
  },
  {
   "cell_type": "markdown",
   "metadata": {},
   "source": [
    "Interceptamos a mensagem cifrada $C$, e sabemos que $C = m^e\\ mod\\ n$.\n",
    "Começamos então por definir $C_{1}$:"
   ]
  },
  {
   "cell_type": "code",
   "execution_count": 16,
   "metadata": {},
   "outputs": [
    {
     "data": {
      "text/plain": [
       "40227"
      ]
     },
     "execution_count": 16,
     "metadata": {},
     "output_type": "execute_result"
    }
   ],
   "source": [
    "C1 = power_mod(C, e, n)\n",
    "C1"
   ]
  },
  {
   "cell_type": "markdown",
   "metadata": {},
   "source": [
    "$C_{1} \\neq C$, logo temos de continuar a calcular $C_{2}$, $C_{3}$, ..., $C_{j}$ até encontrarmos um valor que iguale C.\n",
    "Podemos então definir um ciclo que calcula $C_{j} = C_{j-1}^e\\ mod\\ n$  até que encontre o valor de j que nos permita decifrar a mensagem."
   ]
  },
  {
   "cell_type": "code",
   "execution_count": 34,
   "metadata": {},
   "outputs": [
    {
     "name": "stdout",
     "output_type": "stream",
     "text": [
      "Cj = 39076 , i = 42\n"
     ]
    }
   ],
   "source": [
    "Cj = C1\n",
    "i = 1\n",
    "\n",
    "while Cj != C:\n",
    "    i = i + 1\n",
    "    Cj = power_mod(Cj,e,n)\n",
    "\n",
    "print(\"Cj =\", Cj, \", i =\", i)"
   ]
  },
  {
   "cell_type": "markdown",
   "metadata": {},
   "source": [
    "Podemos então definir os seguintes algoritmos que nos permitem descobrir o valor de j e a mensagem original  P a partir da chave pública _(n,e)_ e da mensagem cifrada C."
   ]
  },
  {
   "cell_type": "code",
   "execution_count": 31,
   "metadata": {},
   "outputs": [
    {
     "data": {
      "text/plain": [
       "42"
      ]
     },
     "execution_count": 31,
     "metadata": {},
     "output_type": "execute_result"
    }
   ],
   "source": [
    "# Este algoritmo indica qual o valor de j de quebra a cifra\n",
    "def RSACycleAttack_Find_j(n, e, C):\n",
    "    i = 1\n",
    "    Cj = power_mod(C, e, n)\n",
    "    while Cj != C:\n",
    "        i = i + 1\n",
    "        Cj = power_mod(Cj, e, n)\n",
    "    return i\n",
    "\n",
    "RSACycleAttack_Find_j(n, e, C)"
   ]
  },
  {
   "cell_type": "code",
   "execution_count": 32,
   "metadata": {},
   "outputs": [
    {
     "data": {
      "text/plain": [
       "1234"
      ]
     },
     "execution_count": 32,
     "metadata": {},
     "output_type": "execute_result"
    }
   ],
   "source": [
    "# Este algoritmo devolve a mensagem decifrada\n",
    "def RSACycleAttack(n, e, C):\n",
    "    i = 1\n",
    "    C_aux = C\n",
    "    Cj = power_mod(C, e, n)\n",
    "    while Cj != C:\n",
    "        i = i + 1\n",
    "        C_aux = Cj\n",
    "        Cj = power_mod(Cj, e, n)\n",
    "    return C_aux\n",
    "\n",
    "RSACycleAttack(n,e,C)"
   ]
  },
  {
   "cell_type": "code",
   "execution_count": null,
   "metadata": {},
   "outputs": [],
   "source": []
  },
  {
   "cell_type": "code",
   "execution_count": null,
   "metadata": {},
   "outputs": [],
   "source": []
  },
  {
   "cell_type": "code",
   "execution_count": null,
   "metadata": {},
   "outputs": [],
   "source": []
  },
  {
   "cell_type": "code",
   "execution_count": null,
   "metadata": {},
   "outputs": [],
   "source": []
  },
  {
   "cell_type": "markdown",
   "metadata": {},
   "source": [
    "# Ataque 1\n",
    "\n",
    "### Factorizar _n_ sabendo $\\varphi(n)$\n",
    "\n",
    "Suponhamos _n = pq_. Sabendo $\\varphi(n)$, é fácil computar *p* e _q_. Temos que:\n",
    "$\\varphi(n)\\ =\\ (p-1)(q-1)\\ =\\ pq\\ -\\ (p+q)\\ +\\ 1$,\n",
    "\n",
    "então concluimos que \n",
    "\n",
    "$pq = n$ e $p+q=n+1-\\varphi(n)$.\n",
    "\n",
    "Logo, conhecemos o polinómio\n",
    "\n",
    "$x^2-(p+q)x+pq\\ =\\ (x-p)(x-q)$\n",
    "\n",
    "cujas raízes são _p_ e *q*. Estas raízes podem ser cálculadas usando a fórmula quadrática.\n",
    "\n"
   ]
  },
  {
   "cell_type": "code",
   "execution_count": 33,
   "metadata": {},
   "outputs": [
    {
     "data": {
      "text/plain": [
       "500069593"
      ]
     },
     "execution_count": 33,
     "metadata": {},
     "output_type": "execute_result"
    }
   ],
   "source": [
    "n"
   ]
  },
  {
   "cell_type": "code",
   "execution_count": 34,
   "metadata": {},
   "outputs": [
    {
     "data": {
      "text/plain": [
       "499940788"
      ]
     },
     "execution_count": 34,
     "metadata": {},
     "output_type": "execute_result"
    }
   ],
   "source": [
    "phi = euler_phi(n)\n",
    "phi"
   ]
  },
  {
   "cell_type": "code",
   "execution_count": 35,
   "metadata": {},
   "outputs": [
    {
     "data": {
      "text/plain": [
       "-128806"
      ]
     },
     "execution_count": 35,
     "metadata": {},
     "output_type": "execute_result"
    }
   ],
   "source": [
    "# f = x² - (n+1-phi)*x+n\n",
    "b = -(n+1-phi)\n",
    "b"
   ]
  },
  {
   "cell_type": "code",
   "execution_count": 36,
   "metadata": {},
   "outputs": [
    {
     "data": {
      "text/plain": [
       "500069593"
      ]
     },
     "execution_count": 36,
     "metadata": {},
     "output_type": "execute_result"
    }
   ],
   "source": [
    "n"
   ]
  },
  {
   "cell_type": "code",
   "execution_count": 37,
   "metadata": {},
   "outputs": [
    {
     "data": {
      "text/plain": [
       "124799"
      ]
     },
     "execution_count": 37,
     "metadata": {},
     "output_type": "execute_result"
    }
   ],
   "source": [
    "# f = x² - b * x + n\n",
    "a = 1\n",
    "c = n\n",
    "\n",
    "# resultado da fórmula quadrática\n",
    "p = (-b+sqrt(b^2-4*a*c))/(2*a)\n",
    "p"
   ]
  },
  {
   "cell_type": "code",
   "execution_count": 38,
   "metadata": {},
   "outputs": [
    {
     "data": {
      "text/plain": [
       "4007"
      ]
     },
     "execution_count": 38,
     "metadata": {},
     "output_type": "execute_result"
    }
   ],
   "source": [
    "q = n/p\n",
    "q"
   ]
  },
  {
   "cell_type": "code",
   "execution_count": 39,
   "metadata": {},
   "outputs": [
    {
     "data": {
      "text/plain": [
       "True"
      ]
     },
     "execution_count": 39,
     "metadata": {},
     "output_type": "execute_result"
    }
   ],
   "source": [
    "n == p*q"
   ]
  },
  {
   "cell_type": "markdown",
   "metadata": {},
   "source": [
    "Uma vez que já conseguimos obter n, então conseguimos calcular a chave privada d:"
   ]
  },
  {
   "cell_type": "code",
   "execution_count": 40,
   "metadata": {},
   "outputs": [
    {
     "data": {
      "text/plain": [
       "373583859"
      ]
     },
     "execution_count": 40,
     "metadata": {},
     "output_type": "execute_result"
    }
   ],
   "source": [
    "d = power_mod(e, -1, phi)\n",
    "d"
   ]
  },
  {
   "cell_type": "code",
   "execution_count": 41,
   "metadata": {},
   "outputs": [
    {
     "data": {
      "text/plain": [
       "True"
      ]
     },
     "execution_count": 41,
     "metadata": {},
     "output_type": "execute_result"
    }
   ],
   "source": [
    "d == ChPriv"
   ]
  },
  {
   "cell_type": "markdown",
   "metadata": {},
   "source": [
    "# Ataque 2"
   ]
  },
  {
   "cell_type": "code",
   "execution_count": 58,
   "metadata": {},
   "outputs": [
    {
     "data": {
      "text/plain": [
       "22363"
      ]
     },
     "execution_count": 58,
     "metadata": {},
     "output_type": "execute_result"
    }
   ],
   "source": [
    "# Num ataque cíclico sabemos a chave pública (e, n) e interceptamos a\n",
    "# mensagem cifrada. Queremos descobrir a mensagem original.\n",
    "# Se conseguirmos computar a factorização n = p*q, então conseguimos\n",
    "# calcular phi(n) = (p-1)(q-1) e logo somos capazes de obter d.\n",
    "\n",
    "# se 'p' e 'q' forem muito próximos um do outro e p>q, então podemos\n",
    "# concluir que:\n",
    "#s = (p+q)/2 # será um valor  pequeno\n",
    "\n",
    "#t = (p+q)/2 # é pouco maior que sqrt(n) e t²-n=s² é um quadrado perfeito.\n",
    "\n",
    "# Então tentamos:\n",
    "t = ceil(sqrt(n))\n",
    "t\n",
    "#[for i in range(10000)]"
   ]
  },
  {
   "cell_type": "code",
   "execution_count": 59,
   "metadata": {},
   "outputs": [
    {
     "name": "stdout",
     "output_type": "stream",
     "text": [
      "s = 60396 , t = 64403\n"
     ]
    }
   ],
   "source": [
    "flag = False\n",
    "s = -1\n",
    "while flag == False:\n",
    "    if(sqrt(t^2-n).is_integer()):\n",
    "        print(\"s =\", sqrt(t^2-n),\", t =\", t)\n",
    "        s = sqrt(t^2-n)\n",
    "        flag = True\n",
    "    else:    \n",
    "        t = t + 1"
   ]
  },
  {
   "cell_type": "code",
   "execution_count": 60,
   "metadata": {},
   "outputs": [
    {
     "data": {
      "text/plain": [
       "(60396, 64403)"
      ]
     },
     "execution_count": 60,
     "metadata": {},
     "output_type": "execute_result"
    }
   ],
   "source": [
    "s, t"
   ]
  },
  {
   "cell_type": "code",
   "execution_count": 61,
   "metadata": {},
   "outputs": [
    {
     "data": {
      "text/plain": [
       "124799"
      ]
     },
     "execution_count": 61,
     "metadata": {},
     "output_type": "execute_result"
    }
   ],
   "source": [
    "p2 = t + s\n",
    "p2"
   ]
  },
  {
   "cell_type": "code",
   "execution_count": 62,
   "metadata": {},
   "outputs": [
    {
     "data": {
      "text/plain": [
       "4007"
      ]
     },
     "execution_count": 62,
     "metadata": {},
     "output_type": "execute_result"
    }
   ],
   "source": [
    "q2 = t - s\n",
    "q2"
   ]
  },
  {
   "cell_type": "code",
   "execution_count": 63,
   "metadata": {},
   "outputs": [
    {
     "data": {
      "text/plain": [
       "True"
      ]
     },
     "execution_count": 63,
     "metadata": {},
     "output_type": "execute_result"
    }
   ],
   "source": [
    "p == p2 and q == q2"
   ]
  }
 ],
 "metadata": {
  "kernelspec": {
   "display_name": "SageMath 9.0",
   "language": "sage",
   "name": "sagemath"
  },
  "language_info": {
   "codemirror_mode": {
    "name": "ipython",
    "version": 3
   },
   "file_extension": ".py",
   "mimetype": "text/x-python",
   "name": "python",
   "nbconvert_exporter": "python",
   "pygments_lexer": "ipython3",
   "version": "3.7.3"
  }
 },
 "nbformat": 4,
 "nbformat_minor": 2
}
