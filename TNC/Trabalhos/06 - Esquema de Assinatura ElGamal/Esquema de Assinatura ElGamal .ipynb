{
 "cells": [
  {
   "cell_type": "markdown",
   "metadata": {
    "collapsed": false
   },
   "source": [
    "# Esquema De Assinatura ElGamal\n",
    "\n",
    "Ricardo Silva a71532\n",
    "\n",
    "Francisca Fernandes a72450\n",
    "\n",
    "João Cerqueira a65432\n",
    "\n",
    "José Barbosa a69136\n"
   ]
  },
  {
   "cell_type": "markdown",
   "metadata": {
    "collapsed": false
   },
   "source": [
    "## Introdução \n",
    "\n",
    "[1985] É um dos primeiros esquemas de assinatura digital que se baseia nas propriedades algebricas da exponenciação modular juntamente com o problema do logaritmo discreto. Permite verificar a autenticidade de uma mensagem mesmo quando é enviada através de um canal pouco seguro.\n",
    "\n"
   ]
  },
  {
   "cell_type": "markdown",
   "metadata": {
    "collapsed": false
   },
   "source": [
    "## Parâmetros\n",
    "\n",
    "Seja $H$ uma função de Hash, $p$ um número primo grande e  $g\\in \\mathbb{Z}_{p}*$"
   ]
  },
  {
   "cell_type": "code",
   "execution_count": 3,
   "metadata": {
    "collapsed": false
   },
   "outputs": [
    {
     "data": {
      "text/plain": [
       "312533696614912602106394323957685810411"
      ]
     },
     "execution_count": 3,
     "metadata": {
     },
     "output_type": "execute_result"
    }
   ],
   "source": [
    "p = random_prime(2^128, 2^127)\n",
    "p"
   ]
  },
  {
   "cell_type": "code",
   "execution_count": 4,
   "metadata": {
    "collapsed": false
   },
   "outputs": [
   ],
   "source": [
    "Zn = IntegerModRing(p)"
   ]
  },
  {
   "cell_type": "code",
   "execution_count": 5,
   "metadata": {
    "collapsed": false
   },
   "outputs": [
    {
     "data": {
      "text/plain": [
       "198696238338073959894250553824583554408"
      ]
     },
     "execution_count": 5,
     "metadata": {
     },
     "output_type": "execute_result"
    }
   ],
   "source": [
    "g = Zn.random_element()\n",
    "g\n"
   ]
  },
  {
   "cell_type": "markdown",
   "metadata": {
    "collapsed": false
   },
   "source": [
    "O par(p,g) é conhecido por todos"
   ]
  },
  {
   "cell_type": "code",
   "execution_count": 6,
   "metadata": {
    "collapsed": false
   },
   "outputs": [
    {
     "data": {
      "text/plain": [
       "(312533696614912602106394323957685810411,\n",
       " 198696238338073959894250553824583554408)"
      ]
     },
     "execution_count": 6,
     "metadata": {
     },
     "output_type": "execute_result"
    }
   ],
   "source": [
    "p,g"
   ]
  },
  {
   "cell_type": "markdown",
   "metadata": {
    "collapsed": false
   },
   "source": [
    "## Geração de Chaves\n",
    "\n",
    "Agora um dos intervenientes escolhe secretamente um $x$ tal que  $1 \\le x\\le p-1$. E calcula ainda  $$ y    =    g^{x}mod  p$$"
   ]
  },
  {
   "cell_type": "code",
   "execution_count": 9,
   "metadata": {
    "collapsed": false
   },
   "outputs": [
    {
     "data": {
      "text/plain": [
       "218860506362139194581031156460472318849L"
      ]
     },
     "execution_count": 9,
     "metadata": {
     },
     "output_type": "execute_result"
    }
   ],
   "source": [
    "x = randint(1, p-1)\n",
    "x"
   ]
  },
  {
   "cell_type": "code",
   "execution_count": 10,
   "metadata": {
    "collapsed": false
   },
   "outputs": [
    {
     "data": {
      "text/plain": [
       "170531363231436684161782725835431047037"
      ]
     },
     "execution_count": 10,
     "metadata": {
     },
     "output_type": "execute_result"
    }
   ],
   "source": [
    "y = power_mod(g, x, p)\n",
    "y"
   ]
  },
  {
   "cell_type": "markdown",
   "metadata": {
    "collapsed": false
   },
   "source": [
    "Temos então a chave pública x e a chave privada y"
   ]
  },
  {
   "cell_type": "code",
   "execution_count": 11,
   "metadata": {
    "collapsed": false
   },
   "outputs": [
   ],
   "source": [
    "PrivKey = x\n",
    "PubKey = y"
   ]
  },
  {
   "cell_type": "markdown",
   "metadata": {
    "collapsed": false
   },
   "source": [
    "## Geração da Assinatura\n",
    "\n",
    "Para que se envie a mensagem $m$ teremos de escolher aleatóriamente um k tal que: $1 \\le k\\le p-1$ e $gcd(k,p-1)=1$.  \n",
    "\n",
    "-   Calculamos inicialmente r: \n",
    "$$ r =    g^{k}mod  p$$\n",
    "\n"
   ]
  },
  {
   "cell_type": "code",
   "execution_count": 30,
   "metadata": {
    "collapsed": false
   },
   "outputs": [
    {
     "data": {
      "text/plain": [
       "80466956818132362754932536818500370711L"
      ]
     },
     "execution_count": 30,
     "metadata": {
     },
     "output_type": "execute_result"
    }
   ],
   "source": [
    "k = randint(0, p-1)\n",
    "gcd (k, p-1) == 1\n",
    "k"
   ]
  },
  {
   "cell_type": "code",
   "execution_count": 31,
   "metadata": {
    "collapsed": false
   },
   "outputs": [
    {
     "data": {
      "text/plain": [
       "102821264706517947598659833943406004414"
      ]
     },
     "execution_count": 31,
     "metadata": {
     },
     "output_type": "execute_result"
    }
   ],
   "source": [
    "r = power_mod(g,k,p)\n",
    "r"
   ]
  },
  {
   "cell_type": "markdown",
   "metadata": {
    "collapsed": false
   },
   "source": [
    "- Seguidamente calculamos s:\n",
    "\n",
    "$$  s \\, \\equiv \\, (H(m)-x r)k^{-1} \\pmod{p-1}  $$"
   ]
  },
  {
   "cell_type": "code",
   "execution_count": 32,
   "metadata": {
    "collapsed": false
   },
   "outputs": [
   ],
   "source": [
    "def H(m):\n",
    "    return m*r^x"
   ]
  },
  {
   "cell_type": "code",
   "execution_count": 33,
   "metadata": {
    "collapsed": false
   },
   "outputs": [
    {
     "data": {
      "text/plain": [
       "35439810626760714059618744917393253570"
      ]
     },
     "execution_count": 33,
     "metadata": {
     },
     "output_type": "execute_result"
    }
   ],
   "source": [
    "j=inverse_mod(k,p) #j=k^-1\n",
    "j"
   ]
  },
  {
   "cell_type": "code",
   "execution_count": 34,
   "metadata": {
    "collapsed": false
   },
   "outputs": [
   ],
   "source": [
    "m=3\n",
    "z =(H(m)-x*r)*(j)\n",
    "s = mod(z,p-1)"
   ]
  },
  {
   "cell_type": "code",
   "execution_count": 36,
   "metadata": {
    "collapsed": false
   },
   "outputs": [
    {
     "data": {
      "text/plain": [
       "12364578288137435205987301745032590861"
      ]
     },
     "execution_count": 36,
     "metadata": {
     },
     "output_type": "execute_result"
    }
   ],
   "source": [
    "s == 0\n",
    "s"
   ]
  },
  {
   "cell_type": "markdown",
   "metadata": {
    "collapsed": false
   },
   "source": [
    "Se s for igual a 0 então tentamos novamente com um $k$ diferente.\n",
    "\n",
    "O par (r,s) será a assinatura digital de $m$ "
   ]
  },
  {
   "cell_type": "markdown",
   "metadata": {
    "collapsed": false
   },
   "source": [
    "## Verificação da Assinatura\n",
    "\n",
    "A assinatura fica verificada se satisfizer: \n",
    "- $1 \\le r\\le p$  e $0 \\le s\\le p-1$\n",
    "\n",
    "- $g^{H(m)} \\, \\equiv \\, y^r r^s \\pmod p.$\n",
    "\n",
    "\n",
    "\n"
   ]
  },
  {
   "cell_type": "code",
   "execution_count": 43,
   "metadata": {
    "collapsed": false
   },
   "outputs": [
   ],
   "source": [
    "l1=g^(H(m))\n",
    "l2=(y^r)*(r^s)==mod(g^(H(m)),p)"
   ]
  },
  {
   "cell_type": "markdown",
   "metadata": {
    "collapsed": false
   },
   "source": [
    "## Correção \n",
    "\n",
    "Será considerada como correta, a partir do momento que a assinatura gerada passe nos testes: \n",
    "\n",
    "$$H(m) \\, \\equiv \\, x r + s k \\pmod{p-1}. $$ \n",
    "\n",
    "\n",
    "$$  \\begin{align} g^{H(m)} & \\equiv g^{xr} g^{ks} \\pmod p\\\\ & \\equiv (g^{x})^r (g^{k})^s \\pmod p\\\\ & \\equiv (y)^r (r)^s \\pmod p.\\\\ \\end{align}  $$"
   ]
  },
  {
   "cell_type": "markdown",
   "metadata": {
    "collapsed": false
   },
   "source": [
    "## Segurança\n",
    "\n",
    "Para que a mensagem seja interceptada, a chave privada $x$ terá de ser descoberta ou então existir colisão na função de Hash $H(m) \\equiv H(M) \\pmod{p-1}$ mas ambos os acontecimentos são bastaste improváveis. \n",
    "\n",
    "Para que se mantenha seguro, quem cria a chave privada $x$ deve também ter atenção na escolha de $k$. Usando esse $k$ apenas uma vez. Usar esses valores mais do que uma vez, faria com que o atacante tivesse uma muito maior probabilidade de interceptar a mensagem.\n",
    "\n"
   ]
  },
  {
   "cell_type": "code",
   "execution_count": 0,
   "metadata": {
    "collapsed": false
   },
   "outputs": [
   ],
   "source": [
   ]
  },
  {
   "cell_type": "code",
   "execution_count": 0,
   "metadata": {
    "collapsed": false
   },
   "outputs": [
   ],
   "source": [
   ]
  }
 ],
 "metadata": {
  "kernelspec": {
   "display_name": "SageMath (system-wide)",
   "language": "sagemath",
   "metadata": {
    "cocalc": {
     "description": "Open-source mathematical software system",
     "priority": -1,
     "url": "https://www.sagemath.org/"
    }
   },
   "name": "sagemath"
  },
  "language_info": {
   "codemirror_mode": {
    "name": "ipython",
    "version": 2
   },
   "file_extension": ".py",
   "mimetype": "text/x-python",
   "name": "python",
   "nbconvert_exporter": "python",
   "pygments_lexer": "ipython2",
   "version": "2.7.15"
  }
 },
 "nbformat": 4,
 "nbformat_minor": 4
}